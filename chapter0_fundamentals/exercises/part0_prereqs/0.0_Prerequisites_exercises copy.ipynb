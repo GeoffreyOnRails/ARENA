{
 "cells": [
  {
   "cell_type": "markdown",
   "metadata": {},
   "source": [
    "# [0.0] - Prerequisites (exercises)\n",
    "\n",
    "> **ARENA [Streamlit Page](https://arena-chapter0-fundamentals.streamlit.app/00_[0.0]_Prerequisites)**\n",
    ">\n",
    "> **Colab: [exercises](https://colab.research.google.com/github/callummcdougall/ARENA_3.0/blob/main/chapter0_fundamentals/exercises/part0_prereqs/0.0_Prerequisites_exercises.ipynb?t=20250910) | [solutions](https://colab.research.google.com/github/callummcdougall/ARENA_3.0/blob/main/chapter0_fundamentals/exercises/part0_prereqs/0.0_Prerequisites_solutions.ipynb?t=20250910)**\n",
    "\n",
    "Please send any problems / bugs on the `#errata` channel in the [Slack group](https://join.slack.com/t/arena-uk/shared_invite/zt-3afdmdhye-Mdb3Sv~ss_V_mEaXEbkABA), and ask any questions on the dedicated channels for this chapter of material.\n",
    "\n",
    "You can collapse each section so only the headers are visible, by clicking the arrow symbol on the left hand side of the markdown header cells.\n",
    "\n",
    "Links to all other chapters: [(0) Fundamentals](https://arena-chapter0-fundamentals.streamlit.app/), [(1) Transformer Interpretability](https://arena-chapter1-transformer-interp.streamlit.app/), [(2) RL](https://arena-chapter2-rl.streamlit.app/)."
   ]
  },
  {
   "cell_type": "markdown",
   "metadata": {},
   "source": [
    "<img src=\"https://raw.githubusercontent.com/info-arena/ARENA_img/main/misc/headers/header-00.png\" width=\"350\">"
   ]
  },
  {
   "cell_type": "markdown",
   "metadata": {},
   "source": [
    "# Introduction"
   ]
  },
  {
   "cell_type": "markdown",
   "metadata": {},
   "source": [
    "This page contains important prerequisites for the rest of the material in this chapter. The first page **Core Concepts / Knowledge** is a long list of important concepts and libraries that you should be familiar with before starting the rest of the material. The second page **Einops, Einsum & Tensor Manipulation** provides some coding exercises to help you get familiar with the `einops` and `einsum` libraries, as well as some exercises on indexing and other aspects of tensor manipulation. We anticipate adding more exercises here in the future, in the style of the second page.\n",
    "\n",
    "See the homepage for more instructions on how to set up your environment, and install all the dependencies you need to run the exercises."
   ]
  },
  {
   "cell_type": "markdown",
   "metadata": {},
   "source": [
    "## Content & Learning Objectives\n",
    "\n",
    "### 1️⃣ Core Concepts / Knowledge\n",
    "\n",
    "This section doesn't have exercises; it goes through a list of important concepts with associated reading material and questions to check your understanding. We cover all the core material that you'll need for the rest of the course such as neural networks, linear algebra, probability, and calculus.\n",
    "\n",
    "> ##### Learning Objectives\n",
    ">\n",
    "> - Understand the structure and function of neural networks\n",
    "> - Learn essential linear algebra concepts like matrix operations and transformations\n",
    "> - Understand core principles of probability and statistics, including expected value and variance\n",
    "> - Learn how calculus concepts (particularly differentiation) are applied in optimization tasks\n",
    "> - Cover some foundational information theory concepts, such as entropy and KL divergence\n",
    "> - Enhance Python programming skills, focusing on NumPy and PyTorch basics\n",
    "\n",
    "### 2️⃣ Einops, Einsum & Tensor Manipulation\n",
    "\n",
    "These sections will introduce you to a third party library which you'll find very useful for the rest of this course, and will also require you to engage with various tensor operations (something else that will come up repeatedly during this course). \n",
    "\n",
    "> ##### Learning Objectives\n",
    ">\n",
    "> - Understand the basics of Einstein summation convention\n",
    "> - Learn how to use `einops` to perform basic tensor rearrangement, and `einsum` to to perform standard linear algebra operations on tensors"
   ]
  },
  {
   "cell_type": "markdown",
   "metadata": {},
   "source": [
    "# 1️⃣ Core Concepts / Knowledge\n",
    "\n",
    "> ##### Learning Objectives\n",
    ">\n",
    "> - Understand the structure and function of neural networks\n",
    "> - Learn essential linear algebra concepts like matrix operations and transformations\n",
    "> - Understand core principles of probability and statistics, including expected value and variance\n",
    "> - Learn how calculus concepts (particularly differentiation) are applied in optimization tasks\n",
    "> - Cover some foundational information theory concepts, such as entropy and KL divergence\n",
    "> - Enhance Python programming skills, focusing on NumPy and PyTorch basics"
   ]
  },
  {
   "cell_type": "markdown",
   "metadata": {},
   "source": [
    "This page contains a list of all prerequisites we think will be helpful to learn before studying the ARENA program material. You can return to this page while you study. None of it is compulsory and some resources are likely to be much more helpful than others. We denote very high and high-priority resources with a double and single asterisk respectively, so if you have limited time then prioritise these. It is strongly recommended to at least read over everything with a double asterisk. Also, you should try and prioritise areas you think you might be weaker in than others (for instance, if you have a strong SWE background but less maths experience then you might want to spend more time on the maths sections). You can also return to this document throughout the programme, if there are any areas you want to brush up on.\n",
    "\n",
    "The content is partially inspired by a similar doc handed out by Redwood to participants before the start of MLAB, as well as by pre-prerequisite material provided by Jacob Hilton on his [GitHub page](https://github.com/jacobhilton/deep_learning_curriculum).\n",
    "\n",
    "> Throughout this document, there are some questions thrown in (denoted with boxes like these). It's not essential to answer all of these questions, but you should be able to answer most (or at least know how you might go about answering them).\n",
    "\n",
    "If you are reading this, and know of any good material for these topics which we've missed out, please let us know and we might be able to add it in!"
   ]
  },
  {
   "cell_type": "markdown",
   "metadata": {},
   "source": [
    "## Maths\n",
    "\n",
    "### Neural Networks**\n",
    "\n",
    "We won't assume any deep knowledge of neural networks or machine learning before the programme starts, but it's useful to have an idea of the basis so that the first week doesn't have quite as steep a learning curve. The best introductory resources here are 3B1B's videos on neural networks:\n",
    "\n",
    "* [But what is a neural network? | Chapter 1, Deep learning](https://www.youtube.com/watch?v=aircAruvnKk)\n",
    "* [Gradient descent, how neural networks learn | Chapter 2, Deep learning](https://www.youtube.com/watch?v=IHZwWFHWa-w)\n",
    "* [What is backpropagation really doing? | Chapter 3, Deep learning](https://www.youtube.com/watch?v=Ilg3gGewQ5U)\n",
    "\n",
    "You should prioritise the first two videos in this sequence.\n",
    "\n",
    "<blockquote>\n",
    "\n",
    "**What makes neural networks more powerful than basic statistical methods like linear regression?**\n",
    "\n",
    "<details>\n",
    "<summary>Answer</summary>\n",
    "\n",
    "Some possible answers / points to consider:\n",
    "\n",
    "* Neural networks exploit **nonlinearity**, which allows them to express a much wider set of possible functions, whereas linear regression is relatively limited.\n",
    "* Neural networks are learned using gradient descent, meaning their power isn't upper-bounded by the algorithms which programmers or mathematicians can feasibly design by hand.\n",
    "\n",
    "</details>\n",
    "\n",
    "</blockquote>\n",
    "&nbsp;\n",
    "<blockquote>\n",
    "\n",
    "**What are the advantages of ReLU activations over sigmoids?**\n",
    "\n",
    "<details>\n",
    "<summary>Answer</summary>\n",
    "\n",
    "Some possible answers / points to consider:\n",
    "\n",
    "* ReLU more effectively avoids the **vanishing gradient problem**, which is common in sigmoids.\n",
    "* ReLU is more **computationally efficient** to evaluate than sigmoid.\n",
    "\n",
    "However, an important point about ReLU and much of ML in general - the better empirical results often come before the theoretical justifications! A lot of ML is built on the philosophy of \"experiment until you find something that works, *then* figure out why it works.\"\n",
    "\n",
    "</details>\n",
    "\n",
    "</blockquote>"
   ]
  },
  {
   "cell_type": "markdown",
   "metadata": {},
   "source": [
    "### Linear Algebra**\n",
    "\n",
    "Linear algebra lies at the core of a lot of machine learning.\n",
    "\n",
    "<img src = \"https://lh3.googleusercontent.com/lc5-ykchkkSylhM77XrLuCzfthg8bEtdUTV5EUcArilVKPlh9NZQDWkVnp55s35HftZAWdmyVmh3h5g83HtkOscn1g7x4wS5JO8s4mujPV8N2RbBqoCKiY0K_lVRJgVj7zuSyqPV4SIkbsjaWUQkqJY\" width=\"360\">\n",
    "\n",
    "Here is a list of topics you should be comfortable with:\n",
    "\n",
    "*   Linear transformations - what they are, and why they are important\n",
    "    *   See [this](https://www.youtube.com/watch?v=kYB8IZa5AuE) video from 3B1B\n",
    "*   How [matrix multiplication works](http://mlwiki.org/index.php/Matrix-Matrix_Multiplication)\n",
    "*   Basic matrix properties: rank, trace, determinant, transpose\n",
    "*   Bases, and basis transformations\n",
    "\n",
    "Some other non-essential topics that we also weakly recommend:\n",
    "\n",
    "*   [Singular value decomposition](https://www.lesswrong.com/posts/iupCxk3ddiJBAJkts/six-and-a-half-intuitions-for-svd)\n",
    "*   Eigenvalues and eigenvectors\n",
    "*   Different types of matrix, and their significance (e.g. symmetric, orthogonal, identity, rotation matrices)\n",
    "\n",
    "[This video series](https://www.youtube.com/playlist?list=PLZHQObOWTQDPD3MizzM2xVFitgF8hE_ab) by 3B1B provides a good overview of these core topics (although you can probably skip it if you already have a reasonably strong mathematical background).\n",
    "\n",
    "If you have a lot more time, [Linear Algebra Done Right](https://link.springer.com/book/10.1007/978-3-319-11080-6) is the canonical textbook for covering this topic (although it will probably cover much more than you need to know). Alternatively, Neel Nanda has two [YouTube](https://www.youtube.com/watch?v=GkPhwnvRe-8) [videos](https://www.youtube.com/watch?v=0EB23unfLSU) covering linear algebra extensively.\n",
    "\n",
    "<blockquote>\n",
    "\n",
    "**What is the problem in trying to create a neural network using only linear transformations?**\n",
    "\n",
    "<details>\n",
    "<summary>Answer</summary>\n",
    "\n",
    "The composition of linear transformations is also linear, so if you only use linear transformations then you can only create linear functions. This is a problem because many functions we want to learn are not linear.\n",
    "\n",
    "Composing linear and nonlinear transformations however, we can learn basically anything!\n",
    "\n",
    "</details>\n",
    "\n",
    "</blockquote>\n",
    "&nbsp;\n",
    "<blockquote>\n",
    "\n",
    "**Matrices $A$ and $B$ have shapes $(n, m)$ and $(m, l)$. What is the maximum possible rank of the matrix $AB$?**\n",
    "\n",
    "<details>\n",
    "<summary>Answer</summary>\n",
    "\n",
    "The rank of $AB$ is upper-bounded by the minimum of the ranks of $A$ and $B$, and the rank of a matrix is upper-bounded by the minimum of its row number and column number (since matrix rank equals the dimensionality of its column span, and also equals the dimensionality of its row span). So $\\text{rank}(AB) \\leq \\min(\\text{rank}(A), \\text{rank}(B)) \\leq \\min(n, m, l)$.\n",
    "\n",
    "Note - in **transformer language models**, we often have cases where $m \\ll n, l$, so we have a large, low-rank matrix $AB$. We use tools like singular value decomposition to understand these matrices (e.g. see [this post](https://www.lesswrong.com/posts/mkbGjzxD8d8XqKHzA/the-singular-value-decompositions-of-transformer-weight)), since SVD is a common tool for large low-rank matrices.\n",
    "\n",
    "</details>\n",
    "\n",
    "</blockquote>"
   ]
  },
  {
   "cell_type": "markdown",
   "metadata": {},
   "source": [
    "### Probability & Statistics**\n",
    "\n",
    "It's essential to understand the rules of probability, expected value and standard deviation, and helpful to understand independence and the normal distribution.\n",
    "\n",
    "[This link](https://medium.com/jun94-devpblog/prob-stats-3-expected-value-variance-and-standard-deviation-bce9303d8da8) covers some of the essentials.\n",
    "\n",
    "\n",
    "<blockquote>\n",
    "\n",
    "**What is the expected value and variance of the sum of two independent normally distributed random variables $X_1 \\sim N(\\mu_1, \\sigma_1^2)$ and $X_2 \\sim N(\\mu_2, \\sigma_2^2)$? Are either of these different if they're correlated? (We don't necessarily expect you to be able to derive this kind of result.)**\n",
    "\n",
    "<details>\n",
    "<summary>Answer</summary>\n",
    "\n",
    "For indepdenent variables, the expected value and variances are both additive, in other words $\\mu_1 + \\mu_2$ and $\\sigma_1^2 + \\sigma_2^2$ respectively.\n",
    "\n",
    "If the variables are correlated, the mean is the same, but the variance will be different: larger if they're correlated, smaller if they're anticorrelated. For some intuition: if they're perfectly correlated then you're basically just doubling a single value so you'll quadruple the variance, whereas if they're perfectly anticorrelated then the sum is always zero, so variance is zero.\n",
    "\n",
    "</details>\n",
    "\n",
    "</blockquote>"
   ]
  },
  {
   "cell_type": "markdown",
   "metadata": {},
   "source": [
    "### Calculus**\n",
    "\n",
    "It's essential to understand differentiation and partial differentiation, and helpful to understand the basics of vector calculus including the chain rule and Taylor series.\n",
    "\n",
    "Again, 3Blue1Brown has a good [video series](https://www.3blue1brown.com/topics/calculus) on this.\n",
    "\n",
    "<blockquote>\n",
    "\n",
    "**What is the derivative of quadratic loss $L(x, y) = \\frac{1}{2}(x-y)^2$ wrt the input $x$ (assuming all variables are scalars, not vectors)? How about for cross entropy loss $L(x, y) = -(y\\log{x} + (1-y)\\log{(1-x)})$, assuming that $x \\in (0, 1)$ and $y$ is a binary classification label with value either zero or one? What will be the qualitative behaviour of performing gradient descent on $x$ with these loss functions?**\n",
    "\n",
    "<details>\n",
    "<summary>Answer</summary>\n",
    "\n",
    "**MSE loss**\n",
    "\n",
    "The derivative of $L$ wrt $x$ is $x-y$. Qualitatively, this means $x$ will be increased if $x < y$, and decreased if $x > y$, with the size of the increase / decrease proportional to the difference between them.\n",
    "\n",
    "Qualitatively, this loss function will push $x_n$ downwards if $x_n > y_n$ (with the size of the gradient proportional to the difference between them).\n",
    "\n",
    "**BCE loss**\n",
    "\n",
    "The derivative of $L$ wrt $x$ is $-\\frac{y}{x} + \\frac{1-y}{1-x}$, which equals $-\\frac{1}{x}$ when $y=1$ and $\\frac{1}{1-x}$ when $y=0$. Qualitatively, this means that $x$ will be increased if $y=1$, and decreased if $y=0$, with the size of the increase / decrease getting unboundedly large when $x$ is close to $1-y$ (i.e. far from the correct value).\n",
    "\n",
    "Note - in this case, $x$ is the probability output by our model, which is probably the result of applying a sigmoid or softmax function to the model's **logit output**. So the gradient of $L$ wrt $x$ being unbounded doesn't mean the gradient on the model's weights will be unbounded.\n",
    "\n",
    "</details>\n",
    "\n",
    "</blockquote>"
   ]
  },
  {
   "cell_type": "markdown",
   "metadata": {},
   "source": [
    "### Information theory\n",
    "\n",
    "It's helpful to understand information, entropy and KL divergence. These play key roles in interpreting loss functions.\n",
    "\n",
    "[Elements of Information Theory](http://staff.ustc.edu.cn/~cgong821/Wiley.Interscience.Elements.of.Information.Theory.Jul.2006.eBook-DDU.pdf) by Thomas M. Cover is the textbook recommended by Jacob Hilton. It will probably cover more than you need to know, and this need not be prioritised over other items on the list.\n",
    "\n",
    "For an overview of Kullback Leibler divergence (an important concept in information theory and machine learning), see [Six (and a half) intuitions for KL divergence](https://www.lesswrong.com/posts/no5jDTut5Byjqb4j5/six-and-a-half-intuitions-for-kl-divergence). Note that this probably won't make sense if you don't already have a solid grasp of what entropy is.\n",
    "\n",
    "<blockquote>\n",
    "\n",
    "**Suppose $P$ is the probability distribution of which word comes next in natural language, and $Q$ is a language model's estimated probability distribution. What will the cross entropy $H(P, Q)$ be if the model is guessing words uniformly? What will the cross entropy be if the model can predict words with the exact right frequency?**\n",
    "\n",
    "<details>\n",
    "<summary>Answer</summary>\n",
    "\n",
    "If the model is guessing uniformly, then:\n",
    "\n",
    "$$\n",
    "H(P, Q) = -\\sum_x P(x) \\log Q(x) = -\\sum_x P(x) \\log \\frac{1}{|V|} = \\log |V|\n",
    "$$\n",
    "\n",
    "where $V$ is the vocabulary set, and $|V|$ is the number of words in the vocabulary.\n",
    "\n",
    "If the model is guessing with the exact right frequency, then:\n",
    "\n",
    "$$\n",
    "H(P, Q) = -\\sum_x P(x) \\log Q(x) = -\\sum_x P(x) \\log P(x) = H(P)\n",
    "$$\n",
    "\n",
    "in other words, cross entropy just reduces to the entropy of natural language.\n",
    "</details>\n",
    "\n",
    "</blockquote>"
   ]
  },
  {
   "cell_type": "markdown",
   "metadata": {},
   "source": [
    "## Programming\n",
    "\n",
    "### Python**\n",
    "\n",
    "It's important to be strong in Python, because this is the language we'll be using during the programme. As a rough indication, we expect you to be comfortable with at least 80-90% of the material [**here**](https://book.pythontips.com/en/latest/), up to section **\"21. for/else\"**. For a more thorough treatment of Python's core functionality, see [**here**](https://docs.python.org/3/tutorial/)."
   ]
  },
  {
   "cell_type": "markdown",
   "metadata": {},
   "source": [
    "### Libraries\n",
    "\n",
    "The following libraries would be useful to know to at least a basic level, before the course starts.\n",
    "\n",
    "#### [NumPy](https://numpy.org/)**\n",
    "\n",
    "Being familiar with NumPy is a staple for working with high-performance Python. Additionally, the syntax for working with NumPy arrays is very similar to how you work with PyTorch tensors (often there are only minor differences, e.g. Torch tends to use the keyword dim where NumPy uses axis). Working through [these 100 basic NumPy exercises](https://github.com/rougier/numpy-100/blob/master/100_Numpy_exercises.ipynb) would be a good idea, or if you're comfortable with NumPy already then you could try doing them in PyTorch (see below).\n",
    "\n",
    "#### [PyTorch](https://pytorch.org/)**\n",
    "\n",
    "We will be starting chapter 0 of the programme with some structured exercises designed to get everyone familiar with working in PyTorch. However, the more comfortable you are with PyTorch going in, the easier you'll probably find this. PyTorch has several useful tutorials, and to get comfortable working with tensors you might want to implement the 100 basic NumPy exercises linked to above, using PyTorch instead. Another option would be this [Learn the Basics](https://pytorch.org/tutorials/beginner/basics/intro.html) tutorial. You can skip this if you can clearly explain:\n",
    "\n",
    "> * **At a high level, what is a `torch.Tensor`?**\n",
    "> * **What is a `nn.Parameter`, and `nn.Module`?**\n",
    "> * **When you call `.backward()`, where are your gradients stored?**\n",
    "> * **What is a loss function? In general, what does it take for arguments, and what does it return?**\n",
    "> * **What does an optimization algorithm do?**\n",
    "> * **What is a hyperparameter, and how does it differ from a regular parameter?**\n",
    "> * **What are some examples of hyperparameters?**\n",
    "\n",
    "#### [Einops](https://einops.rocks/1-einops-basics) and [Einsum](https://einops.rocks/api/einsum/)*\n",
    "\n",
    "These are great libraries to get comfortable with, when manipulating tensors. If you're comfortable using them, then you can say goodbye to awkward NumPy/PyTorch methods like transpose, permute and squeeze! We'll have a few einops and einsum exercises on the second day of the fundamentals chapter, but the more comfortable you are with these libraries the faster you'll be.\n",
    "\n",
    "For einops, you can read through the examples up to \"Fancy examples in random order\". It's worth trying to play around with these in your own Jupyter notebook, to get more comfortable with them.\n",
    "\n",
    "For einsum, [this page](https://rockt.github.io/2018/04/30/einsum) provides a basic intro to einstein summation convention, and shows some example tensor implementations. Note that we'll be using the einsum function from the einops library, which allows you to refer to dimensions by name rather than by a single letter.\n",
    "\n",
    "#### [Typing](https://docs.python.org/3/library/typing.html)*\n",
    "\n",
    "Type-checking Python functions that you write is a great way to catch bugs, and keep your code clear and readable. Python isn't a strongly-typed language so you won't get errors from using incorrect type specifications unless you use a library like MyPy. However, if you're using VSCode then you can pair this library with a really useful automatic type checker (see next section).\n",
    "\n",
    "#### [Plotly](https://plotly.com/python)\n",
    "\n",
    "Plotly is an interactive graphing library which is great for presenting results and investigating data. If you're already very familiar with a different Python plotting library (e.g. matplotlib) then I wouldn't recommend re-learning Plotly, but if you aren't already very familiar with matplotlib or you're open to learning Plotly, I'd strongly recommend giving it a try!\n",
    "\n",
    "#### [Streamlit](https://share.streamlit.io)\n",
    "\n",
    "Streamlit is a cool library for building and sharing data-based applications. It integrates very nicely with Plotly (see above), can be hosted on your personal GitHub, and is very intuitive & easy to learn relative to other libraries with similar features (e.g. Dash). This is not compulsory, but if you like the look of Streamlit then you might want to think about using it as a way to submit (or even make public) your end-of-week or capstone projects. See [this page](https://copy-suppression.streamlit.app/) I (Callum) made for presenting the results from the Copy Suppression paper I worked on during SERI MATS, as an example of what Streamlit can do."
   ]
  },
  {
   "cell_type": "markdown",
   "metadata": {},
   "source": [
    "## Software Engineering\n",
    "\n",
    "### Basic coding skills**\n",
    "\n",
    "If you've been accepted into this programme, then you probably already have this box ticked! However, polishing this area can't hurt. LeetCode is a good place to keep basic coding skills sharp, in particular practising the planning and implementation of functions in the medium-hard sections of LeetCode might be helpful. Practising problems on [Project Euler](https://projecteuler.net/) is another idea."
   ]
  },
  {
   "cell_type": "markdown",
   "metadata": {},
   "source": [
    "### VSCode**\n",
    "\n",
    "Although many of you might already be familiar with Jupyter Notebooks, we recommend working through structured exercises using VSCode. This is a powerful text editor which provides more features than Jupyter Notebooks. Some features it has are:\n",
    "\n",
    "* **Shortcuts**  \n",
    "    These are much more powerful than anything offered in Jupyter Notebooks. Below is a table of some particularly useful ones (see [this link](https://www.geeksforgeeks.org/visual-studio-code-shortcuts-for-windows-and-mac/) for more detail on how each of them works).\n",
    "    |       Commands       |                   Windows/Linux                   |                         MAC                         |\n",
    "    |:--------------------:|:-------------------------------------------------:|:---------------------------------------------------:|\n",
    "    |      Delete Line     |                  Ctrl + Shift + K                 |                   Cmd + Shift + K                   |\n",
    "    | Copy Line Up or Down | Shift + Alt + Up arrow or Shift +Alt + Down arrow | Opt + Shift + Up arrow or  Opt + Shift + Down arrow |\n",
    "    |      Global Find     |                  Ctrl + Shift + F                 |                   Cmd + Shift + F                   |\n",
    "    |       Copilot*       |             Ctrl + i / Ctrl + Shift + i           |              Cmd + i / Cmd + Shift + i              |\n",
    "    | Toggle Block Comment |                  Ctrl + Shift + /                 |                   Cmd + Shift + /                   |\n",
    "    |    Command Palette   |                  Ctrl + Shift + P                 |                   Cmd + Shift + P                   |\n",
    "    |  Toggle Line Comment |                      Ctrl + /                     |                       Cmd + /                       |\n",
    "    |  Trigger Suggestion  |                    Ctrl + Space                   |                     Cmd + Space                     |\n",
    "    |    Toggle Sidebar    |                      Ctrl + B                     |                       Cmd + B                       |\n",
    "    |  Multi Select Cursor |                      Ctrl + D                     |                       Cmd + D                       |\n",
    "    |      Quick Open      |                      Ctrl + P                     |                       Cmd + P                       |\n",
    "<br>\n",
    "\n",
    "* **Type checking**      \n",
    "    We discussed the typing module in a section above. This is particularly powerful when used alongside VSCode's type checker extension. You can activate typing by going to the `settings.json` file in VSCode, and adding this line:  \n",
    "    \n",
    "    ```json\n",
    "    {\n",
    "        \"python.analysis.typeCheckingMode\": \"basic\"\n",
    "    }\n",
    "    ```\n",
    "\n",
    "    You can open the `settings.json` file by first opening VSCode's Command Palette (see the shortcuts above), then finding the option Preferences: Open User Settings (JSON). We won't be using type checking like this in the course, because it can be a bit too strict sometimes, but it's a useful thing to know about.\n",
    "\n",
    "* **Notebook functionality**  \n",
    "Although VSCode does provide an extension which acts just like a Jupyter Notebook, it actually has a much more useful feature. Python files can also be made to act like notebooks, by adding the line #%% which act as cell dividers. In this way, you can separate chunks of code and run them individually (and see their output in a new window). See [this page](https://code.visualstudio.com/docs/python/jupyter-support-py) for a further explanation.  \n",
    "  \n",
    "* **Debugger**  \n",
    "The VSCode debugger is a great tool, and can be much more powerful and efficient than the standard practice of adding lines to print information about your output! You can set breakpoints in your code, and closely examine the local variables which are stored at that point in the program. More information can be found on [this page](https://lightrun.com/debugging/debug-python-in-vscode/).  \n",
    "  \n",
    "* **Testing**  \n",
    "VSCode provides ways to easily keep track of and run tests which are written using the pytest or unittest libraries. We'll have a look at the former during the course.  \n",
    "  \n",
    "* **Remote machines**  \n",
    "VSCode offers easy ways to execute code on remote machines over SSH.  \n",
    "  \n",
    "* **Copilot**  \n",
    "GitHub Copilot uses the OpenAI Codex to suggest code and entire functions in real-time, right from your editor. We will be encouraging (although not requiring) use of copilot during the program. It can't do everything, but it's very helpful in abstracting away the annoying low-level details and allowing you to focus on the higher-level concepts and structures.  \n",
    "  \n",
    "* **Local imports**  \n",
    "If you're getting squiggly yellow lines under local imports (or local imports aren't working), add this to the workspace JSON file (you can access it by searching \"workspace JSON\" into the command palette):\n",
    "\n",
    "    ```json\n",
    "    {\n",
    "        \"python.analysis.extraPaths\": [\n",
    "            \"extrapath\"\n",
    "        ],\n",
    "        \"python.analysis.include\": [\n",
    "            \"extrapath\"\n",
    "        ]\n",
    "    }\n",
    "    ```\n",
    "    where `extrapath` is the path you want to add (e.g. `./chapter0_fundamentals/exercises`, if you're running imports like `import part1_raytracing.solutions as solutions`)."
   ]
  },
  {
   "cell_type": "markdown",
   "metadata": {},
   "source": [
    "### Jupyter Notebook / Colab**\n",
    "\n",
    "Despite the overall awesomeness of VSCode, Jupyter Notebooks still have some advantages over VSCode, primarily in exploration and visualisation. Several of the advantages listed in the previous section also apply to .ipynb files created and edited in VSCode; the main reason we're not encouraging this for the ARENA in-person program is because we want participants to be able to write code that they can import from previous days (and because using .py files can help encourage better coding practices, rather than just creating a huge number of cells and dropping them under different headings, losing track of what code is where!).\n",
    "\n",
    "Colab has a similar structure to Jupyter Notebooks, but it provides several additional features, most importantly GPU access. For anyone following this material virtually, we unfortunately won't be able to provide compute, so (assuming you don't have any way of accessing better compute yourselves e.g. via Lambda Labs) Colab might be the best option for you."
   ]
  },
  {
   "cell_type": "markdown",
   "metadata": {},
   "source": [
    "### Git*\n",
    "\n",
    "Git is a piece of version control software, designed for tracking and managing changes in a set of files. It can be very powerful, but also a bit of a headache to use. \n",
    "\n",
    "If you're following this course from the [repo](https://github.com/callummcdougall/ARENA_3.0), you'll need to be comfortable using Git to push and pull files. We also love to see participants contributing to open-source libraries during the program or capstone projects (e.g. TransformerLens or nnsight) as well as using GitHub for collaboration during their capstone projects. These will also require comfort working with Git.\n",
    "\n",
    "![](https://lh3.googleusercontent.com/jpF1jPI7VGb9ssE-Lzn58nB_d4CQlZItqxhFFU_ZLTL3bv_x_82WVmgyIHQRDyemS7Ne5zpj4-rGVRkpACfR_u7Cw8DTGrMr8H_Sm7w74k03gfcJ2nkAwyk2CElLhMonZ6nhQiirM43DP40BIw1Id0k)\n",
    "\n",
    "If you already have a strong SWE background then you might not need to spend as much time on this section. Otherwise, we recommend the [Learn Git Branching](https://learngitbranching.js.org/) tutorial series, for an intuitive and interactive set of exercises on Git. A few other resources which have been recommended (which will probably have a lot of overlap):\n",
    "\n",
    "* [An Intro to Git and GitHub for Beginners](https://product.hubspot.com/blog/git-and-github-tutorial-for-beginners)\n",
    "* [Git Immersion](https://gitimmersion.com/index.html)\n",
    "* [Git cheat sheet](https://www.atlassian.com/git/tutorials/atlassian-git-cheatsheet)\n",
    "\n",
    "Ideally, you should feel comfortable with the following:\n",
    "\n",
    "* Cloning a repository\n",
    "* Creating and switching between branches\n",
    "* Staging and committing changes\n",
    "* Pushing branches"
   ]
  },
  {
   "cell_type": "markdown",
   "metadata": {},
   "source": [
    "### Conda*\n",
    "\n",
    "Virtual environments are a common way to manage dependencies when working across multiple different projects and are standard practice in all professional development contexts. During ARENA, we expect that participants will be working inside likely one, but possibly more environments. \n",
    "\n",
    "If you haven't used them already, please ensure that you have conda installed and know how to activate it. See: [Getting started with conda](https://conda.io/projects/conda/en/latest/user-guide/getting-started.html)."
   ]
  },
  {
   "cell_type": "markdown",
   "metadata": {},
   "source": [
    "### Unix\n",
    "\n",
    "This won't matter a huge amount for this course (at least for the minimal versions of it), but it's an important part of your development as an engineer. [UC Berkeley's UNIX Tutorial](https://people.ischool.berkeley.edu/~kevin/unix-tutorial/toc.html) provides a comprehensive introduction (up to & including section 4 should suffice for most things you might be doing during this course). [Surrey University's UNIX Tutorial](https://users.cs.duke.edu/~alvy/courses/unixtut/) is also a good resource - up to tutorial 2 should be sufficient.\n",
    "\n",
    "Also, you can use the instructions on [this page](https://cs50.readthedocs.io/terminal/) to set up a UNIX terminal to experiment with the methods covered in the above tutorials."
   ]
  },
  {
   "cell_type": "markdown",
   "metadata": {},
   "source": [
    "## Optional Reading\n",
    "\n",
    "We will teach the course assuming you haven't read any of these, but they are all useful and relevant things to know and will allow you to understand the material more deeply and/or tackle a more advanced Week 4 project.\n",
    "\n",
    "#### [**100 NumPy Exercises**](https://github.com/rougier/numpy-100)\n",
    "\n",
    "After you've done the pre-course exercises, if you want more practice with this sort of thing, try these. Some of these are a lot more interesting than others - pick out some that sound fun and challenging and try solving them in PyTorch.\n",
    "\n",
    "#### [**What is torch.nn really?**](https://pytorch.org/tutorials/beginner/nn_tutorial.html) **by Jeremy Howard**\n",
    "\n",
    "You'll be implementing a lot of functionality of torch.nn and torch.optim yourself during the course. This is a good introduction to what functionality is in these packages. If you don't learn this now, you can pick it up during the course, though perhaps less deeply.\n",
    "\n",
    "#### [**NLP Demystified**](https://www.nlpdemystified.org/) **by Nitin Punjabi**\n",
    "\n",
    "An introduction to natural language processing assuming zero ML background.\n",
    "\n",
    "*   If you've never done NLP before, it's worth skimming to get a general idea of the field. \n",
    "*   If you've never built a basic feedforward neural network (MLP) from scratch, the section \"Neural Networks I” has a good exercise on this.\n",
    "\n",
    "#### [**Visualising Representations: Deep Learning and Human Beings**](https://colah.github.io/posts/2015-01-Visualizing-Representations/) **by Chris Olah**\n",
    "\n",
    "Builds intuition with nice pictures about what deep networks are doing inside.\n",
    "\n",
    "#### [**Spinning Up in Deep RL**](https://spinningup.openai.com/en/latest/) **by OpenAI**\n",
    "\n",
    "Introduction to using deep learning for reinforcement learning. ARENA will assume zero RL experience, but having some understanding already means you'll have an easier time and can tackle more advanced versions of things in the course.\n",
    "\n",
    "#### [**Introduction to Reinforcement Learning**](https://www.youtube.com/watch?v=2pWv7GOvuf0) **with David Silver**\n",
    "\n",
    "This video course is fairly old (2015) and the state of the art has come a long way, but this is still useful to cover the basics. I would recommend Spinning Up in Deep RL over this unless you learn better from video lectures than reading.\n",
    "\n",
    "#### [**The Matrix Cookbook**](https://www.math.uwaterloo.ca/~hwolkowi/matrixcookbook.pdf) **by Petersen and Pedersen**\n",
    "\n",
    "A densely packed reference of facts and identities about matrices. Definitely not intended to teach topics, but a good place to look up something you need. It's worth memorising identities 1-6, 11-16, and 18-23 from Page 6.\n",
    "\n",
    "#### [**Zoom In: An Introduction to Circuits**](https://distill.pub/2020/circuits/zoom-in/) **by Chris Olah et al**\n",
    "\n",
    "A very fun article on interpretability in neural networks trained for computer vision.\n",
    "\n",
    "#### [**Why Momentum Really Works**](https://distill.pub/2017/momentum/) **by Gabriel Goh**\n",
    "\n",
    "Variations of gradient descent that use momentum are extremely common. We'll teach the basics of momentum in the course, but if you want a richer and deeper understanding then this is a good article to read and reread.\n",
    "\n",
    "#### [**The Matrix Calculus You Need for Deep Learning**](https://explained.ai/matrix-calculus/) **by Terence Parr and Jeremy Howard**\n",
    "\n",
    "Takes you from knowing introductory calculus to calculus on matrices. This will be helpful for the backpropagation material, on day 3 of the course.\n",
    "\n",
    "#### [**A Mathematical Framework for Transformer Circuits**](https://transformer-circuits.pub/2021/framework/index.html) **by Anthropic**\n",
    "\n",
    "Analyses transformers starting with the simplest toy models and working up. A heavy read but very good for building intuition about what transformers can do. This will form the cornerstone of the mechanistic interpretability chapter.\n",
    "\n",
    "#### [**In-context Learning and Induction Heads**](https://transformer-circuits.pub/2022/in-context-learning-and-induction-heads/index.html) **by Anthropic**\n",
    "\n",
    "Describes and analyses \"induction heads\", an important circuit learned by transformers.\n",
    "\n",
    "#### [**Neural Networks and Deep Learning**](http://neuralnetworksanddeeplearning.com/) **by Michael Nielsen**"
   ]
  },
  {
   "cell_type": "markdown",
   "metadata": {},
   "source": [
    "# 2️⃣ Einops, Einsum & Tensor Manipulation\n",
    "\n",
    "> ##### Learning Objectives\n",
    ">\n",
    "> - Understand the basics of Einstein summation convention\n",
    "> - Learn how to use `einops` to perform basic tensor rearrangement, and `einsum` to to perform standard linear algebra operations on tensors"
   ]
  },
  {
   "cell_type": "markdown",
   "metadata": {},
   "source": [
    "Note - this section contains a large number of exercises. You should feel free to skim through them if you feel comfortable with the basic ideas."
   ]
  },
  {
   "cell_type": "markdown",
   "metadata": {},
   "source": [
    "## Reading\n",
    "\n",
    "* Read about the benefits of the `einops` library [here](https://www.blopig.com/blog/2022/05/einops-powerful-library-for-tensor-operations-in-deep-learning/).\n",
    "* If you haven't already, then review the [Einops basics tutorial](https://einops.rocks/1-einops-basics/) (up to the \"fancy examples\" section).\n",
    "* Read [einsum is all you need](https://rockt.github.io/2018/04/30/einsum) (or [watch it](https://www.youtube.com/watch?v=pkVwUVEHmfI)) for a brief overview of the `einsum` function and how it works. (You don't need to read past section 2.10.)"
   ]
  },
  {
   "cell_type": "markdown",
   "metadata": {},
   "source": [
    "## Setup"
   ]
  },
  {
   "cell_type": "code",
   "execution_count": 4,
   "metadata": {},
   "outputs": [],
   "source": [
    "import os\n",
    "import sys\n",
    "from pathlib import Path\n",
    "\n",
    "IN_COLAB = \"google.colab\" in sys.modules\n",
    "\n",
    "chapter = \"chapter0_fundamentals\"\n",
    "repo = \"ARENA_3.0\"\n",
    "branch = \"main\"\n",
    "\n",
    "# Install dependencies\n",
    "try:\n",
    "    import einops\n",
    "except:\n",
    "    %pip install einops jaxtyping\n",
    "\n",
    "# Get root directory, handling 3 different cases: (1) Colab, (2) notebook not in ARENA repo, (3) notebook in ARENA repo\n",
    "root = (\n",
    "    \"/content\"\n",
    "    if IN_COLAB\n",
    "    else \"/root\"\n",
    "    if repo not in os.getcwd()\n",
    "    else str(next(p for p in Path.cwd().parents if p.name == repo))\n",
    ")\n",
    "\n",
    "if Path(root).exists() and not Path(f\"{root}/{chapter}\").exists():\n",
    "    if not IN_COLAB:\n",
    "        !sudo apt-get install unzip\n",
    "        %pip install jupyter ipython --upgrade\n",
    "\n",
    "    if not os.path.exists(f\"{root}/{chapter}\"):\n",
    "        !wget -P {root} https://github.com/callummcdougall/ARENA_3.0/archive/refs/heads/{branch}.zip\n",
    "        !unzip {root}/{branch}.zip '{repo}-{branch}/{chapter}/exercises/*' -d {root}\n",
    "        !mv {root}/ARENA_3.0-{branch}/{chapter} {root}/{chapter}\n",
    "        !rm {root}/{branch}.zip\n",
    "        !rmdir {root}/ARENA_3.0-{branch}\n",
    "\n",
    "\n",
    "if f\"{root}/{chapter}/exercises\" not in sys.path:\n",
    "    sys.path.append(f\"{root}/{chapter}/exercises\")\n",
    "\n",
    "os.chdir(f\"{root}/{chapter}/exercises\")"
   ]
  },
  {
   "cell_type": "code",
   "execution_count": 5,
   "metadata": {},
   "outputs": [],
   "source": [
    "import math\n",
    "import os\n",
    "import sys\n",
    "from pathlib import Path\n",
    "\n",
    "import einops\n",
    "import numpy as np\n",
    "import torch as t\n",
    "from torch import Tensor\n",
    "\n",
    "# Make sure exercises are in the path\n",
    "chapter = \"chapter0_fundamentals\"\n",
    "section = \"part0_prereqs\"\n",
    "root_dir = next(p for p in Path.cwd().parents if (p / chapter).exists())\n",
    "exercises_dir = root_dir / chapter / \"exercises\"\n",
    "section_dir = exercises_dir / section\n",
    "if str(exercises_dir) not in sys.path:\n",
    "    sys.path.append(str(exercises_dir))\n",
    "\n",
    "import part0_prereqs.tests as tests\n",
    "from part0_prereqs.utils import display_array_as_img, display_soln_array_as_img\n",
    "\n",
    "MAIN = __name__ == \"__main__\""
   ]
  },
  {
   "cell_type": "markdown",
   "metadata": {},
   "source": [
    "## Einops"
   ]
  },
  {
   "cell_type": "code",
   "execution_count": 6,
   "metadata": {},
   "outputs": [],
   "source": [
    "arr = np.load(section_dir / \"numbers.npy\")"
   ]
  },
  {
   "cell_type": "markdown",
   "metadata": {},
   "source": [
    "`arr` is a 4D numpy array. The first axes corresponds to the number, and the next three axes are channels (i.e. RGB), height and width respectively. You have the function `utils.display_array_as_img` which takes in a numpy array and displays it as an image. There are two possible ways this function can be run:\n",
    "\n",
    "* If the input is three-dimensional, the dimensions are interpreted as `(channel, height, width)` - in other words, as an RGB image.\n",
    "* If the input is two-dimensional, the dimensions are interpreted as `(height, width)` - i.e. a monochrome image.\n",
    "\n",
    "For example:"
   ]
  },
  {
   "cell_type": "code",
   "execution_count": 7,
   "metadata": {},
   "outputs": [
    {
     "name": "stdout",
     "output_type": "stream",
     "text": [
      "(3, 150, 150)\n"
     ]
    },
    {
     "data": {
      "application/vnd.plotly.v1+json": {
       "config": {
        "displayModeBar": false,
        "plotlyServerURL": "https://plot.ly"
       },
       "data": [
        {
         "hovertemplate": "x: %{x}<br>y: %{y}<br>color: [%{z[0]}, %{z[1]}, %{z[2]}]<extra></extra>",
         "name": "0",
         "source": "data:image/png;base64,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",
         "type": "image",
         "xaxis": "x",
         "yaxis": "y"
        }
       ],
       "layout": {
        "coloraxis": {
         "showscale": false
        },
        "height": 150,
        "margin": {
         "b": 0,
         "l": 0,
         "r": 0,
         "t": 0
        },
        "template": {
         "data": {
          "bar": [
           {
            "error_x": {
             "color": "#2a3f5f"
            },
            "error_y": {
             "color": "#2a3f5f"
            },
            "marker": {
             "line": {
              "color": "#E5ECF6",
              "width": 0.5
             },
             "pattern": {
              "fillmode": "overlay",
              "size": 10,
              "solidity": 0.2
             }
            },
            "type": "bar"
           }
          ],
          "barpolar": [
           {
            "marker": {
             "line": {
              "color": "#E5ECF6",
              "width": 0.5
             },
             "pattern": {
              "fillmode": "overlay",
              "size": 10,
              "solidity": 0.2
             }
            },
            "type": "barpolar"
           }
          ],
          "carpet": [
           {
            "aaxis": {
             "endlinecolor": "#2a3f5f",
             "gridcolor": "white",
             "linecolor": "white",
             "minorgridcolor": "white",
             "startlinecolor": "#2a3f5f"
            },
            "baxis": {
             "endlinecolor": "#2a3f5f",
             "gridcolor": "white",
             "linecolor": "white",
             "minorgridcolor": "white",
             "startlinecolor": "#2a3f5f"
            },
            "type": "carpet"
           }
          ],
          "choropleth": [
           {
            "colorbar": {
             "outlinewidth": 0,
             "ticks": ""
            },
            "type": "choropleth"
           }
          ],
          "contour": [
           {
            "colorbar": {
             "outlinewidth": 0,
             "ticks": ""
            },
            "colorscale": [
             [
              0,
              "#0d0887"
             ],
             [
              0.1111111111111111,
              "#46039f"
             ],
             [
              0.2222222222222222,
              "#7201a8"
             ],
             [
              0.3333333333333333,
              "#9c179e"
             ],
             [
              0.4444444444444444,
              "#bd3786"
             ],
             [
              0.5555555555555556,
              "#d8576b"
             ],
             [
              0.6666666666666666,
              "#ed7953"
             ],
             [
              0.7777777777777778,
              "#fb9f3a"
             ],
             [
              0.8888888888888888,
              "#fdca26"
             ],
             [
              1,
              "#f0f921"
             ]
            ],
            "type": "contour"
           }
          ],
          "contourcarpet": [
           {
            "colorbar": {
             "outlinewidth": 0,
             "ticks": ""
            },
            "type": "contourcarpet"
           }
          ],
          "heatmap": [
           {
            "colorbar": {
             "outlinewidth": 0,
             "ticks": ""
            },
            "colorscale": [
             [
              0,
              "#0d0887"
             ],
             [
              0.1111111111111111,
              "#46039f"
             ],
             [
              0.2222222222222222,
              "#7201a8"
             ],
             [
              0.3333333333333333,
              "#9c179e"
             ],
             [
              0.4444444444444444,
              "#bd3786"
             ],
             [
              0.5555555555555556,
              "#d8576b"
             ],
             [
              0.6666666666666666,
              "#ed7953"
             ],
             [
              0.7777777777777778,
              "#fb9f3a"
             ],
             [
              0.8888888888888888,
              "#fdca26"
             ],
             [
              1,
              "#f0f921"
             ]
            ],
            "type": "heatmap"
           }
          ],
          "histogram": [
           {
            "marker": {
             "pattern": {
              "fillmode": "overlay",
              "size": 10,
              "solidity": 0.2
             }
            },
            "type": "histogram"
           }
          ],
          "histogram2d": [
           {
            "colorbar": {
             "outlinewidth": 0,
             "ticks": ""
            },
            "colorscale": [
             [
              0,
              "#0d0887"
             ],
             [
              0.1111111111111111,
              "#46039f"
             ],
             [
              0.2222222222222222,
              "#7201a8"
             ],
             [
              0.3333333333333333,
              "#9c179e"
             ],
             [
              0.4444444444444444,
              "#bd3786"
             ],
             [
              0.5555555555555556,
              "#d8576b"
             ],
             [
              0.6666666666666666,
              "#ed7953"
             ],
             [
              0.7777777777777778,
              "#fb9f3a"
             ],
             [
              0.8888888888888888,
              "#fdca26"
             ],
             [
              1,
              "#f0f921"
             ]
            ],
            "type": "histogram2d"
           }
          ],
          "histogram2dcontour": [
           {
            "colorbar": {
             "outlinewidth": 0,
             "ticks": ""
            },
            "colorscale": [
             [
              0,
              "#0d0887"
             ],
             [
              0.1111111111111111,
              "#46039f"
             ],
             [
              0.2222222222222222,
              "#7201a8"
             ],
             [
              0.3333333333333333,
              "#9c179e"
             ],
             [
              0.4444444444444444,
              "#bd3786"
             ],
             [
              0.5555555555555556,
              "#d8576b"
             ],
             [
              0.6666666666666666,
              "#ed7953"
             ],
             [
              0.7777777777777778,
              "#fb9f3a"
             ],
             [
              0.8888888888888888,
              "#fdca26"
             ],
             [
              1,
              "#f0f921"
             ]
            ],
            "type": "histogram2dcontour"
           }
          ],
          "mesh3d": [
           {
            "colorbar": {
             "outlinewidth": 0,
             "ticks": ""
            },
            "type": "mesh3d"
           }
          ],
          "parcoords": [
           {
            "line": {
             "colorbar": {
              "outlinewidth": 0,
              "ticks": ""
             }
            },
            "type": "parcoords"
           }
          ],
          "pie": [
           {
            "automargin": true,
            "type": "pie"
           }
          ],
          "scatter": [
           {
            "fillpattern": {
             "fillmode": "overlay",
             "size": 10,
             "solidity": 0.2
            },
            "type": "scatter"
           }
          ],
          "scatter3d": [
           {
            "line": {
             "colorbar": {
              "outlinewidth": 0,
              "ticks": ""
             }
            },
            "marker": {
             "colorbar": {
              "outlinewidth": 0,
              "ticks": ""
             }
            },
            "type": "scatter3d"
           }
          ],
          "scattercarpet": [
           {
            "marker": {
             "colorbar": {
              "outlinewidth": 0,
              "ticks": ""
             }
            },
            "type": "scattercarpet"
           }
          ],
          "scattergeo": [
           {
            "marker": {
             "colorbar": {
              "outlinewidth": 0,
              "ticks": ""
             }
            },
            "type": "scattergeo"
           }
          ],
          "scattergl": [
           {
            "marker": {
             "colorbar": {
              "outlinewidth": 0,
              "ticks": ""
             }
            },
            "type": "scattergl"
           }
          ],
          "scattermap": [
           {
            "marker": {
             "colorbar": {
              "outlinewidth": 0,
              "ticks": ""
             }
            },
            "type": "scattermap"
           }
          ],
          "scattermapbox": [
           {
            "marker": {
             "colorbar": {
              "outlinewidth": 0,
              "ticks": ""
             }
            },
            "type": "scattermapbox"
           }
          ],
          "scatterpolar": [
           {
            "marker": {
             "colorbar": {
              "outlinewidth": 0,
              "ticks": ""
             }
            },
            "type": "scatterpolar"
           }
          ],
          "scatterpolargl": [
           {
            "marker": {
             "colorbar": {
              "outlinewidth": 0,
              "ticks": ""
             }
            },
            "type": "scatterpolargl"
           }
          ],
          "scatterternary": [
           {
            "marker": {
             "colorbar": {
              "outlinewidth": 0,
              "ticks": ""
             }
            },
            "type": "scatterternary"
           }
          ],
          "surface": [
           {
            "colorbar": {
             "outlinewidth": 0,
             "ticks": ""
            },
            "colorscale": [
             [
              0,
              "#0d0887"
             ],
             [
              0.1111111111111111,
              "#46039f"
             ],
             [
              0.2222222222222222,
              "#7201a8"
             ],
             [
              0.3333333333333333,
              "#9c179e"
             ],
             [
              0.4444444444444444,
              "#bd3786"
             ],
             [
              0.5555555555555556,
              "#d8576b"
             ],
             [
              0.6666666666666666,
              "#ed7953"
             ],
             [
              0.7777777777777778,
              "#fb9f3a"
             ],
             [
              0.8888888888888888,
              "#fdca26"
             ],
             [
              1,
              "#f0f921"
             ]
            ],
            "type": "surface"
           }
          ],
          "table": [
           {
            "cells": {
             "fill": {
              "color": "#EBF0F8"
             },
             "line": {
              "color": "white"
             }
            },
            "header": {
             "fill": {
              "color": "#C8D4E3"
             },
             "line": {
              "color": "white"
             }
            },
            "type": "table"
           }
          ]
         },
         "layout": {
          "annotationdefaults": {
           "arrowcolor": "#2a3f5f",
           "arrowhead": 0,
           "arrowwidth": 1
          },
          "autotypenumbers": "strict",
          "coloraxis": {
           "colorbar": {
            "outlinewidth": 0,
            "ticks": ""
           }
          },
          "colorscale": {
           "diverging": [
            [
             0,
             "#8e0152"
            ],
            [
             0.1,
             "#c51b7d"
            ],
            [
             0.2,
             "#de77ae"
            ],
            [
             0.3,
             "#f1b6da"
            ],
            [
             0.4,
             "#fde0ef"
            ],
            [
             0.5,
             "#f7f7f7"
            ],
            [
             0.6,
             "#e6f5d0"
            ],
            [
             0.7,
             "#b8e186"
            ],
            [
             0.8,
             "#7fbc41"
            ],
            [
             0.9,
             "#4d9221"
            ],
            [
             1,
             "#276419"
            ]
           ],
           "sequential": [
            [
             0,
             "#0d0887"
            ],
            [
             0.1111111111111111,
             "#46039f"
            ],
            [
             0.2222222222222222,
             "#7201a8"
            ],
            [
             0.3333333333333333,
             "#9c179e"
            ],
            [
             0.4444444444444444,
             "#bd3786"
            ],
            [
             0.5555555555555556,
             "#d8576b"
            ],
            [
             0.6666666666666666,
             "#ed7953"
            ],
            [
             0.7777777777777778,
             "#fb9f3a"
            ],
            [
             0.8888888888888888,
             "#fdca26"
            ],
            [
             1,
             "#f0f921"
            ]
           ],
           "sequentialminus": [
            [
             0,
             "#0d0887"
            ],
            [
             0.1111111111111111,
             "#46039f"
            ],
            [
             0.2222222222222222,
             "#7201a8"
            ],
            [
             0.3333333333333333,
             "#9c179e"
            ],
            [
             0.4444444444444444,
             "#bd3786"
            ],
            [
             0.5555555555555556,
             "#d8576b"
            ],
            [
             0.6666666666666666,
             "#ed7953"
            ],
            [
             0.7777777777777778,
             "#fb9f3a"
            ],
            [
             0.8888888888888888,
             "#fdca26"
            ],
            [
             1,
             "#f0f921"
            ]
           ]
          },
          "colorway": [
           "#636efa",
           "#EF553B",
           "#00cc96",
           "#ab63fa",
           "#FFA15A",
           "#19d3f3",
           "#FF6692",
           "#B6E880",
           "#FF97FF",
           "#FECB52"
          ],
          "font": {
           "color": "#2a3f5f"
          },
          "geo": {
           "bgcolor": "white",
           "lakecolor": "white",
           "landcolor": "#E5ECF6",
           "showlakes": true,
           "showland": true,
           "subunitcolor": "white"
          },
          "hoverlabel": {
           "align": "left"
          },
          "hovermode": "closest",
          "mapbox": {
           "style": "light"
          },
          "paper_bgcolor": "white",
          "plot_bgcolor": "#E5ECF6",
          "polar": {
           "angularaxis": {
            "gridcolor": "white",
            "linecolor": "white",
            "ticks": ""
           },
           "bgcolor": "#E5ECF6",
           "radialaxis": {
            "gridcolor": "white",
            "linecolor": "white",
            "ticks": ""
           }
          },
          "scene": {
           "xaxis": {
            "backgroundcolor": "#E5ECF6",
            "gridcolor": "white",
            "gridwidth": 2,
            "linecolor": "white",
            "showbackground": true,
            "ticks": "",
            "zerolinecolor": "white"
           },
           "yaxis": {
            "backgroundcolor": "#E5ECF6",
            "gridcolor": "white",
            "gridwidth": 2,
            "linecolor": "white",
            "showbackground": true,
            "ticks": "",
            "zerolinecolor": "white"
           },
           "zaxis": {
            "backgroundcolor": "#E5ECF6",
            "gridcolor": "white",
            "gridwidth": 2,
            "linecolor": "white",
            "showbackground": true,
            "ticks": "",
            "zerolinecolor": "white"
           }
          },
          "shapedefaults": {
           "line": {
            "color": "#2a3f5f"
           }
          },
          "ternary": {
           "aaxis": {
            "gridcolor": "white",
            "linecolor": "white",
            "ticks": ""
           },
           "baxis": {
            "gridcolor": "white",
            "linecolor": "white",
            "ticks": ""
           },
           "bgcolor": "#E5ECF6",
           "caxis": {
            "gridcolor": "white",
            "linecolor": "white",
            "ticks": ""
           }
          },
          "title": {
           "x": 0.05
          },
          "xaxis": {
           "automargin": true,
           "gridcolor": "white",
           "linecolor": "white",
           "ticks": "",
           "title": {
            "standoff": 15
           },
           "zerolinecolor": "white",
           "zerolinewidth": 2
          },
          "yaxis": {
           "automargin": true,
           "gridcolor": "white",
           "linecolor": "white",
           "ticks": "",
           "title": {
            "standoff": 15
           },
           "zerolinecolor": "white",
           "zerolinewidth": 2
          }
         }
        },
        "width": 150,
        "xaxis": {
         "anchor": "y",
         "domain": [
          0,
          1
         ],
         "showticklabels": false
        },
        "yaxis": {
         "anchor": "x",
         "domain": [
          0,
          1
         ],
         "showticklabels": false
        }
       }
      }
     },
     "metadata": {},
     "output_type": "display_data"
    }
   ],
   "source": [
    "print(arr[0].shape)\n",
    "display_array_as_img(arr[0])  # plotting the first image in the batch"
   ]
  },
  {
   "cell_type": "code",
   "execution_count": 8,
   "metadata": {},
   "outputs": [
    {
     "name": "stdout",
     "output_type": "stream",
     "text": [
      "(150, 150)\n"
     ]
    },
    {
     "data": {
      "application/vnd.plotly.v1+json": {
       "config": {
        "displayModeBar": false,
        "plotlyServerURL": "https://plot.ly"
       },
       "data": [
        {
         "coloraxis": "coloraxis",
         "hovertemplate": "x: %{x}<br>y: %{y}<br>color: %{z}<extra></extra>",
         "name": "0",
         "type": "heatmap",
         "xaxis": "x",
         "yaxis": "y",
         "z": {
          "bdata": "//////////////////////////////////////////////////////////////////////////////////////////////////////////////////////////////////////////////////////////////////////////////////////////////////////////////////////////////////////////////////////////////////////////////////////////////////////////////////////////////////////////////////////////////////////////////////////////////////////////////////////////////////////////////////////////////////////////////////////////////////////////////////////////////////////////////////////////////////////////////////////////////////////////////////////////////////////////////////////////////////////////////////////////////////////////////////////////////////////////////////////////////////////////////////////////////////////////////////////////////////////////////////////////////////////////////////////////////////////////////////////////////////////////////////////////////////////////////////////////////////////////////////////////////////////////////////////////////////////////////////////////////////////////////////////////////////////////////////////////////////////////////////////////////////////////////////////////////////////////////////////////////////////////////////////////////////////////////////////////////////////////////////////////////////////////////////////////////////////////////////////////////////////////////////////////////////////////////////////////////////////////////////////////////////////////////////////////////////////////////////////////////////////////////////////////////////////////////////////////////////////////////////////////////////////////////////////////////////////////////////////////////////////////////////////////////////////////////////////////////////////////////////////////////////////////////////////////////////////////////////////////////////////////////////////////////////////////////////////////////////////////////////////////////////////////////////////////////////////////////////////////////////////////////////////////////////////////////////////////////////////////////////////////////////////////////////////////////////////////////////////////////////////////////////////////////////////////////////////////////////////////////////////////////////////////////////////////////////////////////////////////////////////////////////////////////////////////////////////////////////////////////////////////////////////////////////////////////////////////////////////////////////////////////////////////////////////////////////////////////////////////////////////////////////////////////////////////////////////////////////////////////////////////////////////////////////////////////////////////////////////////////////////////////////////////////////////////////////////////////////////////////////////////////////////////////////////////////////////////////////////////////////////////////////////////////////////////////////////////////////////////////////////////////////////////////////////////////////////////////////////////////////////////////////////////////////////////////////////////////////////////////////////////////////////////////////////////////////////////////////////////////////////////////////////////////////////////////////////////////////////////////////////////////////////////////////////////////////////////////////////////////////////////////////////////////////////////////////////////////////////////////////////////////////////////////////////////////////////////////////////////////////////////////////////////////////////////////////////////////////////////////////////////////////////////////////////////////////////////////////////////////////////////////////////////////////////////////////////////////////////////////////////////////////////////////////////////////////////////////////////////////////////////////////////////////////////////////////////////////////////////////////////////////////////////////////////////////////////////////////////////////////////////////////////////////////////////////////////////////////////////////////////////////////////////////////////////////////////////////////////////////////////////////////////////////////////////////////////////////////////////////////////////////////////////////////////////////////////////////////////////////////////////////////////////////////////////////////////////////////////////////////////////////////////////////////////////////////////////////////////////////////////////////////////////////////////////////////////////////////////////////////////////////////////////////////////////////////////////////////////////////////////////////////////////////////////////////////////////////////////////////////////////////////////////////////////////////////////////////////////////////////////////////////////////////////////////////////////////////////////////////////////////////////////////////////////////////////////////////////////////////////////////////////////////////////////////////////////////////////////////////////////////////////////////////////////////////////////////////////////////////////////////////////////////////////////////////////////////////////////////////////////////////////////////////////////////////////////////////////////////////////////////////////////////////////////////////////////////////////////////////////////////////////////////////////////////////////////////////////////////////////////////////////////////////////////////////////////////////////////////////////////////////////////////////////////////////////////////////////////////////////////////////////////////////////////////////////////////////////////////////////////////////////////////////////////////////////////////////////////////////////////////////////////////////////////////////////////////////////////////////////////////////////////////////////////////////////////////////////////////////////////////////////////////////////////////////////////////////////////////////////////////////////////////////////////////////////////////////////////////////////////////////////////////////////////////////////////////////////////////////////////////////////////////////////////////////////////////////////////////////////////////////////////////////////////////////////////////////////////////////////////////////////////////////////////////////////////////////////////////////////////////////////////////////////////////////////////////////////////////////////////////////////////////////////////////////////////////////////////////////////////////////////////////////////////////////////////////////////////////////////////////////////////////////////////////////////////////////////////////////////////////////////////////////////////////////////////////////////////////////////////////////////////////////////////////////////////////////////////////////////////////////////////////////////////////////////////////////////////////////////////////////////////////////////////////////////////////////////////////////////////////////////////////////////////////////////////////////////////////////////////////////////////////////////////////////////////////////////////////////////////////////////////////////////////////////////////////////////////////////////////////////////////////////////////////////////////////////////////////////////////////////////////////////////////////////////////////////////////////////////////////////////////////////////////////////////////////////////////////////////////////////////////////////////////////////////////////////////////////////////////////////////////////////////////////////////////////////////////////////////////////////////////////////////////////////////////////////////////////////////////////////////////////////////////////////////////////////////////////////////////////////////////////////////////////////////////////////////////////////////////////////////////////////////////////////////////////////////////////////////////////////////////////////////////////////////////////////////////////i7f1AuFAkDDRsvWYPC/P/////////////////////////////////////////////////////////////////////////////////////////////////////////////////////////////////////////////////////////////////////////////////FXQsAAAAAAAAAAAAAAAAAEWLS////////////////////////////////////////////////////////////////////////////////////////////////////////////////////////////////////////////////////////////////////////////z0EAAAAAAAAAAAAAAAAAAAAAAAAASdj///////////////////////////////////////////////////////////////////////////////////////////////////////////////////////////////////////////////////////////////////////t6AwAAAAAAAAAAAAAAAAAAAAAAAAAAAAeB/f//////////////////////////////////////////////////////////////////////////////////////////////////////////////////////////////////////////////////////////////////80IAAAAAAAAAAAAAAAAAAAAAAAAAAAAAAAAASfD////////////////////////////////////////////////////////////////////////////////////////////////////////////////////////////////////////////////////////////////wOQAAAAAAAAAAAAAAAAAAAAAAAAAAAAAAAAAAAC3t//////////////////////////////////////////////////////////////////////////////////////////////////////////////////////////////////////////////////////////////QzAAAAAAAAAAAAAAAAAAAAAAAAAAAAAAAAAAAAAAA28////////////////////////////////////////////////////////////////////////////////////////////////////////////////////////////////////////////////////////////1sAAAAAAAAAAAAAAB5omLK7rYpSCgAAAAAAAAAAAAAAVv//////////////////////////////////////////////////////////////////////////////////////////////////////////////////////////////////////////////////////////mAAAAAAAAAAAAAA0tv7/////////9I0UAAAAAAAAAAAAAJn////////////////////////////////////////////////////////////////////////////////////////////////////////////////////////////////////////////////////////cBwAAAAAAAAAAAoX9///////////////pTAAAAAAAAAAAAAzl//////////////////////////////////////////////////////////////////////////////////////////////////////////////////////////////////////////////////////9TAAAAAAAAAAADqf///////////////////W8AAAAAAAAAAABb/////////////////////////////////////////////////////////////////////////////////////////////////////////////////////////////////////////////////////8QAAAAAAAAAAACX//////////////////////9oAAAAAAAAAAAAzP///////////////////////////////////////////////////////////////////////////////////////////////////////////////////////////////////////////////////zwAAAAAAAAAAFf////////////////////////7PwAAAAAAAAAAU///////////////////////////////////////////////////////////////////////////////////////////////////////////////////////////////////////////////////0QAAAAAAAAAADOT/////////////////////////4goAAAAAAAAAAtn/////////////////////////////////////////////////////////////////////////////////////////////////////////////////////////////////////////////////agAAAAAAAAAAev///////////////////////////4IAAAAAAAAAAHP////////////////////////////////////////////////////////////////////////////////////////////////////////////////////////////////////////////////1DgAAAAAAAAAE5P///////////////////////////+4JAAAAAAAAABj8//////////////////////////////////////////////////////////////////////////////////////////////////////////////////////////////////////////////+mAAAAAAAAAABQ//////////////////////////////9iAAAAAAAAAAC2//////////////////////////////////////////////////////////////////////////////////////////////////////////////////////////////////////////////9XAAAAAAAAAACh//////////////////////////////+1AAAAAAAAAABn//////////////////////////////////////////////////////////////////////////////////////////////////////////////////////////////////////////////4RAAAAAAAAAAPs///////////////////////////////3CgAAAAAAAAAd/////////////////////////////////////////////////////////////////////////////////////////////////////////////////////////////////////////////9AAAAAAAAAAADH/////////////////////////////////RQAAAAAAAAAA0v///////////////////////////////////////////////////////////////////////////////////////////////////////////////////////////////////////////5UAAAAAAAAAAGv/////////////////////////////////ewAAAAAAAAAAlf///////////////////////////////////////////////////////////////////////////////////////////////////////////////////////////////////////////2IAAAAAAAAAAKP/////////////////////////////////sgAAAAAAAAAAXf///////////////////////////////////////////////////////////////////////////////////////////////////////////////////////////////////////////zIAAAAAAAAAAM//////////////////////////////////3AAAAAAAAAAALf///////////////////////////////////////////////////////////////////////////////////////////////////////////////////////////////////////////wsAAAAAAAAAAfX//////////////////////////////////AUAAAAAAAAABvz/////////////////////////////////////////////////////////////////////////////////////////////////////////////////////////////////////////5AAAAAAAAAAAHv///////////////////////////////////yYAAAAAAAAAAN7/////////////////////////////////////////////////////////////////////////////////////////////////////////////////////////////////////////wwAAAAAAAAAAPf///////////////////////////////////0MAAAAAAAAAAL7/////////////////////////////////////////////////////////////////////////////////////////////////////////////////////////////////////////pgAAAAAAAAAAV////////////////////////////////////1sAAAAAAAAAAKH/////////////////////////////////////////////////////////////////////////////////////////////////////////////////////////////////////////iwAAAAAAAAAAcf///////////////////////////////////3MAAAAAAAAAAIj/////////////////////////////////////////////////////////////////////////////////////////////////////////////////////////////////////////dQAAAAAAAAAAiP///////////////////////////////////4kAAAAAAAAAAHT/////////////////////////////////////////////////////////////////////////////////////////////////////////////////////////////////////////YwAAAAAAAAAAl////////////////////////////////////5cAAAAAAAAAAGL/////////////////////////////////////////////////////////////////////////////////////////////////////////////////////////////////////////UQAAAAAAAAAApf///////////////////////////////////6MAAAAAAAAAAFT/////////////////////////////////////////////////////////////////////////////////////////////////////////////////////////////////////////RQAAAAAAAAAAs////////////////////////////////////7AAAAAAAAAAAEb/////////////////////////////////////////////////////////////////////////////////////////////////////////////////////////////////////////OwAAAAAAAAAAv////////////////////////////////////7sAAAAAAAAAAD7/////////////////////////////////////////////////////////////////////////////////////////////////////////////////////////////////////////MgAAAAAAAAAAw////////////////////////////////////74AAAAAAAAAADb/////////////////////////////////////////////////////////////////////////////////////////////////////////////////////////////////////////LQAAAAAAAAAAx////////////////////////////////////8IAAAAAAAAAADH/////////////////////////////////////////////////////////////////////////////////////////////////////////////////////////////////////////KgAAAAAAAAAAy////////////////////////////////////8YAAAAAAAAAAC//////////////////////////////////////////////////////////////////////////////////////////////////////////////////////////////////////////KAAAAAAAAAAAz////////////////////////////////////8oAAAAAAAAAACz/////////////////////////////////////////////////////////////////////////////////////////////////////////////////////////////////////////LAAAAAAAAAAAzP///////////////////////////////////8YAAAAAAAAAAC//////////////////////////////////////////////////////////////////////////////////////////////////////////////////////////////////////////MgAAAAAAAAAAyP///////////////////////////////////8IAAAAAAAAAADP/////////////////////////////////////////////////////////////////////////////////////////////////////////////////////////////////////////OAAAAAAAAAAAxP///////////////////////////////////74AAAAAAAAAADf/////////////////////////////////////////////////////////////////////////////////////////////////////////////////////////////////////////PQAAAAAAAAAAwP///////////////////////////////////7sAAAAAAAAAAED/////////////////////////////////////////////////////////////////////////////////////////////////////////////////////////////////////////RgAAAAAAAAAAtv///////////////////////////////////7AAAAAAAAAAAEv/////////////////////////////////////////////////////////////////////////////////////////////////////////////////////////////////////////WAAAAAAAAAAAqf///////////////////////////////////6MAAAAAAAAAAFf/////////////////////////////////////////////////////////////////////////////////////////////////////////////////////////////////////////awAAAAAAAAAAnP///////////////////////////////////5YAAAAAAAAAAGj/////////////////////////////////////////////////////////////////////////////////////////////////////////////////////////////////////////fgAAAAAAAAAAjv///////////////////////////////////4kAAAAAAAAAAHv/////////////////////////////////////////////////////////////////////////////////////////////////////////////////////////////////////////kQAAAAAAAAAAeP///////////////////////////////////3IAAAAAAAAAAJD/////////////////////////////////////////////////////////////////////////////////////////////////////////////////////////////////////////rAAAAAAAAAAAYP///////////////////////////////////1oAAAAAAAAAAKv/////////////////////////////////////////////////////////////////////////////////////////////////////////////////////////////////////////zgAAAAAAAAAASf///////////////////////////////////0IAAAAAAAAAAMf/////////////////////////////////////////////////////////////////////////////////////////////////////////////////////////////////////////8QAAAAAAAAAAK////////////////////////////////////yQAAAAAAAAAAOn//////////////////////////////////////////////////////////////////////////////////////////////////////////////////////////////////////////xIAAAAAAAAACP3/////////////////////////////////+wQAAAAAAAAAD////////////////////////////////////////////////////////////////////////////////////////////////////////////////////////////////////////////z0AAAAAAAAAAOD/////////////////////////////////2gAAAAAAAAAAN////////////////////////////////////////////////////////////////////////////////////////////////////////////////////////////////////////////3AAAAAAAAAAALX/////////////////////////////////rwAAAAAAAAAAaP///////////////////////////////////////////////////////////////////////////////////////////////////////////////////////////////////////////6UAAAAAAAAAAH//////////////////////////////////eAAAAAAAAAAAmv///////////////////////////////////////////////////////////////////////////////////////////////////////////////////////////////////////////9oAAAAAAAAAAEn/////////////////////////////////QgAAAAAAAAAA1f////////////////////////////////////////////////////////////////////////////////////////////////////////////////////////////////////////////8cAAAAAAAAAA35///////////////////////////////1CQAAAAAAAAAV/v////////////////////////////////////////////////////////////////////////////////////////////////////////////////////////////////////////////9kAAAAAAAAAAC5//////////////////////////////+xAAAAAAAAAABc//////////////////////////////////////////////////////////////////////////////////////////////////////////////////////////////////////////////+uAAAAAAAAAABk//////////////////////////////9dAAAAAAAAAACp///////////////////////////////////////////////////////////////////////////////////////////////////////////////////////////////////////////////zCwAAAAAAAAAL8P///////////////////////////+sIAAAAAAAAABD2////////////////////////////////////////////////////////////////////////////////////////////////////////////////////////////////////////////////YAAAAAAAAAAAhf///////////////////////////30AAAAAAAAAAG3/////////////////////////////////////////////////////////////////////////////////////////////////////////////////////////////////////////////////xQAAAAAAAAAAC+T/////////////////////////3wkAAAAAAAAAANP//////////////////////////////////////////////////////////////////////////////////////////////////////////////////////////////////////////////////zAAAAAAAAAAAEH8///////////////////////6OwAAAAAAAAAAPv///////////////////////////////////////////////////////////////////////////////////////////////////////////////////////////////////////////////////7EAAAAAAAAAAABs//////////////////////9lAAAAAAAAAAAAxv////////////////////////////////////////////////////////////////////////////////////////////////////////////////////////////////////////////////////83AAAAAAAAAAAAdP7//////////////////W4AAAAAAAAAAABV///////////////////////////////////////////////////////////////////////////////////////////////////////////////////////////////////////////////////////HAwAAAAAAAAAAAFPt///////////////qTQAAAAAAAAAAAAjc////////////////////////////////////////////////////////////////////////////////////////////////////////////////////////////////////////////////////////egAAAAAAAAAAAAAXlPf/////////9pAVAAAAAAAAAAAAAJr/////////////////////////////////////////////////////////////////////////////////////////////////////////////////////////////////////////////////////////+jUAAAAAAAAAAAAAAA5ZkLC8sI9XDQAAAAAAAAAAAAAAXf///////////////////////////////////////////////////////////////////////////////////////////////////////////////////////////////////////////////////////////+ghAAAAAAAAAAAAAAAAAAAAAAAAAAAAAAAAAAAAAAA19P/////////////////////////////////////////////////////////////////////////////////////////////////////////////////////////////////////////////////////////////aHwAAAAAAAAAAAAAAAAAAAAAAAAAAAAAAAAAAADrx////////////////////////////////////////////////////////////////////////////////////////////////////////////////////////////////////////////////////////////////5jEAAAAAAAAAAAAAAAAAAAAAAAAAAAAAAAAAQvT///////////////////////////////////////////////////////////////////////////////////////////////////////////////////////////////////////////////////////////////////dwAQAAAAAAAAAAAAAAAAAAAAAAAAAAAAN5+///////////////////////////////////////////////////////////////////////////////////////////////////////////////////////////////////////////////////////////////////////xz8AAAAAAAAAAAAAAAAAAAAAAAAAP87////////////////////////////////////////////////////////////////////////////////////////////////////////////////////////////////////////////////////////////////////////////BXQoAAAAAAAAAAAAAAAAAClvE//////////////////////////////////////////////////////////////////////////////////////////////////////////////////////////////////////////////////////////////////////////////////e8fVMuFgoCBxMtT3259///////////////////////////////////////////////////////////////////////////////////////////////////////////////////////////////////////////////////////////////////////////////////////////////////////////////////////////////////////////////////////////////////////////////////////////////////////////////////////////////////////////////////////////////////////////////////////////////////////////////////////////////////////////////////////////////////////////////////////////////////////////////////////////////////////////////////////////////////////////////////////////////////////////////////////////////////////////////////////////////////////////////////////////////////////////////////////////////////////////////////////////////////////////////////////////////////////////////////////////////////////////////////////////////////////////////////////////////////////////////////////////////////////////////////////////////////////////////////////////////////////////////////////////////////////////////////////////////////////////////////////////////////////////////////////////////////////////////////////////////////////////////////////////////////////////////////////////////////////////////////////////////////////////////////////////////////////////////////////////////////////////////////////////////////////////////////////////////////////////////////////////////////////////////////////////////////////////////////////////////////////////////////////////////////////////////////////////////////////////////////////////////////////////////////////////////////////////////////////////////////////////////////////////////////////////////////////////////////////////////////////////////////////////////////////////////////////////////////////////////////////////////////////////////////////////////////////////////////////////////////////////////////////////////////////////////////////////////////////////////////////////////////////////////////////////////////////////////////////////////////////////////////////////////////////////////////////////////////////////////////////////////////////////////////////////////////////////////////////////////////////////////////////////////////////////////////////////////////////////////////////////////////////////////////////////////////////////////////////////////////////////////////////////////////////////////////////////////////////////////////////////////////////////////////////////////////////////////////////////////////////////////////////////////////////////////////////////////////////////////////////////////////////////////////////////////////////////////////////////////////////////////////////////////////////////////////////////////////////////////////////////////////////////////////////////////////////////////////////////////////////////////////////////////////////////////////////////////////////////////////////////////////////////////////////////////////////////////////////////////////////////////////////////////////////////////////////////////////////////////////////////////////////////////////////////////////////////////////////////////////////////////////////////////////////////////////////////////////////////////////////////////////////////////////////////////////////////////////////////////////////////////////////////////////////////////////////////////////////////////////////////////////////////////////////////////////////////////////////////////////////////////////////////////////////////////////////////////////////////////////////////////////////////////////////////////////////////////////////////////////////////////////////////////////////////////////////////////////////////////////////////////////////////////////////////////////////////////////////////////////////////////////////////////////////////////////////////////////////////////////////////////////////////////////////////////////////////////////////////////////////////////////////////////////////////////////////////////////////////////////////////////////////////////////////////////////////////////////////////////////////////////////////////////////////////////////////////////////////////////////////////////////////////////////////////////////////////////////////////////////////////////////////////////////////////////////////////////////////////////////////////////////////////////////////////////////////////////////////////////////////////////////////////////////////////////////////////////////////////////////////////////////////////////////////////////////////////////////////////////////////////////////////////////////////////////////////////////////////////////////////////////////////////////////////////////////////////////////////////////////////////////////////////////////////////////////////////////////////////////////////////////////////////////////////////////////////////////////////////////////////////////////////////////////////////////////////////////////////////////////////////////////////////////////////////////////////////////////////////////////////////////////////////////////////////////////////////////////////////////////////////////////////////////////////////////////////////////////////////////////////////////////////////////////////////////////////////////////////////////////////////////////////////////////////////////////////////////////////////////////////////////////////////////////////////////////////////////////////////////////////////////////////////////////////////////////////////////////////////////////////////////////////////////////////////////////////////////////////////////////////////////////////////////////////////////////////////////////////////////////////////////////////////////////////////////////////////////////////////////////////////////////////////////////////////////////////////////////////////////////////////////////////////////////////////////////////////////////////////////////////////////////////////////////////////////////////////////////////////////////////////////////////////////////////////////////////////////////////////////////////////////////////////////////////////////////////////////////////////////////////////////////////////////////////////////////////////////////////////////////////////////////////////////////////////////////////////////////////////////////////////////////////////////////////////////////////////////////////////////////////////////////////////////////////////////////////////////////////////////////////////////////////////////////////////////////////////////////////////////////////////////////////////////////////////////////////////////////////////////////////////////////////////////////////////////////////////////////////////////////////////////////////////////////////////////////////////////////////////////////////////////////////////////////////////////////////////////////////////////////////////////////////////////////////////////////////////////////////////////////////////////////////////////////////////////////////////////////////////////////////////////////////////////////////////////////////////////////////////////////////////////////////////////////////////////////////////////////////////////////////////////////////////////////////////////////////////////////////////////////////////////////////////////////////////////////////////////////////////////////////////////////////////////////////////////////////////////////////////////////////////////////////////////////////////////////",
          "dtype": "u1",
          "shape": "150, 150"
         }
        }
       ],
       "layout": {
        "coloraxis": {
         "cmax": 255,
         "cmin": 0,
         "colorscale": [
          [
           0,
           "rgb(0, 0, 0)"
          ],
          [
           0.09090909090909091,
           "rgb(16, 16, 16)"
          ],
          [
           0.18181818181818182,
           "rgb(38, 38, 38)"
          ],
          [
           0.2727272727272727,
           "rgb(59, 59, 59)"
          ],
          [
           0.36363636363636365,
           "rgb(81, 80, 80)"
          ],
          [
           0.45454545454545453,
           "rgb(102, 101, 101)"
          ],
          [
           0.5454545454545454,
           "rgb(124, 123, 122)"
          ],
          [
           0.6363636363636364,
           "rgb(146, 146, 145)"
          ],
          [
           0.7272727272727273,
           "rgb(171, 171, 170)"
          ],
          [
           0.8181818181818182,
           "rgb(197, 197, 195)"
          ],
          [
           0.9090909090909091,
           "rgb(224, 224, 223)"
          ],
          [
           1,
           "rgb(254, 254, 253)"
          ]
         ],
         "showscale": false
        },
        "height": 150,
        "margin": {
         "b": 0,
         "l": 0,
         "r": 0,
         "t": 0
        },
        "template": {
         "data": {
          "bar": [
           {
            "error_x": {
             "color": "#2a3f5f"
            },
            "error_y": {
             "color": "#2a3f5f"
            },
            "marker": {
             "line": {
              "color": "#E5ECF6",
              "width": 0.5
             },
             "pattern": {
              "fillmode": "overlay",
              "size": 10,
              "solidity": 0.2
             }
            },
            "type": "bar"
           }
          ],
          "barpolar": [
           {
            "marker": {
             "line": {
              "color": "#E5ECF6",
              "width": 0.5
             },
             "pattern": {
              "fillmode": "overlay",
              "size": 10,
              "solidity": 0.2
             }
            },
            "type": "barpolar"
           }
          ],
          "carpet": [
           {
            "aaxis": {
             "endlinecolor": "#2a3f5f",
             "gridcolor": "white",
             "linecolor": "white",
             "minorgridcolor": "white",
             "startlinecolor": "#2a3f5f"
            },
            "baxis": {
             "endlinecolor": "#2a3f5f",
             "gridcolor": "white",
             "linecolor": "white",
             "minorgridcolor": "white",
             "startlinecolor": "#2a3f5f"
            },
            "type": "carpet"
           }
          ],
          "choropleth": [
           {
            "colorbar": {
             "outlinewidth": 0,
             "ticks": ""
            },
            "type": "choropleth"
           }
          ],
          "contour": [
           {
            "colorbar": {
             "outlinewidth": 0,
             "ticks": ""
            },
            "colorscale": [
             [
              0,
              "#0d0887"
             ],
             [
              0.1111111111111111,
              "#46039f"
             ],
             [
              0.2222222222222222,
              "#7201a8"
             ],
             [
              0.3333333333333333,
              "#9c179e"
             ],
             [
              0.4444444444444444,
              "#bd3786"
             ],
             [
              0.5555555555555556,
              "#d8576b"
             ],
             [
              0.6666666666666666,
              "#ed7953"
             ],
             [
              0.7777777777777778,
              "#fb9f3a"
             ],
             [
              0.8888888888888888,
              "#fdca26"
             ],
             [
              1,
              "#f0f921"
             ]
            ],
            "type": "contour"
           }
          ],
          "contourcarpet": [
           {
            "colorbar": {
             "outlinewidth": 0,
             "ticks": ""
            },
            "type": "contourcarpet"
           }
          ],
          "heatmap": [
           {
            "colorbar": {
             "outlinewidth": 0,
             "ticks": ""
            },
            "colorscale": [
             [
              0,
              "#0d0887"
             ],
             [
              0.1111111111111111,
              "#46039f"
             ],
             [
              0.2222222222222222,
              "#7201a8"
             ],
             [
              0.3333333333333333,
              "#9c179e"
             ],
             [
              0.4444444444444444,
              "#bd3786"
             ],
             [
              0.5555555555555556,
              "#d8576b"
             ],
             [
              0.6666666666666666,
              "#ed7953"
             ],
             [
              0.7777777777777778,
              "#fb9f3a"
             ],
             [
              0.8888888888888888,
              "#fdca26"
             ],
             [
              1,
              "#f0f921"
             ]
            ],
            "type": "heatmap"
           }
          ],
          "histogram": [
           {
            "marker": {
             "pattern": {
              "fillmode": "overlay",
              "size": 10,
              "solidity": 0.2
             }
            },
            "type": "histogram"
           }
          ],
          "histogram2d": [
           {
            "colorbar": {
             "outlinewidth": 0,
             "ticks": ""
            },
            "colorscale": [
             [
              0,
              "#0d0887"
             ],
             [
              0.1111111111111111,
              "#46039f"
             ],
             [
              0.2222222222222222,
              "#7201a8"
             ],
             [
              0.3333333333333333,
              "#9c179e"
             ],
             [
              0.4444444444444444,
              "#bd3786"
             ],
             [
              0.5555555555555556,
              "#d8576b"
             ],
             [
              0.6666666666666666,
              "#ed7953"
             ],
             [
              0.7777777777777778,
              "#fb9f3a"
             ],
             [
              0.8888888888888888,
              "#fdca26"
             ],
             [
              1,
              "#f0f921"
             ]
            ],
            "type": "histogram2d"
           }
          ],
          "histogram2dcontour": [
           {
            "colorbar": {
             "outlinewidth": 0,
             "ticks": ""
            },
            "colorscale": [
             [
              0,
              "#0d0887"
             ],
             [
              0.1111111111111111,
              "#46039f"
             ],
             [
              0.2222222222222222,
              "#7201a8"
             ],
             [
              0.3333333333333333,
              "#9c179e"
             ],
             [
              0.4444444444444444,
              "#bd3786"
             ],
             [
              0.5555555555555556,
              "#d8576b"
             ],
             [
              0.6666666666666666,
              "#ed7953"
             ],
             [
              0.7777777777777778,
              "#fb9f3a"
             ],
             [
              0.8888888888888888,
              "#fdca26"
             ],
             [
              1,
              "#f0f921"
             ]
            ],
            "type": "histogram2dcontour"
           }
          ],
          "mesh3d": [
           {
            "colorbar": {
             "outlinewidth": 0,
             "ticks": ""
            },
            "type": "mesh3d"
           }
          ],
          "parcoords": [
           {
            "line": {
             "colorbar": {
              "outlinewidth": 0,
              "ticks": ""
             }
            },
            "type": "parcoords"
           }
          ],
          "pie": [
           {
            "automargin": true,
            "type": "pie"
           }
          ],
          "scatter": [
           {
            "fillpattern": {
             "fillmode": "overlay",
             "size": 10,
             "solidity": 0.2
            },
            "type": "scatter"
           }
          ],
          "scatter3d": [
           {
            "line": {
             "colorbar": {
              "outlinewidth": 0,
              "ticks": ""
             }
            },
            "marker": {
             "colorbar": {
              "outlinewidth": 0,
              "ticks": ""
             }
            },
            "type": "scatter3d"
           }
          ],
          "scattercarpet": [
           {
            "marker": {
             "colorbar": {
              "outlinewidth": 0,
              "ticks": ""
             }
            },
            "type": "scattercarpet"
           }
          ],
          "scattergeo": [
           {
            "marker": {
             "colorbar": {
              "outlinewidth": 0,
              "ticks": ""
             }
            },
            "type": "scattergeo"
           }
          ],
          "scattergl": [
           {
            "marker": {
             "colorbar": {
              "outlinewidth": 0,
              "ticks": ""
             }
            },
            "type": "scattergl"
           }
          ],
          "scattermap": [
           {
            "marker": {
             "colorbar": {
              "outlinewidth": 0,
              "ticks": ""
             }
            },
            "type": "scattermap"
           }
          ],
          "scattermapbox": [
           {
            "marker": {
             "colorbar": {
              "outlinewidth": 0,
              "ticks": ""
             }
            },
            "type": "scattermapbox"
           }
          ],
          "scatterpolar": [
           {
            "marker": {
             "colorbar": {
              "outlinewidth": 0,
              "ticks": ""
             }
            },
            "type": "scatterpolar"
           }
          ],
          "scatterpolargl": [
           {
            "marker": {
             "colorbar": {
              "outlinewidth": 0,
              "ticks": ""
             }
            },
            "type": "scatterpolargl"
           }
          ],
          "scatterternary": [
           {
            "marker": {
             "colorbar": {
              "outlinewidth": 0,
              "ticks": ""
             }
            },
            "type": "scatterternary"
           }
          ],
          "surface": [
           {
            "colorbar": {
             "outlinewidth": 0,
             "ticks": ""
            },
            "colorscale": [
             [
              0,
              "#0d0887"
             ],
             [
              0.1111111111111111,
              "#46039f"
             ],
             [
              0.2222222222222222,
              "#7201a8"
             ],
             [
              0.3333333333333333,
              "#9c179e"
             ],
             [
              0.4444444444444444,
              "#bd3786"
             ],
             [
              0.5555555555555556,
              "#d8576b"
             ],
             [
              0.6666666666666666,
              "#ed7953"
             ],
             [
              0.7777777777777778,
              "#fb9f3a"
             ],
             [
              0.8888888888888888,
              "#fdca26"
             ],
             [
              1,
              "#f0f921"
             ]
            ],
            "type": "surface"
           }
          ],
          "table": [
           {
            "cells": {
             "fill": {
              "color": "#EBF0F8"
             },
             "line": {
              "color": "white"
             }
            },
            "header": {
             "fill": {
              "color": "#C8D4E3"
             },
             "line": {
              "color": "white"
             }
            },
            "type": "table"
           }
          ]
         },
         "layout": {
          "annotationdefaults": {
           "arrowcolor": "#2a3f5f",
           "arrowhead": 0,
           "arrowwidth": 1
          },
          "autotypenumbers": "strict",
          "coloraxis": {
           "colorbar": {
            "outlinewidth": 0,
            "ticks": ""
           }
          },
          "colorscale": {
           "diverging": [
            [
             0,
             "#8e0152"
            ],
            [
             0.1,
             "#c51b7d"
            ],
            [
             0.2,
             "#de77ae"
            ],
            [
             0.3,
             "#f1b6da"
            ],
            [
             0.4,
             "#fde0ef"
            ],
            [
             0.5,
             "#f7f7f7"
            ],
            [
             0.6,
             "#e6f5d0"
            ],
            [
             0.7,
             "#b8e186"
            ],
            [
             0.8,
             "#7fbc41"
            ],
            [
             0.9,
             "#4d9221"
            ],
            [
             1,
             "#276419"
            ]
           ],
           "sequential": [
            [
             0,
             "#0d0887"
            ],
            [
             0.1111111111111111,
             "#46039f"
            ],
            [
             0.2222222222222222,
             "#7201a8"
            ],
            [
             0.3333333333333333,
             "#9c179e"
            ],
            [
             0.4444444444444444,
             "#bd3786"
            ],
            [
             0.5555555555555556,
             "#d8576b"
            ],
            [
             0.6666666666666666,
             "#ed7953"
            ],
            [
             0.7777777777777778,
             "#fb9f3a"
            ],
            [
             0.8888888888888888,
             "#fdca26"
            ],
            [
             1,
             "#f0f921"
            ]
           ],
           "sequentialminus": [
            [
             0,
             "#0d0887"
            ],
            [
             0.1111111111111111,
             "#46039f"
            ],
            [
             0.2222222222222222,
             "#7201a8"
            ],
            [
             0.3333333333333333,
             "#9c179e"
            ],
            [
             0.4444444444444444,
             "#bd3786"
            ],
            [
             0.5555555555555556,
             "#d8576b"
            ],
            [
             0.6666666666666666,
             "#ed7953"
            ],
            [
             0.7777777777777778,
             "#fb9f3a"
            ],
            [
             0.8888888888888888,
             "#fdca26"
            ],
            [
             1,
             "#f0f921"
            ]
           ]
          },
          "colorway": [
           "#636efa",
           "#EF553B",
           "#00cc96",
           "#ab63fa",
           "#FFA15A",
           "#19d3f3",
           "#FF6692",
           "#B6E880",
           "#FF97FF",
           "#FECB52"
          ],
          "font": {
           "color": "#2a3f5f"
          },
          "geo": {
           "bgcolor": "white",
           "lakecolor": "white",
           "landcolor": "#E5ECF6",
           "showlakes": true,
           "showland": true,
           "subunitcolor": "white"
          },
          "hoverlabel": {
           "align": "left"
          },
          "hovermode": "closest",
          "mapbox": {
           "style": "light"
          },
          "paper_bgcolor": "white",
          "plot_bgcolor": "#E5ECF6",
          "polar": {
           "angularaxis": {
            "gridcolor": "white",
            "linecolor": "white",
            "ticks": ""
           },
           "bgcolor": "#E5ECF6",
           "radialaxis": {
            "gridcolor": "white",
            "linecolor": "white",
            "ticks": ""
           }
          },
          "scene": {
           "xaxis": {
            "backgroundcolor": "#E5ECF6",
            "gridcolor": "white",
            "gridwidth": 2,
            "linecolor": "white",
            "showbackground": true,
            "ticks": "",
            "zerolinecolor": "white"
           },
           "yaxis": {
            "backgroundcolor": "#E5ECF6",
            "gridcolor": "white",
            "gridwidth": 2,
            "linecolor": "white",
            "showbackground": true,
            "ticks": "",
            "zerolinecolor": "white"
           },
           "zaxis": {
            "backgroundcolor": "#E5ECF6",
            "gridcolor": "white",
            "gridwidth": 2,
            "linecolor": "white",
            "showbackground": true,
            "ticks": "",
            "zerolinecolor": "white"
           }
          },
          "shapedefaults": {
           "line": {
            "color": "#2a3f5f"
           }
          },
          "ternary": {
           "aaxis": {
            "gridcolor": "white",
            "linecolor": "white",
            "ticks": ""
           },
           "baxis": {
            "gridcolor": "white",
            "linecolor": "white",
            "ticks": ""
           },
           "bgcolor": "#E5ECF6",
           "caxis": {
            "gridcolor": "white",
            "linecolor": "white",
            "ticks": ""
           }
          },
          "title": {
           "x": 0.05
          },
          "xaxis": {
           "automargin": true,
           "gridcolor": "white",
           "linecolor": "white",
           "ticks": "",
           "title": {
            "standoff": 15
           },
           "zerolinecolor": "white",
           "zerolinewidth": 2
          },
          "yaxis": {
           "automargin": true,
           "gridcolor": "white",
           "linecolor": "white",
           "ticks": "",
           "title": {
            "standoff": 15
           },
           "zerolinecolor": "white",
           "zerolinewidth": 2
          }
         }
        },
        "width": 150,
        "xaxis": {
         "anchor": "y",
         "constrain": "domain",
         "domain": [
          0,
          1
         ],
         "scaleanchor": "y",
         "showticklabels": false
        },
        "yaxis": {
         "anchor": "x",
         "autorange": "reversed",
         "constrain": "domain",
         "domain": [
          0,
          1
         ],
         "showticklabels": false
        }
       }
      }
     },
     "metadata": {},
     "output_type": "display_data"
    }
   ],
   "source": [
    "print(arr[0, 0].shape)\n",
    "display_array_as_img(arr[0, 0])  # plotting the first channel of the first image, as monochrome"
   ]
  },
  {
   "cell_type": "code",
   "execution_count": 9,
   "metadata": {},
   "outputs": [
    {
     "name": "stdout",
     "output_type": "stream",
     "text": [
      "(3, 150, 900)\n"
     ]
    },
    {
     "data": {
      "application/vnd.plotly.v1+json": {
       "config": {
        "displayModeBar": false,
        "plotlyServerURL": "https://plot.ly"
       },
       "data": [
        {
         "hovertemplate": "x: %{x}<br>y: %{y}<br>color: [%{z[0]}, %{z[1]}, %{z[2]}]<extra></extra>",
         "name": "0",
         "source": "data:image/png;base64,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",
         "type": "image",
         "xaxis": "x",
         "yaxis": "y"
        }
       ],
       "layout": {
        "coloraxis": {
         "showscale": false
        },
        "height": 150,
        "margin": {
         "b": 0,
         "l": 0,
         "r": 0,
         "t": 0
        },
        "template": {
         "data": {
          "bar": [
           {
            "error_x": {
             "color": "#2a3f5f"
            },
            "error_y": {
             "color": "#2a3f5f"
            },
            "marker": {
             "line": {
              "color": "#E5ECF6",
              "width": 0.5
             },
             "pattern": {
              "fillmode": "overlay",
              "size": 10,
              "solidity": 0.2
             }
            },
            "type": "bar"
           }
          ],
          "barpolar": [
           {
            "marker": {
             "line": {
              "color": "#E5ECF6",
              "width": 0.5
             },
             "pattern": {
              "fillmode": "overlay",
              "size": 10,
              "solidity": 0.2
             }
            },
            "type": "barpolar"
           }
          ],
          "carpet": [
           {
            "aaxis": {
             "endlinecolor": "#2a3f5f",
             "gridcolor": "white",
             "linecolor": "white",
             "minorgridcolor": "white",
             "startlinecolor": "#2a3f5f"
            },
            "baxis": {
             "endlinecolor": "#2a3f5f",
             "gridcolor": "white",
             "linecolor": "white",
             "minorgridcolor": "white",
             "startlinecolor": "#2a3f5f"
            },
            "type": "carpet"
           }
          ],
          "choropleth": [
           {
            "colorbar": {
             "outlinewidth": 0,
             "ticks": ""
            },
            "type": "choropleth"
           }
          ],
          "contour": [
           {
            "colorbar": {
             "outlinewidth": 0,
             "ticks": ""
            },
            "colorscale": [
             [
              0,
              "#0d0887"
             ],
             [
              0.1111111111111111,
              "#46039f"
             ],
             [
              0.2222222222222222,
              "#7201a8"
             ],
             [
              0.3333333333333333,
              "#9c179e"
             ],
             [
              0.4444444444444444,
              "#bd3786"
             ],
             [
              0.5555555555555556,
              "#d8576b"
             ],
             [
              0.6666666666666666,
              "#ed7953"
             ],
             [
              0.7777777777777778,
              "#fb9f3a"
             ],
             [
              0.8888888888888888,
              "#fdca26"
             ],
             [
              1,
              "#f0f921"
             ]
            ],
            "type": "contour"
           }
          ],
          "contourcarpet": [
           {
            "colorbar": {
             "outlinewidth": 0,
             "ticks": ""
            },
            "type": "contourcarpet"
           }
          ],
          "heatmap": [
           {
            "colorbar": {
             "outlinewidth": 0,
             "ticks": ""
            },
            "colorscale": [
             [
              0,
              "#0d0887"
             ],
             [
              0.1111111111111111,
              "#46039f"
             ],
             [
              0.2222222222222222,
              "#7201a8"
             ],
             [
              0.3333333333333333,
              "#9c179e"
             ],
             [
              0.4444444444444444,
              "#bd3786"
             ],
             [
              0.5555555555555556,
              "#d8576b"
             ],
             [
              0.6666666666666666,
              "#ed7953"
             ],
             [
              0.7777777777777778,
              "#fb9f3a"
             ],
             [
              0.8888888888888888,
              "#fdca26"
             ],
             [
              1,
              "#f0f921"
             ]
            ],
            "type": "heatmap"
           }
          ],
          "histogram": [
           {
            "marker": {
             "pattern": {
              "fillmode": "overlay",
              "size": 10,
              "solidity": 0.2
             }
            },
            "type": "histogram"
           }
          ],
          "histogram2d": [
           {
            "colorbar": {
             "outlinewidth": 0,
             "ticks": ""
            },
            "colorscale": [
             [
              0,
              "#0d0887"
             ],
             [
              0.1111111111111111,
              "#46039f"
             ],
             [
              0.2222222222222222,
              "#7201a8"
             ],
             [
              0.3333333333333333,
              "#9c179e"
             ],
             [
              0.4444444444444444,
              "#bd3786"
             ],
             [
              0.5555555555555556,
              "#d8576b"
             ],
             [
              0.6666666666666666,
              "#ed7953"
             ],
             [
              0.7777777777777778,
              "#fb9f3a"
             ],
             [
              0.8888888888888888,
              "#fdca26"
             ],
             [
              1,
              "#f0f921"
             ]
            ],
            "type": "histogram2d"
           }
          ],
          "histogram2dcontour": [
           {
            "colorbar": {
             "outlinewidth": 0,
             "ticks": ""
            },
            "colorscale": [
             [
              0,
              "#0d0887"
             ],
             [
              0.1111111111111111,
              "#46039f"
             ],
             [
              0.2222222222222222,
              "#7201a8"
             ],
             [
              0.3333333333333333,
              "#9c179e"
             ],
             [
              0.4444444444444444,
              "#bd3786"
             ],
             [
              0.5555555555555556,
              "#d8576b"
             ],
             [
              0.6666666666666666,
              "#ed7953"
             ],
             [
              0.7777777777777778,
              "#fb9f3a"
             ],
             [
              0.8888888888888888,
              "#fdca26"
             ],
             [
              1,
              "#f0f921"
             ]
            ],
            "type": "histogram2dcontour"
           }
          ],
          "mesh3d": [
           {
            "colorbar": {
             "outlinewidth": 0,
             "ticks": ""
            },
            "type": "mesh3d"
           }
          ],
          "parcoords": [
           {
            "line": {
             "colorbar": {
              "outlinewidth": 0,
              "ticks": ""
             }
            },
            "type": "parcoords"
           }
          ],
          "pie": [
           {
            "automargin": true,
            "type": "pie"
           }
          ],
          "scatter": [
           {
            "fillpattern": {
             "fillmode": "overlay",
             "size": 10,
             "solidity": 0.2
            },
            "type": "scatter"
           }
          ],
          "scatter3d": [
           {
            "line": {
             "colorbar": {
              "outlinewidth": 0,
              "ticks": ""
             }
            },
            "marker": {
             "colorbar": {
              "outlinewidth": 0,
              "ticks": ""
             }
            },
            "type": "scatter3d"
           }
          ],
          "scattercarpet": [
           {
            "marker": {
             "colorbar": {
              "outlinewidth": 0,
              "ticks": ""
             }
            },
            "type": "scattercarpet"
           }
          ],
          "scattergeo": [
           {
            "marker": {
             "colorbar": {
              "outlinewidth": 0,
              "ticks": ""
             }
            },
            "type": "scattergeo"
           }
          ],
          "scattergl": [
           {
            "marker": {
             "colorbar": {
              "outlinewidth": 0,
              "ticks": ""
             }
            },
            "type": "scattergl"
           }
          ],
          "scattermap": [
           {
            "marker": {
             "colorbar": {
              "outlinewidth": 0,
              "ticks": ""
             }
            },
            "type": "scattermap"
           }
          ],
          "scattermapbox": [
           {
            "marker": {
             "colorbar": {
              "outlinewidth": 0,
              "ticks": ""
             }
            },
            "type": "scattermapbox"
           }
          ],
          "scatterpolar": [
           {
            "marker": {
             "colorbar": {
              "outlinewidth": 0,
              "ticks": ""
             }
            },
            "type": "scatterpolar"
           }
          ],
          "scatterpolargl": [
           {
            "marker": {
             "colorbar": {
              "outlinewidth": 0,
              "ticks": ""
             }
            },
            "type": "scatterpolargl"
           }
          ],
          "scatterternary": [
           {
            "marker": {
             "colorbar": {
              "outlinewidth": 0,
              "ticks": ""
             }
            },
            "type": "scatterternary"
           }
          ],
          "surface": [
           {
            "colorbar": {
             "outlinewidth": 0,
             "ticks": ""
            },
            "colorscale": [
             [
              0,
              "#0d0887"
             ],
             [
              0.1111111111111111,
              "#46039f"
             ],
             [
              0.2222222222222222,
              "#7201a8"
             ],
             [
              0.3333333333333333,
              "#9c179e"
             ],
             [
              0.4444444444444444,
              "#bd3786"
             ],
             [
              0.5555555555555556,
              "#d8576b"
             ],
             [
              0.6666666666666666,
              "#ed7953"
             ],
             [
              0.7777777777777778,
              "#fb9f3a"
             ],
             [
              0.8888888888888888,
              "#fdca26"
             ],
             [
              1,
              "#f0f921"
             ]
            ],
            "type": "surface"
           }
          ],
          "table": [
           {
            "cells": {
             "fill": {
              "color": "#EBF0F8"
             },
             "line": {
              "color": "white"
             }
            },
            "header": {
             "fill": {
              "color": "#C8D4E3"
             },
             "line": {
              "color": "white"
             }
            },
            "type": "table"
           }
          ]
         },
         "layout": {
          "annotationdefaults": {
           "arrowcolor": "#2a3f5f",
           "arrowhead": 0,
           "arrowwidth": 1
          },
          "autotypenumbers": "strict",
          "coloraxis": {
           "colorbar": {
            "outlinewidth": 0,
            "ticks": ""
           }
          },
          "colorscale": {
           "diverging": [
            [
             0,
             "#8e0152"
            ],
            [
             0.1,
             "#c51b7d"
            ],
            [
             0.2,
             "#de77ae"
            ],
            [
             0.3,
             "#f1b6da"
            ],
            [
             0.4,
             "#fde0ef"
            ],
            [
             0.5,
             "#f7f7f7"
            ],
            [
             0.6,
             "#e6f5d0"
            ],
            [
             0.7,
             "#b8e186"
            ],
            [
             0.8,
             "#7fbc41"
            ],
            [
             0.9,
             "#4d9221"
            ],
            [
             1,
             "#276419"
            ]
           ],
           "sequential": [
            [
             0,
             "#0d0887"
            ],
            [
             0.1111111111111111,
             "#46039f"
            ],
            [
             0.2222222222222222,
             "#7201a8"
            ],
            [
             0.3333333333333333,
             "#9c179e"
            ],
            [
             0.4444444444444444,
             "#bd3786"
            ],
            [
             0.5555555555555556,
             "#d8576b"
            ],
            [
             0.6666666666666666,
             "#ed7953"
            ],
            [
             0.7777777777777778,
             "#fb9f3a"
            ],
            [
             0.8888888888888888,
             "#fdca26"
            ],
            [
             1,
             "#f0f921"
            ]
           ],
           "sequentialminus": [
            [
             0,
             "#0d0887"
            ],
            [
             0.1111111111111111,
             "#46039f"
            ],
            [
             0.2222222222222222,
             "#7201a8"
            ],
            [
             0.3333333333333333,
             "#9c179e"
            ],
            [
             0.4444444444444444,
             "#bd3786"
            ],
            [
             0.5555555555555556,
             "#d8576b"
            ],
            [
             0.6666666666666666,
             "#ed7953"
            ],
            [
             0.7777777777777778,
             "#fb9f3a"
            ],
            [
             0.8888888888888888,
             "#fdca26"
            ],
            [
             1,
             "#f0f921"
            ]
           ]
          },
          "colorway": [
           "#636efa",
           "#EF553B",
           "#00cc96",
           "#ab63fa",
           "#FFA15A",
           "#19d3f3",
           "#FF6692",
           "#B6E880",
           "#FF97FF",
           "#FECB52"
          ],
          "font": {
           "color": "#2a3f5f"
          },
          "geo": {
           "bgcolor": "white",
           "lakecolor": "white",
           "landcolor": "#E5ECF6",
           "showlakes": true,
           "showland": true,
           "subunitcolor": "white"
          },
          "hoverlabel": {
           "align": "left"
          },
          "hovermode": "closest",
          "mapbox": {
           "style": "light"
          },
          "paper_bgcolor": "white",
          "plot_bgcolor": "#E5ECF6",
          "polar": {
           "angularaxis": {
            "gridcolor": "white",
            "linecolor": "white",
            "ticks": ""
           },
           "bgcolor": "#E5ECF6",
           "radialaxis": {
            "gridcolor": "white",
            "linecolor": "white",
            "ticks": ""
           }
          },
          "scene": {
           "xaxis": {
            "backgroundcolor": "#E5ECF6",
            "gridcolor": "white",
            "gridwidth": 2,
            "linecolor": "white",
            "showbackground": true,
            "ticks": "",
            "zerolinecolor": "white"
           },
           "yaxis": {
            "backgroundcolor": "#E5ECF6",
            "gridcolor": "white",
            "gridwidth": 2,
            "linecolor": "white",
            "showbackground": true,
            "ticks": "",
            "zerolinecolor": "white"
           },
           "zaxis": {
            "backgroundcolor": "#E5ECF6",
            "gridcolor": "white",
            "gridwidth": 2,
            "linecolor": "white",
            "showbackground": true,
            "ticks": "",
            "zerolinecolor": "white"
           }
          },
          "shapedefaults": {
           "line": {
            "color": "#2a3f5f"
           }
          },
          "ternary": {
           "aaxis": {
            "gridcolor": "white",
            "linecolor": "white",
            "ticks": ""
           },
           "baxis": {
            "gridcolor": "white",
            "linecolor": "white",
            "ticks": ""
           },
           "bgcolor": "#E5ECF6",
           "caxis": {
            "gridcolor": "white",
            "linecolor": "white",
            "ticks": ""
           }
          },
          "title": {
           "x": 0.05
          },
          "xaxis": {
           "automargin": true,
           "gridcolor": "white",
           "linecolor": "white",
           "ticks": "",
           "title": {
            "standoff": 15
           },
           "zerolinecolor": "white",
           "zerolinewidth": 2
          },
          "yaxis": {
           "automargin": true,
           "gridcolor": "white",
           "linecolor": "white",
           "ticks": "",
           "title": {
            "standoff": 15
           },
           "zerolinecolor": "white",
           "zerolinewidth": 2
          }
         }
        },
        "width": 900,
        "xaxis": {
         "anchor": "y",
         "domain": [
          0,
          1
         ],
         "showticklabels": false
        },
        "yaxis": {
         "anchor": "x",
         "domain": [
          0,
          1
         ],
         "showticklabels": false
        }
       }
      }
     },
     "metadata": {},
     "output_type": "display_data"
    }
   ],
   "source": [
    "arr_stacked = einops.rearrange(arr, \"b c h w -> c h (b w)\")\n",
    "print(arr_stacked.shape)\n",
    "display_array_as_img(arr_stacked)  # plotting all images, stacked in a row"
   ]
  },
  {
   "cell_type": "markdown",
   "metadata": {},
   "source": [
    "A series of images follow below, which have been created using einops functions performed on arr. You should work through these and try to produce each of the images yourself. This page also includes solutions, but you should only look at them after you've tried for at least five minutes.\n",
    "\n",
    "**Note - if you find you're comfortable with the first ~half of these, you can skip to later sections if you'd prefer, since these aren't particularly conceptually important.**"
   ]
  },
  {
   "cell_type": "markdown",
   "metadata": {},
   "source": [
    "### Exercises - einops operations (match images)\n",
    "\n",
    "> ```yaml\n",
    "> Difficulty: 🔴🔴🔴⚪⚪\n",
    "> Importance: 🔵🔵⚪⚪⚪\n",
    "> \n",
    "> You should spend up to ~45 minutes on these exercises collectively.\n",
    "> If you think you get the general idea, then you can skip to the next section.\n",
    "> You shouldn't spend longer than ~10 mins per exercise.\n",
    "> ```"
   ]
  },
  {
   "cell_type": "markdown",
   "metadata": {},
   "source": [
    "#### (1) Column-stacking"
   ]
  },
  {
   "cell_type": "code",
   "execution_count": 10,
   "metadata": {},
   "outputs": [
    {
     "data": {
      "application/vnd.plotly.v1+json": {
       "config": {
        "displayModeBar": false,
        "plotlyServerURL": "https://plot.ly"
       },
       "data": [
        {
         "hovertemplate": "x: %{x}<br>y: %{y}<br>color: [%{z[0]}, %{z[1]}, %{z[2]}]<extra></extra>",
         "name": "0",
         "source": "data:image/png;base64,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",
         "type": "image",
         "xaxis": "x",
         "yaxis": "y"
        }
       ],
       "layout": {
        "coloraxis": {
         "showscale": false
        },
        "height": 900,
        "margin": {
         "b": 0,
         "l": 0,
         "r": 0,
         "t": 0
        },
        "template": {
         "data": {
          "bar": [
           {
            "error_x": {
             "color": "#2a3f5f"
            },
            "error_y": {
             "color": "#2a3f5f"
            },
            "marker": {
             "line": {
              "color": "#E5ECF6",
              "width": 0.5
             },
             "pattern": {
              "fillmode": "overlay",
              "size": 10,
              "solidity": 0.2
             }
            },
            "type": "bar"
           }
          ],
          "barpolar": [
           {
            "marker": {
             "line": {
              "color": "#E5ECF6",
              "width": 0.5
             },
             "pattern": {
              "fillmode": "overlay",
              "size": 10,
              "solidity": 0.2
             }
            },
            "type": "barpolar"
           }
          ],
          "carpet": [
           {
            "aaxis": {
             "endlinecolor": "#2a3f5f",
             "gridcolor": "white",
             "linecolor": "white",
             "minorgridcolor": "white",
             "startlinecolor": "#2a3f5f"
            },
            "baxis": {
             "endlinecolor": "#2a3f5f",
             "gridcolor": "white",
             "linecolor": "white",
             "minorgridcolor": "white",
             "startlinecolor": "#2a3f5f"
            },
            "type": "carpet"
           }
          ],
          "choropleth": [
           {
            "colorbar": {
             "outlinewidth": 0,
             "ticks": ""
            },
            "type": "choropleth"
           }
          ],
          "contour": [
           {
            "colorbar": {
             "outlinewidth": 0,
             "ticks": ""
            },
            "colorscale": [
             [
              0,
              "#0d0887"
             ],
             [
              0.1111111111111111,
              "#46039f"
             ],
             [
              0.2222222222222222,
              "#7201a8"
             ],
             [
              0.3333333333333333,
              "#9c179e"
             ],
             [
              0.4444444444444444,
              "#bd3786"
             ],
             [
              0.5555555555555556,
              "#d8576b"
             ],
             [
              0.6666666666666666,
              "#ed7953"
             ],
             [
              0.7777777777777778,
              "#fb9f3a"
             ],
             [
              0.8888888888888888,
              "#fdca26"
             ],
             [
              1,
              "#f0f921"
             ]
            ],
            "type": "contour"
           }
          ],
          "contourcarpet": [
           {
            "colorbar": {
             "outlinewidth": 0,
             "ticks": ""
            },
            "type": "contourcarpet"
           }
          ],
          "heatmap": [
           {
            "colorbar": {
             "outlinewidth": 0,
             "ticks": ""
            },
            "colorscale": [
             [
              0,
              "#0d0887"
             ],
             [
              0.1111111111111111,
              "#46039f"
             ],
             [
              0.2222222222222222,
              "#7201a8"
             ],
             [
              0.3333333333333333,
              "#9c179e"
             ],
             [
              0.4444444444444444,
              "#bd3786"
             ],
             [
              0.5555555555555556,
              "#d8576b"
             ],
             [
              0.6666666666666666,
              "#ed7953"
             ],
             [
              0.7777777777777778,
              "#fb9f3a"
             ],
             [
              0.8888888888888888,
              "#fdca26"
             ],
             [
              1,
              "#f0f921"
             ]
            ],
            "type": "heatmap"
           }
          ],
          "histogram": [
           {
            "marker": {
             "pattern": {
              "fillmode": "overlay",
              "size": 10,
              "solidity": 0.2
             }
            },
            "type": "histogram"
           }
          ],
          "histogram2d": [
           {
            "colorbar": {
             "outlinewidth": 0,
             "ticks": ""
            },
            "colorscale": [
             [
              0,
              "#0d0887"
             ],
             [
              0.1111111111111111,
              "#46039f"
             ],
             [
              0.2222222222222222,
              "#7201a8"
             ],
             [
              0.3333333333333333,
              "#9c179e"
             ],
             [
              0.4444444444444444,
              "#bd3786"
             ],
             [
              0.5555555555555556,
              "#d8576b"
             ],
             [
              0.6666666666666666,
              "#ed7953"
             ],
             [
              0.7777777777777778,
              "#fb9f3a"
             ],
             [
              0.8888888888888888,
              "#fdca26"
             ],
             [
              1,
              "#f0f921"
             ]
            ],
            "type": "histogram2d"
           }
          ],
          "histogram2dcontour": [
           {
            "colorbar": {
             "outlinewidth": 0,
             "ticks": ""
            },
            "colorscale": [
             [
              0,
              "#0d0887"
             ],
             [
              0.1111111111111111,
              "#46039f"
             ],
             [
              0.2222222222222222,
              "#7201a8"
             ],
             [
              0.3333333333333333,
              "#9c179e"
             ],
             [
              0.4444444444444444,
              "#bd3786"
             ],
             [
              0.5555555555555556,
              "#d8576b"
             ],
             [
              0.6666666666666666,
              "#ed7953"
             ],
             [
              0.7777777777777778,
              "#fb9f3a"
             ],
             [
              0.8888888888888888,
              "#fdca26"
             ],
             [
              1,
              "#f0f921"
             ]
            ],
            "type": "histogram2dcontour"
           }
          ],
          "mesh3d": [
           {
            "colorbar": {
             "outlinewidth": 0,
             "ticks": ""
            },
            "type": "mesh3d"
           }
          ],
          "parcoords": [
           {
            "line": {
             "colorbar": {
              "outlinewidth": 0,
              "ticks": ""
             }
            },
            "type": "parcoords"
           }
          ],
          "pie": [
           {
            "automargin": true,
            "type": "pie"
           }
          ],
          "scatter": [
           {
            "fillpattern": {
             "fillmode": "overlay",
             "size": 10,
             "solidity": 0.2
            },
            "type": "scatter"
           }
          ],
          "scatter3d": [
           {
            "line": {
             "colorbar": {
              "outlinewidth": 0,
              "ticks": ""
             }
            },
            "marker": {
             "colorbar": {
              "outlinewidth": 0,
              "ticks": ""
             }
            },
            "type": "scatter3d"
           }
          ],
          "scattercarpet": [
           {
            "marker": {
             "colorbar": {
              "outlinewidth": 0,
              "ticks": ""
             }
            },
            "type": "scattercarpet"
           }
          ],
          "scattergeo": [
           {
            "marker": {
             "colorbar": {
              "outlinewidth": 0,
              "ticks": ""
             }
            },
            "type": "scattergeo"
           }
          ],
          "scattergl": [
           {
            "marker": {
             "colorbar": {
              "outlinewidth": 0,
              "ticks": ""
             }
            },
            "type": "scattergl"
           }
          ],
          "scattermap": [
           {
            "marker": {
             "colorbar": {
              "outlinewidth": 0,
              "ticks": ""
             }
            },
            "type": "scattermap"
           }
          ],
          "scattermapbox": [
           {
            "marker": {
             "colorbar": {
              "outlinewidth": 0,
              "ticks": ""
             }
            },
            "type": "scattermapbox"
           }
          ],
          "scatterpolar": [
           {
            "marker": {
             "colorbar": {
              "outlinewidth": 0,
              "ticks": ""
             }
            },
            "type": "scatterpolar"
           }
          ],
          "scatterpolargl": [
           {
            "marker": {
             "colorbar": {
              "outlinewidth": 0,
              "ticks": ""
             }
            },
            "type": "scatterpolargl"
           }
          ],
          "scatterternary": [
           {
            "marker": {
             "colorbar": {
              "outlinewidth": 0,
              "ticks": ""
             }
            },
            "type": "scatterternary"
           }
          ],
          "surface": [
           {
            "colorbar": {
             "outlinewidth": 0,
             "ticks": ""
            },
            "colorscale": [
             [
              0,
              "#0d0887"
             ],
             [
              0.1111111111111111,
              "#46039f"
             ],
             [
              0.2222222222222222,
              "#7201a8"
             ],
             [
              0.3333333333333333,
              "#9c179e"
             ],
             [
              0.4444444444444444,
              "#bd3786"
             ],
             [
              0.5555555555555556,
              "#d8576b"
             ],
             [
              0.6666666666666666,
              "#ed7953"
             ],
             [
              0.7777777777777778,
              "#fb9f3a"
             ],
             [
              0.8888888888888888,
              "#fdca26"
             ],
             [
              1,
              "#f0f921"
             ]
            ],
            "type": "surface"
           }
          ],
          "table": [
           {
            "cells": {
             "fill": {
              "color": "#EBF0F8"
             },
             "line": {
              "color": "white"
             }
            },
            "header": {
             "fill": {
              "color": "#C8D4E3"
             },
             "line": {
              "color": "white"
             }
            },
            "type": "table"
           }
          ]
         },
         "layout": {
          "annotationdefaults": {
           "arrowcolor": "#2a3f5f",
           "arrowhead": 0,
           "arrowwidth": 1
          },
          "autotypenumbers": "strict",
          "coloraxis": {
           "colorbar": {
            "outlinewidth": 0,
            "ticks": ""
           }
          },
          "colorscale": {
           "diverging": [
            [
             0,
             "#8e0152"
            ],
            [
             0.1,
             "#c51b7d"
            ],
            [
             0.2,
             "#de77ae"
            ],
            [
             0.3,
             "#f1b6da"
            ],
            [
             0.4,
             "#fde0ef"
            ],
            [
             0.5,
             "#f7f7f7"
            ],
            [
             0.6,
             "#e6f5d0"
            ],
            [
             0.7,
             "#b8e186"
            ],
            [
             0.8,
             "#7fbc41"
            ],
            [
             0.9,
             "#4d9221"
            ],
            [
             1,
             "#276419"
            ]
           ],
           "sequential": [
            [
             0,
             "#0d0887"
            ],
            [
             0.1111111111111111,
             "#46039f"
            ],
            [
             0.2222222222222222,
             "#7201a8"
            ],
            [
             0.3333333333333333,
             "#9c179e"
            ],
            [
             0.4444444444444444,
             "#bd3786"
            ],
            [
             0.5555555555555556,
             "#d8576b"
            ],
            [
             0.6666666666666666,
             "#ed7953"
            ],
            [
             0.7777777777777778,
             "#fb9f3a"
            ],
            [
             0.8888888888888888,
             "#fdca26"
            ],
            [
             1,
             "#f0f921"
            ]
           ],
           "sequentialminus": [
            [
             0,
             "#0d0887"
            ],
            [
             0.1111111111111111,
             "#46039f"
            ],
            [
             0.2222222222222222,
             "#7201a8"
            ],
            [
             0.3333333333333333,
             "#9c179e"
            ],
            [
             0.4444444444444444,
             "#bd3786"
            ],
            [
             0.5555555555555556,
             "#d8576b"
            ],
            [
             0.6666666666666666,
             "#ed7953"
            ],
            [
             0.7777777777777778,
             "#fb9f3a"
            ],
            [
             0.8888888888888888,
             "#fdca26"
            ],
            [
             1,
             "#f0f921"
            ]
           ]
          },
          "colorway": [
           "#636efa",
           "#EF553B",
           "#00cc96",
           "#ab63fa",
           "#FFA15A",
           "#19d3f3",
           "#FF6692",
           "#B6E880",
           "#FF97FF",
           "#FECB52"
          ],
          "font": {
           "color": "#2a3f5f"
          },
          "geo": {
           "bgcolor": "white",
           "lakecolor": "white",
           "landcolor": "#E5ECF6",
           "showlakes": true,
           "showland": true,
           "subunitcolor": "white"
          },
          "hoverlabel": {
           "align": "left"
          },
          "hovermode": "closest",
          "mapbox": {
           "style": "light"
          },
          "paper_bgcolor": "white",
          "plot_bgcolor": "#E5ECF6",
          "polar": {
           "angularaxis": {
            "gridcolor": "white",
            "linecolor": "white",
            "ticks": ""
           },
           "bgcolor": "#E5ECF6",
           "radialaxis": {
            "gridcolor": "white",
            "linecolor": "white",
            "ticks": ""
           }
          },
          "scene": {
           "xaxis": {
            "backgroundcolor": "#E5ECF6",
            "gridcolor": "white",
            "gridwidth": 2,
            "linecolor": "white",
            "showbackground": true,
            "ticks": "",
            "zerolinecolor": "white"
           },
           "yaxis": {
            "backgroundcolor": "#E5ECF6",
            "gridcolor": "white",
            "gridwidth": 2,
            "linecolor": "white",
            "showbackground": true,
            "ticks": "",
            "zerolinecolor": "white"
           },
           "zaxis": {
            "backgroundcolor": "#E5ECF6",
            "gridcolor": "white",
            "gridwidth": 2,
            "linecolor": "white",
            "showbackground": true,
            "ticks": "",
            "zerolinecolor": "white"
           }
          },
          "shapedefaults": {
           "line": {
            "color": "#2a3f5f"
           }
          },
          "ternary": {
           "aaxis": {
            "gridcolor": "white",
            "linecolor": "white",
            "ticks": ""
           },
           "baxis": {
            "gridcolor": "white",
            "linecolor": "white",
            "ticks": ""
           },
           "bgcolor": "#E5ECF6",
           "caxis": {
            "gridcolor": "white",
            "linecolor": "white",
            "ticks": ""
           }
          },
          "title": {
           "x": 0.05
          },
          "xaxis": {
           "automargin": true,
           "gridcolor": "white",
           "linecolor": "white",
           "ticks": "",
           "title": {
            "standoff": 15
           },
           "zerolinecolor": "white",
           "zerolinewidth": 2
          },
          "yaxis": {
           "automargin": true,
           "gridcolor": "white",
           "linecolor": "white",
           "ticks": "",
           "title": {
            "standoff": 15
           },
           "zerolinecolor": "white",
           "zerolinewidth": 2
          }
         }
        },
        "width": 150,
        "xaxis": {
         "anchor": "y",
         "domain": [
          0,
          1
         ],
         "showticklabels": false
        },
        "yaxis": {
         "anchor": "x",
         "domain": [
          0,
          1
         ],
         "showticklabels": false
        }
       }
      }
     },
     "metadata": {},
     "output_type": "display_data"
    }
   ],
   "source": [
    "display_soln_array_as_img(1)"
   ]
  },
  {
   "cell_type": "code",
   "execution_count": 11,
   "metadata": {},
   "outputs": [
    {
     "data": {
      "application/vnd.plotly.v1+json": {
       "config": {
        "displayModeBar": false,
        "plotlyServerURL": "https://plot.ly"
       },
       "data": [
        {
         "hovertemplate": "x: %{x}<br>y: %{y}<br>color: [%{z[0]}, %{z[1]}, %{z[2]}]<extra></extra>",
         "name": "0",
         "source": "data:image/png;base64,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",
         "type": "image",
         "xaxis": "x",
         "yaxis": "y"
        }
       ],
       "layout": {
        "coloraxis": {
         "showscale": false
        },
        "height": 900,
        "margin": {
         "b": 0,
         "l": 0,
         "r": 0,
         "t": 0
        },
        "template": {
         "data": {
          "bar": [
           {
            "error_x": {
             "color": "#2a3f5f"
            },
            "error_y": {
             "color": "#2a3f5f"
            },
            "marker": {
             "line": {
              "color": "#E5ECF6",
              "width": 0.5
             },
             "pattern": {
              "fillmode": "overlay",
              "size": 10,
              "solidity": 0.2
             }
            },
            "type": "bar"
           }
          ],
          "barpolar": [
           {
            "marker": {
             "line": {
              "color": "#E5ECF6",
              "width": 0.5
             },
             "pattern": {
              "fillmode": "overlay",
              "size": 10,
              "solidity": 0.2
             }
            },
            "type": "barpolar"
           }
          ],
          "carpet": [
           {
            "aaxis": {
             "endlinecolor": "#2a3f5f",
             "gridcolor": "white",
             "linecolor": "white",
             "minorgridcolor": "white",
             "startlinecolor": "#2a3f5f"
            },
            "baxis": {
             "endlinecolor": "#2a3f5f",
             "gridcolor": "white",
             "linecolor": "white",
             "minorgridcolor": "white",
             "startlinecolor": "#2a3f5f"
            },
            "type": "carpet"
           }
          ],
          "choropleth": [
           {
            "colorbar": {
             "outlinewidth": 0,
             "ticks": ""
            },
            "type": "choropleth"
           }
          ],
          "contour": [
           {
            "colorbar": {
             "outlinewidth": 0,
             "ticks": ""
            },
            "colorscale": [
             [
              0,
              "#0d0887"
             ],
             [
              0.1111111111111111,
              "#46039f"
             ],
             [
              0.2222222222222222,
              "#7201a8"
             ],
             [
              0.3333333333333333,
              "#9c179e"
             ],
             [
              0.4444444444444444,
              "#bd3786"
             ],
             [
              0.5555555555555556,
              "#d8576b"
             ],
             [
              0.6666666666666666,
              "#ed7953"
             ],
             [
              0.7777777777777778,
              "#fb9f3a"
             ],
             [
              0.8888888888888888,
              "#fdca26"
             ],
             [
              1,
              "#f0f921"
             ]
            ],
            "type": "contour"
           }
          ],
          "contourcarpet": [
           {
            "colorbar": {
             "outlinewidth": 0,
             "ticks": ""
            },
            "type": "contourcarpet"
           }
          ],
          "heatmap": [
           {
            "colorbar": {
             "outlinewidth": 0,
             "ticks": ""
            },
            "colorscale": [
             [
              0,
              "#0d0887"
             ],
             [
              0.1111111111111111,
              "#46039f"
             ],
             [
              0.2222222222222222,
              "#7201a8"
             ],
             [
              0.3333333333333333,
              "#9c179e"
             ],
             [
              0.4444444444444444,
              "#bd3786"
             ],
             [
              0.5555555555555556,
              "#d8576b"
             ],
             [
              0.6666666666666666,
              "#ed7953"
             ],
             [
              0.7777777777777778,
              "#fb9f3a"
             ],
             [
              0.8888888888888888,
              "#fdca26"
             ],
             [
              1,
              "#f0f921"
             ]
            ],
            "type": "heatmap"
           }
          ],
          "histogram": [
           {
            "marker": {
             "pattern": {
              "fillmode": "overlay",
              "size": 10,
              "solidity": 0.2
             }
            },
            "type": "histogram"
           }
          ],
          "histogram2d": [
           {
            "colorbar": {
             "outlinewidth": 0,
             "ticks": ""
            },
            "colorscale": [
             [
              0,
              "#0d0887"
             ],
             [
              0.1111111111111111,
              "#46039f"
             ],
             [
              0.2222222222222222,
              "#7201a8"
             ],
             [
              0.3333333333333333,
              "#9c179e"
             ],
             [
              0.4444444444444444,
              "#bd3786"
             ],
             [
              0.5555555555555556,
              "#d8576b"
             ],
             [
              0.6666666666666666,
              "#ed7953"
             ],
             [
              0.7777777777777778,
              "#fb9f3a"
             ],
             [
              0.8888888888888888,
              "#fdca26"
             ],
             [
              1,
              "#f0f921"
             ]
            ],
            "type": "histogram2d"
           }
          ],
          "histogram2dcontour": [
           {
            "colorbar": {
             "outlinewidth": 0,
             "ticks": ""
            },
            "colorscale": [
             [
              0,
              "#0d0887"
             ],
             [
              0.1111111111111111,
              "#46039f"
             ],
             [
              0.2222222222222222,
              "#7201a8"
             ],
             [
              0.3333333333333333,
              "#9c179e"
             ],
             [
              0.4444444444444444,
              "#bd3786"
             ],
             [
              0.5555555555555556,
              "#d8576b"
             ],
             [
              0.6666666666666666,
              "#ed7953"
             ],
             [
              0.7777777777777778,
              "#fb9f3a"
             ],
             [
              0.8888888888888888,
              "#fdca26"
             ],
             [
              1,
              "#f0f921"
             ]
            ],
            "type": "histogram2dcontour"
           }
          ],
          "mesh3d": [
           {
            "colorbar": {
             "outlinewidth": 0,
             "ticks": ""
            },
            "type": "mesh3d"
           }
          ],
          "parcoords": [
           {
            "line": {
             "colorbar": {
              "outlinewidth": 0,
              "ticks": ""
             }
            },
            "type": "parcoords"
           }
          ],
          "pie": [
           {
            "automargin": true,
            "type": "pie"
           }
          ],
          "scatter": [
           {
            "fillpattern": {
             "fillmode": "overlay",
             "size": 10,
             "solidity": 0.2
            },
            "type": "scatter"
           }
          ],
          "scatter3d": [
           {
            "line": {
             "colorbar": {
              "outlinewidth": 0,
              "ticks": ""
             }
            },
            "marker": {
             "colorbar": {
              "outlinewidth": 0,
              "ticks": ""
             }
            },
            "type": "scatter3d"
           }
          ],
          "scattercarpet": [
           {
            "marker": {
             "colorbar": {
              "outlinewidth": 0,
              "ticks": ""
             }
            },
            "type": "scattercarpet"
           }
          ],
          "scattergeo": [
           {
            "marker": {
             "colorbar": {
              "outlinewidth": 0,
              "ticks": ""
             }
            },
            "type": "scattergeo"
           }
          ],
          "scattergl": [
           {
            "marker": {
             "colorbar": {
              "outlinewidth": 0,
              "ticks": ""
             }
            },
            "type": "scattergl"
           }
          ],
          "scattermap": [
           {
            "marker": {
             "colorbar": {
              "outlinewidth": 0,
              "ticks": ""
             }
            },
            "type": "scattermap"
           }
          ],
          "scattermapbox": [
           {
            "marker": {
             "colorbar": {
              "outlinewidth": 0,
              "ticks": ""
             }
            },
            "type": "scattermapbox"
           }
          ],
          "scatterpolar": [
           {
            "marker": {
             "colorbar": {
              "outlinewidth": 0,
              "ticks": ""
             }
            },
            "type": "scatterpolar"
           }
          ],
          "scatterpolargl": [
           {
            "marker": {
             "colorbar": {
              "outlinewidth": 0,
              "ticks": ""
             }
            },
            "type": "scatterpolargl"
           }
          ],
          "scatterternary": [
           {
            "marker": {
             "colorbar": {
              "outlinewidth": 0,
              "ticks": ""
             }
            },
            "type": "scatterternary"
           }
          ],
          "surface": [
           {
            "colorbar": {
             "outlinewidth": 0,
             "ticks": ""
            },
            "colorscale": [
             [
              0,
              "#0d0887"
             ],
             [
              0.1111111111111111,
              "#46039f"
             ],
             [
              0.2222222222222222,
              "#7201a8"
             ],
             [
              0.3333333333333333,
              "#9c179e"
             ],
             [
              0.4444444444444444,
              "#bd3786"
             ],
             [
              0.5555555555555556,
              "#d8576b"
             ],
             [
              0.6666666666666666,
              "#ed7953"
             ],
             [
              0.7777777777777778,
              "#fb9f3a"
             ],
             [
              0.8888888888888888,
              "#fdca26"
             ],
             [
              1,
              "#f0f921"
             ]
            ],
            "type": "surface"
           }
          ],
          "table": [
           {
            "cells": {
             "fill": {
              "color": "#EBF0F8"
             },
             "line": {
              "color": "white"
             }
            },
            "header": {
             "fill": {
              "color": "#C8D4E3"
             },
             "line": {
              "color": "white"
             }
            },
            "type": "table"
           }
          ]
         },
         "layout": {
          "annotationdefaults": {
           "arrowcolor": "#2a3f5f",
           "arrowhead": 0,
           "arrowwidth": 1
          },
          "autotypenumbers": "strict",
          "coloraxis": {
           "colorbar": {
            "outlinewidth": 0,
            "ticks": ""
           }
          },
          "colorscale": {
           "diverging": [
            [
             0,
             "#8e0152"
            ],
            [
             0.1,
             "#c51b7d"
            ],
            [
             0.2,
             "#de77ae"
            ],
            [
             0.3,
             "#f1b6da"
            ],
            [
             0.4,
             "#fde0ef"
            ],
            [
             0.5,
             "#f7f7f7"
            ],
            [
             0.6,
             "#e6f5d0"
            ],
            [
             0.7,
             "#b8e186"
            ],
            [
             0.8,
             "#7fbc41"
            ],
            [
             0.9,
             "#4d9221"
            ],
            [
             1,
             "#276419"
            ]
           ],
           "sequential": [
            [
             0,
             "#0d0887"
            ],
            [
             0.1111111111111111,
             "#46039f"
            ],
            [
             0.2222222222222222,
             "#7201a8"
            ],
            [
             0.3333333333333333,
             "#9c179e"
            ],
            [
             0.4444444444444444,
             "#bd3786"
            ],
            [
             0.5555555555555556,
             "#d8576b"
            ],
            [
             0.6666666666666666,
             "#ed7953"
            ],
            [
             0.7777777777777778,
             "#fb9f3a"
            ],
            [
             0.8888888888888888,
             "#fdca26"
            ],
            [
             1,
             "#f0f921"
            ]
           ],
           "sequentialminus": [
            [
             0,
             "#0d0887"
            ],
            [
             0.1111111111111111,
             "#46039f"
            ],
            [
             0.2222222222222222,
             "#7201a8"
            ],
            [
             0.3333333333333333,
             "#9c179e"
            ],
            [
             0.4444444444444444,
             "#bd3786"
            ],
            [
             0.5555555555555556,
             "#d8576b"
            ],
            [
             0.6666666666666666,
             "#ed7953"
            ],
            [
             0.7777777777777778,
             "#fb9f3a"
            ],
            [
             0.8888888888888888,
             "#fdca26"
            ],
            [
             1,
             "#f0f921"
            ]
           ]
          },
          "colorway": [
           "#636efa",
           "#EF553B",
           "#00cc96",
           "#ab63fa",
           "#FFA15A",
           "#19d3f3",
           "#FF6692",
           "#B6E880",
           "#FF97FF",
           "#FECB52"
          ],
          "font": {
           "color": "#2a3f5f"
          },
          "geo": {
           "bgcolor": "white",
           "lakecolor": "white",
           "landcolor": "#E5ECF6",
           "showlakes": true,
           "showland": true,
           "subunitcolor": "white"
          },
          "hoverlabel": {
           "align": "left"
          },
          "hovermode": "closest",
          "mapbox": {
           "style": "light"
          },
          "paper_bgcolor": "white",
          "plot_bgcolor": "#E5ECF6",
          "polar": {
           "angularaxis": {
            "gridcolor": "white",
            "linecolor": "white",
            "ticks": ""
           },
           "bgcolor": "#E5ECF6",
           "radialaxis": {
            "gridcolor": "white",
            "linecolor": "white",
            "ticks": ""
           }
          },
          "scene": {
           "xaxis": {
            "backgroundcolor": "#E5ECF6",
            "gridcolor": "white",
            "gridwidth": 2,
            "linecolor": "white",
            "showbackground": true,
            "ticks": "",
            "zerolinecolor": "white"
           },
           "yaxis": {
            "backgroundcolor": "#E5ECF6",
            "gridcolor": "white",
            "gridwidth": 2,
            "linecolor": "white",
            "showbackground": true,
            "ticks": "",
            "zerolinecolor": "white"
           },
           "zaxis": {
            "backgroundcolor": "#E5ECF6",
            "gridcolor": "white",
            "gridwidth": 2,
            "linecolor": "white",
            "showbackground": true,
            "ticks": "",
            "zerolinecolor": "white"
           }
          },
          "shapedefaults": {
           "line": {
            "color": "#2a3f5f"
           }
          },
          "ternary": {
           "aaxis": {
            "gridcolor": "white",
            "linecolor": "white",
            "ticks": ""
           },
           "baxis": {
            "gridcolor": "white",
            "linecolor": "white",
            "ticks": ""
           },
           "bgcolor": "#E5ECF6",
           "caxis": {
            "gridcolor": "white",
            "linecolor": "white",
            "ticks": ""
           }
          },
          "title": {
           "x": 0.05
          },
          "xaxis": {
           "automargin": true,
           "gridcolor": "white",
           "linecolor": "white",
           "ticks": "",
           "title": {
            "standoff": 15
           },
           "zerolinecolor": "white",
           "zerolinewidth": 2
          },
          "yaxis": {
           "automargin": true,
           "gridcolor": "white",
           "linecolor": "white",
           "ticks": "",
           "title": {
            "standoff": 15
           },
           "zerolinecolor": "white",
           "zerolinewidth": 2
          }
         }
        },
        "width": 150,
        "xaxis": {
         "anchor": "y",
         "domain": [
          0,
          1
         ],
         "showticklabels": false
        },
        "yaxis": {
         "anchor": "x",
         "domain": [
          0,
          1
         ],
         "showticklabels": false
        }
       }
      }
     },
     "metadata": {},
     "output_type": "display_data"
    }
   ],
   "source": [
    "# Your code here - define arr1\n",
    "arr1 = einops.rearrange(arr, \"b c h w -> c (b h) w\")\n",
    "display_array_as_img(arr1)"
   ]
  },
  {
   "cell_type": "markdown",
   "metadata": {},
   "source": [
    "<details><summary>Solution</summary>\n",
    "\n",
    "```python\n",
    "arr1 = einops.rearrange(arr, \"b c h w -> c (b h) w\")\n",
    "```\n",
    "</details>"
   ]
  },
  {
   "cell_type": "markdown",
   "metadata": {},
   "source": [
    "#### (2) Column-stacking and copying\n",
    "\n",
    "In this example we take just the first digit, and copy it along rows using `einops.repeat`."
   ]
  },
  {
   "cell_type": "code",
   "execution_count": 12,
   "metadata": {},
   "outputs": [
    {
     "data": {
      "application/vnd.plotly.v1+json": {
       "config": {
        "displayModeBar": false,
        "plotlyServerURL": "https://plot.ly"
       },
       "data": [
        {
         "hovertemplate": "x: %{x}<br>y: %{y}<br>color: [%{z[0]}, %{z[1]}, %{z[2]}]<extra></extra>",
         "name": "0",
         "source": "data:image/png;base64,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",
         "type": "image",
         "xaxis": "x",
         "yaxis": "y"
        }
       ],
       "layout": {
        "coloraxis": {
         "showscale": false
        },
        "height": 300,
        "margin": {
         "b": 0,
         "l": 0,
         "r": 0,
         "t": 0
        },
        "template": {
         "data": {
          "bar": [
           {
            "error_x": {
             "color": "#2a3f5f"
            },
            "error_y": {
             "color": "#2a3f5f"
            },
            "marker": {
             "line": {
              "color": "#E5ECF6",
              "width": 0.5
             },
             "pattern": {
              "fillmode": "overlay",
              "size": 10,
              "solidity": 0.2
             }
            },
            "type": "bar"
           }
          ],
          "barpolar": [
           {
            "marker": {
             "line": {
              "color": "#E5ECF6",
              "width": 0.5
             },
             "pattern": {
              "fillmode": "overlay",
              "size": 10,
              "solidity": 0.2
             }
            },
            "type": "barpolar"
           }
          ],
          "carpet": [
           {
            "aaxis": {
             "endlinecolor": "#2a3f5f",
             "gridcolor": "white",
             "linecolor": "white",
             "minorgridcolor": "white",
             "startlinecolor": "#2a3f5f"
            },
            "baxis": {
             "endlinecolor": "#2a3f5f",
             "gridcolor": "white",
             "linecolor": "white",
             "minorgridcolor": "white",
             "startlinecolor": "#2a3f5f"
            },
            "type": "carpet"
           }
          ],
          "choropleth": [
           {
            "colorbar": {
             "outlinewidth": 0,
             "ticks": ""
            },
            "type": "choropleth"
           }
          ],
          "contour": [
           {
            "colorbar": {
             "outlinewidth": 0,
             "ticks": ""
            },
            "colorscale": [
             [
              0,
              "#0d0887"
             ],
             [
              0.1111111111111111,
              "#46039f"
             ],
             [
              0.2222222222222222,
              "#7201a8"
             ],
             [
              0.3333333333333333,
              "#9c179e"
             ],
             [
              0.4444444444444444,
              "#bd3786"
             ],
             [
              0.5555555555555556,
              "#d8576b"
             ],
             [
              0.6666666666666666,
              "#ed7953"
             ],
             [
              0.7777777777777778,
              "#fb9f3a"
             ],
             [
              0.8888888888888888,
              "#fdca26"
             ],
             [
              1,
              "#f0f921"
             ]
            ],
            "type": "contour"
           }
          ],
          "contourcarpet": [
           {
            "colorbar": {
             "outlinewidth": 0,
             "ticks": ""
            },
            "type": "contourcarpet"
           }
          ],
          "heatmap": [
           {
            "colorbar": {
             "outlinewidth": 0,
             "ticks": ""
            },
            "colorscale": [
             [
              0,
              "#0d0887"
             ],
             [
              0.1111111111111111,
              "#46039f"
             ],
             [
              0.2222222222222222,
              "#7201a8"
             ],
             [
              0.3333333333333333,
              "#9c179e"
             ],
             [
              0.4444444444444444,
              "#bd3786"
             ],
             [
              0.5555555555555556,
              "#d8576b"
             ],
             [
              0.6666666666666666,
              "#ed7953"
             ],
             [
              0.7777777777777778,
              "#fb9f3a"
             ],
             [
              0.8888888888888888,
              "#fdca26"
             ],
             [
              1,
              "#f0f921"
             ]
            ],
            "type": "heatmap"
           }
          ],
          "histogram": [
           {
            "marker": {
             "pattern": {
              "fillmode": "overlay",
              "size": 10,
              "solidity": 0.2
             }
            },
            "type": "histogram"
           }
          ],
          "histogram2d": [
           {
            "colorbar": {
             "outlinewidth": 0,
             "ticks": ""
            },
            "colorscale": [
             [
              0,
              "#0d0887"
             ],
             [
              0.1111111111111111,
              "#46039f"
             ],
             [
              0.2222222222222222,
              "#7201a8"
             ],
             [
              0.3333333333333333,
              "#9c179e"
             ],
             [
              0.4444444444444444,
              "#bd3786"
             ],
             [
              0.5555555555555556,
              "#d8576b"
             ],
             [
              0.6666666666666666,
              "#ed7953"
             ],
             [
              0.7777777777777778,
              "#fb9f3a"
             ],
             [
              0.8888888888888888,
              "#fdca26"
             ],
             [
              1,
              "#f0f921"
             ]
            ],
            "type": "histogram2d"
           }
          ],
          "histogram2dcontour": [
           {
            "colorbar": {
             "outlinewidth": 0,
             "ticks": ""
            },
            "colorscale": [
             [
              0,
              "#0d0887"
             ],
             [
              0.1111111111111111,
              "#46039f"
             ],
             [
              0.2222222222222222,
              "#7201a8"
             ],
             [
              0.3333333333333333,
              "#9c179e"
             ],
             [
              0.4444444444444444,
              "#bd3786"
             ],
             [
              0.5555555555555556,
              "#d8576b"
             ],
             [
              0.6666666666666666,
              "#ed7953"
             ],
             [
              0.7777777777777778,
              "#fb9f3a"
             ],
             [
              0.8888888888888888,
              "#fdca26"
             ],
             [
              1,
              "#f0f921"
             ]
            ],
            "type": "histogram2dcontour"
           }
          ],
          "mesh3d": [
           {
            "colorbar": {
             "outlinewidth": 0,
             "ticks": ""
            },
            "type": "mesh3d"
           }
          ],
          "parcoords": [
           {
            "line": {
             "colorbar": {
              "outlinewidth": 0,
              "ticks": ""
             }
            },
            "type": "parcoords"
           }
          ],
          "pie": [
           {
            "automargin": true,
            "type": "pie"
           }
          ],
          "scatter": [
           {
            "fillpattern": {
             "fillmode": "overlay",
             "size": 10,
             "solidity": 0.2
            },
            "type": "scatter"
           }
          ],
          "scatter3d": [
           {
            "line": {
             "colorbar": {
              "outlinewidth": 0,
              "ticks": ""
             }
            },
            "marker": {
             "colorbar": {
              "outlinewidth": 0,
              "ticks": ""
             }
            },
            "type": "scatter3d"
           }
          ],
          "scattercarpet": [
           {
            "marker": {
             "colorbar": {
              "outlinewidth": 0,
              "ticks": ""
             }
            },
            "type": "scattercarpet"
           }
          ],
          "scattergeo": [
           {
            "marker": {
             "colorbar": {
              "outlinewidth": 0,
              "ticks": ""
             }
            },
            "type": "scattergeo"
           }
          ],
          "scattergl": [
           {
            "marker": {
             "colorbar": {
              "outlinewidth": 0,
              "ticks": ""
             }
            },
            "type": "scattergl"
           }
          ],
          "scattermap": [
           {
            "marker": {
             "colorbar": {
              "outlinewidth": 0,
              "ticks": ""
             }
            },
            "type": "scattermap"
           }
          ],
          "scattermapbox": [
           {
            "marker": {
             "colorbar": {
              "outlinewidth": 0,
              "ticks": ""
             }
            },
            "type": "scattermapbox"
           }
          ],
          "scatterpolar": [
           {
            "marker": {
             "colorbar": {
              "outlinewidth": 0,
              "ticks": ""
             }
            },
            "type": "scatterpolar"
           }
          ],
          "scatterpolargl": [
           {
            "marker": {
             "colorbar": {
              "outlinewidth": 0,
              "ticks": ""
             }
            },
            "type": "scatterpolargl"
           }
          ],
          "scatterternary": [
           {
            "marker": {
             "colorbar": {
              "outlinewidth": 0,
              "ticks": ""
             }
            },
            "type": "scatterternary"
           }
          ],
          "surface": [
           {
            "colorbar": {
             "outlinewidth": 0,
             "ticks": ""
            },
            "colorscale": [
             [
              0,
              "#0d0887"
             ],
             [
              0.1111111111111111,
              "#46039f"
             ],
             [
              0.2222222222222222,
              "#7201a8"
             ],
             [
              0.3333333333333333,
              "#9c179e"
             ],
             [
              0.4444444444444444,
              "#bd3786"
             ],
             [
              0.5555555555555556,
              "#d8576b"
             ],
             [
              0.6666666666666666,
              "#ed7953"
             ],
             [
              0.7777777777777778,
              "#fb9f3a"
             ],
             [
              0.8888888888888888,
              "#fdca26"
             ],
             [
              1,
              "#f0f921"
             ]
            ],
            "type": "surface"
           }
          ],
          "table": [
           {
            "cells": {
             "fill": {
              "color": "#EBF0F8"
             },
             "line": {
              "color": "white"
             }
            },
            "header": {
             "fill": {
              "color": "#C8D4E3"
             },
             "line": {
              "color": "white"
             }
            },
            "type": "table"
           }
          ]
         },
         "layout": {
          "annotationdefaults": {
           "arrowcolor": "#2a3f5f",
           "arrowhead": 0,
           "arrowwidth": 1
          },
          "autotypenumbers": "strict",
          "coloraxis": {
           "colorbar": {
            "outlinewidth": 0,
            "ticks": ""
           }
          },
          "colorscale": {
           "diverging": [
            [
             0,
             "#8e0152"
            ],
            [
             0.1,
             "#c51b7d"
            ],
            [
             0.2,
             "#de77ae"
            ],
            [
             0.3,
             "#f1b6da"
            ],
            [
             0.4,
             "#fde0ef"
            ],
            [
             0.5,
             "#f7f7f7"
            ],
            [
             0.6,
             "#e6f5d0"
            ],
            [
             0.7,
             "#b8e186"
            ],
            [
             0.8,
             "#7fbc41"
            ],
            [
             0.9,
             "#4d9221"
            ],
            [
             1,
             "#276419"
            ]
           ],
           "sequential": [
            [
             0,
             "#0d0887"
            ],
            [
             0.1111111111111111,
             "#46039f"
            ],
            [
             0.2222222222222222,
             "#7201a8"
            ],
            [
             0.3333333333333333,
             "#9c179e"
            ],
            [
             0.4444444444444444,
             "#bd3786"
            ],
            [
             0.5555555555555556,
             "#d8576b"
            ],
            [
             0.6666666666666666,
             "#ed7953"
            ],
            [
             0.7777777777777778,
             "#fb9f3a"
            ],
            [
             0.8888888888888888,
             "#fdca26"
            ],
            [
             1,
             "#f0f921"
            ]
           ],
           "sequentialminus": [
            [
             0,
             "#0d0887"
            ],
            [
             0.1111111111111111,
             "#46039f"
            ],
            [
             0.2222222222222222,
             "#7201a8"
            ],
            [
             0.3333333333333333,
             "#9c179e"
            ],
            [
             0.4444444444444444,
             "#bd3786"
            ],
            [
             0.5555555555555556,
             "#d8576b"
            ],
            [
             0.6666666666666666,
             "#ed7953"
            ],
            [
             0.7777777777777778,
             "#fb9f3a"
            ],
            [
             0.8888888888888888,
             "#fdca26"
            ],
            [
             1,
             "#f0f921"
            ]
           ]
          },
          "colorway": [
           "#636efa",
           "#EF553B",
           "#00cc96",
           "#ab63fa",
           "#FFA15A",
           "#19d3f3",
           "#FF6692",
           "#B6E880",
           "#FF97FF",
           "#FECB52"
          ],
          "font": {
           "color": "#2a3f5f"
          },
          "geo": {
           "bgcolor": "white",
           "lakecolor": "white",
           "landcolor": "#E5ECF6",
           "showlakes": true,
           "showland": true,
           "subunitcolor": "white"
          },
          "hoverlabel": {
           "align": "left"
          },
          "hovermode": "closest",
          "mapbox": {
           "style": "light"
          },
          "paper_bgcolor": "white",
          "plot_bgcolor": "#E5ECF6",
          "polar": {
           "angularaxis": {
            "gridcolor": "white",
            "linecolor": "white",
            "ticks": ""
           },
           "bgcolor": "#E5ECF6",
           "radialaxis": {
            "gridcolor": "white",
            "linecolor": "white",
            "ticks": ""
           }
          },
          "scene": {
           "xaxis": {
            "backgroundcolor": "#E5ECF6",
            "gridcolor": "white",
            "gridwidth": 2,
            "linecolor": "white",
            "showbackground": true,
            "ticks": "",
            "zerolinecolor": "white"
           },
           "yaxis": {
            "backgroundcolor": "#E5ECF6",
            "gridcolor": "white",
            "gridwidth": 2,
            "linecolor": "white",
            "showbackground": true,
            "ticks": "",
            "zerolinecolor": "white"
           },
           "zaxis": {
            "backgroundcolor": "#E5ECF6",
            "gridcolor": "white",
            "gridwidth": 2,
            "linecolor": "white",
            "showbackground": true,
            "ticks": "",
            "zerolinecolor": "white"
           }
          },
          "shapedefaults": {
           "line": {
            "color": "#2a3f5f"
           }
          },
          "ternary": {
           "aaxis": {
            "gridcolor": "white",
            "linecolor": "white",
            "ticks": ""
           },
           "baxis": {
            "gridcolor": "white",
            "linecolor": "white",
            "ticks": ""
           },
           "bgcolor": "#E5ECF6",
           "caxis": {
            "gridcolor": "white",
            "linecolor": "white",
            "ticks": ""
           }
          },
          "title": {
           "x": 0.05
          },
          "xaxis": {
           "automargin": true,
           "gridcolor": "white",
           "linecolor": "white",
           "ticks": "",
           "title": {
            "standoff": 15
           },
           "zerolinecolor": "white",
           "zerolinewidth": 2
          },
          "yaxis": {
           "automargin": true,
           "gridcolor": "white",
           "linecolor": "white",
           "ticks": "",
           "title": {
            "standoff": 15
           },
           "zerolinecolor": "white",
           "zerolinewidth": 2
          }
         }
        },
        "width": 150,
        "xaxis": {
         "anchor": "y",
         "domain": [
          0,
          1
         ],
         "showticklabels": false
        },
        "yaxis": {
         "anchor": "x",
         "domain": [
          0,
          1
         ],
         "showticklabels": false
        }
       }
      }
     },
     "metadata": {},
     "output_type": "display_data"
    }
   ],
   "source": [
    "display_soln_array_as_img(2)"
   ]
  },
  {
   "cell_type": "code",
   "execution_count": 13,
   "metadata": {},
   "outputs": [
    {
     "data": {
      "application/vnd.plotly.v1+json": {
       "config": {
        "displayModeBar": false,
        "plotlyServerURL": "https://plot.ly"
       },
       "data": [
        {
         "hovertemplate": "x: %{x}<br>y: %{y}<br>color: [%{z[0]}, %{z[1]}, %{z[2]}]<extra></extra>",
         "name": "0",
         "source": "data:image/png;base64,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",
         "type": "image",
         "xaxis": "x",
         "yaxis": "y"
        }
       ],
       "layout": {
        "coloraxis": {
         "showscale": false
        },
        "height": 300,
        "margin": {
         "b": 0,
         "l": 0,
         "r": 0,
         "t": 0
        },
        "template": {
         "data": {
          "bar": [
           {
            "error_x": {
             "color": "#2a3f5f"
            },
            "error_y": {
             "color": "#2a3f5f"
            },
            "marker": {
             "line": {
              "color": "#E5ECF6",
              "width": 0.5
             },
             "pattern": {
              "fillmode": "overlay",
              "size": 10,
              "solidity": 0.2
             }
            },
            "type": "bar"
           }
          ],
          "barpolar": [
           {
            "marker": {
             "line": {
              "color": "#E5ECF6",
              "width": 0.5
             },
             "pattern": {
              "fillmode": "overlay",
              "size": 10,
              "solidity": 0.2
             }
            },
            "type": "barpolar"
           }
          ],
          "carpet": [
           {
            "aaxis": {
             "endlinecolor": "#2a3f5f",
             "gridcolor": "white",
             "linecolor": "white",
             "minorgridcolor": "white",
             "startlinecolor": "#2a3f5f"
            },
            "baxis": {
             "endlinecolor": "#2a3f5f",
             "gridcolor": "white",
             "linecolor": "white",
             "minorgridcolor": "white",
             "startlinecolor": "#2a3f5f"
            },
            "type": "carpet"
           }
          ],
          "choropleth": [
           {
            "colorbar": {
             "outlinewidth": 0,
             "ticks": ""
            },
            "type": "choropleth"
           }
          ],
          "contour": [
           {
            "colorbar": {
             "outlinewidth": 0,
             "ticks": ""
            },
            "colorscale": [
             [
              0,
              "#0d0887"
             ],
             [
              0.1111111111111111,
              "#46039f"
             ],
             [
              0.2222222222222222,
              "#7201a8"
             ],
             [
              0.3333333333333333,
              "#9c179e"
             ],
             [
              0.4444444444444444,
              "#bd3786"
             ],
             [
              0.5555555555555556,
              "#d8576b"
             ],
             [
              0.6666666666666666,
              "#ed7953"
             ],
             [
              0.7777777777777778,
              "#fb9f3a"
             ],
             [
              0.8888888888888888,
              "#fdca26"
             ],
             [
              1,
              "#f0f921"
             ]
            ],
            "type": "contour"
           }
          ],
          "contourcarpet": [
           {
            "colorbar": {
             "outlinewidth": 0,
             "ticks": ""
            },
            "type": "contourcarpet"
           }
          ],
          "heatmap": [
           {
            "colorbar": {
             "outlinewidth": 0,
             "ticks": ""
            },
            "colorscale": [
             [
              0,
              "#0d0887"
             ],
             [
              0.1111111111111111,
              "#46039f"
             ],
             [
              0.2222222222222222,
              "#7201a8"
             ],
             [
              0.3333333333333333,
              "#9c179e"
             ],
             [
              0.4444444444444444,
              "#bd3786"
             ],
             [
              0.5555555555555556,
              "#d8576b"
             ],
             [
              0.6666666666666666,
              "#ed7953"
             ],
             [
              0.7777777777777778,
              "#fb9f3a"
             ],
             [
              0.8888888888888888,
              "#fdca26"
             ],
             [
              1,
              "#f0f921"
             ]
            ],
            "type": "heatmap"
           }
          ],
          "histogram": [
           {
            "marker": {
             "pattern": {
              "fillmode": "overlay",
              "size": 10,
              "solidity": 0.2
             }
            },
            "type": "histogram"
           }
          ],
          "histogram2d": [
           {
            "colorbar": {
             "outlinewidth": 0,
             "ticks": ""
            },
            "colorscale": [
             [
              0,
              "#0d0887"
             ],
             [
              0.1111111111111111,
              "#46039f"
             ],
             [
              0.2222222222222222,
              "#7201a8"
             ],
             [
              0.3333333333333333,
              "#9c179e"
             ],
             [
              0.4444444444444444,
              "#bd3786"
             ],
             [
              0.5555555555555556,
              "#d8576b"
             ],
             [
              0.6666666666666666,
              "#ed7953"
             ],
             [
              0.7777777777777778,
              "#fb9f3a"
             ],
             [
              0.8888888888888888,
              "#fdca26"
             ],
             [
              1,
              "#f0f921"
             ]
            ],
            "type": "histogram2d"
           }
          ],
          "histogram2dcontour": [
           {
            "colorbar": {
             "outlinewidth": 0,
             "ticks": ""
            },
            "colorscale": [
             [
              0,
              "#0d0887"
             ],
             [
              0.1111111111111111,
              "#46039f"
             ],
             [
              0.2222222222222222,
              "#7201a8"
             ],
             [
              0.3333333333333333,
              "#9c179e"
             ],
             [
              0.4444444444444444,
              "#bd3786"
             ],
             [
              0.5555555555555556,
              "#d8576b"
             ],
             [
              0.6666666666666666,
              "#ed7953"
             ],
             [
              0.7777777777777778,
              "#fb9f3a"
             ],
             [
              0.8888888888888888,
              "#fdca26"
             ],
             [
              1,
              "#f0f921"
             ]
            ],
            "type": "histogram2dcontour"
           }
          ],
          "mesh3d": [
           {
            "colorbar": {
             "outlinewidth": 0,
             "ticks": ""
            },
            "type": "mesh3d"
           }
          ],
          "parcoords": [
           {
            "line": {
             "colorbar": {
              "outlinewidth": 0,
              "ticks": ""
             }
            },
            "type": "parcoords"
           }
          ],
          "pie": [
           {
            "automargin": true,
            "type": "pie"
           }
          ],
          "scatter": [
           {
            "fillpattern": {
             "fillmode": "overlay",
             "size": 10,
             "solidity": 0.2
            },
            "type": "scatter"
           }
          ],
          "scatter3d": [
           {
            "line": {
             "colorbar": {
              "outlinewidth": 0,
              "ticks": ""
             }
            },
            "marker": {
             "colorbar": {
              "outlinewidth": 0,
              "ticks": ""
             }
            },
            "type": "scatter3d"
           }
          ],
          "scattercarpet": [
           {
            "marker": {
             "colorbar": {
              "outlinewidth": 0,
              "ticks": ""
             }
            },
            "type": "scattercarpet"
           }
          ],
          "scattergeo": [
           {
            "marker": {
             "colorbar": {
              "outlinewidth": 0,
              "ticks": ""
             }
            },
            "type": "scattergeo"
           }
          ],
          "scattergl": [
           {
            "marker": {
             "colorbar": {
              "outlinewidth": 0,
              "ticks": ""
             }
            },
            "type": "scattergl"
           }
          ],
          "scattermap": [
           {
            "marker": {
             "colorbar": {
              "outlinewidth": 0,
              "ticks": ""
             }
            },
            "type": "scattermap"
           }
          ],
          "scattermapbox": [
           {
            "marker": {
             "colorbar": {
              "outlinewidth": 0,
              "ticks": ""
             }
            },
            "type": "scattermapbox"
           }
          ],
          "scatterpolar": [
           {
            "marker": {
             "colorbar": {
              "outlinewidth": 0,
              "ticks": ""
             }
            },
            "type": "scatterpolar"
           }
          ],
          "scatterpolargl": [
           {
            "marker": {
             "colorbar": {
              "outlinewidth": 0,
              "ticks": ""
             }
            },
            "type": "scatterpolargl"
           }
          ],
          "scatterternary": [
           {
            "marker": {
             "colorbar": {
              "outlinewidth": 0,
              "ticks": ""
             }
            },
            "type": "scatterternary"
           }
          ],
          "surface": [
           {
            "colorbar": {
             "outlinewidth": 0,
             "ticks": ""
            },
            "colorscale": [
             [
              0,
              "#0d0887"
             ],
             [
              0.1111111111111111,
              "#46039f"
             ],
             [
              0.2222222222222222,
              "#7201a8"
             ],
             [
              0.3333333333333333,
              "#9c179e"
             ],
             [
              0.4444444444444444,
              "#bd3786"
             ],
             [
              0.5555555555555556,
              "#d8576b"
             ],
             [
              0.6666666666666666,
              "#ed7953"
             ],
             [
              0.7777777777777778,
              "#fb9f3a"
             ],
             [
              0.8888888888888888,
              "#fdca26"
             ],
             [
              1,
              "#f0f921"
             ]
            ],
            "type": "surface"
           }
          ],
          "table": [
           {
            "cells": {
             "fill": {
              "color": "#EBF0F8"
             },
             "line": {
              "color": "white"
             }
            },
            "header": {
             "fill": {
              "color": "#C8D4E3"
             },
             "line": {
              "color": "white"
             }
            },
            "type": "table"
           }
          ]
         },
         "layout": {
          "annotationdefaults": {
           "arrowcolor": "#2a3f5f",
           "arrowhead": 0,
           "arrowwidth": 1
          },
          "autotypenumbers": "strict",
          "coloraxis": {
           "colorbar": {
            "outlinewidth": 0,
            "ticks": ""
           }
          },
          "colorscale": {
           "diverging": [
            [
             0,
             "#8e0152"
            ],
            [
             0.1,
             "#c51b7d"
            ],
            [
             0.2,
             "#de77ae"
            ],
            [
             0.3,
             "#f1b6da"
            ],
            [
             0.4,
             "#fde0ef"
            ],
            [
             0.5,
             "#f7f7f7"
            ],
            [
             0.6,
             "#e6f5d0"
            ],
            [
             0.7,
             "#b8e186"
            ],
            [
             0.8,
             "#7fbc41"
            ],
            [
             0.9,
             "#4d9221"
            ],
            [
             1,
             "#276419"
            ]
           ],
           "sequential": [
            [
             0,
             "#0d0887"
            ],
            [
             0.1111111111111111,
             "#46039f"
            ],
            [
             0.2222222222222222,
             "#7201a8"
            ],
            [
             0.3333333333333333,
             "#9c179e"
            ],
            [
             0.4444444444444444,
             "#bd3786"
            ],
            [
             0.5555555555555556,
             "#d8576b"
            ],
            [
             0.6666666666666666,
             "#ed7953"
            ],
            [
             0.7777777777777778,
             "#fb9f3a"
            ],
            [
             0.8888888888888888,
             "#fdca26"
            ],
            [
             1,
             "#f0f921"
            ]
           ],
           "sequentialminus": [
            [
             0,
             "#0d0887"
            ],
            [
             0.1111111111111111,
             "#46039f"
            ],
            [
             0.2222222222222222,
             "#7201a8"
            ],
            [
             0.3333333333333333,
             "#9c179e"
            ],
            [
             0.4444444444444444,
             "#bd3786"
            ],
            [
             0.5555555555555556,
             "#d8576b"
            ],
            [
             0.6666666666666666,
             "#ed7953"
            ],
            [
             0.7777777777777778,
             "#fb9f3a"
            ],
            [
             0.8888888888888888,
             "#fdca26"
            ],
            [
             1,
             "#f0f921"
            ]
           ]
          },
          "colorway": [
           "#636efa",
           "#EF553B",
           "#00cc96",
           "#ab63fa",
           "#FFA15A",
           "#19d3f3",
           "#FF6692",
           "#B6E880",
           "#FF97FF",
           "#FECB52"
          ],
          "font": {
           "color": "#2a3f5f"
          },
          "geo": {
           "bgcolor": "white",
           "lakecolor": "white",
           "landcolor": "#E5ECF6",
           "showlakes": true,
           "showland": true,
           "subunitcolor": "white"
          },
          "hoverlabel": {
           "align": "left"
          },
          "hovermode": "closest",
          "mapbox": {
           "style": "light"
          },
          "paper_bgcolor": "white",
          "plot_bgcolor": "#E5ECF6",
          "polar": {
           "angularaxis": {
            "gridcolor": "white",
            "linecolor": "white",
            "ticks": ""
           },
           "bgcolor": "#E5ECF6",
           "radialaxis": {
            "gridcolor": "white",
            "linecolor": "white",
            "ticks": ""
           }
          },
          "scene": {
           "xaxis": {
            "backgroundcolor": "#E5ECF6",
            "gridcolor": "white",
            "gridwidth": 2,
            "linecolor": "white",
            "showbackground": true,
            "ticks": "",
            "zerolinecolor": "white"
           },
           "yaxis": {
            "backgroundcolor": "#E5ECF6",
            "gridcolor": "white",
            "gridwidth": 2,
            "linecolor": "white",
            "showbackground": true,
            "ticks": "",
            "zerolinecolor": "white"
           },
           "zaxis": {
            "backgroundcolor": "#E5ECF6",
            "gridcolor": "white",
            "gridwidth": 2,
            "linecolor": "white",
            "showbackground": true,
            "ticks": "",
            "zerolinecolor": "white"
           }
          },
          "shapedefaults": {
           "line": {
            "color": "#2a3f5f"
           }
          },
          "ternary": {
           "aaxis": {
            "gridcolor": "white",
            "linecolor": "white",
            "ticks": ""
           },
           "baxis": {
            "gridcolor": "white",
            "linecolor": "white",
            "ticks": ""
           },
           "bgcolor": "#E5ECF6",
           "caxis": {
            "gridcolor": "white",
            "linecolor": "white",
            "ticks": ""
           }
          },
          "title": {
           "x": 0.05
          },
          "xaxis": {
           "automargin": true,
           "gridcolor": "white",
           "linecolor": "white",
           "ticks": "",
           "title": {
            "standoff": 15
           },
           "zerolinecolor": "white",
           "zerolinewidth": 2
          },
          "yaxis": {
           "automargin": true,
           "gridcolor": "white",
           "linecolor": "white",
           "ticks": "",
           "title": {
            "standoff": 15
           },
           "zerolinecolor": "white",
           "zerolinewidth": 2
          }
         }
        },
        "width": 150,
        "xaxis": {
         "anchor": "y",
         "domain": [
          0,
          1
         ],
         "showticklabels": false
        },
        "yaxis": {
         "anchor": "x",
         "domain": [
          0,
          1
         ],
         "showticklabels": false
        }
       }
      }
     },
     "metadata": {},
     "output_type": "display_data"
    }
   ],
   "source": [
    "# Your code here - define arr2\n",
    "arr2 = einops.repeat(arr[0], \"c h w -> c (repeat h) w\", repeat=2)\n",
    "display_array_as_img(arr2)"
   ]
  },
  {
   "cell_type": "markdown",
   "metadata": {},
   "source": [
    "<details><summary>Solution</summary>\n",
    "\n",
    "```python\n",
    "arr2 = einops.repeat(arr[0], \"c h w -> c (2 h) w\")\n",
    "```\n",
    "</details>"
   ]
  },
  {
   "cell_type": "markdown",
   "metadata": {},
   "source": [
    "#### (3) Row-stacking and double-copying\n",
    "\n",
    "This example is pretty similar to the previous one, except that the part of the original image we need to slice and pass into `einops.repeat` also has a batch dimension of 2 (since it includes the first 2 digits)."
   ]
  },
  {
   "cell_type": "code",
   "execution_count": 14,
   "metadata": {},
   "outputs": [
    {
     "data": {
      "application/vnd.plotly.v1+json": {
       "config": {
        "displayModeBar": false,
        "plotlyServerURL": "https://plot.ly"
       },
       "data": [
        {
         "hovertemplate": "x: %{x}<br>y: %{y}<br>color: [%{z[0]}, %{z[1]}, %{z[2]}]<extra></extra>",
         "name": "0",
         "source": "data:image/png;base64,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",
         "type": "image",
         "xaxis": "x",
         "yaxis": "y"
        }
       ],
       "layout": {
        "coloraxis": {
         "showscale": false
        },
        "height": 300,
        "margin": {
         "b": 0,
         "l": 0,
         "r": 0,
         "t": 0
        },
        "template": {
         "data": {
          "bar": [
           {
            "error_x": {
             "color": "#2a3f5f"
            },
            "error_y": {
             "color": "#2a3f5f"
            },
            "marker": {
             "line": {
              "color": "#E5ECF6",
              "width": 0.5
             },
             "pattern": {
              "fillmode": "overlay",
              "size": 10,
              "solidity": 0.2
             }
            },
            "type": "bar"
           }
          ],
          "barpolar": [
           {
            "marker": {
             "line": {
              "color": "#E5ECF6",
              "width": 0.5
             },
             "pattern": {
              "fillmode": "overlay",
              "size": 10,
              "solidity": 0.2
             }
            },
            "type": "barpolar"
           }
          ],
          "carpet": [
           {
            "aaxis": {
             "endlinecolor": "#2a3f5f",
             "gridcolor": "white",
             "linecolor": "white",
             "minorgridcolor": "white",
             "startlinecolor": "#2a3f5f"
            },
            "baxis": {
             "endlinecolor": "#2a3f5f",
             "gridcolor": "white",
             "linecolor": "white",
             "minorgridcolor": "white",
             "startlinecolor": "#2a3f5f"
            },
            "type": "carpet"
           }
          ],
          "choropleth": [
           {
            "colorbar": {
             "outlinewidth": 0,
             "ticks": ""
            },
            "type": "choropleth"
           }
          ],
          "contour": [
           {
            "colorbar": {
             "outlinewidth": 0,
             "ticks": ""
            },
            "colorscale": [
             [
              0,
              "#0d0887"
             ],
             [
              0.1111111111111111,
              "#46039f"
             ],
             [
              0.2222222222222222,
              "#7201a8"
             ],
             [
              0.3333333333333333,
              "#9c179e"
             ],
             [
              0.4444444444444444,
              "#bd3786"
             ],
             [
              0.5555555555555556,
              "#d8576b"
             ],
             [
              0.6666666666666666,
              "#ed7953"
             ],
             [
              0.7777777777777778,
              "#fb9f3a"
             ],
             [
              0.8888888888888888,
              "#fdca26"
             ],
             [
              1,
              "#f0f921"
             ]
            ],
            "type": "contour"
           }
          ],
          "contourcarpet": [
           {
            "colorbar": {
             "outlinewidth": 0,
             "ticks": ""
            },
            "type": "contourcarpet"
           }
          ],
          "heatmap": [
           {
            "colorbar": {
             "outlinewidth": 0,
             "ticks": ""
            },
            "colorscale": [
             [
              0,
              "#0d0887"
             ],
             [
              0.1111111111111111,
              "#46039f"
             ],
             [
              0.2222222222222222,
              "#7201a8"
             ],
             [
              0.3333333333333333,
              "#9c179e"
             ],
             [
              0.4444444444444444,
              "#bd3786"
             ],
             [
              0.5555555555555556,
              "#d8576b"
             ],
             [
              0.6666666666666666,
              "#ed7953"
             ],
             [
              0.7777777777777778,
              "#fb9f3a"
             ],
             [
              0.8888888888888888,
              "#fdca26"
             ],
             [
              1,
              "#f0f921"
             ]
            ],
            "type": "heatmap"
           }
          ],
          "histogram": [
           {
            "marker": {
             "pattern": {
              "fillmode": "overlay",
              "size": 10,
              "solidity": 0.2
             }
            },
            "type": "histogram"
           }
          ],
          "histogram2d": [
           {
            "colorbar": {
             "outlinewidth": 0,
             "ticks": ""
            },
            "colorscale": [
             [
              0,
              "#0d0887"
             ],
             [
              0.1111111111111111,
              "#46039f"
             ],
             [
              0.2222222222222222,
              "#7201a8"
             ],
             [
              0.3333333333333333,
              "#9c179e"
             ],
             [
              0.4444444444444444,
              "#bd3786"
             ],
             [
              0.5555555555555556,
              "#d8576b"
             ],
             [
              0.6666666666666666,
              "#ed7953"
             ],
             [
              0.7777777777777778,
              "#fb9f3a"
             ],
             [
              0.8888888888888888,
              "#fdca26"
             ],
             [
              1,
              "#f0f921"
             ]
            ],
            "type": "histogram2d"
           }
          ],
          "histogram2dcontour": [
           {
            "colorbar": {
             "outlinewidth": 0,
             "ticks": ""
            },
            "colorscale": [
             [
              0,
              "#0d0887"
             ],
             [
              0.1111111111111111,
              "#46039f"
             ],
             [
              0.2222222222222222,
              "#7201a8"
             ],
             [
              0.3333333333333333,
              "#9c179e"
             ],
             [
              0.4444444444444444,
              "#bd3786"
             ],
             [
              0.5555555555555556,
              "#d8576b"
             ],
             [
              0.6666666666666666,
              "#ed7953"
             ],
             [
              0.7777777777777778,
              "#fb9f3a"
             ],
             [
              0.8888888888888888,
              "#fdca26"
             ],
             [
              1,
              "#f0f921"
             ]
            ],
            "type": "histogram2dcontour"
           }
          ],
          "mesh3d": [
           {
            "colorbar": {
             "outlinewidth": 0,
             "ticks": ""
            },
            "type": "mesh3d"
           }
          ],
          "parcoords": [
           {
            "line": {
             "colorbar": {
              "outlinewidth": 0,
              "ticks": ""
             }
            },
            "type": "parcoords"
           }
          ],
          "pie": [
           {
            "automargin": true,
            "type": "pie"
           }
          ],
          "scatter": [
           {
            "fillpattern": {
             "fillmode": "overlay",
             "size": 10,
             "solidity": 0.2
            },
            "type": "scatter"
           }
          ],
          "scatter3d": [
           {
            "line": {
             "colorbar": {
              "outlinewidth": 0,
              "ticks": ""
             }
            },
            "marker": {
             "colorbar": {
              "outlinewidth": 0,
              "ticks": ""
             }
            },
            "type": "scatter3d"
           }
          ],
          "scattercarpet": [
           {
            "marker": {
             "colorbar": {
              "outlinewidth": 0,
              "ticks": ""
             }
            },
            "type": "scattercarpet"
           }
          ],
          "scattergeo": [
           {
            "marker": {
             "colorbar": {
              "outlinewidth": 0,
              "ticks": ""
             }
            },
            "type": "scattergeo"
           }
          ],
          "scattergl": [
           {
            "marker": {
             "colorbar": {
              "outlinewidth": 0,
              "ticks": ""
             }
            },
            "type": "scattergl"
           }
          ],
          "scattermap": [
           {
            "marker": {
             "colorbar": {
              "outlinewidth": 0,
              "ticks": ""
             }
            },
            "type": "scattermap"
           }
          ],
          "scattermapbox": [
           {
            "marker": {
             "colorbar": {
              "outlinewidth": 0,
              "ticks": ""
             }
            },
            "type": "scattermapbox"
           }
          ],
          "scatterpolar": [
           {
            "marker": {
             "colorbar": {
              "outlinewidth": 0,
              "ticks": ""
             }
            },
            "type": "scatterpolar"
           }
          ],
          "scatterpolargl": [
           {
            "marker": {
             "colorbar": {
              "outlinewidth": 0,
              "ticks": ""
             }
            },
            "type": "scatterpolargl"
           }
          ],
          "scatterternary": [
           {
            "marker": {
             "colorbar": {
              "outlinewidth": 0,
              "ticks": ""
             }
            },
            "type": "scatterternary"
           }
          ],
          "surface": [
           {
            "colorbar": {
             "outlinewidth": 0,
             "ticks": ""
            },
            "colorscale": [
             [
              0,
              "#0d0887"
             ],
             [
              0.1111111111111111,
              "#46039f"
             ],
             [
              0.2222222222222222,
              "#7201a8"
             ],
             [
              0.3333333333333333,
              "#9c179e"
             ],
             [
              0.4444444444444444,
              "#bd3786"
             ],
             [
              0.5555555555555556,
              "#d8576b"
             ],
             [
              0.6666666666666666,
              "#ed7953"
             ],
             [
              0.7777777777777778,
              "#fb9f3a"
             ],
             [
              0.8888888888888888,
              "#fdca26"
             ],
             [
              1,
              "#f0f921"
             ]
            ],
            "type": "surface"
           }
          ],
          "table": [
           {
            "cells": {
             "fill": {
              "color": "#EBF0F8"
             },
             "line": {
              "color": "white"
             }
            },
            "header": {
             "fill": {
              "color": "#C8D4E3"
             },
             "line": {
              "color": "white"
             }
            },
            "type": "table"
           }
          ]
         },
         "layout": {
          "annotationdefaults": {
           "arrowcolor": "#2a3f5f",
           "arrowhead": 0,
           "arrowwidth": 1
          },
          "autotypenumbers": "strict",
          "coloraxis": {
           "colorbar": {
            "outlinewidth": 0,
            "ticks": ""
           }
          },
          "colorscale": {
           "diverging": [
            [
             0,
             "#8e0152"
            ],
            [
             0.1,
             "#c51b7d"
            ],
            [
             0.2,
             "#de77ae"
            ],
            [
             0.3,
             "#f1b6da"
            ],
            [
             0.4,
             "#fde0ef"
            ],
            [
             0.5,
             "#f7f7f7"
            ],
            [
             0.6,
             "#e6f5d0"
            ],
            [
             0.7,
             "#b8e186"
            ],
            [
             0.8,
             "#7fbc41"
            ],
            [
             0.9,
             "#4d9221"
            ],
            [
             1,
             "#276419"
            ]
           ],
           "sequential": [
            [
             0,
             "#0d0887"
            ],
            [
             0.1111111111111111,
             "#46039f"
            ],
            [
             0.2222222222222222,
             "#7201a8"
            ],
            [
             0.3333333333333333,
             "#9c179e"
            ],
            [
             0.4444444444444444,
             "#bd3786"
            ],
            [
             0.5555555555555556,
             "#d8576b"
            ],
            [
             0.6666666666666666,
             "#ed7953"
            ],
            [
             0.7777777777777778,
             "#fb9f3a"
            ],
            [
             0.8888888888888888,
             "#fdca26"
            ],
            [
             1,
             "#f0f921"
            ]
           ],
           "sequentialminus": [
            [
             0,
             "#0d0887"
            ],
            [
             0.1111111111111111,
             "#46039f"
            ],
            [
             0.2222222222222222,
             "#7201a8"
            ],
            [
             0.3333333333333333,
             "#9c179e"
            ],
            [
             0.4444444444444444,
             "#bd3786"
            ],
            [
             0.5555555555555556,
             "#d8576b"
            ],
            [
             0.6666666666666666,
             "#ed7953"
            ],
            [
             0.7777777777777778,
             "#fb9f3a"
            ],
            [
             0.8888888888888888,
             "#fdca26"
            ],
            [
             1,
             "#f0f921"
            ]
           ]
          },
          "colorway": [
           "#636efa",
           "#EF553B",
           "#00cc96",
           "#ab63fa",
           "#FFA15A",
           "#19d3f3",
           "#FF6692",
           "#B6E880",
           "#FF97FF",
           "#FECB52"
          ],
          "font": {
           "color": "#2a3f5f"
          },
          "geo": {
           "bgcolor": "white",
           "lakecolor": "white",
           "landcolor": "#E5ECF6",
           "showlakes": true,
           "showland": true,
           "subunitcolor": "white"
          },
          "hoverlabel": {
           "align": "left"
          },
          "hovermode": "closest",
          "mapbox": {
           "style": "light"
          },
          "paper_bgcolor": "white",
          "plot_bgcolor": "#E5ECF6",
          "polar": {
           "angularaxis": {
            "gridcolor": "white",
            "linecolor": "white",
            "ticks": ""
           },
           "bgcolor": "#E5ECF6",
           "radialaxis": {
            "gridcolor": "white",
            "linecolor": "white",
            "ticks": ""
           }
          },
          "scene": {
           "xaxis": {
            "backgroundcolor": "#E5ECF6",
            "gridcolor": "white",
            "gridwidth": 2,
            "linecolor": "white",
            "showbackground": true,
            "ticks": "",
            "zerolinecolor": "white"
           },
           "yaxis": {
            "backgroundcolor": "#E5ECF6",
            "gridcolor": "white",
            "gridwidth": 2,
            "linecolor": "white",
            "showbackground": true,
            "ticks": "",
            "zerolinecolor": "white"
           },
           "zaxis": {
            "backgroundcolor": "#E5ECF6",
            "gridcolor": "white",
            "gridwidth": 2,
            "linecolor": "white",
            "showbackground": true,
            "ticks": "",
            "zerolinecolor": "white"
           }
          },
          "shapedefaults": {
           "line": {
            "color": "#2a3f5f"
           }
          },
          "ternary": {
           "aaxis": {
            "gridcolor": "white",
            "linecolor": "white",
            "ticks": ""
           },
           "baxis": {
            "gridcolor": "white",
            "linecolor": "white",
            "ticks": ""
           },
           "bgcolor": "#E5ECF6",
           "caxis": {
            "gridcolor": "white",
            "linecolor": "white",
            "ticks": ""
           }
          },
          "title": {
           "x": 0.05
          },
          "xaxis": {
           "automargin": true,
           "gridcolor": "white",
           "linecolor": "white",
           "ticks": "",
           "title": {
            "standoff": 15
           },
           "zerolinecolor": "white",
           "zerolinewidth": 2
          },
          "yaxis": {
           "automargin": true,
           "gridcolor": "white",
           "linecolor": "white",
           "ticks": "",
           "title": {
            "standoff": 15
           },
           "zerolinecolor": "white",
           "zerolinewidth": 2
          }
         }
        },
        "width": 300,
        "xaxis": {
         "anchor": "y",
         "domain": [
          0,
          1
         ],
         "showticklabels": false
        },
        "yaxis": {
         "anchor": "x",
         "domain": [
          0,
          1
         ],
         "showticklabels": false
        }
       }
      }
     },
     "metadata": {},
     "output_type": "display_data"
    }
   ],
   "source": [
    "display_soln_array_as_img(3)"
   ]
  },
  {
   "cell_type": "code",
   "execution_count": 15,
   "metadata": {},
   "outputs": [
    {
     "data": {
      "application/vnd.plotly.v1+json": {
       "config": {
        "displayModeBar": false,
        "plotlyServerURL": "https://plot.ly"
       },
       "data": [
        {
         "hovertemplate": "x: %{x}<br>y: %{y}<br>color: [%{z[0]}, %{z[1]}, %{z[2]}]<extra></extra>",
         "name": "0",
         "source": "data:image/png;base64,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",
         "type": "image",
         "xaxis": "x",
         "yaxis": "y"
        }
       ],
       "layout": {
        "coloraxis": {
         "showscale": false
        },
        "height": 300,
        "margin": {
         "b": 0,
         "l": 0,
         "r": 0,
         "t": 0
        },
        "template": {
         "data": {
          "bar": [
           {
            "error_x": {
             "color": "#2a3f5f"
            },
            "error_y": {
             "color": "#2a3f5f"
            },
            "marker": {
             "line": {
              "color": "#E5ECF6",
              "width": 0.5
             },
             "pattern": {
              "fillmode": "overlay",
              "size": 10,
              "solidity": 0.2
             }
            },
            "type": "bar"
           }
          ],
          "barpolar": [
           {
            "marker": {
             "line": {
              "color": "#E5ECF6",
              "width": 0.5
             },
             "pattern": {
              "fillmode": "overlay",
              "size": 10,
              "solidity": 0.2
             }
            },
            "type": "barpolar"
           }
          ],
          "carpet": [
           {
            "aaxis": {
             "endlinecolor": "#2a3f5f",
             "gridcolor": "white",
             "linecolor": "white",
             "minorgridcolor": "white",
             "startlinecolor": "#2a3f5f"
            },
            "baxis": {
             "endlinecolor": "#2a3f5f",
             "gridcolor": "white",
             "linecolor": "white",
             "minorgridcolor": "white",
             "startlinecolor": "#2a3f5f"
            },
            "type": "carpet"
           }
          ],
          "choropleth": [
           {
            "colorbar": {
             "outlinewidth": 0,
             "ticks": ""
            },
            "type": "choropleth"
           }
          ],
          "contour": [
           {
            "colorbar": {
             "outlinewidth": 0,
             "ticks": ""
            },
            "colorscale": [
             [
              0,
              "#0d0887"
             ],
             [
              0.1111111111111111,
              "#46039f"
             ],
             [
              0.2222222222222222,
              "#7201a8"
             ],
             [
              0.3333333333333333,
              "#9c179e"
             ],
             [
              0.4444444444444444,
              "#bd3786"
             ],
             [
              0.5555555555555556,
              "#d8576b"
             ],
             [
              0.6666666666666666,
              "#ed7953"
             ],
             [
              0.7777777777777778,
              "#fb9f3a"
             ],
             [
              0.8888888888888888,
              "#fdca26"
             ],
             [
              1,
              "#f0f921"
             ]
            ],
            "type": "contour"
           }
          ],
          "contourcarpet": [
           {
            "colorbar": {
             "outlinewidth": 0,
             "ticks": ""
            },
            "type": "contourcarpet"
           }
          ],
          "heatmap": [
           {
            "colorbar": {
             "outlinewidth": 0,
             "ticks": ""
            },
            "colorscale": [
             [
              0,
              "#0d0887"
             ],
             [
              0.1111111111111111,
              "#46039f"
             ],
             [
              0.2222222222222222,
              "#7201a8"
             ],
             [
              0.3333333333333333,
              "#9c179e"
             ],
             [
              0.4444444444444444,
              "#bd3786"
             ],
             [
              0.5555555555555556,
              "#d8576b"
             ],
             [
              0.6666666666666666,
              "#ed7953"
             ],
             [
              0.7777777777777778,
              "#fb9f3a"
             ],
             [
              0.8888888888888888,
              "#fdca26"
             ],
             [
              1,
              "#f0f921"
             ]
            ],
            "type": "heatmap"
           }
          ],
          "histogram": [
           {
            "marker": {
             "pattern": {
              "fillmode": "overlay",
              "size": 10,
              "solidity": 0.2
             }
            },
            "type": "histogram"
           }
          ],
          "histogram2d": [
           {
            "colorbar": {
             "outlinewidth": 0,
             "ticks": ""
            },
            "colorscale": [
             [
              0,
              "#0d0887"
             ],
             [
              0.1111111111111111,
              "#46039f"
             ],
             [
              0.2222222222222222,
              "#7201a8"
             ],
             [
              0.3333333333333333,
              "#9c179e"
             ],
             [
              0.4444444444444444,
              "#bd3786"
             ],
             [
              0.5555555555555556,
              "#d8576b"
             ],
             [
              0.6666666666666666,
              "#ed7953"
             ],
             [
              0.7777777777777778,
              "#fb9f3a"
             ],
             [
              0.8888888888888888,
              "#fdca26"
             ],
             [
              1,
              "#f0f921"
             ]
            ],
            "type": "histogram2d"
           }
          ],
          "histogram2dcontour": [
           {
            "colorbar": {
             "outlinewidth": 0,
             "ticks": ""
            },
            "colorscale": [
             [
              0,
              "#0d0887"
             ],
             [
              0.1111111111111111,
              "#46039f"
             ],
             [
              0.2222222222222222,
              "#7201a8"
             ],
             [
              0.3333333333333333,
              "#9c179e"
             ],
             [
              0.4444444444444444,
              "#bd3786"
             ],
             [
              0.5555555555555556,
              "#d8576b"
             ],
             [
              0.6666666666666666,
              "#ed7953"
             ],
             [
              0.7777777777777778,
              "#fb9f3a"
             ],
             [
              0.8888888888888888,
              "#fdca26"
             ],
             [
              1,
              "#f0f921"
             ]
            ],
            "type": "histogram2dcontour"
           }
          ],
          "mesh3d": [
           {
            "colorbar": {
             "outlinewidth": 0,
             "ticks": ""
            },
            "type": "mesh3d"
           }
          ],
          "parcoords": [
           {
            "line": {
             "colorbar": {
              "outlinewidth": 0,
              "ticks": ""
             }
            },
            "type": "parcoords"
           }
          ],
          "pie": [
           {
            "automargin": true,
            "type": "pie"
           }
          ],
          "scatter": [
           {
            "fillpattern": {
             "fillmode": "overlay",
             "size": 10,
             "solidity": 0.2
            },
            "type": "scatter"
           }
          ],
          "scatter3d": [
           {
            "line": {
             "colorbar": {
              "outlinewidth": 0,
              "ticks": ""
             }
            },
            "marker": {
             "colorbar": {
              "outlinewidth": 0,
              "ticks": ""
             }
            },
            "type": "scatter3d"
           }
          ],
          "scattercarpet": [
           {
            "marker": {
             "colorbar": {
              "outlinewidth": 0,
              "ticks": ""
             }
            },
            "type": "scattercarpet"
           }
          ],
          "scattergeo": [
           {
            "marker": {
             "colorbar": {
              "outlinewidth": 0,
              "ticks": ""
             }
            },
            "type": "scattergeo"
           }
          ],
          "scattergl": [
           {
            "marker": {
             "colorbar": {
              "outlinewidth": 0,
              "ticks": ""
             }
            },
            "type": "scattergl"
           }
          ],
          "scattermap": [
           {
            "marker": {
             "colorbar": {
              "outlinewidth": 0,
              "ticks": ""
             }
            },
            "type": "scattermap"
           }
          ],
          "scattermapbox": [
           {
            "marker": {
             "colorbar": {
              "outlinewidth": 0,
              "ticks": ""
             }
            },
            "type": "scattermapbox"
           }
          ],
          "scatterpolar": [
           {
            "marker": {
             "colorbar": {
              "outlinewidth": 0,
              "ticks": ""
             }
            },
            "type": "scatterpolar"
           }
          ],
          "scatterpolargl": [
           {
            "marker": {
             "colorbar": {
              "outlinewidth": 0,
              "ticks": ""
             }
            },
            "type": "scatterpolargl"
           }
          ],
          "scatterternary": [
           {
            "marker": {
             "colorbar": {
              "outlinewidth": 0,
              "ticks": ""
             }
            },
            "type": "scatterternary"
           }
          ],
          "surface": [
           {
            "colorbar": {
             "outlinewidth": 0,
             "ticks": ""
            },
            "colorscale": [
             [
              0,
              "#0d0887"
             ],
             [
              0.1111111111111111,
              "#46039f"
             ],
             [
              0.2222222222222222,
              "#7201a8"
             ],
             [
              0.3333333333333333,
              "#9c179e"
             ],
             [
              0.4444444444444444,
              "#bd3786"
             ],
             [
              0.5555555555555556,
              "#d8576b"
             ],
             [
              0.6666666666666666,
              "#ed7953"
             ],
             [
              0.7777777777777778,
              "#fb9f3a"
             ],
             [
              0.8888888888888888,
              "#fdca26"
             ],
             [
              1,
              "#f0f921"
             ]
            ],
            "type": "surface"
           }
          ],
          "table": [
           {
            "cells": {
             "fill": {
              "color": "#EBF0F8"
             },
             "line": {
              "color": "white"
             }
            },
            "header": {
             "fill": {
              "color": "#C8D4E3"
             },
             "line": {
              "color": "white"
             }
            },
            "type": "table"
           }
          ]
         },
         "layout": {
          "annotationdefaults": {
           "arrowcolor": "#2a3f5f",
           "arrowhead": 0,
           "arrowwidth": 1
          },
          "autotypenumbers": "strict",
          "coloraxis": {
           "colorbar": {
            "outlinewidth": 0,
            "ticks": ""
           }
          },
          "colorscale": {
           "diverging": [
            [
             0,
             "#8e0152"
            ],
            [
             0.1,
             "#c51b7d"
            ],
            [
             0.2,
             "#de77ae"
            ],
            [
             0.3,
             "#f1b6da"
            ],
            [
             0.4,
             "#fde0ef"
            ],
            [
             0.5,
             "#f7f7f7"
            ],
            [
             0.6,
             "#e6f5d0"
            ],
            [
             0.7,
             "#b8e186"
            ],
            [
             0.8,
             "#7fbc41"
            ],
            [
             0.9,
             "#4d9221"
            ],
            [
             1,
             "#276419"
            ]
           ],
           "sequential": [
            [
             0,
             "#0d0887"
            ],
            [
             0.1111111111111111,
             "#46039f"
            ],
            [
             0.2222222222222222,
             "#7201a8"
            ],
            [
             0.3333333333333333,
             "#9c179e"
            ],
            [
             0.4444444444444444,
             "#bd3786"
            ],
            [
             0.5555555555555556,
             "#d8576b"
            ],
            [
             0.6666666666666666,
             "#ed7953"
            ],
            [
             0.7777777777777778,
             "#fb9f3a"
            ],
            [
             0.8888888888888888,
             "#fdca26"
            ],
            [
             1,
             "#f0f921"
            ]
           ],
           "sequentialminus": [
            [
             0,
             "#0d0887"
            ],
            [
             0.1111111111111111,
             "#46039f"
            ],
            [
             0.2222222222222222,
             "#7201a8"
            ],
            [
             0.3333333333333333,
             "#9c179e"
            ],
            [
             0.4444444444444444,
             "#bd3786"
            ],
            [
             0.5555555555555556,
             "#d8576b"
            ],
            [
             0.6666666666666666,
             "#ed7953"
            ],
            [
             0.7777777777777778,
             "#fb9f3a"
            ],
            [
             0.8888888888888888,
             "#fdca26"
            ],
            [
             1,
             "#f0f921"
            ]
           ]
          },
          "colorway": [
           "#636efa",
           "#EF553B",
           "#00cc96",
           "#ab63fa",
           "#FFA15A",
           "#19d3f3",
           "#FF6692",
           "#B6E880",
           "#FF97FF",
           "#FECB52"
          ],
          "font": {
           "color": "#2a3f5f"
          },
          "geo": {
           "bgcolor": "white",
           "lakecolor": "white",
           "landcolor": "#E5ECF6",
           "showlakes": true,
           "showland": true,
           "subunitcolor": "white"
          },
          "hoverlabel": {
           "align": "left"
          },
          "hovermode": "closest",
          "mapbox": {
           "style": "light"
          },
          "paper_bgcolor": "white",
          "plot_bgcolor": "#E5ECF6",
          "polar": {
           "angularaxis": {
            "gridcolor": "white",
            "linecolor": "white",
            "ticks": ""
           },
           "bgcolor": "#E5ECF6",
           "radialaxis": {
            "gridcolor": "white",
            "linecolor": "white",
            "ticks": ""
           }
          },
          "scene": {
           "xaxis": {
            "backgroundcolor": "#E5ECF6",
            "gridcolor": "white",
            "gridwidth": 2,
            "linecolor": "white",
            "showbackground": true,
            "ticks": "",
            "zerolinecolor": "white"
           },
           "yaxis": {
            "backgroundcolor": "#E5ECF6",
            "gridcolor": "white",
            "gridwidth": 2,
            "linecolor": "white",
            "showbackground": true,
            "ticks": "",
            "zerolinecolor": "white"
           },
           "zaxis": {
            "backgroundcolor": "#E5ECF6",
            "gridcolor": "white",
            "gridwidth": 2,
            "linecolor": "white",
            "showbackground": true,
            "ticks": "",
            "zerolinecolor": "white"
           }
          },
          "shapedefaults": {
           "line": {
            "color": "#2a3f5f"
           }
          },
          "ternary": {
           "aaxis": {
            "gridcolor": "white",
            "linecolor": "white",
            "ticks": ""
           },
           "baxis": {
            "gridcolor": "white",
            "linecolor": "white",
            "ticks": ""
           },
           "bgcolor": "#E5ECF6",
           "caxis": {
            "gridcolor": "white",
            "linecolor": "white",
            "ticks": ""
           }
          },
          "title": {
           "x": 0.05
          },
          "xaxis": {
           "automargin": true,
           "gridcolor": "white",
           "linecolor": "white",
           "ticks": "",
           "title": {
            "standoff": 15
           },
           "zerolinecolor": "white",
           "zerolinewidth": 2
          },
          "yaxis": {
           "automargin": true,
           "gridcolor": "white",
           "linecolor": "white",
           "ticks": "",
           "title": {
            "standoff": 15
           },
           "zerolinecolor": "white",
           "zerolinewidth": 2
          }
         }
        },
        "width": 300,
        "xaxis": {
         "anchor": "y",
         "domain": [
          0,
          1
         ],
         "showticklabels": false
        },
        "yaxis": {
         "anchor": "x",
         "domain": [
          0,
          1
         ],
         "showticklabels": false
        }
       }
      }
     },
     "metadata": {},
     "output_type": "display_data"
    }
   ],
   "source": [
    "# Your code here - define arr3\n",
    "arr3 = einops.repeat(arr[0:2], \"b c h w -> c (b h) (2 w)\")\n",
    "\n",
    "display_array_as_img(arr3)"
   ]
  },
  {
   "cell_type": "markdown",
   "metadata": {},
   "source": [
    "<details><summary>Solution</summary>\n",
    "\n",
    "```python\n",
    "arr3 = einops.repeat(arr[0:2], \"b c h w -> c (b h) (2 w)\")\n",
    "```\n",
    "</details>"
   ]
  },
  {
   "cell_type": "markdown",
   "metadata": {},
   "source": [
    "#### (4) Stretching\n",
    "\n",
    "The image below was stretched vertically by a factor of 2."
   ]
  },
  {
   "cell_type": "code",
   "execution_count": 16,
   "metadata": {},
   "outputs": [
    {
     "data": {
      "application/vnd.plotly.v1+json": {
       "config": {
        "displayModeBar": false,
        "plotlyServerURL": "https://plot.ly"
       },
       "data": [
        {
         "hovertemplate": "x: %{x}<br>y: %{y}<br>color: [%{z[0]}, %{z[1]}, %{z[2]}]<extra></extra>",
         "name": "0",
         "source": "data:image/png;base64,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",
         "type": "image",
         "xaxis": "x",
         "yaxis": "y"
        }
       ],
       "layout": {
        "coloraxis": {
         "showscale": false
        },
        "height": 300,
        "margin": {
         "b": 0,
         "l": 0,
         "r": 0,
         "t": 0
        },
        "template": {
         "data": {
          "bar": [
           {
            "error_x": {
             "color": "#2a3f5f"
            },
            "error_y": {
             "color": "#2a3f5f"
            },
            "marker": {
             "line": {
              "color": "#E5ECF6",
              "width": 0.5
             },
             "pattern": {
              "fillmode": "overlay",
              "size": 10,
              "solidity": 0.2
             }
            },
            "type": "bar"
           }
          ],
          "barpolar": [
           {
            "marker": {
             "line": {
              "color": "#E5ECF6",
              "width": 0.5
             },
             "pattern": {
              "fillmode": "overlay",
              "size": 10,
              "solidity": 0.2
             }
            },
            "type": "barpolar"
           }
          ],
          "carpet": [
           {
            "aaxis": {
             "endlinecolor": "#2a3f5f",
             "gridcolor": "white",
             "linecolor": "white",
             "minorgridcolor": "white",
             "startlinecolor": "#2a3f5f"
            },
            "baxis": {
             "endlinecolor": "#2a3f5f",
             "gridcolor": "white",
             "linecolor": "white",
             "minorgridcolor": "white",
             "startlinecolor": "#2a3f5f"
            },
            "type": "carpet"
           }
          ],
          "choropleth": [
           {
            "colorbar": {
             "outlinewidth": 0,
             "ticks": ""
            },
            "type": "choropleth"
           }
          ],
          "contour": [
           {
            "colorbar": {
             "outlinewidth": 0,
             "ticks": ""
            },
            "colorscale": [
             [
              0,
              "#0d0887"
             ],
             [
              0.1111111111111111,
              "#46039f"
             ],
             [
              0.2222222222222222,
              "#7201a8"
             ],
             [
              0.3333333333333333,
              "#9c179e"
             ],
             [
              0.4444444444444444,
              "#bd3786"
             ],
             [
              0.5555555555555556,
              "#d8576b"
             ],
             [
              0.6666666666666666,
              "#ed7953"
             ],
             [
              0.7777777777777778,
              "#fb9f3a"
             ],
             [
              0.8888888888888888,
              "#fdca26"
             ],
             [
              1,
              "#f0f921"
             ]
            ],
            "type": "contour"
           }
          ],
          "contourcarpet": [
           {
            "colorbar": {
             "outlinewidth": 0,
             "ticks": ""
            },
            "type": "contourcarpet"
           }
          ],
          "heatmap": [
           {
            "colorbar": {
             "outlinewidth": 0,
             "ticks": ""
            },
            "colorscale": [
             [
              0,
              "#0d0887"
             ],
             [
              0.1111111111111111,
              "#46039f"
             ],
             [
              0.2222222222222222,
              "#7201a8"
             ],
             [
              0.3333333333333333,
              "#9c179e"
             ],
             [
              0.4444444444444444,
              "#bd3786"
             ],
             [
              0.5555555555555556,
              "#d8576b"
             ],
             [
              0.6666666666666666,
              "#ed7953"
             ],
             [
              0.7777777777777778,
              "#fb9f3a"
             ],
             [
              0.8888888888888888,
              "#fdca26"
             ],
             [
              1,
              "#f0f921"
             ]
            ],
            "type": "heatmap"
           }
          ],
          "histogram": [
           {
            "marker": {
             "pattern": {
              "fillmode": "overlay",
              "size": 10,
              "solidity": 0.2
             }
            },
            "type": "histogram"
           }
          ],
          "histogram2d": [
           {
            "colorbar": {
             "outlinewidth": 0,
             "ticks": ""
            },
            "colorscale": [
             [
              0,
              "#0d0887"
             ],
             [
              0.1111111111111111,
              "#46039f"
             ],
             [
              0.2222222222222222,
              "#7201a8"
             ],
             [
              0.3333333333333333,
              "#9c179e"
             ],
             [
              0.4444444444444444,
              "#bd3786"
             ],
             [
              0.5555555555555556,
              "#d8576b"
             ],
             [
              0.6666666666666666,
              "#ed7953"
             ],
             [
              0.7777777777777778,
              "#fb9f3a"
             ],
             [
              0.8888888888888888,
              "#fdca26"
             ],
             [
              1,
              "#f0f921"
             ]
            ],
            "type": "histogram2d"
           }
          ],
          "histogram2dcontour": [
           {
            "colorbar": {
             "outlinewidth": 0,
             "ticks": ""
            },
            "colorscale": [
             [
              0,
              "#0d0887"
             ],
             [
              0.1111111111111111,
              "#46039f"
             ],
             [
              0.2222222222222222,
              "#7201a8"
             ],
             [
              0.3333333333333333,
              "#9c179e"
             ],
             [
              0.4444444444444444,
              "#bd3786"
             ],
             [
              0.5555555555555556,
              "#d8576b"
             ],
             [
              0.6666666666666666,
              "#ed7953"
             ],
             [
              0.7777777777777778,
              "#fb9f3a"
             ],
             [
              0.8888888888888888,
              "#fdca26"
             ],
             [
              1,
              "#f0f921"
             ]
            ],
            "type": "histogram2dcontour"
           }
          ],
          "mesh3d": [
           {
            "colorbar": {
             "outlinewidth": 0,
             "ticks": ""
            },
            "type": "mesh3d"
           }
          ],
          "parcoords": [
           {
            "line": {
             "colorbar": {
              "outlinewidth": 0,
              "ticks": ""
             }
            },
            "type": "parcoords"
           }
          ],
          "pie": [
           {
            "automargin": true,
            "type": "pie"
           }
          ],
          "scatter": [
           {
            "fillpattern": {
             "fillmode": "overlay",
             "size": 10,
             "solidity": 0.2
            },
            "type": "scatter"
           }
          ],
          "scatter3d": [
           {
            "line": {
             "colorbar": {
              "outlinewidth": 0,
              "ticks": ""
             }
            },
            "marker": {
             "colorbar": {
              "outlinewidth": 0,
              "ticks": ""
             }
            },
            "type": "scatter3d"
           }
          ],
          "scattercarpet": [
           {
            "marker": {
             "colorbar": {
              "outlinewidth": 0,
              "ticks": ""
             }
            },
            "type": "scattercarpet"
           }
          ],
          "scattergeo": [
           {
            "marker": {
             "colorbar": {
              "outlinewidth": 0,
              "ticks": ""
             }
            },
            "type": "scattergeo"
           }
          ],
          "scattergl": [
           {
            "marker": {
             "colorbar": {
              "outlinewidth": 0,
              "ticks": ""
             }
            },
            "type": "scattergl"
           }
          ],
          "scattermap": [
           {
            "marker": {
             "colorbar": {
              "outlinewidth": 0,
              "ticks": ""
             }
            },
            "type": "scattermap"
           }
          ],
          "scattermapbox": [
           {
            "marker": {
             "colorbar": {
              "outlinewidth": 0,
              "ticks": ""
             }
            },
            "type": "scattermapbox"
           }
          ],
          "scatterpolar": [
           {
            "marker": {
             "colorbar": {
              "outlinewidth": 0,
              "ticks": ""
             }
            },
            "type": "scatterpolar"
           }
          ],
          "scatterpolargl": [
           {
            "marker": {
             "colorbar": {
              "outlinewidth": 0,
              "ticks": ""
             }
            },
            "type": "scatterpolargl"
           }
          ],
          "scatterternary": [
           {
            "marker": {
             "colorbar": {
              "outlinewidth": 0,
              "ticks": ""
             }
            },
            "type": "scatterternary"
           }
          ],
          "surface": [
           {
            "colorbar": {
             "outlinewidth": 0,
             "ticks": ""
            },
            "colorscale": [
             [
              0,
              "#0d0887"
             ],
             [
              0.1111111111111111,
              "#46039f"
             ],
             [
              0.2222222222222222,
              "#7201a8"
             ],
             [
              0.3333333333333333,
              "#9c179e"
             ],
             [
              0.4444444444444444,
              "#bd3786"
             ],
             [
              0.5555555555555556,
              "#d8576b"
             ],
             [
              0.6666666666666666,
              "#ed7953"
             ],
             [
              0.7777777777777778,
              "#fb9f3a"
             ],
             [
              0.8888888888888888,
              "#fdca26"
             ],
             [
              1,
              "#f0f921"
             ]
            ],
            "type": "surface"
           }
          ],
          "table": [
           {
            "cells": {
             "fill": {
              "color": "#EBF0F8"
             },
             "line": {
              "color": "white"
             }
            },
            "header": {
             "fill": {
              "color": "#C8D4E3"
             },
             "line": {
              "color": "white"
             }
            },
            "type": "table"
           }
          ]
         },
         "layout": {
          "annotationdefaults": {
           "arrowcolor": "#2a3f5f",
           "arrowhead": 0,
           "arrowwidth": 1
          },
          "autotypenumbers": "strict",
          "coloraxis": {
           "colorbar": {
            "outlinewidth": 0,
            "ticks": ""
           }
          },
          "colorscale": {
           "diverging": [
            [
             0,
             "#8e0152"
            ],
            [
             0.1,
             "#c51b7d"
            ],
            [
             0.2,
             "#de77ae"
            ],
            [
             0.3,
             "#f1b6da"
            ],
            [
             0.4,
             "#fde0ef"
            ],
            [
             0.5,
             "#f7f7f7"
            ],
            [
             0.6,
             "#e6f5d0"
            ],
            [
             0.7,
             "#b8e186"
            ],
            [
             0.8,
             "#7fbc41"
            ],
            [
             0.9,
             "#4d9221"
            ],
            [
             1,
             "#276419"
            ]
           ],
           "sequential": [
            [
             0,
             "#0d0887"
            ],
            [
             0.1111111111111111,
             "#46039f"
            ],
            [
             0.2222222222222222,
             "#7201a8"
            ],
            [
             0.3333333333333333,
             "#9c179e"
            ],
            [
             0.4444444444444444,
             "#bd3786"
            ],
            [
             0.5555555555555556,
             "#d8576b"
            ],
            [
             0.6666666666666666,
             "#ed7953"
            ],
            [
             0.7777777777777778,
             "#fb9f3a"
            ],
            [
             0.8888888888888888,
             "#fdca26"
            ],
            [
             1,
             "#f0f921"
            ]
           ],
           "sequentialminus": [
            [
             0,
             "#0d0887"
            ],
            [
             0.1111111111111111,
             "#46039f"
            ],
            [
             0.2222222222222222,
             "#7201a8"
            ],
            [
             0.3333333333333333,
             "#9c179e"
            ],
            [
             0.4444444444444444,
             "#bd3786"
            ],
            [
             0.5555555555555556,
             "#d8576b"
            ],
            [
             0.6666666666666666,
             "#ed7953"
            ],
            [
             0.7777777777777778,
             "#fb9f3a"
            ],
            [
             0.8888888888888888,
             "#fdca26"
            ],
            [
             1,
             "#f0f921"
            ]
           ]
          },
          "colorway": [
           "#636efa",
           "#EF553B",
           "#00cc96",
           "#ab63fa",
           "#FFA15A",
           "#19d3f3",
           "#FF6692",
           "#B6E880",
           "#FF97FF",
           "#FECB52"
          ],
          "font": {
           "color": "#2a3f5f"
          },
          "geo": {
           "bgcolor": "white",
           "lakecolor": "white",
           "landcolor": "#E5ECF6",
           "showlakes": true,
           "showland": true,
           "subunitcolor": "white"
          },
          "hoverlabel": {
           "align": "left"
          },
          "hovermode": "closest",
          "mapbox": {
           "style": "light"
          },
          "paper_bgcolor": "white",
          "plot_bgcolor": "#E5ECF6",
          "polar": {
           "angularaxis": {
            "gridcolor": "white",
            "linecolor": "white",
            "ticks": ""
           },
           "bgcolor": "#E5ECF6",
           "radialaxis": {
            "gridcolor": "white",
            "linecolor": "white",
            "ticks": ""
           }
          },
          "scene": {
           "xaxis": {
            "backgroundcolor": "#E5ECF6",
            "gridcolor": "white",
            "gridwidth": 2,
            "linecolor": "white",
            "showbackground": true,
            "ticks": "",
            "zerolinecolor": "white"
           },
           "yaxis": {
            "backgroundcolor": "#E5ECF6",
            "gridcolor": "white",
            "gridwidth": 2,
            "linecolor": "white",
            "showbackground": true,
            "ticks": "",
            "zerolinecolor": "white"
           },
           "zaxis": {
            "backgroundcolor": "#E5ECF6",
            "gridcolor": "white",
            "gridwidth": 2,
            "linecolor": "white",
            "showbackground": true,
            "ticks": "",
            "zerolinecolor": "white"
           }
          },
          "shapedefaults": {
           "line": {
            "color": "#2a3f5f"
           }
          },
          "ternary": {
           "aaxis": {
            "gridcolor": "white",
            "linecolor": "white",
            "ticks": ""
           },
           "baxis": {
            "gridcolor": "white",
            "linecolor": "white",
            "ticks": ""
           },
           "bgcolor": "#E5ECF6",
           "caxis": {
            "gridcolor": "white",
            "linecolor": "white",
            "ticks": ""
           }
          },
          "title": {
           "x": 0.05
          },
          "xaxis": {
           "automargin": true,
           "gridcolor": "white",
           "linecolor": "white",
           "ticks": "",
           "title": {
            "standoff": 15
           },
           "zerolinecolor": "white",
           "zerolinewidth": 2
          },
          "yaxis": {
           "automargin": true,
           "gridcolor": "white",
           "linecolor": "white",
           "ticks": "",
           "title": {
            "standoff": 15
           },
           "zerolinecolor": "white",
           "zerolinewidth": 2
          }
         }
        },
        "width": 150,
        "xaxis": {
         "anchor": "y",
         "domain": [
          0,
          1
         ],
         "showticklabels": false
        },
        "yaxis": {
         "anchor": "x",
         "domain": [
          0,
          1
         ],
         "showticklabels": false
        }
       }
      }
     },
     "metadata": {},
     "output_type": "display_data"
    }
   ],
   "source": [
    "display_soln_array_as_img(4)"
   ]
  },
  {
   "cell_type": "code",
   "execution_count": 17,
   "metadata": {},
   "outputs": [
    {
     "data": {
      "application/vnd.plotly.v1+json": {
       "config": {
        "displayModeBar": false,
        "plotlyServerURL": "https://plot.ly"
       },
       "data": [
        {
         "hovertemplate": "x: %{x}<br>y: %{y}<br>color: [%{z[0]}, %{z[1]}, %{z[2]}]<extra></extra>",
         "name": "0",
         "source": "data:image/png;base64,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",
         "type": "image",
         "xaxis": "x",
         "yaxis": "y"
        }
       ],
       "layout": {
        "coloraxis": {
         "showscale": false
        },
        "height": 300,
        "margin": {
         "b": 0,
         "l": 0,
         "r": 0,
         "t": 0
        },
        "template": {
         "data": {
          "bar": [
           {
            "error_x": {
             "color": "#2a3f5f"
            },
            "error_y": {
             "color": "#2a3f5f"
            },
            "marker": {
             "line": {
              "color": "#E5ECF6",
              "width": 0.5
             },
             "pattern": {
              "fillmode": "overlay",
              "size": 10,
              "solidity": 0.2
             }
            },
            "type": "bar"
           }
          ],
          "barpolar": [
           {
            "marker": {
             "line": {
              "color": "#E5ECF6",
              "width": 0.5
             },
             "pattern": {
              "fillmode": "overlay",
              "size": 10,
              "solidity": 0.2
             }
            },
            "type": "barpolar"
           }
          ],
          "carpet": [
           {
            "aaxis": {
             "endlinecolor": "#2a3f5f",
             "gridcolor": "white",
             "linecolor": "white",
             "minorgridcolor": "white",
             "startlinecolor": "#2a3f5f"
            },
            "baxis": {
             "endlinecolor": "#2a3f5f",
             "gridcolor": "white",
             "linecolor": "white",
             "minorgridcolor": "white",
             "startlinecolor": "#2a3f5f"
            },
            "type": "carpet"
           }
          ],
          "choropleth": [
           {
            "colorbar": {
             "outlinewidth": 0,
             "ticks": ""
            },
            "type": "choropleth"
           }
          ],
          "contour": [
           {
            "colorbar": {
             "outlinewidth": 0,
             "ticks": ""
            },
            "colorscale": [
             [
              0,
              "#0d0887"
             ],
             [
              0.1111111111111111,
              "#46039f"
             ],
             [
              0.2222222222222222,
              "#7201a8"
             ],
             [
              0.3333333333333333,
              "#9c179e"
             ],
             [
              0.4444444444444444,
              "#bd3786"
             ],
             [
              0.5555555555555556,
              "#d8576b"
             ],
             [
              0.6666666666666666,
              "#ed7953"
             ],
             [
              0.7777777777777778,
              "#fb9f3a"
             ],
             [
              0.8888888888888888,
              "#fdca26"
             ],
             [
              1,
              "#f0f921"
             ]
            ],
            "type": "contour"
           }
          ],
          "contourcarpet": [
           {
            "colorbar": {
             "outlinewidth": 0,
             "ticks": ""
            },
            "type": "contourcarpet"
           }
          ],
          "heatmap": [
           {
            "colorbar": {
             "outlinewidth": 0,
             "ticks": ""
            },
            "colorscale": [
             [
              0,
              "#0d0887"
             ],
             [
              0.1111111111111111,
              "#46039f"
             ],
             [
              0.2222222222222222,
              "#7201a8"
             ],
             [
              0.3333333333333333,
              "#9c179e"
             ],
             [
              0.4444444444444444,
              "#bd3786"
             ],
             [
              0.5555555555555556,
              "#d8576b"
             ],
             [
              0.6666666666666666,
              "#ed7953"
             ],
             [
              0.7777777777777778,
              "#fb9f3a"
             ],
             [
              0.8888888888888888,
              "#fdca26"
             ],
             [
              1,
              "#f0f921"
             ]
            ],
            "type": "heatmap"
           }
          ],
          "histogram": [
           {
            "marker": {
             "pattern": {
              "fillmode": "overlay",
              "size": 10,
              "solidity": 0.2
             }
            },
            "type": "histogram"
           }
          ],
          "histogram2d": [
           {
            "colorbar": {
             "outlinewidth": 0,
             "ticks": ""
            },
            "colorscale": [
             [
              0,
              "#0d0887"
             ],
             [
              0.1111111111111111,
              "#46039f"
             ],
             [
              0.2222222222222222,
              "#7201a8"
             ],
             [
              0.3333333333333333,
              "#9c179e"
             ],
             [
              0.4444444444444444,
              "#bd3786"
             ],
             [
              0.5555555555555556,
              "#d8576b"
             ],
             [
              0.6666666666666666,
              "#ed7953"
             ],
             [
              0.7777777777777778,
              "#fb9f3a"
             ],
             [
              0.8888888888888888,
              "#fdca26"
             ],
             [
              1,
              "#f0f921"
             ]
            ],
            "type": "histogram2d"
           }
          ],
          "histogram2dcontour": [
           {
            "colorbar": {
             "outlinewidth": 0,
             "ticks": ""
            },
            "colorscale": [
             [
              0,
              "#0d0887"
             ],
             [
              0.1111111111111111,
              "#46039f"
             ],
             [
              0.2222222222222222,
              "#7201a8"
             ],
             [
              0.3333333333333333,
              "#9c179e"
             ],
             [
              0.4444444444444444,
              "#bd3786"
             ],
             [
              0.5555555555555556,
              "#d8576b"
             ],
             [
              0.6666666666666666,
              "#ed7953"
             ],
             [
              0.7777777777777778,
              "#fb9f3a"
             ],
             [
              0.8888888888888888,
              "#fdca26"
             ],
             [
              1,
              "#f0f921"
             ]
            ],
            "type": "histogram2dcontour"
           }
          ],
          "mesh3d": [
           {
            "colorbar": {
             "outlinewidth": 0,
             "ticks": ""
            },
            "type": "mesh3d"
           }
          ],
          "parcoords": [
           {
            "line": {
             "colorbar": {
              "outlinewidth": 0,
              "ticks": ""
             }
            },
            "type": "parcoords"
           }
          ],
          "pie": [
           {
            "automargin": true,
            "type": "pie"
           }
          ],
          "scatter": [
           {
            "fillpattern": {
             "fillmode": "overlay",
             "size": 10,
             "solidity": 0.2
            },
            "type": "scatter"
           }
          ],
          "scatter3d": [
           {
            "line": {
             "colorbar": {
              "outlinewidth": 0,
              "ticks": ""
             }
            },
            "marker": {
             "colorbar": {
              "outlinewidth": 0,
              "ticks": ""
             }
            },
            "type": "scatter3d"
           }
          ],
          "scattercarpet": [
           {
            "marker": {
             "colorbar": {
              "outlinewidth": 0,
              "ticks": ""
             }
            },
            "type": "scattercarpet"
           }
          ],
          "scattergeo": [
           {
            "marker": {
             "colorbar": {
              "outlinewidth": 0,
              "ticks": ""
             }
            },
            "type": "scattergeo"
           }
          ],
          "scattergl": [
           {
            "marker": {
             "colorbar": {
              "outlinewidth": 0,
              "ticks": ""
             }
            },
            "type": "scattergl"
           }
          ],
          "scattermap": [
           {
            "marker": {
             "colorbar": {
              "outlinewidth": 0,
              "ticks": ""
             }
            },
            "type": "scattermap"
           }
          ],
          "scattermapbox": [
           {
            "marker": {
             "colorbar": {
              "outlinewidth": 0,
              "ticks": ""
             }
            },
            "type": "scattermapbox"
           }
          ],
          "scatterpolar": [
           {
            "marker": {
             "colorbar": {
              "outlinewidth": 0,
              "ticks": ""
             }
            },
            "type": "scatterpolar"
           }
          ],
          "scatterpolargl": [
           {
            "marker": {
             "colorbar": {
              "outlinewidth": 0,
              "ticks": ""
             }
            },
            "type": "scatterpolargl"
           }
          ],
          "scatterternary": [
           {
            "marker": {
             "colorbar": {
              "outlinewidth": 0,
              "ticks": ""
             }
            },
            "type": "scatterternary"
           }
          ],
          "surface": [
           {
            "colorbar": {
             "outlinewidth": 0,
             "ticks": ""
            },
            "colorscale": [
             [
              0,
              "#0d0887"
             ],
             [
              0.1111111111111111,
              "#46039f"
             ],
             [
              0.2222222222222222,
              "#7201a8"
             ],
             [
              0.3333333333333333,
              "#9c179e"
             ],
             [
              0.4444444444444444,
              "#bd3786"
             ],
             [
              0.5555555555555556,
              "#d8576b"
             ],
             [
              0.6666666666666666,
              "#ed7953"
             ],
             [
              0.7777777777777778,
              "#fb9f3a"
             ],
             [
              0.8888888888888888,
              "#fdca26"
             ],
             [
              1,
              "#f0f921"
             ]
            ],
            "type": "surface"
           }
          ],
          "table": [
           {
            "cells": {
             "fill": {
              "color": "#EBF0F8"
             },
             "line": {
              "color": "white"
             }
            },
            "header": {
             "fill": {
              "color": "#C8D4E3"
             },
             "line": {
              "color": "white"
             }
            },
            "type": "table"
           }
          ]
         },
         "layout": {
          "annotationdefaults": {
           "arrowcolor": "#2a3f5f",
           "arrowhead": 0,
           "arrowwidth": 1
          },
          "autotypenumbers": "strict",
          "coloraxis": {
           "colorbar": {
            "outlinewidth": 0,
            "ticks": ""
           }
          },
          "colorscale": {
           "diverging": [
            [
             0,
             "#8e0152"
            ],
            [
             0.1,
             "#c51b7d"
            ],
            [
             0.2,
             "#de77ae"
            ],
            [
             0.3,
             "#f1b6da"
            ],
            [
             0.4,
             "#fde0ef"
            ],
            [
             0.5,
             "#f7f7f7"
            ],
            [
             0.6,
             "#e6f5d0"
            ],
            [
             0.7,
             "#b8e186"
            ],
            [
             0.8,
             "#7fbc41"
            ],
            [
             0.9,
             "#4d9221"
            ],
            [
             1,
             "#276419"
            ]
           ],
           "sequential": [
            [
             0,
             "#0d0887"
            ],
            [
             0.1111111111111111,
             "#46039f"
            ],
            [
             0.2222222222222222,
             "#7201a8"
            ],
            [
             0.3333333333333333,
             "#9c179e"
            ],
            [
             0.4444444444444444,
             "#bd3786"
            ],
            [
             0.5555555555555556,
             "#d8576b"
            ],
            [
             0.6666666666666666,
             "#ed7953"
            ],
            [
             0.7777777777777778,
             "#fb9f3a"
            ],
            [
             0.8888888888888888,
             "#fdca26"
            ],
            [
             1,
             "#f0f921"
            ]
           ],
           "sequentialminus": [
            [
             0,
             "#0d0887"
            ],
            [
             0.1111111111111111,
             "#46039f"
            ],
            [
             0.2222222222222222,
             "#7201a8"
            ],
            [
             0.3333333333333333,
             "#9c179e"
            ],
            [
             0.4444444444444444,
             "#bd3786"
            ],
            [
             0.5555555555555556,
             "#d8576b"
            ],
            [
             0.6666666666666666,
             "#ed7953"
            ],
            [
             0.7777777777777778,
             "#fb9f3a"
            ],
            [
             0.8888888888888888,
             "#fdca26"
            ],
            [
             1,
             "#f0f921"
            ]
           ]
          },
          "colorway": [
           "#636efa",
           "#EF553B",
           "#00cc96",
           "#ab63fa",
           "#FFA15A",
           "#19d3f3",
           "#FF6692",
           "#B6E880",
           "#FF97FF",
           "#FECB52"
          ],
          "font": {
           "color": "#2a3f5f"
          },
          "geo": {
           "bgcolor": "white",
           "lakecolor": "white",
           "landcolor": "#E5ECF6",
           "showlakes": true,
           "showland": true,
           "subunitcolor": "white"
          },
          "hoverlabel": {
           "align": "left"
          },
          "hovermode": "closest",
          "mapbox": {
           "style": "light"
          },
          "paper_bgcolor": "white",
          "plot_bgcolor": "#E5ECF6",
          "polar": {
           "angularaxis": {
            "gridcolor": "white",
            "linecolor": "white",
            "ticks": ""
           },
           "bgcolor": "#E5ECF6",
           "radialaxis": {
            "gridcolor": "white",
            "linecolor": "white",
            "ticks": ""
           }
          },
          "scene": {
           "xaxis": {
            "backgroundcolor": "#E5ECF6",
            "gridcolor": "white",
            "gridwidth": 2,
            "linecolor": "white",
            "showbackground": true,
            "ticks": "",
            "zerolinecolor": "white"
           },
           "yaxis": {
            "backgroundcolor": "#E5ECF6",
            "gridcolor": "white",
            "gridwidth": 2,
            "linecolor": "white",
            "showbackground": true,
            "ticks": "",
            "zerolinecolor": "white"
           },
           "zaxis": {
            "backgroundcolor": "#E5ECF6",
            "gridcolor": "white",
            "gridwidth": 2,
            "linecolor": "white",
            "showbackground": true,
            "ticks": "",
            "zerolinecolor": "white"
           }
          },
          "shapedefaults": {
           "line": {
            "color": "#2a3f5f"
           }
          },
          "ternary": {
           "aaxis": {
            "gridcolor": "white",
            "linecolor": "white",
            "ticks": ""
           },
           "baxis": {
            "gridcolor": "white",
            "linecolor": "white",
            "ticks": ""
           },
           "bgcolor": "#E5ECF6",
           "caxis": {
            "gridcolor": "white",
            "linecolor": "white",
            "ticks": ""
           }
          },
          "title": {
           "x": 0.05
          },
          "xaxis": {
           "automargin": true,
           "gridcolor": "white",
           "linecolor": "white",
           "ticks": "",
           "title": {
            "standoff": 15
           },
           "zerolinecolor": "white",
           "zerolinewidth": 2
          },
          "yaxis": {
           "automargin": true,
           "gridcolor": "white",
           "linecolor": "white",
           "ticks": "",
           "title": {
            "standoff": 15
           },
           "zerolinecolor": "white",
           "zerolinewidth": 2
          }
         }
        },
        "width": 150,
        "xaxis": {
         "anchor": "y",
         "domain": [
          0,
          1
         ],
         "showticklabels": false
        },
        "yaxis": {
         "anchor": "x",
         "domain": [
          0,
          1
         ],
         "showticklabels": false
        }
       }
      }
     },
     "metadata": {},
     "output_type": "display_data"
    }
   ],
   "source": [
    "# Your code here - define arr4\n",
    "arr4 = einops.repeat(arr[0], \"c h w -> c (h 2) w\")\n",
    "\n",
    "display_array_as_img(arr4)"
   ]
  },
  {
   "cell_type": "markdown",
   "metadata": {},
   "source": [
    "<details><summary>Solution</summary>\n",
    "\n",
    "```python\n",
    "arr4 = einops.repeat(arr[0], \"c h w -> c (h 2) w\")\n",
    "```\n",
    "</details>"
   ]
  },
  {
   "cell_type": "markdown",
   "metadata": {},
   "source": [
    "#### (5) Split channels\n",
    "\n",
    "The image below was created by splitting out the 3 channels of the image (i.e. red, green, blue) and turning these into 3 stacked horizontal images. The output is 2D (the display function interprets this as a monochrome image)."
   ]
  },
  {
   "cell_type": "code",
   "execution_count": 18,
   "metadata": {},
   "outputs": [
    {
     "data": {
      "application/vnd.plotly.v1+json": {
       "config": {
        "displayModeBar": false,
        "plotlyServerURL": "https://plot.ly"
       },
       "data": [
        {
         "coloraxis": "coloraxis",
         "hovertemplate": "x: %{x}<br>y: %{y}<br>color: %{z}<extra></extra>",
         "name": "0",
         "type": "heatmap",
         "xaxis": "x",
         "yaxis": "y",
         "z": {
          "bdata": "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",
          "dtype": "u1",
          "shape": "150, 450"
         }
        }
       ],
       "layout": {
        "coloraxis": {
         "cmax": 255,
         "cmin": 0,
         "colorscale": [
          [
           0,
           "rgb(0, 0, 0)"
          ],
          [
           0.09090909090909091,
           "rgb(16, 16, 16)"
          ],
          [
           0.18181818181818182,
           "rgb(38, 38, 38)"
          ],
          [
           0.2727272727272727,
           "rgb(59, 59, 59)"
          ],
          [
           0.36363636363636365,
           "rgb(81, 80, 80)"
          ],
          [
           0.45454545454545453,
           "rgb(102, 101, 101)"
          ],
          [
           0.5454545454545454,
           "rgb(124, 123, 122)"
          ],
          [
           0.6363636363636364,
           "rgb(146, 146, 145)"
          ],
          [
           0.7272727272727273,
           "rgb(171, 171, 170)"
          ],
          [
           0.8181818181818182,
           "rgb(197, 197, 195)"
          ],
          [
           0.9090909090909091,
           "rgb(224, 224, 223)"
          ],
          [
           1,
           "rgb(254, 254, 253)"
          ]
         ],
         "showscale": false
        },
        "height": 150,
        "margin": {
         "b": 0,
         "l": 0,
         "r": 0,
         "t": 0
        },
        "template": {
         "data": {
          "bar": [
           {
            "error_x": {
             "color": "#2a3f5f"
            },
            "error_y": {
             "color": "#2a3f5f"
            },
            "marker": {
             "line": {
              "color": "#E5ECF6",
              "width": 0.5
             },
             "pattern": {
              "fillmode": "overlay",
              "size": 10,
              "solidity": 0.2
             }
            },
            "type": "bar"
           }
          ],
          "barpolar": [
           {
            "marker": {
             "line": {
              "color": "#E5ECF6",
              "width": 0.5
             },
             "pattern": {
              "fillmode": "overlay",
              "size": 10,
              "solidity": 0.2
             }
            },
            "type": "barpolar"
           }
          ],
          "carpet": [
           {
            "aaxis": {
             "endlinecolor": "#2a3f5f",
             "gridcolor": "white",
             "linecolor": "white",
             "minorgridcolor": "white",
             "startlinecolor": "#2a3f5f"
            },
            "baxis": {
             "endlinecolor": "#2a3f5f",
             "gridcolor": "white",
             "linecolor": "white",
             "minorgridcolor": "white",
             "startlinecolor": "#2a3f5f"
            },
            "type": "carpet"
           }
          ],
          "choropleth": [
           {
            "colorbar": {
             "outlinewidth": 0,
             "ticks": ""
            },
            "type": "choropleth"
           }
          ],
          "contour": [
           {
            "colorbar": {
             "outlinewidth": 0,
             "ticks": ""
            },
            "colorscale": [
             [
              0,
              "#0d0887"
             ],
             [
              0.1111111111111111,
              "#46039f"
             ],
             [
              0.2222222222222222,
              "#7201a8"
             ],
             [
              0.3333333333333333,
              "#9c179e"
             ],
             [
              0.4444444444444444,
              "#bd3786"
             ],
             [
              0.5555555555555556,
              "#d8576b"
             ],
             [
              0.6666666666666666,
              "#ed7953"
             ],
             [
              0.7777777777777778,
              "#fb9f3a"
             ],
             [
              0.8888888888888888,
              "#fdca26"
             ],
             [
              1,
              "#f0f921"
             ]
            ],
            "type": "contour"
           }
          ],
          "contourcarpet": [
           {
            "colorbar": {
             "outlinewidth": 0,
             "ticks": ""
            },
            "type": "contourcarpet"
           }
          ],
          "heatmap": [
           {
            "colorbar": {
             "outlinewidth": 0,
             "ticks": ""
            },
            "colorscale": [
             [
              0,
              "#0d0887"
             ],
             [
              0.1111111111111111,
              "#46039f"
             ],
             [
              0.2222222222222222,
              "#7201a8"
             ],
             [
              0.3333333333333333,
              "#9c179e"
             ],
             [
              0.4444444444444444,
              "#bd3786"
             ],
             [
              0.5555555555555556,
              "#d8576b"
             ],
             [
              0.6666666666666666,
              "#ed7953"
             ],
             [
              0.7777777777777778,
              "#fb9f3a"
             ],
             [
              0.8888888888888888,
              "#fdca26"
             ],
             [
              1,
              "#f0f921"
             ]
            ],
            "type": "heatmap"
           }
          ],
          "histogram": [
           {
            "marker": {
             "pattern": {
              "fillmode": "overlay",
              "size": 10,
              "solidity": 0.2
             }
            },
            "type": "histogram"
           }
          ],
          "histogram2d": [
           {
            "colorbar": {
             "outlinewidth": 0,
             "ticks": ""
            },
            "colorscale": [
             [
              0,
              "#0d0887"
             ],
             [
              0.1111111111111111,
              "#46039f"
             ],
             [
              0.2222222222222222,
              "#7201a8"
             ],
             [
              0.3333333333333333,
              "#9c179e"
             ],
             [
              0.4444444444444444,
              "#bd3786"
             ],
             [
              0.5555555555555556,
              "#d8576b"
             ],
             [
              0.6666666666666666,
              "#ed7953"
             ],
             [
              0.7777777777777778,
              "#fb9f3a"
             ],
             [
              0.8888888888888888,
              "#fdca26"
             ],
             [
              1,
              "#f0f921"
             ]
            ],
            "type": "histogram2d"
           }
          ],
          "histogram2dcontour": [
           {
            "colorbar": {
             "outlinewidth": 0,
             "ticks": ""
            },
            "colorscale": [
             [
              0,
              "#0d0887"
             ],
             [
              0.1111111111111111,
              "#46039f"
             ],
             [
              0.2222222222222222,
              "#7201a8"
             ],
             [
              0.3333333333333333,
              "#9c179e"
             ],
             [
              0.4444444444444444,
              "#bd3786"
             ],
             [
              0.5555555555555556,
              "#d8576b"
             ],
             [
              0.6666666666666666,
              "#ed7953"
             ],
             [
              0.7777777777777778,
              "#fb9f3a"
             ],
             [
              0.8888888888888888,
              "#fdca26"
             ],
             [
              1,
              "#f0f921"
             ]
            ],
            "type": "histogram2dcontour"
           }
          ],
          "mesh3d": [
           {
            "colorbar": {
             "outlinewidth": 0,
             "ticks": ""
            },
            "type": "mesh3d"
           }
          ],
          "parcoords": [
           {
            "line": {
             "colorbar": {
              "outlinewidth": 0,
              "ticks": ""
             }
            },
            "type": "parcoords"
           }
          ],
          "pie": [
           {
            "automargin": true,
            "type": "pie"
           }
          ],
          "scatter": [
           {
            "fillpattern": {
             "fillmode": "overlay",
             "size": 10,
             "solidity": 0.2
            },
            "type": "scatter"
           }
          ],
          "scatter3d": [
           {
            "line": {
             "colorbar": {
              "outlinewidth": 0,
              "ticks": ""
             }
            },
            "marker": {
             "colorbar": {
              "outlinewidth": 0,
              "ticks": ""
             }
            },
            "type": "scatter3d"
           }
          ],
          "scattercarpet": [
           {
            "marker": {
             "colorbar": {
              "outlinewidth": 0,
              "ticks": ""
             }
            },
            "type": "scattercarpet"
           }
          ],
          "scattergeo": [
           {
            "marker": {
             "colorbar": {
              "outlinewidth": 0,
              "ticks": ""
             }
            },
            "type": "scattergeo"
           }
          ],
          "scattergl": [
           {
            "marker": {
             "colorbar": {
              "outlinewidth": 0,
              "ticks": ""
             }
            },
            "type": "scattergl"
           }
          ],
          "scattermap": [
           {
            "marker": {
             "colorbar": {
              "outlinewidth": 0,
              "ticks": ""
             }
            },
            "type": "scattermap"
           }
          ],
          "scattermapbox": [
           {
            "marker": {
             "colorbar": {
              "outlinewidth": 0,
              "ticks": ""
             }
            },
            "type": "scattermapbox"
           }
          ],
          "scatterpolar": [
           {
            "marker": {
             "colorbar": {
              "outlinewidth": 0,
              "ticks": ""
             }
            },
            "type": "scatterpolar"
           }
          ],
          "scatterpolargl": [
           {
            "marker": {
             "colorbar": {
              "outlinewidth": 0,
              "ticks": ""
             }
            },
            "type": "scatterpolargl"
           }
          ],
          "scatterternary": [
           {
            "marker": {
             "colorbar": {
              "outlinewidth": 0,
              "ticks": ""
             }
            },
            "type": "scatterternary"
           }
          ],
          "surface": [
           {
            "colorbar": {
             "outlinewidth": 0,
             "ticks": ""
            },
            "colorscale": [
             [
              0,
              "#0d0887"
             ],
             [
              0.1111111111111111,
              "#46039f"
             ],
             [
              0.2222222222222222,
              "#7201a8"
             ],
             [
              0.3333333333333333,
              "#9c179e"
             ],
             [
              0.4444444444444444,
              "#bd3786"
             ],
             [
              0.5555555555555556,
              "#d8576b"
             ],
             [
              0.6666666666666666,
              "#ed7953"
             ],
             [
              0.7777777777777778,
              "#fb9f3a"
             ],
             [
              0.8888888888888888,
              "#fdca26"
             ],
             [
              1,
              "#f0f921"
             ]
            ],
            "type": "surface"
           }
          ],
          "table": [
           {
            "cells": {
             "fill": {
              "color": "#EBF0F8"
             },
             "line": {
              "color": "white"
             }
            },
            "header": {
             "fill": {
              "color": "#C8D4E3"
             },
             "line": {
              "color": "white"
             }
            },
            "type": "table"
           }
          ]
         },
         "layout": {
          "annotationdefaults": {
           "arrowcolor": "#2a3f5f",
           "arrowhead": 0,
           "arrowwidth": 1
          },
          "autotypenumbers": "strict",
          "coloraxis": {
           "colorbar": {
            "outlinewidth": 0,
            "ticks": ""
           }
          },
          "colorscale": {
           "diverging": [
            [
             0,
             "#8e0152"
            ],
            [
             0.1,
             "#c51b7d"
            ],
            [
             0.2,
             "#de77ae"
            ],
            [
             0.3,
             "#f1b6da"
            ],
            [
             0.4,
             "#fde0ef"
            ],
            [
             0.5,
             "#f7f7f7"
            ],
            [
             0.6,
             "#e6f5d0"
            ],
            [
             0.7,
             "#b8e186"
            ],
            [
             0.8,
             "#7fbc41"
            ],
            [
             0.9,
             "#4d9221"
            ],
            [
             1,
             "#276419"
            ]
           ],
           "sequential": [
            [
             0,
             "#0d0887"
            ],
            [
             0.1111111111111111,
             "#46039f"
            ],
            [
             0.2222222222222222,
             "#7201a8"
            ],
            [
             0.3333333333333333,
             "#9c179e"
            ],
            [
             0.4444444444444444,
             "#bd3786"
            ],
            [
             0.5555555555555556,
             "#d8576b"
            ],
            [
             0.6666666666666666,
             "#ed7953"
            ],
            [
             0.7777777777777778,
             "#fb9f3a"
            ],
            [
             0.8888888888888888,
             "#fdca26"
            ],
            [
             1,
             "#f0f921"
            ]
           ],
           "sequentialminus": [
            [
             0,
             "#0d0887"
            ],
            [
             0.1111111111111111,
             "#46039f"
            ],
            [
             0.2222222222222222,
             "#7201a8"
            ],
            [
             0.3333333333333333,
             "#9c179e"
            ],
            [
             0.4444444444444444,
             "#bd3786"
            ],
            [
             0.5555555555555556,
             "#d8576b"
            ],
            [
             0.6666666666666666,
             "#ed7953"
            ],
            [
             0.7777777777777778,
             "#fb9f3a"
            ],
            [
             0.8888888888888888,
             "#fdca26"
            ],
            [
             1,
             "#f0f921"
            ]
           ]
          },
          "colorway": [
           "#636efa",
           "#EF553B",
           "#00cc96",
           "#ab63fa",
           "#FFA15A",
           "#19d3f3",
           "#FF6692",
           "#B6E880",
           "#FF97FF",
           "#FECB52"
          ],
          "font": {
           "color": "#2a3f5f"
          },
          "geo": {
           "bgcolor": "white",
           "lakecolor": "white",
           "landcolor": "#E5ECF6",
           "showlakes": true,
           "showland": true,
           "subunitcolor": "white"
          },
          "hoverlabel": {
           "align": "left"
          },
          "hovermode": "closest",
          "mapbox": {
           "style": "light"
          },
          "paper_bgcolor": "white",
          "plot_bgcolor": "#E5ECF6",
          "polar": {
           "angularaxis": {
            "gridcolor": "white",
            "linecolor": "white",
            "ticks": ""
           },
           "bgcolor": "#E5ECF6",
           "radialaxis": {
            "gridcolor": "white",
            "linecolor": "white",
            "ticks": ""
           }
          },
          "scene": {
           "xaxis": {
            "backgroundcolor": "#E5ECF6",
            "gridcolor": "white",
            "gridwidth": 2,
            "linecolor": "white",
            "showbackground": true,
            "ticks": "",
            "zerolinecolor": "white"
           },
           "yaxis": {
            "backgroundcolor": "#E5ECF6",
            "gridcolor": "white",
            "gridwidth": 2,
            "linecolor": "white",
            "showbackground": true,
            "ticks": "",
            "zerolinecolor": "white"
           },
           "zaxis": {
            "backgroundcolor": "#E5ECF6",
            "gridcolor": "white",
            "gridwidth": 2,
            "linecolor": "white",
            "showbackground": true,
            "ticks": "",
            "zerolinecolor": "white"
           }
          },
          "shapedefaults": {
           "line": {
            "color": "#2a3f5f"
           }
          },
          "ternary": {
           "aaxis": {
            "gridcolor": "white",
            "linecolor": "white",
            "ticks": ""
           },
           "baxis": {
            "gridcolor": "white",
            "linecolor": "white",
            "ticks": ""
           },
           "bgcolor": "#E5ECF6",
           "caxis": {
            "gridcolor": "white",
            "linecolor": "white",
            "ticks": ""
           }
          },
          "title": {
           "x": 0.05
          },
          "xaxis": {
           "automargin": true,
           "gridcolor": "white",
           "linecolor": "white",
           "ticks": "",
           "title": {
            "standoff": 15
           },
           "zerolinecolor": "white",
           "zerolinewidth": 2
          },
          "yaxis": {
           "automargin": true,
           "gridcolor": "white",
           "linecolor": "white",
           "ticks": "",
           "title": {
            "standoff": 15
           },
           "zerolinecolor": "white",
           "zerolinewidth": 2
          }
         }
        },
        "width": 450,
        "xaxis": {
         "anchor": "y",
         "constrain": "domain",
         "domain": [
          0,
          1
         ],
         "scaleanchor": "y",
         "showticklabels": false
        },
        "yaxis": {
         "anchor": "x",
         "autorange": "reversed",
         "constrain": "domain",
         "domain": [
          0,
          1
         ],
         "showticklabels": false
        }
       }
      }
     },
     "metadata": {},
     "output_type": "display_data"
    }
   ],
   "source": [
    "display_soln_array_as_img(5)"
   ]
  },
  {
   "cell_type": "code",
   "execution_count": 19,
   "metadata": {},
   "outputs": [
    {
     "data": {
      "application/vnd.plotly.v1+json": {
       "config": {
        "displayModeBar": false,
        "plotlyServerURL": "https://plot.ly"
       },
       "data": [
        {
         "coloraxis": "coloraxis",
         "hovertemplate": "x: %{x}<br>y: %{y}<br>color: %{z}<extra></extra>",
         "name": "0",
         "type": "heatmap",
         "xaxis": "x",
         "yaxis": "y",
         "z": {
          "bdata": "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",
          "dtype": "u1",
          "shape": "150, 450"
         }
        }
       ],
       "layout": {
        "coloraxis": {
         "cmax": 255,
         "cmin": 0,
         "colorscale": [
          [
           0,
           "rgb(0, 0, 0)"
          ],
          [
           0.09090909090909091,
           "rgb(16, 16, 16)"
          ],
          [
           0.18181818181818182,
           "rgb(38, 38, 38)"
          ],
          [
           0.2727272727272727,
           "rgb(59, 59, 59)"
          ],
          [
           0.36363636363636365,
           "rgb(81, 80, 80)"
          ],
          [
           0.45454545454545453,
           "rgb(102, 101, 101)"
          ],
          [
           0.5454545454545454,
           "rgb(124, 123, 122)"
          ],
          [
           0.6363636363636364,
           "rgb(146, 146, 145)"
          ],
          [
           0.7272727272727273,
           "rgb(171, 171, 170)"
          ],
          [
           0.8181818181818182,
           "rgb(197, 197, 195)"
          ],
          [
           0.9090909090909091,
           "rgb(224, 224, 223)"
          ],
          [
           1,
           "rgb(254, 254, 253)"
          ]
         ],
         "showscale": false
        },
        "height": 150,
        "margin": {
         "b": 0,
         "l": 0,
         "r": 0,
         "t": 0
        },
        "template": {
         "data": {
          "bar": [
           {
            "error_x": {
             "color": "#2a3f5f"
            },
            "error_y": {
             "color": "#2a3f5f"
            },
            "marker": {
             "line": {
              "color": "#E5ECF6",
              "width": 0.5
             },
             "pattern": {
              "fillmode": "overlay",
              "size": 10,
              "solidity": 0.2
             }
            },
            "type": "bar"
           }
          ],
          "barpolar": [
           {
            "marker": {
             "line": {
              "color": "#E5ECF6",
              "width": 0.5
             },
             "pattern": {
              "fillmode": "overlay",
              "size": 10,
              "solidity": 0.2
             }
            },
            "type": "barpolar"
           }
          ],
          "carpet": [
           {
            "aaxis": {
             "endlinecolor": "#2a3f5f",
             "gridcolor": "white",
             "linecolor": "white",
             "minorgridcolor": "white",
             "startlinecolor": "#2a3f5f"
            },
            "baxis": {
             "endlinecolor": "#2a3f5f",
             "gridcolor": "white",
             "linecolor": "white",
             "minorgridcolor": "white",
             "startlinecolor": "#2a3f5f"
            },
            "type": "carpet"
           }
          ],
          "choropleth": [
           {
            "colorbar": {
             "outlinewidth": 0,
             "ticks": ""
            },
            "type": "choropleth"
           }
          ],
          "contour": [
           {
            "colorbar": {
             "outlinewidth": 0,
             "ticks": ""
            },
            "colorscale": [
             [
              0,
              "#0d0887"
             ],
             [
              0.1111111111111111,
              "#46039f"
             ],
             [
              0.2222222222222222,
              "#7201a8"
             ],
             [
              0.3333333333333333,
              "#9c179e"
             ],
             [
              0.4444444444444444,
              "#bd3786"
             ],
             [
              0.5555555555555556,
              "#d8576b"
             ],
             [
              0.6666666666666666,
              "#ed7953"
             ],
             [
              0.7777777777777778,
              "#fb9f3a"
             ],
             [
              0.8888888888888888,
              "#fdca26"
             ],
             [
              1,
              "#f0f921"
             ]
            ],
            "type": "contour"
           }
          ],
          "contourcarpet": [
           {
            "colorbar": {
             "outlinewidth": 0,
             "ticks": ""
            },
            "type": "contourcarpet"
           }
          ],
          "heatmap": [
           {
            "colorbar": {
             "outlinewidth": 0,
             "ticks": ""
            },
            "colorscale": [
             [
              0,
              "#0d0887"
             ],
             [
              0.1111111111111111,
              "#46039f"
             ],
             [
              0.2222222222222222,
              "#7201a8"
             ],
             [
              0.3333333333333333,
              "#9c179e"
             ],
             [
              0.4444444444444444,
              "#bd3786"
             ],
             [
              0.5555555555555556,
              "#d8576b"
             ],
             [
              0.6666666666666666,
              "#ed7953"
             ],
             [
              0.7777777777777778,
              "#fb9f3a"
             ],
             [
              0.8888888888888888,
              "#fdca26"
             ],
             [
              1,
              "#f0f921"
             ]
            ],
            "type": "heatmap"
           }
          ],
          "histogram": [
           {
            "marker": {
             "pattern": {
              "fillmode": "overlay",
              "size": 10,
              "solidity": 0.2
             }
            },
            "type": "histogram"
           }
          ],
          "histogram2d": [
           {
            "colorbar": {
             "outlinewidth": 0,
             "ticks": ""
            },
            "colorscale": [
             [
              0,
              "#0d0887"
             ],
             [
              0.1111111111111111,
              "#46039f"
             ],
             [
              0.2222222222222222,
              "#7201a8"
             ],
             [
              0.3333333333333333,
              "#9c179e"
             ],
             [
              0.4444444444444444,
              "#bd3786"
             ],
             [
              0.5555555555555556,
              "#d8576b"
             ],
             [
              0.6666666666666666,
              "#ed7953"
             ],
             [
              0.7777777777777778,
              "#fb9f3a"
             ],
             [
              0.8888888888888888,
              "#fdca26"
             ],
             [
              1,
              "#f0f921"
             ]
            ],
            "type": "histogram2d"
           }
          ],
          "histogram2dcontour": [
           {
            "colorbar": {
             "outlinewidth": 0,
             "ticks": ""
            },
            "colorscale": [
             [
              0,
              "#0d0887"
             ],
             [
              0.1111111111111111,
              "#46039f"
             ],
             [
              0.2222222222222222,
              "#7201a8"
             ],
             [
              0.3333333333333333,
              "#9c179e"
             ],
             [
              0.4444444444444444,
              "#bd3786"
             ],
             [
              0.5555555555555556,
              "#d8576b"
             ],
             [
              0.6666666666666666,
              "#ed7953"
             ],
             [
              0.7777777777777778,
              "#fb9f3a"
             ],
             [
              0.8888888888888888,
              "#fdca26"
             ],
             [
              1,
              "#f0f921"
             ]
            ],
            "type": "histogram2dcontour"
           }
          ],
          "mesh3d": [
           {
            "colorbar": {
             "outlinewidth": 0,
             "ticks": ""
            },
            "type": "mesh3d"
           }
          ],
          "parcoords": [
           {
            "line": {
             "colorbar": {
              "outlinewidth": 0,
              "ticks": ""
             }
            },
            "type": "parcoords"
           }
          ],
          "pie": [
           {
            "automargin": true,
            "type": "pie"
           }
          ],
          "scatter": [
           {
            "fillpattern": {
             "fillmode": "overlay",
             "size": 10,
             "solidity": 0.2
            },
            "type": "scatter"
           }
          ],
          "scatter3d": [
           {
            "line": {
             "colorbar": {
              "outlinewidth": 0,
              "ticks": ""
             }
            },
            "marker": {
             "colorbar": {
              "outlinewidth": 0,
              "ticks": ""
             }
            },
            "type": "scatter3d"
           }
          ],
          "scattercarpet": [
           {
            "marker": {
             "colorbar": {
              "outlinewidth": 0,
              "ticks": ""
             }
            },
            "type": "scattercarpet"
           }
          ],
          "scattergeo": [
           {
            "marker": {
             "colorbar": {
              "outlinewidth": 0,
              "ticks": ""
             }
            },
            "type": "scattergeo"
           }
          ],
          "scattergl": [
           {
            "marker": {
             "colorbar": {
              "outlinewidth": 0,
              "ticks": ""
             }
            },
            "type": "scattergl"
           }
          ],
          "scattermap": [
           {
            "marker": {
             "colorbar": {
              "outlinewidth": 0,
              "ticks": ""
             }
            },
            "type": "scattermap"
           }
          ],
          "scattermapbox": [
           {
            "marker": {
             "colorbar": {
              "outlinewidth": 0,
              "ticks": ""
             }
            },
            "type": "scattermapbox"
           }
          ],
          "scatterpolar": [
           {
            "marker": {
             "colorbar": {
              "outlinewidth": 0,
              "ticks": ""
             }
            },
            "type": "scatterpolar"
           }
          ],
          "scatterpolargl": [
           {
            "marker": {
             "colorbar": {
              "outlinewidth": 0,
              "ticks": ""
             }
            },
            "type": "scatterpolargl"
           }
          ],
          "scatterternary": [
           {
            "marker": {
             "colorbar": {
              "outlinewidth": 0,
              "ticks": ""
             }
            },
            "type": "scatterternary"
           }
          ],
          "surface": [
           {
            "colorbar": {
             "outlinewidth": 0,
             "ticks": ""
            },
            "colorscale": [
             [
              0,
              "#0d0887"
             ],
             [
              0.1111111111111111,
              "#46039f"
             ],
             [
              0.2222222222222222,
              "#7201a8"
             ],
             [
              0.3333333333333333,
              "#9c179e"
             ],
             [
              0.4444444444444444,
              "#bd3786"
             ],
             [
              0.5555555555555556,
              "#d8576b"
             ],
             [
              0.6666666666666666,
              "#ed7953"
             ],
             [
              0.7777777777777778,
              "#fb9f3a"
             ],
             [
              0.8888888888888888,
              "#fdca26"
             ],
             [
              1,
              "#f0f921"
             ]
            ],
            "type": "surface"
           }
          ],
          "table": [
           {
            "cells": {
             "fill": {
              "color": "#EBF0F8"
             },
             "line": {
              "color": "white"
             }
            },
            "header": {
             "fill": {
              "color": "#C8D4E3"
             },
             "line": {
              "color": "white"
             }
            },
            "type": "table"
           }
          ]
         },
         "layout": {
          "annotationdefaults": {
           "arrowcolor": "#2a3f5f",
           "arrowhead": 0,
           "arrowwidth": 1
          },
          "autotypenumbers": "strict",
          "coloraxis": {
           "colorbar": {
            "outlinewidth": 0,
            "ticks": ""
           }
          },
          "colorscale": {
           "diverging": [
            [
             0,
             "#8e0152"
            ],
            [
             0.1,
             "#c51b7d"
            ],
            [
             0.2,
             "#de77ae"
            ],
            [
             0.3,
             "#f1b6da"
            ],
            [
             0.4,
             "#fde0ef"
            ],
            [
             0.5,
             "#f7f7f7"
            ],
            [
             0.6,
             "#e6f5d0"
            ],
            [
             0.7,
             "#b8e186"
            ],
            [
             0.8,
             "#7fbc41"
            ],
            [
             0.9,
             "#4d9221"
            ],
            [
             1,
             "#276419"
            ]
           ],
           "sequential": [
            [
             0,
             "#0d0887"
            ],
            [
             0.1111111111111111,
             "#46039f"
            ],
            [
             0.2222222222222222,
             "#7201a8"
            ],
            [
             0.3333333333333333,
             "#9c179e"
            ],
            [
             0.4444444444444444,
             "#bd3786"
            ],
            [
             0.5555555555555556,
             "#d8576b"
            ],
            [
             0.6666666666666666,
             "#ed7953"
            ],
            [
             0.7777777777777778,
             "#fb9f3a"
            ],
            [
             0.8888888888888888,
             "#fdca26"
            ],
            [
             1,
             "#f0f921"
            ]
           ],
           "sequentialminus": [
            [
             0,
             "#0d0887"
            ],
            [
             0.1111111111111111,
             "#46039f"
            ],
            [
             0.2222222222222222,
             "#7201a8"
            ],
            [
             0.3333333333333333,
             "#9c179e"
            ],
            [
             0.4444444444444444,
             "#bd3786"
            ],
            [
             0.5555555555555556,
             "#d8576b"
            ],
            [
             0.6666666666666666,
             "#ed7953"
            ],
            [
             0.7777777777777778,
             "#fb9f3a"
            ],
            [
             0.8888888888888888,
             "#fdca26"
            ],
            [
             1,
             "#f0f921"
            ]
           ]
          },
          "colorway": [
           "#636efa",
           "#EF553B",
           "#00cc96",
           "#ab63fa",
           "#FFA15A",
           "#19d3f3",
           "#FF6692",
           "#B6E880",
           "#FF97FF",
           "#FECB52"
          ],
          "font": {
           "color": "#2a3f5f"
          },
          "geo": {
           "bgcolor": "white",
           "lakecolor": "white",
           "landcolor": "#E5ECF6",
           "showlakes": true,
           "showland": true,
           "subunitcolor": "white"
          },
          "hoverlabel": {
           "align": "left"
          },
          "hovermode": "closest",
          "mapbox": {
           "style": "light"
          },
          "paper_bgcolor": "white",
          "plot_bgcolor": "#E5ECF6",
          "polar": {
           "angularaxis": {
            "gridcolor": "white",
            "linecolor": "white",
            "ticks": ""
           },
           "bgcolor": "#E5ECF6",
           "radialaxis": {
            "gridcolor": "white",
            "linecolor": "white",
            "ticks": ""
           }
          },
          "scene": {
           "xaxis": {
            "backgroundcolor": "#E5ECF6",
            "gridcolor": "white",
            "gridwidth": 2,
            "linecolor": "white",
            "showbackground": true,
            "ticks": "",
            "zerolinecolor": "white"
           },
           "yaxis": {
            "backgroundcolor": "#E5ECF6",
            "gridcolor": "white",
            "gridwidth": 2,
            "linecolor": "white",
            "showbackground": true,
            "ticks": "",
            "zerolinecolor": "white"
           },
           "zaxis": {
            "backgroundcolor": "#E5ECF6",
            "gridcolor": "white",
            "gridwidth": 2,
            "linecolor": "white",
            "showbackground": true,
            "ticks": "",
            "zerolinecolor": "white"
           }
          },
          "shapedefaults": {
           "line": {
            "color": "#2a3f5f"
           }
          },
          "ternary": {
           "aaxis": {
            "gridcolor": "white",
            "linecolor": "white",
            "ticks": ""
           },
           "baxis": {
            "gridcolor": "white",
            "linecolor": "white",
            "ticks": ""
           },
           "bgcolor": "#E5ECF6",
           "caxis": {
            "gridcolor": "white",
            "linecolor": "white",
            "ticks": ""
           }
          },
          "title": {
           "x": 0.05
          },
          "xaxis": {
           "automargin": true,
           "gridcolor": "white",
           "linecolor": "white",
           "ticks": "",
           "title": {
            "standoff": 15
           },
           "zerolinecolor": "white",
           "zerolinewidth": 2
          },
          "yaxis": {
           "automargin": true,
           "gridcolor": "white",
           "linecolor": "white",
           "ticks": "",
           "title": {
            "standoff": 15
           },
           "zerolinecolor": "white",
           "zerolinewidth": 2
          }
         }
        },
        "width": 450,
        "xaxis": {
         "anchor": "y",
         "constrain": "domain",
         "domain": [
          0,
          1
         ],
         "scaleanchor": "y",
         "showticklabels": false
        },
        "yaxis": {
         "anchor": "x",
         "autorange": "reversed",
         "constrain": "domain",
         "domain": [
          0,
          1
         ],
         "showticklabels": false
        }
       }
      }
     },
     "metadata": {},
     "output_type": "display_data"
    }
   ],
   "source": [
    "# Your code here - define arr5\n",
    "arr5 = einops.rearrange(arr[0], \"c h w -> (h) (c w)\")\n",
    "\n",
    "display_array_as_img(arr5)"
   ]
  },
  {
   "cell_type": "markdown",
   "metadata": {},
   "source": [
    "<details><summary>Solution</summary>\n",
    "\n",
    "```python\n",
    "arr5 = einops.rearrange(arr[0], \"c h w -> h (c w)\")\n",
    "```\n",
    "</details>"
   ]
  },
  {
   "cell_type": "markdown",
   "metadata": {},
   "source": [
    "#### (6) Stack into rows & cols\n",
    "\n",
    "This requires a rearrange operation with dimensions for row and column stacking."
   ]
  },
  {
   "cell_type": "code",
   "execution_count": 20,
   "metadata": {},
   "outputs": [
    {
     "data": {
      "application/vnd.plotly.v1+json": {
       "config": {
        "displayModeBar": false,
        "plotlyServerURL": "https://plot.ly"
       },
       "data": [
        {
         "hovertemplate": "x: %{x}<br>y: %{y}<br>color: [%{z[0]}, %{z[1]}, %{z[2]}]<extra></extra>",
         "name": "0",
         "source": "data:image/png;base64,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",
         "type": "image",
         "xaxis": "x",
         "yaxis": "y"
        }
       ],
       "layout": {
        "coloraxis": {
         "showscale": false
        },
        "height": 300,
        "margin": {
         "b": 0,
         "l": 0,
         "r": 0,
         "t": 0
        },
        "template": {
         "data": {
          "bar": [
           {
            "error_x": {
             "color": "#2a3f5f"
            },
            "error_y": {
             "color": "#2a3f5f"
            },
            "marker": {
             "line": {
              "color": "#E5ECF6",
              "width": 0.5
             },
             "pattern": {
              "fillmode": "overlay",
              "size": 10,
              "solidity": 0.2
             }
            },
            "type": "bar"
           }
          ],
          "barpolar": [
           {
            "marker": {
             "line": {
              "color": "#E5ECF6",
              "width": 0.5
             },
             "pattern": {
              "fillmode": "overlay",
              "size": 10,
              "solidity": 0.2
             }
            },
            "type": "barpolar"
           }
          ],
          "carpet": [
           {
            "aaxis": {
             "endlinecolor": "#2a3f5f",
             "gridcolor": "white",
             "linecolor": "white",
             "minorgridcolor": "white",
             "startlinecolor": "#2a3f5f"
            },
            "baxis": {
             "endlinecolor": "#2a3f5f",
             "gridcolor": "white",
             "linecolor": "white",
             "minorgridcolor": "white",
             "startlinecolor": "#2a3f5f"
            },
            "type": "carpet"
           }
          ],
          "choropleth": [
           {
            "colorbar": {
             "outlinewidth": 0,
             "ticks": ""
            },
            "type": "choropleth"
           }
          ],
          "contour": [
           {
            "colorbar": {
             "outlinewidth": 0,
             "ticks": ""
            },
            "colorscale": [
             [
              0,
              "#0d0887"
             ],
             [
              0.1111111111111111,
              "#46039f"
             ],
             [
              0.2222222222222222,
              "#7201a8"
             ],
             [
              0.3333333333333333,
              "#9c179e"
             ],
             [
              0.4444444444444444,
              "#bd3786"
             ],
             [
              0.5555555555555556,
              "#d8576b"
             ],
             [
              0.6666666666666666,
              "#ed7953"
             ],
             [
              0.7777777777777778,
              "#fb9f3a"
             ],
             [
              0.8888888888888888,
              "#fdca26"
             ],
             [
              1,
              "#f0f921"
             ]
            ],
            "type": "contour"
           }
          ],
          "contourcarpet": [
           {
            "colorbar": {
             "outlinewidth": 0,
             "ticks": ""
            },
            "type": "contourcarpet"
           }
          ],
          "heatmap": [
           {
            "colorbar": {
             "outlinewidth": 0,
             "ticks": ""
            },
            "colorscale": [
             [
              0,
              "#0d0887"
             ],
             [
              0.1111111111111111,
              "#46039f"
             ],
             [
              0.2222222222222222,
              "#7201a8"
             ],
             [
              0.3333333333333333,
              "#9c179e"
             ],
             [
              0.4444444444444444,
              "#bd3786"
             ],
             [
              0.5555555555555556,
              "#d8576b"
             ],
             [
              0.6666666666666666,
              "#ed7953"
             ],
             [
              0.7777777777777778,
              "#fb9f3a"
             ],
             [
              0.8888888888888888,
              "#fdca26"
             ],
             [
              1,
              "#f0f921"
             ]
            ],
            "type": "heatmap"
           }
          ],
          "histogram": [
           {
            "marker": {
             "pattern": {
              "fillmode": "overlay",
              "size": 10,
              "solidity": 0.2
             }
            },
            "type": "histogram"
           }
          ],
          "histogram2d": [
           {
            "colorbar": {
             "outlinewidth": 0,
             "ticks": ""
            },
            "colorscale": [
             [
              0,
              "#0d0887"
             ],
             [
              0.1111111111111111,
              "#46039f"
             ],
             [
              0.2222222222222222,
              "#7201a8"
             ],
             [
              0.3333333333333333,
              "#9c179e"
             ],
             [
              0.4444444444444444,
              "#bd3786"
             ],
             [
              0.5555555555555556,
              "#d8576b"
             ],
             [
              0.6666666666666666,
              "#ed7953"
             ],
             [
              0.7777777777777778,
              "#fb9f3a"
             ],
             [
              0.8888888888888888,
              "#fdca26"
             ],
             [
              1,
              "#f0f921"
             ]
            ],
            "type": "histogram2d"
           }
          ],
          "histogram2dcontour": [
           {
            "colorbar": {
             "outlinewidth": 0,
             "ticks": ""
            },
            "colorscale": [
             [
              0,
              "#0d0887"
             ],
             [
              0.1111111111111111,
              "#46039f"
             ],
             [
              0.2222222222222222,
              "#7201a8"
             ],
             [
              0.3333333333333333,
              "#9c179e"
             ],
             [
              0.4444444444444444,
              "#bd3786"
             ],
             [
              0.5555555555555556,
              "#d8576b"
             ],
             [
              0.6666666666666666,
              "#ed7953"
             ],
             [
              0.7777777777777778,
              "#fb9f3a"
             ],
             [
              0.8888888888888888,
              "#fdca26"
             ],
             [
              1,
              "#f0f921"
             ]
            ],
            "type": "histogram2dcontour"
           }
          ],
          "mesh3d": [
           {
            "colorbar": {
             "outlinewidth": 0,
             "ticks": ""
            },
            "type": "mesh3d"
           }
          ],
          "parcoords": [
           {
            "line": {
             "colorbar": {
              "outlinewidth": 0,
              "ticks": ""
             }
            },
            "type": "parcoords"
           }
          ],
          "pie": [
           {
            "automargin": true,
            "type": "pie"
           }
          ],
          "scatter": [
           {
            "fillpattern": {
             "fillmode": "overlay",
             "size": 10,
             "solidity": 0.2
            },
            "type": "scatter"
           }
          ],
          "scatter3d": [
           {
            "line": {
             "colorbar": {
              "outlinewidth": 0,
              "ticks": ""
             }
            },
            "marker": {
             "colorbar": {
              "outlinewidth": 0,
              "ticks": ""
             }
            },
            "type": "scatter3d"
           }
          ],
          "scattercarpet": [
           {
            "marker": {
             "colorbar": {
              "outlinewidth": 0,
              "ticks": ""
             }
            },
            "type": "scattercarpet"
           }
          ],
          "scattergeo": [
           {
            "marker": {
             "colorbar": {
              "outlinewidth": 0,
              "ticks": ""
             }
            },
            "type": "scattergeo"
           }
          ],
          "scattergl": [
           {
            "marker": {
             "colorbar": {
              "outlinewidth": 0,
              "ticks": ""
             }
            },
            "type": "scattergl"
           }
          ],
          "scattermap": [
           {
            "marker": {
             "colorbar": {
              "outlinewidth": 0,
              "ticks": ""
             }
            },
            "type": "scattermap"
           }
          ],
          "scattermapbox": [
           {
            "marker": {
             "colorbar": {
              "outlinewidth": 0,
              "ticks": ""
             }
            },
            "type": "scattermapbox"
           }
          ],
          "scatterpolar": [
           {
            "marker": {
             "colorbar": {
              "outlinewidth": 0,
              "ticks": ""
             }
            },
            "type": "scatterpolar"
           }
          ],
          "scatterpolargl": [
           {
            "marker": {
             "colorbar": {
              "outlinewidth": 0,
              "ticks": ""
             }
            },
            "type": "scatterpolargl"
           }
          ],
          "scatterternary": [
           {
            "marker": {
             "colorbar": {
              "outlinewidth": 0,
              "ticks": ""
             }
            },
            "type": "scatterternary"
           }
          ],
          "surface": [
           {
            "colorbar": {
             "outlinewidth": 0,
             "ticks": ""
            },
            "colorscale": [
             [
              0,
              "#0d0887"
             ],
             [
              0.1111111111111111,
              "#46039f"
             ],
             [
              0.2222222222222222,
              "#7201a8"
             ],
             [
              0.3333333333333333,
              "#9c179e"
             ],
             [
              0.4444444444444444,
              "#bd3786"
             ],
             [
              0.5555555555555556,
              "#d8576b"
             ],
             [
              0.6666666666666666,
              "#ed7953"
             ],
             [
              0.7777777777777778,
              "#fb9f3a"
             ],
             [
              0.8888888888888888,
              "#fdca26"
             ],
             [
              1,
              "#f0f921"
             ]
            ],
            "type": "surface"
           }
          ],
          "table": [
           {
            "cells": {
             "fill": {
              "color": "#EBF0F8"
             },
             "line": {
              "color": "white"
             }
            },
            "header": {
             "fill": {
              "color": "#C8D4E3"
             },
             "line": {
              "color": "white"
             }
            },
            "type": "table"
           }
          ]
         },
         "layout": {
          "annotationdefaults": {
           "arrowcolor": "#2a3f5f",
           "arrowhead": 0,
           "arrowwidth": 1
          },
          "autotypenumbers": "strict",
          "coloraxis": {
           "colorbar": {
            "outlinewidth": 0,
            "ticks": ""
           }
          },
          "colorscale": {
           "diverging": [
            [
             0,
             "#8e0152"
            ],
            [
             0.1,
             "#c51b7d"
            ],
            [
             0.2,
             "#de77ae"
            ],
            [
             0.3,
             "#f1b6da"
            ],
            [
             0.4,
             "#fde0ef"
            ],
            [
             0.5,
             "#f7f7f7"
            ],
            [
             0.6,
             "#e6f5d0"
            ],
            [
             0.7,
             "#b8e186"
            ],
            [
             0.8,
             "#7fbc41"
            ],
            [
             0.9,
             "#4d9221"
            ],
            [
             1,
             "#276419"
            ]
           ],
           "sequential": [
            [
             0,
             "#0d0887"
            ],
            [
             0.1111111111111111,
             "#46039f"
            ],
            [
             0.2222222222222222,
             "#7201a8"
            ],
            [
             0.3333333333333333,
             "#9c179e"
            ],
            [
             0.4444444444444444,
             "#bd3786"
            ],
            [
             0.5555555555555556,
             "#d8576b"
            ],
            [
             0.6666666666666666,
             "#ed7953"
            ],
            [
             0.7777777777777778,
             "#fb9f3a"
            ],
            [
             0.8888888888888888,
             "#fdca26"
            ],
            [
             1,
             "#f0f921"
            ]
           ],
           "sequentialminus": [
            [
             0,
             "#0d0887"
            ],
            [
             0.1111111111111111,
             "#46039f"
            ],
            [
             0.2222222222222222,
             "#7201a8"
            ],
            [
             0.3333333333333333,
             "#9c179e"
            ],
            [
             0.4444444444444444,
             "#bd3786"
            ],
            [
             0.5555555555555556,
             "#d8576b"
            ],
            [
             0.6666666666666666,
             "#ed7953"
            ],
            [
             0.7777777777777778,
             "#fb9f3a"
            ],
            [
             0.8888888888888888,
             "#fdca26"
            ],
            [
             1,
             "#f0f921"
            ]
           ]
          },
          "colorway": [
           "#636efa",
           "#EF553B",
           "#00cc96",
           "#ab63fa",
           "#FFA15A",
           "#19d3f3",
           "#FF6692",
           "#B6E880",
           "#FF97FF",
           "#FECB52"
          ],
          "font": {
           "color": "#2a3f5f"
          },
          "geo": {
           "bgcolor": "white",
           "lakecolor": "white",
           "landcolor": "#E5ECF6",
           "showlakes": true,
           "showland": true,
           "subunitcolor": "white"
          },
          "hoverlabel": {
           "align": "left"
          },
          "hovermode": "closest",
          "mapbox": {
           "style": "light"
          },
          "paper_bgcolor": "white",
          "plot_bgcolor": "#E5ECF6",
          "polar": {
           "angularaxis": {
            "gridcolor": "white",
            "linecolor": "white",
            "ticks": ""
           },
           "bgcolor": "#E5ECF6",
           "radialaxis": {
            "gridcolor": "white",
            "linecolor": "white",
            "ticks": ""
           }
          },
          "scene": {
           "xaxis": {
            "backgroundcolor": "#E5ECF6",
            "gridcolor": "white",
            "gridwidth": 2,
            "linecolor": "white",
            "showbackground": true,
            "ticks": "",
            "zerolinecolor": "white"
           },
           "yaxis": {
            "backgroundcolor": "#E5ECF6",
            "gridcolor": "white",
            "gridwidth": 2,
            "linecolor": "white",
            "showbackground": true,
            "ticks": "",
            "zerolinecolor": "white"
           },
           "zaxis": {
            "backgroundcolor": "#E5ECF6",
            "gridcolor": "white",
            "gridwidth": 2,
            "linecolor": "white",
            "showbackground": true,
            "ticks": "",
            "zerolinecolor": "white"
           }
          },
          "shapedefaults": {
           "line": {
            "color": "#2a3f5f"
           }
          },
          "ternary": {
           "aaxis": {
            "gridcolor": "white",
            "linecolor": "white",
            "ticks": ""
           },
           "baxis": {
            "gridcolor": "white",
            "linecolor": "white",
            "ticks": ""
           },
           "bgcolor": "#E5ECF6",
           "caxis": {
            "gridcolor": "white",
            "linecolor": "white",
            "ticks": ""
           }
          },
          "title": {
           "x": 0.05
          },
          "xaxis": {
           "automargin": true,
           "gridcolor": "white",
           "linecolor": "white",
           "ticks": "",
           "title": {
            "standoff": 15
           },
           "zerolinecolor": "white",
           "zerolinewidth": 2
          },
          "yaxis": {
           "automargin": true,
           "gridcolor": "white",
           "linecolor": "white",
           "ticks": "",
           "title": {
            "standoff": 15
           },
           "zerolinecolor": "white",
           "zerolinewidth": 2
          }
         }
        },
        "width": 450,
        "xaxis": {
         "anchor": "y",
         "domain": [
          0,
          1
         ],
         "showticklabels": false
        },
        "yaxis": {
         "anchor": "x",
         "domain": [
          0,
          1
         ],
         "showticklabels": false
        }
       }
      }
     },
     "metadata": {},
     "output_type": "display_data"
    }
   ],
   "source": [
    "display_soln_array_as_img(6)"
   ]
  },
  {
   "cell_type": "code",
   "execution_count": 21,
   "metadata": {},
   "outputs": [
    {
     "data": {
      "application/vnd.plotly.v1+json": {
       "config": {
        "displayModeBar": false,
        "plotlyServerURL": "https://plot.ly"
       },
       "data": [
        {
         "hovertemplate": "x: %{x}<br>y: %{y}<br>color: [%{z[0]}, %{z[1]}, %{z[2]}]<extra></extra>",
         "name": "0",
         "source": "data:image/png;base64,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",
         "type": "image",
         "xaxis": "x",
         "yaxis": "y"
        }
       ],
       "layout": {
        "coloraxis": {
         "showscale": false
        },
        "height": 300,
        "margin": {
         "b": 0,
         "l": 0,
         "r": 0,
         "t": 0
        },
        "template": {
         "data": {
          "bar": [
           {
            "error_x": {
             "color": "#2a3f5f"
            },
            "error_y": {
             "color": "#2a3f5f"
            },
            "marker": {
             "line": {
              "color": "#E5ECF6",
              "width": 0.5
             },
             "pattern": {
              "fillmode": "overlay",
              "size": 10,
              "solidity": 0.2
             }
            },
            "type": "bar"
           }
          ],
          "barpolar": [
           {
            "marker": {
             "line": {
              "color": "#E5ECF6",
              "width": 0.5
             },
             "pattern": {
              "fillmode": "overlay",
              "size": 10,
              "solidity": 0.2
             }
            },
            "type": "barpolar"
           }
          ],
          "carpet": [
           {
            "aaxis": {
             "endlinecolor": "#2a3f5f",
             "gridcolor": "white",
             "linecolor": "white",
             "minorgridcolor": "white",
             "startlinecolor": "#2a3f5f"
            },
            "baxis": {
             "endlinecolor": "#2a3f5f",
             "gridcolor": "white",
             "linecolor": "white",
             "minorgridcolor": "white",
             "startlinecolor": "#2a3f5f"
            },
            "type": "carpet"
           }
          ],
          "choropleth": [
           {
            "colorbar": {
             "outlinewidth": 0,
             "ticks": ""
            },
            "type": "choropleth"
           }
          ],
          "contour": [
           {
            "colorbar": {
             "outlinewidth": 0,
             "ticks": ""
            },
            "colorscale": [
             [
              0,
              "#0d0887"
             ],
             [
              0.1111111111111111,
              "#46039f"
             ],
             [
              0.2222222222222222,
              "#7201a8"
             ],
             [
              0.3333333333333333,
              "#9c179e"
             ],
             [
              0.4444444444444444,
              "#bd3786"
             ],
             [
              0.5555555555555556,
              "#d8576b"
             ],
             [
              0.6666666666666666,
              "#ed7953"
             ],
             [
              0.7777777777777778,
              "#fb9f3a"
             ],
             [
              0.8888888888888888,
              "#fdca26"
             ],
             [
              1,
              "#f0f921"
             ]
            ],
            "type": "contour"
           }
          ],
          "contourcarpet": [
           {
            "colorbar": {
             "outlinewidth": 0,
             "ticks": ""
            },
            "type": "contourcarpet"
           }
          ],
          "heatmap": [
           {
            "colorbar": {
             "outlinewidth": 0,
             "ticks": ""
            },
            "colorscale": [
             [
              0,
              "#0d0887"
             ],
             [
              0.1111111111111111,
              "#46039f"
             ],
             [
              0.2222222222222222,
              "#7201a8"
             ],
             [
              0.3333333333333333,
              "#9c179e"
             ],
             [
              0.4444444444444444,
              "#bd3786"
             ],
             [
              0.5555555555555556,
              "#d8576b"
             ],
             [
              0.6666666666666666,
              "#ed7953"
             ],
             [
              0.7777777777777778,
              "#fb9f3a"
             ],
             [
              0.8888888888888888,
              "#fdca26"
             ],
             [
              1,
              "#f0f921"
             ]
            ],
            "type": "heatmap"
           }
          ],
          "histogram": [
           {
            "marker": {
             "pattern": {
              "fillmode": "overlay",
              "size": 10,
              "solidity": 0.2
             }
            },
            "type": "histogram"
           }
          ],
          "histogram2d": [
           {
            "colorbar": {
             "outlinewidth": 0,
             "ticks": ""
            },
            "colorscale": [
             [
              0,
              "#0d0887"
             ],
             [
              0.1111111111111111,
              "#46039f"
             ],
             [
              0.2222222222222222,
              "#7201a8"
             ],
             [
              0.3333333333333333,
              "#9c179e"
             ],
             [
              0.4444444444444444,
              "#bd3786"
             ],
             [
              0.5555555555555556,
              "#d8576b"
             ],
             [
              0.6666666666666666,
              "#ed7953"
             ],
             [
              0.7777777777777778,
              "#fb9f3a"
             ],
             [
              0.8888888888888888,
              "#fdca26"
             ],
             [
              1,
              "#f0f921"
             ]
            ],
            "type": "histogram2d"
           }
          ],
          "histogram2dcontour": [
           {
            "colorbar": {
             "outlinewidth": 0,
             "ticks": ""
            },
            "colorscale": [
             [
              0,
              "#0d0887"
             ],
             [
              0.1111111111111111,
              "#46039f"
             ],
             [
              0.2222222222222222,
              "#7201a8"
             ],
             [
              0.3333333333333333,
              "#9c179e"
             ],
             [
              0.4444444444444444,
              "#bd3786"
             ],
             [
              0.5555555555555556,
              "#d8576b"
             ],
             [
              0.6666666666666666,
              "#ed7953"
             ],
             [
              0.7777777777777778,
              "#fb9f3a"
             ],
             [
              0.8888888888888888,
              "#fdca26"
             ],
             [
              1,
              "#f0f921"
             ]
            ],
            "type": "histogram2dcontour"
           }
          ],
          "mesh3d": [
           {
            "colorbar": {
             "outlinewidth": 0,
             "ticks": ""
            },
            "type": "mesh3d"
           }
          ],
          "parcoords": [
           {
            "line": {
             "colorbar": {
              "outlinewidth": 0,
              "ticks": ""
             }
            },
            "type": "parcoords"
           }
          ],
          "pie": [
           {
            "automargin": true,
            "type": "pie"
           }
          ],
          "scatter": [
           {
            "fillpattern": {
             "fillmode": "overlay",
             "size": 10,
             "solidity": 0.2
            },
            "type": "scatter"
           }
          ],
          "scatter3d": [
           {
            "line": {
             "colorbar": {
              "outlinewidth": 0,
              "ticks": ""
             }
            },
            "marker": {
             "colorbar": {
              "outlinewidth": 0,
              "ticks": ""
             }
            },
            "type": "scatter3d"
           }
          ],
          "scattercarpet": [
           {
            "marker": {
             "colorbar": {
              "outlinewidth": 0,
              "ticks": ""
             }
            },
            "type": "scattercarpet"
           }
          ],
          "scattergeo": [
           {
            "marker": {
             "colorbar": {
              "outlinewidth": 0,
              "ticks": ""
             }
            },
            "type": "scattergeo"
           }
          ],
          "scattergl": [
           {
            "marker": {
             "colorbar": {
              "outlinewidth": 0,
              "ticks": ""
             }
            },
            "type": "scattergl"
           }
          ],
          "scattermap": [
           {
            "marker": {
             "colorbar": {
              "outlinewidth": 0,
              "ticks": ""
             }
            },
            "type": "scattermap"
           }
          ],
          "scattermapbox": [
           {
            "marker": {
             "colorbar": {
              "outlinewidth": 0,
              "ticks": ""
             }
            },
            "type": "scattermapbox"
           }
          ],
          "scatterpolar": [
           {
            "marker": {
             "colorbar": {
              "outlinewidth": 0,
              "ticks": ""
             }
            },
            "type": "scatterpolar"
           }
          ],
          "scatterpolargl": [
           {
            "marker": {
             "colorbar": {
              "outlinewidth": 0,
              "ticks": ""
             }
            },
            "type": "scatterpolargl"
           }
          ],
          "scatterternary": [
           {
            "marker": {
             "colorbar": {
              "outlinewidth": 0,
              "ticks": ""
             }
            },
            "type": "scatterternary"
           }
          ],
          "surface": [
           {
            "colorbar": {
             "outlinewidth": 0,
             "ticks": ""
            },
            "colorscale": [
             [
              0,
              "#0d0887"
             ],
             [
              0.1111111111111111,
              "#46039f"
             ],
             [
              0.2222222222222222,
              "#7201a8"
             ],
             [
              0.3333333333333333,
              "#9c179e"
             ],
             [
              0.4444444444444444,
              "#bd3786"
             ],
             [
              0.5555555555555556,
              "#d8576b"
             ],
             [
              0.6666666666666666,
              "#ed7953"
             ],
             [
              0.7777777777777778,
              "#fb9f3a"
             ],
             [
              0.8888888888888888,
              "#fdca26"
             ],
             [
              1,
              "#f0f921"
             ]
            ],
            "type": "surface"
           }
          ],
          "table": [
           {
            "cells": {
             "fill": {
              "color": "#EBF0F8"
             },
             "line": {
              "color": "white"
             }
            },
            "header": {
             "fill": {
              "color": "#C8D4E3"
             },
             "line": {
              "color": "white"
             }
            },
            "type": "table"
           }
          ]
         },
         "layout": {
          "annotationdefaults": {
           "arrowcolor": "#2a3f5f",
           "arrowhead": 0,
           "arrowwidth": 1
          },
          "autotypenumbers": "strict",
          "coloraxis": {
           "colorbar": {
            "outlinewidth": 0,
            "ticks": ""
           }
          },
          "colorscale": {
           "diverging": [
            [
             0,
             "#8e0152"
            ],
            [
             0.1,
             "#c51b7d"
            ],
            [
             0.2,
             "#de77ae"
            ],
            [
             0.3,
             "#f1b6da"
            ],
            [
             0.4,
             "#fde0ef"
            ],
            [
             0.5,
             "#f7f7f7"
            ],
            [
             0.6,
             "#e6f5d0"
            ],
            [
             0.7,
             "#b8e186"
            ],
            [
             0.8,
             "#7fbc41"
            ],
            [
             0.9,
             "#4d9221"
            ],
            [
             1,
             "#276419"
            ]
           ],
           "sequential": [
            [
             0,
             "#0d0887"
            ],
            [
             0.1111111111111111,
             "#46039f"
            ],
            [
             0.2222222222222222,
             "#7201a8"
            ],
            [
             0.3333333333333333,
             "#9c179e"
            ],
            [
             0.4444444444444444,
             "#bd3786"
            ],
            [
             0.5555555555555556,
             "#d8576b"
            ],
            [
             0.6666666666666666,
             "#ed7953"
            ],
            [
             0.7777777777777778,
             "#fb9f3a"
            ],
            [
             0.8888888888888888,
             "#fdca26"
            ],
            [
             1,
             "#f0f921"
            ]
           ],
           "sequentialminus": [
            [
             0,
             "#0d0887"
            ],
            [
             0.1111111111111111,
             "#46039f"
            ],
            [
             0.2222222222222222,
             "#7201a8"
            ],
            [
             0.3333333333333333,
             "#9c179e"
            ],
            [
             0.4444444444444444,
             "#bd3786"
            ],
            [
             0.5555555555555556,
             "#d8576b"
            ],
            [
             0.6666666666666666,
             "#ed7953"
            ],
            [
             0.7777777777777778,
             "#fb9f3a"
            ],
            [
             0.8888888888888888,
             "#fdca26"
            ],
            [
             1,
             "#f0f921"
            ]
           ]
          },
          "colorway": [
           "#636efa",
           "#EF553B",
           "#00cc96",
           "#ab63fa",
           "#FFA15A",
           "#19d3f3",
           "#FF6692",
           "#B6E880",
           "#FF97FF",
           "#FECB52"
          ],
          "font": {
           "color": "#2a3f5f"
          },
          "geo": {
           "bgcolor": "white",
           "lakecolor": "white",
           "landcolor": "#E5ECF6",
           "showlakes": true,
           "showland": true,
           "subunitcolor": "white"
          },
          "hoverlabel": {
           "align": "left"
          },
          "hovermode": "closest",
          "mapbox": {
           "style": "light"
          },
          "paper_bgcolor": "white",
          "plot_bgcolor": "#E5ECF6",
          "polar": {
           "angularaxis": {
            "gridcolor": "white",
            "linecolor": "white",
            "ticks": ""
           },
           "bgcolor": "#E5ECF6",
           "radialaxis": {
            "gridcolor": "white",
            "linecolor": "white",
            "ticks": ""
           }
          },
          "scene": {
           "xaxis": {
            "backgroundcolor": "#E5ECF6",
            "gridcolor": "white",
            "gridwidth": 2,
            "linecolor": "white",
            "showbackground": true,
            "ticks": "",
            "zerolinecolor": "white"
           },
           "yaxis": {
            "backgroundcolor": "#E5ECF6",
            "gridcolor": "white",
            "gridwidth": 2,
            "linecolor": "white",
            "showbackground": true,
            "ticks": "",
            "zerolinecolor": "white"
           },
           "zaxis": {
            "backgroundcolor": "#E5ECF6",
            "gridcolor": "white",
            "gridwidth": 2,
            "linecolor": "white",
            "showbackground": true,
            "ticks": "",
            "zerolinecolor": "white"
           }
          },
          "shapedefaults": {
           "line": {
            "color": "#2a3f5f"
           }
          },
          "ternary": {
           "aaxis": {
            "gridcolor": "white",
            "linecolor": "white",
            "ticks": ""
           },
           "baxis": {
            "gridcolor": "white",
            "linecolor": "white",
            "ticks": ""
           },
           "bgcolor": "#E5ECF6",
           "caxis": {
            "gridcolor": "white",
            "linecolor": "white",
            "ticks": ""
           }
          },
          "title": {
           "x": 0.05
          },
          "xaxis": {
           "automargin": true,
           "gridcolor": "white",
           "linecolor": "white",
           "ticks": "",
           "title": {
            "standoff": 15
           },
           "zerolinecolor": "white",
           "zerolinewidth": 2
          },
          "yaxis": {
           "automargin": true,
           "gridcolor": "white",
           "linecolor": "white",
           "ticks": "",
           "title": {
            "standoff": 15
           },
           "zerolinecolor": "white",
           "zerolinewidth": 2
          }
         }
        },
        "width": 450,
        "xaxis": {
         "anchor": "y",
         "domain": [
          0,
          1
         ],
         "showticklabels": false
        },
        "yaxis": {
         "anchor": "x",
         "domain": [
          0,
          1
         ],
         "showticklabels": false
        }
       }
      }
     },
     "metadata": {},
     "output_type": "display_data"
    }
   ],
   "source": [
    "# Your code here - define arr6\n",
    "arr6 = einops.rearrange(arr, \"(b1 b2) c h w -> c (b1 h) (b2 w)\", b1=2)\n",
    "\n",
    "display_array_as_img(arr6)"
   ]
  },
  {
   "cell_type": "markdown",
   "metadata": {},
   "source": [
    "<details><summary>Solution</summary>\n",
    "\n",
    "```python\n",
    "arr6 = einops.rearrange(arr, \"(b1 b2) c h w -> c (b1 h) (b2 w)\", b1=2)\n",
    "```\n",
    "</details>"
   ]
  },
  {
   "cell_type": "markdown",
   "metadata": {},
   "source": [
    "#### (7) Transpose\n",
    "\n",
    "Here, we've just flipped the model's horizontal and vertical dimensions. Transposing is a fairly common tensor operation."
   ]
  },
  {
   "cell_type": "code",
   "execution_count": 22,
   "metadata": {},
   "outputs": [
    {
     "data": {
      "application/vnd.plotly.v1+json": {
       "config": {
        "displayModeBar": false,
        "plotlyServerURL": "https://plot.ly"
       },
       "data": [
        {
         "hovertemplate": "x: %{x}<br>y: %{y}<br>color: [%{z[0]}, %{z[1]}, %{z[2]}]<extra></extra>",
         "name": "0",
         "source": "data:image/png;base64,iVBORw0KGgoAAAANSUhEUgAAAJYAAACWCAIAAACzY+a1AAADjUlEQVR4Xu3ZX2iVZQDH8fNuuzQZMiYUCYsMYRIioiQkTRJK3fxTqCHBLCshDyIbQRdNdzEokbKlaImiSE5EL04SKK0U8WbKRKGUpBRRVzNytmqMmR4vun2eo5DrvN+938/l+T037/lyznteTlLc2ZsTWUWJTQgmxDMhngnxTIhnQjwT4pkQz4R4JsQzIZ4J8UyIZ0I8E+KZEM+EeCbEMyGeCfFMiGdCPBPimRDPhHgmxDMhngnxTIhnQjwT4pkQz4R4JsQzIZ4J8UyIZ0I8E+KZEM+EeCbEMyGeCfFMiGdCPBPimRDPhHgmxDMhngnxTIhnQjwT4pkQr6rElkLXB/qDrydJ8kR1bXAa80gJC+dOLN7WEpwapsz4ruXz4DTmYb5Ii8Xihq+ikdY2LI9NYx4m4eGz356/dik4Ta6dtGjaC8EpCxgJ/7l3t62wI7a+P39VZQXjQkYD48o/7e66+MuV4PR07ZOvP7cgOGUEIGHf7d/aj0Tvgh1L3q2qqIytWQBI2HLwkz+Hh4LTrLqpy2bMC07ZkfaEh3q7D5w5FpySJOl87b3glCmpTnjj9s139nXE1ubZjTPr6mNrdqQ3YbFYbN698dbfg8G1Zlz1plfXBaesSW/CDwrbuy/2xNYtK1prxlXH1kxJacKu00c7vt4VWxc++/zKWS/H1qxJY8LTV354Y097bJ04fsKu5rbYmkGpS/j9jZ/nd+aH74wE1yRJ9qxqr31sQnDNpnQlvNR/9cWP1/z+1x+xAxsa335p6uzYmk0pSnih7/LczWv6B2/FDiydPrdt4VuxNbPS8n/hqZ/ONX22fmAo/AiRy+XmPDP9y9UdSZLEDmRWKhLu7zn65t722P3v31tg/eNPbYz/X5geH76SL7GOhqS4s7fEPNqGRobzXZt2nyqUOMPy/7+f5fwUfnOhJ9/10Y+/Xi1xRg9UtoRNW9cfOX+yxAE9pLL9IrXfo1K2hHpUTIhnQjwT4pXtF+nx1i9KrHp4ZX6013/nFymeCfFMiGdCPBPimRDPhHgmxDMhngnxTIhnQjwT4pkQz4R4JsQzIZ4J8UyIZ0I8E+KZEM+EeCbEMyGeCfFMiGdCPBPimRDPhHgmxDMhngnxTIhnQjwT4pkQz4R4JsQzIZ4J8UyIZ0I8E+KZEM+EeCbEMyGeCfFMiGdCPBPimRDPhHgmxDMhngnxTIhnQjwT4pkQz4R4JsS7DzelnXqwJSTjAAAAAElFTkSuQmCC",
         "type": "image",
         "xaxis": "x",
         "yaxis": "y"
        }
       ],
       "layout": {
        "coloraxis": {
         "showscale": false
        },
        "height": 150,
        "margin": {
         "b": 0,
         "l": 0,
         "r": 0,
         "t": 0
        },
        "template": {
         "data": {
          "bar": [
           {
            "error_x": {
             "color": "#2a3f5f"
            },
            "error_y": {
             "color": "#2a3f5f"
            },
            "marker": {
             "line": {
              "color": "#E5ECF6",
              "width": 0.5
             },
             "pattern": {
              "fillmode": "overlay",
              "size": 10,
              "solidity": 0.2
             }
            },
            "type": "bar"
           }
          ],
          "barpolar": [
           {
            "marker": {
             "line": {
              "color": "#E5ECF6",
              "width": 0.5
             },
             "pattern": {
              "fillmode": "overlay",
              "size": 10,
              "solidity": 0.2
             }
            },
            "type": "barpolar"
           }
          ],
          "carpet": [
           {
            "aaxis": {
             "endlinecolor": "#2a3f5f",
             "gridcolor": "white",
             "linecolor": "white",
             "minorgridcolor": "white",
             "startlinecolor": "#2a3f5f"
            },
            "baxis": {
             "endlinecolor": "#2a3f5f",
             "gridcolor": "white",
             "linecolor": "white",
             "minorgridcolor": "white",
             "startlinecolor": "#2a3f5f"
            },
            "type": "carpet"
           }
          ],
          "choropleth": [
           {
            "colorbar": {
             "outlinewidth": 0,
             "ticks": ""
            },
            "type": "choropleth"
           }
          ],
          "contour": [
           {
            "colorbar": {
             "outlinewidth": 0,
             "ticks": ""
            },
            "colorscale": [
             [
              0,
              "#0d0887"
             ],
             [
              0.1111111111111111,
              "#46039f"
             ],
             [
              0.2222222222222222,
              "#7201a8"
             ],
             [
              0.3333333333333333,
              "#9c179e"
             ],
             [
              0.4444444444444444,
              "#bd3786"
             ],
             [
              0.5555555555555556,
              "#d8576b"
             ],
             [
              0.6666666666666666,
              "#ed7953"
             ],
             [
              0.7777777777777778,
              "#fb9f3a"
             ],
             [
              0.8888888888888888,
              "#fdca26"
             ],
             [
              1,
              "#f0f921"
             ]
            ],
            "type": "contour"
           }
          ],
          "contourcarpet": [
           {
            "colorbar": {
             "outlinewidth": 0,
             "ticks": ""
            },
            "type": "contourcarpet"
           }
          ],
          "heatmap": [
           {
            "colorbar": {
             "outlinewidth": 0,
             "ticks": ""
            },
            "colorscale": [
             [
              0,
              "#0d0887"
             ],
             [
              0.1111111111111111,
              "#46039f"
             ],
             [
              0.2222222222222222,
              "#7201a8"
             ],
             [
              0.3333333333333333,
              "#9c179e"
             ],
             [
              0.4444444444444444,
              "#bd3786"
             ],
             [
              0.5555555555555556,
              "#d8576b"
             ],
             [
              0.6666666666666666,
              "#ed7953"
             ],
             [
              0.7777777777777778,
              "#fb9f3a"
             ],
             [
              0.8888888888888888,
              "#fdca26"
             ],
             [
              1,
              "#f0f921"
             ]
            ],
            "type": "heatmap"
           }
          ],
          "histogram": [
           {
            "marker": {
             "pattern": {
              "fillmode": "overlay",
              "size": 10,
              "solidity": 0.2
             }
            },
            "type": "histogram"
           }
          ],
          "histogram2d": [
           {
            "colorbar": {
             "outlinewidth": 0,
             "ticks": ""
            },
            "colorscale": [
             [
              0,
              "#0d0887"
             ],
             [
              0.1111111111111111,
              "#46039f"
             ],
             [
              0.2222222222222222,
              "#7201a8"
             ],
             [
              0.3333333333333333,
              "#9c179e"
             ],
             [
              0.4444444444444444,
              "#bd3786"
             ],
             [
              0.5555555555555556,
              "#d8576b"
             ],
             [
              0.6666666666666666,
              "#ed7953"
             ],
             [
              0.7777777777777778,
              "#fb9f3a"
             ],
             [
              0.8888888888888888,
              "#fdca26"
             ],
             [
              1,
              "#f0f921"
             ]
            ],
            "type": "histogram2d"
           }
          ],
          "histogram2dcontour": [
           {
            "colorbar": {
             "outlinewidth": 0,
             "ticks": ""
            },
            "colorscale": [
             [
              0,
              "#0d0887"
             ],
             [
              0.1111111111111111,
              "#46039f"
             ],
             [
              0.2222222222222222,
              "#7201a8"
             ],
             [
              0.3333333333333333,
              "#9c179e"
             ],
             [
              0.4444444444444444,
              "#bd3786"
             ],
             [
              0.5555555555555556,
              "#d8576b"
             ],
             [
              0.6666666666666666,
              "#ed7953"
             ],
             [
              0.7777777777777778,
              "#fb9f3a"
             ],
             [
              0.8888888888888888,
              "#fdca26"
             ],
             [
              1,
              "#f0f921"
             ]
            ],
            "type": "histogram2dcontour"
           }
          ],
          "mesh3d": [
           {
            "colorbar": {
             "outlinewidth": 0,
             "ticks": ""
            },
            "type": "mesh3d"
           }
          ],
          "parcoords": [
           {
            "line": {
             "colorbar": {
              "outlinewidth": 0,
              "ticks": ""
             }
            },
            "type": "parcoords"
           }
          ],
          "pie": [
           {
            "automargin": true,
            "type": "pie"
           }
          ],
          "scatter": [
           {
            "fillpattern": {
             "fillmode": "overlay",
             "size": 10,
             "solidity": 0.2
            },
            "type": "scatter"
           }
          ],
          "scatter3d": [
           {
            "line": {
             "colorbar": {
              "outlinewidth": 0,
              "ticks": ""
             }
            },
            "marker": {
             "colorbar": {
              "outlinewidth": 0,
              "ticks": ""
             }
            },
            "type": "scatter3d"
           }
          ],
          "scattercarpet": [
           {
            "marker": {
             "colorbar": {
              "outlinewidth": 0,
              "ticks": ""
             }
            },
            "type": "scattercarpet"
           }
          ],
          "scattergeo": [
           {
            "marker": {
             "colorbar": {
              "outlinewidth": 0,
              "ticks": ""
             }
            },
            "type": "scattergeo"
           }
          ],
          "scattergl": [
           {
            "marker": {
             "colorbar": {
              "outlinewidth": 0,
              "ticks": ""
             }
            },
            "type": "scattergl"
           }
          ],
          "scattermap": [
           {
            "marker": {
             "colorbar": {
              "outlinewidth": 0,
              "ticks": ""
             }
            },
            "type": "scattermap"
           }
          ],
          "scattermapbox": [
           {
            "marker": {
             "colorbar": {
              "outlinewidth": 0,
              "ticks": ""
             }
            },
            "type": "scattermapbox"
           }
          ],
          "scatterpolar": [
           {
            "marker": {
             "colorbar": {
              "outlinewidth": 0,
              "ticks": ""
             }
            },
            "type": "scatterpolar"
           }
          ],
          "scatterpolargl": [
           {
            "marker": {
             "colorbar": {
              "outlinewidth": 0,
              "ticks": ""
             }
            },
            "type": "scatterpolargl"
           }
          ],
          "scatterternary": [
           {
            "marker": {
             "colorbar": {
              "outlinewidth": 0,
              "ticks": ""
             }
            },
            "type": "scatterternary"
           }
          ],
          "surface": [
           {
            "colorbar": {
             "outlinewidth": 0,
             "ticks": ""
            },
            "colorscale": [
             [
              0,
              "#0d0887"
             ],
             [
              0.1111111111111111,
              "#46039f"
             ],
             [
              0.2222222222222222,
              "#7201a8"
             ],
             [
              0.3333333333333333,
              "#9c179e"
             ],
             [
              0.4444444444444444,
              "#bd3786"
             ],
             [
              0.5555555555555556,
              "#d8576b"
             ],
             [
              0.6666666666666666,
              "#ed7953"
             ],
             [
              0.7777777777777778,
              "#fb9f3a"
             ],
             [
              0.8888888888888888,
              "#fdca26"
             ],
             [
              1,
              "#f0f921"
             ]
            ],
            "type": "surface"
           }
          ],
          "table": [
           {
            "cells": {
             "fill": {
              "color": "#EBF0F8"
             },
             "line": {
              "color": "white"
             }
            },
            "header": {
             "fill": {
              "color": "#C8D4E3"
             },
             "line": {
              "color": "white"
             }
            },
            "type": "table"
           }
          ]
         },
         "layout": {
          "annotationdefaults": {
           "arrowcolor": "#2a3f5f",
           "arrowhead": 0,
           "arrowwidth": 1
          },
          "autotypenumbers": "strict",
          "coloraxis": {
           "colorbar": {
            "outlinewidth": 0,
            "ticks": ""
           }
          },
          "colorscale": {
           "diverging": [
            [
             0,
             "#8e0152"
            ],
            [
             0.1,
             "#c51b7d"
            ],
            [
             0.2,
             "#de77ae"
            ],
            [
             0.3,
             "#f1b6da"
            ],
            [
             0.4,
             "#fde0ef"
            ],
            [
             0.5,
             "#f7f7f7"
            ],
            [
             0.6,
             "#e6f5d0"
            ],
            [
             0.7,
             "#b8e186"
            ],
            [
             0.8,
             "#7fbc41"
            ],
            [
             0.9,
             "#4d9221"
            ],
            [
             1,
             "#276419"
            ]
           ],
           "sequential": [
            [
             0,
             "#0d0887"
            ],
            [
             0.1111111111111111,
             "#46039f"
            ],
            [
             0.2222222222222222,
             "#7201a8"
            ],
            [
             0.3333333333333333,
             "#9c179e"
            ],
            [
             0.4444444444444444,
             "#bd3786"
            ],
            [
             0.5555555555555556,
             "#d8576b"
            ],
            [
             0.6666666666666666,
             "#ed7953"
            ],
            [
             0.7777777777777778,
             "#fb9f3a"
            ],
            [
             0.8888888888888888,
             "#fdca26"
            ],
            [
             1,
             "#f0f921"
            ]
           ],
           "sequentialminus": [
            [
             0,
             "#0d0887"
            ],
            [
             0.1111111111111111,
             "#46039f"
            ],
            [
             0.2222222222222222,
             "#7201a8"
            ],
            [
             0.3333333333333333,
             "#9c179e"
            ],
            [
             0.4444444444444444,
             "#bd3786"
            ],
            [
             0.5555555555555556,
             "#d8576b"
            ],
            [
             0.6666666666666666,
             "#ed7953"
            ],
            [
             0.7777777777777778,
             "#fb9f3a"
            ],
            [
             0.8888888888888888,
             "#fdca26"
            ],
            [
             1,
             "#f0f921"
            ]
           ]
          },
          "colorway": [
           "#636efa",
           "#EF553B",
           "#00cc96",
           "#ab63fa",
           "#FFA15A",
           "#19d3f3",
           "#FF6692",
           "#B6E880",
           "#FF97FF",
           "#FECB52"
          ],
          "font": {
           "color": "#2a3f5f"
          },
          "geo": {
           "bgcolor": "white",
           "lakecolor": "white",
           "landcolor": "#E5ECF6",
           "showlakes": true,
           "showland": true,
           "subunitcolor": "white"
          },
          "hoverlabel": {
           "align": "left"
          },
          "hovermode": "closest",
          "mapbox": {
           "style": "light"
          },
          "paper_bgcolor": "white",
          "plot_bgcolor": "#E5ECF6",
          "polar": {
           "angularaxis": {
            "gridcolor": "white",
            "linecolor": "white",
            "ticks": ""
           },
           "bgcolor": "#E5ECF6",
           "radialaxis": {
            "gridcolor": "white",
            "linecolor": "white",
            "ticks": ""
           }
          },
          "scene": {
           "xaxis": {
            "backgroundcolor": "#E5ECF6",
            "gridcolor": "white",
            "gridwidth": 2,
            "linecolor": "white",
            "showbackground": true,
            "ticks": "",
            "zerolinecolor": "white"
           },
           "yaxis": {
            "backgroundcolor": "#E5ECF6",
            "gridcolor": "white",
            "gridwidth": 2,
            "linecolor": "white",
            "showbackground": true,
            "ticks": "",
            "zerolinecolor": "white"
           },
           "zaxis": {
            "backgroundcolor": "#E5ECF6",
            "gridcolor": "white",
            "gridwidth": 2,
            "linecolor": "white",
            "showbackground": true,
            "ticks": "",
            "zerolinecolor": "white"
           }
          },
          "shapedefaults": {
           "line": {
            "color": "#2a3f5f"
           }
          },
          "ternary": {
           "aaxis": {
            "gridcolor": "white",
            "linecolor": "white",
            "ticks": ""
           },
           "baxis": {
            "gridcolor": "white",
            "linecolor": "white",
            "ticks": ""
           },
           "bgcolor": "#E5ECF6",
           "caxis": {
            "gridcolor": "white",
            "linecolor": "white",
            "ticks": ""
           }
          },
          "title": {
           "x": 0.05
          },
          "xaxis": {
           "automargin": true,
           "gridcolor": "white",
           "linecolor": "white",
           "ticks": "",
           "title": {
            "standoff": 15
           },
           "zerolinecolor": "white",
           "zerolinewidth": 2
          },
          "yaxis": {
           "automargin": true,
           "gridcolor": "white",
           "linecolor": "white",
           "ticks": "",
           "title": {
            "standoff": 15
           },
           "zerolinecolor": "white",
           "zerolinewidth": 2
          }
         }
        },
        "width": 150,
        "xaxis": {
         "anchor": "y",
         "domain": [
          0,
          1
         ],
         "showticklabels": false
        },
        "yaxis": {
         "anchor": "x",
         "domain": [
          0,
          1
         ],
         "showticklabels": false
        }
       }
      }
     },
     "metadata": {},
     "output_type": "display_data"
    }
   ],
   "source": [
    "display_soln_array_as_img(7)"
   ]
  },
  {
   "cell_type": "code",
   "execution_count": 23,
   "metadata": {},
   "outputs": [
    {
     "data": {
      "application/vnd.plotly.v1+json": {
       "config": {
        "displayModeBar": false,
        "plotlyServerURL": "https://plot.ly"
       },
       "data": [
        {
         "hovertemplate": "x: %{x}<br>y: %{y}<br>color: [%{z[0]}, %{z[1]}, %{z[2]}]<extra></extra>",
         "name": "0",
         "source": "data:image/png;base64,iVBORw0KGgoAAAANSUhEUgAAAJYAAACWCAIAAACzY+a1AAADjUlEQVR4Xu3ZX2iVZQDH8fNuuzQZMiYUCYsMYRIioiQkTRJK3fxTqCHBLCshDyIbQRdNdzEokbKlaImiSE5EL04SKK0U8WbKRKGUpBRRVzNytmqMmR4vun2eo5DrvN+938/l+T037/lyznteTlLc2ZsTWUWJTQgmxDMhngnxTIhnQjwT4pkQz4R4JsQzIZ4J8UyIZ0I8E+KZEM+EeCbEMyGeCfFMiGdCPBPimRDPhHgmxDMhngnxTIhnQjwT4pkQz4R4JsQzIZ4J8UyIZ0I8E+KZEM+EeCbEMyGeCfFMiGdCPBPimRDPhHgmxDMhngnxTIhnQjwT4pkQr6rElkLXB/qDrydJ8kR1bXAa80gJC+dOLN7WEpwapsz4ruXz4DTmYb5Ii8Xihq+ikdY2LI9NYx4m4eGz356/dik4Ta6dtGjaC8EpCxgJ/7l3t62wI7a+P39VZQXjQkYD48o/7e66+MuV4PR07ZOvP7cgOGUEIGHf7d/aj0Tvgh1L3q2qqIytWQBI2HLwkz+Hh4LTrLqpy2bMC07ZkfaEh3q7D5w5FpySJOl87b3glCmpTnjj9s139nXE1ubZjTPr6mNrdqQ3YbFYbN698dbfg8G1Zlz1plfXBaesSW/CDwrbuy/2xNYtK1prxlXH1kxJacKu00c7vt4VWxc++/zKWS/H1qxJY8LTV354Y097bJ04fsKu5rbYmkGpS/j9jZ/nd+aH74wE1yRJ9qxqr31sQnDNpnQlvNR/9cWP1/z+1x+xAxsa335p6uzYmk0pSnih7/LczWv6B2/FDiydPrdt4VuxNbPS8n/hqZ/ONX22fmAo/AiRy+XmPDP9y9UdSZLEDmRWKhLu7zn65t722P3v31tg/eNPbYz/X5geH76SL7GOhqS4s7fEPNqGRobzXZt2nyqUOMPy/7+f5fwUfnOhJ9/10Y+/Xi1xRg9UtoRNW9cfOX+yxAE9pLL9IrXfo1K2hHpUTIhnQjwT4pXtF+nx1i9KrHp4ZX6013/nFymeCfFMiGdCPBPimRDPhHgmxDMhngnxTIhnQjwT4pkQz4R4JsQzIZ4J8UyIZ0I8E+KZEM+EeCbEMyGeCfFMiGdCPBPimRDPhHgmxDMhngnxTIhnQjwT4pkQz4R4JsQzIZ4J8UyIZ0I8E+KZEM+EeCbEMyGeCfFMiGdCPBPimRDPhHgmxDMhngnxTIhnQjwT4pkQz4R4JsS7DzelnXqwJSTjAAAAAElFTkSuQmCC",
         "type": "image",
         "xaxis": "x",
         "yaxis": "y"
        }
       ],
       "layout": {
        "coloraxis": {
         "showscale": false
        },
        "height": 150,
        "margin": {
         "b": 0,
         "l": 0,
         "r": 0,
         "t": 0
        },
        "template": {
         "data": {
          "bar": [
           {
            "error_x": {
             "color": "#2a3f5f"
            },
            "error_y": {
             "color": "#2a3f5f"
            },
            "marker": {
             "line": {
              "color": "#E5ECF6",
              "width": 0.5
             },
             "pattern": {
              "fillmode": "overlay",
              "size": 10,
              "solidity": 0.2
             }
            },
            "type": "bar"
           }
          ],
          "barpolar": [
           {
            "marker": {
             "line": {
              "color": "#E5ECF6",
              "width": 0.5
             },
             "pattern": {
              "fillmode": "overlay",
              "size": 10,
              "solidity": 0.2
             }
            },
            "type": "barpolar"
           }
          ],
          "carpet": [
           {
            "aaxis": {
             "endlinecolor": "#2a3f5f",
             "gridcolor": "white",
             "linecolor": "white",
             "minorgridcolor": "white",
             "startlinecolor": "#2a3f5f"
            },
            "baxis": {
             "endlinecolor": "#2a3f5f",
             "gridcolor": "white",
             "linecolor": "white",
             "minorgridcolor": "white",
             "startlinecolor": "#2a3f5f"
            },
            "type": "carpet"
           }
          ],
          "choropleth": [
           {
            "colorbar": {
             "outlinewidth": 0,
             "ticks": ""
            },
            "type": "choropleth"
           }
          ],
          "contour": [
           {
            "colorbar": {
             "outlinewidth": 0,
             "ticks": ""
            },
            "colorscale": [
             [
              0,
              "#0d0887"
             ],
             [
              0.1111111111111111,
              "#46039f"
             ],
             [
              0.2222222222222222,
              "#7201a8"
             ],
             [
              0.3333333333333333,
              "#9c179e"
             ],
             [
              0.4444444444444444,
              "#bd3786"
             ],
             [
              0.5555555555555556,
              "#d8576b"
             ],
             [
              0.6666666666666666,
              "#ed7953"
             ],
             [
              0.7777777777777778,
              "#fb9f3a"
             ],
             [
              0.8888888888888888,
              "#fdca26"
             ],
             [
              1,
              "#f0f921"
             ]
            ],
            "type": "contour"
           }
          ],
          "contourcarpet": [
           {
            "colorbar": {
             "outlinewidth": 0,
             "ticks": ""
            },
            "type": "contourcarpet"
           }
          ],
          "heatmap": [
           {
            "colorbar": {
             "outlinewidth": 0,
             "ticks": ""
            },
            "colorscale": [
             [
              0,
              "#0d0887"
             ],
             [
              0.1111111111111111,
              "#46039f"
             ],
             [
              0.2222222222222222,
              "#7201a8"
             ],
             [
              0.3333333333333333,
              "#9c179e"
             ],
             [
              0.4444444444444444,
              "#bd3786"
             ],
             [
              0.5555555555555556,
              "#d8576b"
             ],
             [
              0.6666666666666666,
              "#ed7953"
             ],
             [
              0.7777777777777778,
              "#fb9f3a"
             ],
             [
              0.8888888888888888,
              "#fdca26"
             ],
             [
              1,
              "#f0f921"
             ]
            ],
            "type": "heatmap"
           }
          ],
          "histogram": [
           {
            "marker": {
             "pattern": {
              "fillmode": "overlay",
              "size": 10,
              "solidity": 0.2
             }
            },
            "type": "histogram"
           }
          ],
          "histogram2d": [
           {
            "colorbar": {
             "outlinewidth": 0,
             "ticks": ""
            },
            "colorscale": [
             [
              0,
              "#0d0887"
             ],
             [
              0.1111111111111111,
              "#46039f"
             ],
             [
              0.2222222222222222,
              "#7201a8"
             ],
             [
              0.3333333333333333,
              "#9c179e"
             ],
             [
              0.4444444444444444,
              "#bd3786"
             ],
             [
              0.5555555555555556,
              "#d8576b"
             ],
             [
              0.6666666666666666,
              "#ed7953"
             ],
             [
              0.7777777777777778,
              "#fb9f3a"
             ],
             [
              0.8888888888888888,
              "#fdca26"
             ],
             [
              1,
              "#f0f921"
             ]
            ],
            "type": "histogram2d"
           }
          ],
          "histogram2dcontour": [
           {
            "colorbar": {
             "outlinewidth": 0,
             "ticks": ""
            },
            "colorscale": [
             [
              0,
              "#0d0887"
             ],
             [
              0.1111111111111111,
              "#46039f"
             ],
             [
              0.2222222222222222,
              "#7201a8"
             ],
             [
              0.3333333333333333,
              "#9c179e"
             ],
             [
              0.4444444444444444,
              "#bd3786"
             ],
             [
              0.5555555555555556,
              "#d8576b"
             ],
             [
              0.6666666666666666,
              "#ed7953"
             ],
             [
              0.7777777777777778,
              "#fb9f3a"
             ],
             [
              0.8888888888888888,
              "#fdca26"
             ],
             [
              1,
              "#f0f921"
             ]
            ],
            "type": "histogram2dcontour"
           }
          ],
          "mesh3d": [
           {
            "colorbar": {
             "outlinewidth": 0,
             "ticks": ""
            },
            "type": "mesh3d"
           }
          ],
          "parcoords": [
           {
            "line": {
             "colorbar": {
              "outlinewidth": 0,
              "ticks": ""
             }
            },
            "type": "parcoords"
           }
          ],
          "pie": [
           {
            "automargin": true,
            "type": "pie"
           }
          ],
          "scatter": [
           {
            "fillpattern": {
             "fillmode": "overlay",
             "size": 10,
             "solidity": 0.2
            },
            "type": "scatter"
           }
          ],
          "scatter3d": [
           {
            "line": {
             "colorbar": {
              "outlinewidth": 0,
              "ticks": ""
             }
            },
            "marker": {
             "colorbar": {
              "outlinewidth": 0,
              "ticks": ""
             }
            },
            "type": "scatter3d"
           }
          ],
          "scattercarpet": [
           {
            "marker": {
             "colorbar": {
              "outlinewidth": 0,
              "ticks": ""
             }
            },
            "type": "scattercarpet"
           }
          ],
          "scattergeo": [
           {
            "marker": {
             "colorbar": {
              "outlinewidth": 0,
              "ticks": ""
             }
            },
            "type": "scattergeo"
           }
          ],
          "scattergl": [
           {
            "marker": {
             "colorbar": {
              "outlinewidth": 0,
              "ticks": ""
             }
            },
            "type": "scattergl"
           }
          ],
          "scattermap": [
           {
            "marker": {
             "colorbar": {
              "outlinewidth": 0,
              "ticks": ""
             }
            },
            "type": "scattermap"
           }
          ],
          "scattermapbox": [
           {
            "marker": {
             "colorbar": {
              "outlinewidth": 0,
              "ticks": ""
             }
            },
            "type": "scattermapbox"
           }
          ],
          "scatterpolar": [
           {
            "marker": {
             "colorbar": {
              "outlinewidth": 0,
              "ticks": ""
             }
            },
            "type": "scatterpolar"
           }
          ],
          "scatterpolargl": [
           {
            "marker": {
             "colorbar": {
              "outlinewidth": 0,
              "ticks": ""
             }
            },
            "type": "scatterpolargl"
           }
          ],
          "scatterternary": [
           {
            "marker": {
             "colorbar": {
              "outlinewidth": 0,
              "ticks": ""
             }
            },
            "type": "scatterternary"
           }
          ],
          "surface": [
           {
            "colorbar": {
             "outlinewidth": 0,
             "ticks": ""
            },
            "colorscale": [
             [
              0,
              "#0d0887"
             ],
             [
              0.1111111111111111,
              "#46039f"
             ],
             [
              0.2222222222222222,
              "#7201a8"
             ],
             [
              0.3333333333333333,
              "#9c179e"
             ],
             [
              0.4444444444444444,
              "#bd3786"
             ],
             [
              0.5555555555555556,
              "#d8576b"
             ],
             [
              0.6666666666666666,
              "#ed7953"
             ],
             [
              0.7777777777777778,
              "#fb9f3a"
             ],
             [
              0.8888888888888888,
              "#fdca26"
             ],
             [
              1,
              "#f0f921"
             ]
            ],
            "type": "surface"
           }
          ],
          "table": [
           {
            "cells": {
             "fill": {
              "color": "#EBF0F8"
             },
             "line": {
              "color": "white"
             }
            },
            "header": {
             "fill": {
              "color": "#C8D4E3"
             },
             "line": {
              "color": "white"
             }
            },
            "type": "table"
           }
          ]
         },
         "layout": {
          "annotationdefaults": {
           "arrowcolor": "#2a3f5f",
           "arrowhead": 0,
           "arrowwidth": 1
          },
          "autotypenumbers": "strict",
          "coloraxis": {
           "colorbar": {
            "outlinewidth": 0,
            "ticks": ""
           }
          },
          "colorscale": {
           "diverging": [
            [
             0,
             "#8e0152"
            ],
            [
             0.1,
             "#c51b7d"
            ],
            [
             0.2,
             "#de77ae"
            ],
            [
             0.3,
             "#f1b6da"
            ],
            [
             0.4,
             "#fde0ef"
            ],
            [
             0.5,
             "#f7f7f7"
            ],
            [
             0.6,
             "#e6f5d0"
            ],
            [
             0.7,
             "#b8e186"
            ],
            [
             0.8,
             "#7fbc41"
            ],
            [
             0.9,
             "#4d9221"
            ],
            [
             1,
             "#276419"
            ]
           ],
           "sequential": [
            [
             0,
             "#0d0887"
            ],
            [
             0.1111111111111111,
             "#46039f"
            ],
            [
             0.2222222222222222,
             "#7201a8"
            ],
            [
             0.3333333333333333,
             "#9c179e"
            ],
            [
             0.4444444444444444,
             "#bd3786"
            ],
            [
             0.5555555555555556,
             "#d8576b"
            ],
            [
             0.6666666666666666,
             "#ed7953"
            ],
            [
             0.7777777777777778,
             "#fb9f3a"
            ],
            [
             0.8888888888888888,
             "#fdca26"
            ],
            [
             1,
             "#f0f921"
            ]
           ],
           "sequentialminus": [
            [
             0,
             "#0d0887"
            ],
            [
             0.1111111111111111,
             "#46039f"
            ],
            [
             0.2222222222222222,
             "#7201a8"
            ],
            [
             0.3333333333333333,
             "#9c179e"
            ],
            [
             0.4444444444444444,
             "#bd3786"
            ],
            [
             0.5555555555555556,
             "#d8576b"
            ],
            [
             0.6666666666666666,
             "#ed7953"
            ],
            [
             0.7777777777777778,
             "#fb9f3a"
            ],
            [
             0.8888888888888888,
             "#fdca26"
            ],
            [
             1,
             "#f0f921"
            ]
           ]
          },
          "colorway": [
           "#636efa",
           "#EF553B",
           "#00cc96",
           "#ab63fa",
           "#FFA15A",
           "#19d3f3",
           "#FF6692",
           "#B6E880",
           "#FF97FF",
           "#FECB52"
          ],
          "font": {
           "color": "#2a3f5f"
          },
          "geo": {
           "bgcolor": "white",
           "lakecolor": "white",
           "landcolor": "#E5ECF6",
           "showlakes": true,
           "showland": true,
           "subunitcolor": "white"
          },
          "hoverlabel": {
           "align": "left"
          },
          "hovermode": "closest",
          "mapbox": {
           "style": "light"
          },
          "paper_bgcolor": "white",
          "plot_bgcolor": "#E5ECF6",
          "polar": {
           "angularaxis": {
            "gridcolor": "white",
            "linecolor": "white",
            "ticks": ""
           },
           "bgcolor": "#E5ECF6",
           "radialaxis": {
            "gridcolor": "white",
            "linecolor": "white",
            "ticks": ""
           }
          },
          "scene": {
           "xaxis": {
            "backgroundcolor": "#E5ECF6",
            "gridcolor": "white",
            "gridwidth": 2,
            "linecolor": "white",
            "showbackground": true,
            "ticks": "",
            "zerolinecolor": "white"
           },
           "yaxis": {
            "backgroundcolor": "#E5ECF6",
            "gridcolor": "white",
            "gridwidth": 2,
            "linecolor": "white",
            "showbackground": true,
            "ticks": "",
            "zerolinecolor": "white"
           },
           "zaxis": {
            "backgroundcolor": "#E5ECF6",
            "gridcolor": "white",
            "gridwidth": 2,
            "linecolor": "white",
            "showbackground": true,
            "ticks": "",
            "zerolinecolor": "white"
           }
          },
          "shapedefaults": {
           "line": {
            "color": "#2a3f5f"
           }
          },
          "ternary": {
           "aaxis": {
            "gridcolor": "white",
            "linecolor": "white",
            "ticks": ""
           },
           "baxis": {
            "gridcolor": "white",
            "linecolor": "white",
            "ticks": ""
           },
           "bgcolor": "#E5ECF6",
           "caxis": {
            "gridcolor": "white",
            "linecolor": "white",
            "ticks": ""
           }
          },
          "title": {
           "x": 0.05
          },
          "xaxis": {
           "automargin": true,
           "gridcolor": "white",
           "linecolor": "white",
           "ticks": "",
           "title": {
            "standoff": 15
           },
           "zerolinecolor": "white",
           "zerolinewidth": 2
          },
          "yaxis": {
           "automargin": true,
           "gridcolor": "white",
           "linecolor": "white",
           "ticks": "",
           "title": {
            "standoff": 15
           },
           "zerolinecolor": "white",
           "zerolinewidth": 2
          }
         }
        },
        "width": 150,
        "xaxis": {
         "anchor": "y",
         "domain": [
          0,
          1
         ],
         "showticklabels": false
        },
        "yaxis": {
         "anchor": "x",
         "domain": [
          0,
          1
         ],
         "showticklabels": false
        }
       }
      }
     },
     "metadata": {},
     "output_type": "display_data"
    }
   ],
   "source": [
    "# Your code here - define arr7\n",
    "arr7 = einops.rearrange(arr[1], \"c h w -> c w h\")\n",
    "\n",
    "display_array_as_img(arr7)"
   ]
  },
  {
   "cell_type": "markdown",
   "metadata": {},
   "source": [
    "<details><summary>Solution</summary>\n",
    "\n",
    "```python\n",
    "arr7 = einops.rearrange(arr[1], \"c h w -> c w h\")\n",
    "```\n",
    "</details>"
   ]
  },
  {
   "cell_type": "markdown",
   "metadata": {},
   "source": [
    "#### (8) Shrinking\n",
    "\n",
    "Hint - for this one, you should use **max pooling** - i.e. each pixel value in the output is the maximum of the corresponding 2x2 square in the original image."
   ]
  },
  {
   "cell_type": "code",
   "execution_count": 24,
   "metadata": {},
   "outputs": [
    {
     "data": {
      "application/vnd.plotly.v1+json": {
       "config": {
        "displayModeBar": false,
        "plotlyServerURL": "https://plot.ly"
       },
       "data": [
        {
         "hovertemplate": "x: %{x}<br>y: %{y}<br>color: [%{z[0]}, %{z[1]}, %{z[2]}]<extra></extra>",
         "name": "0",
         "source": "data:image/png;base64,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",
         "type": "image",
         "xaxis": "x",
         "yaxis": "y"
        }
       ],
       "layout": {
        "coloraxis": {
         "showscale": false
        },
        "height": 150,
        "margin": {
         "b": 0,
         "l": 0,
         "r": 0,
         "t": 0
        },
        "template": {
         "data": {
          "bar": [
           {
            "error_x": {
             "color": "#2a3f5f"
            },
            "error_y": {
             "color": "#2a3f5f"
            },
            "marker": {
             "line": {
              "color": "#E5ECF6",
              "width": 0.5
             },
             "pattern": {
              "fillmode": "overlay",
              "size": 10,
              "solidity": 0.2
             }
            },
            "type": "bar"
           }
          ],
          "barpolar": [
           {
            "marker": {
             "line": {
              "color": "#E5ECF6",
              "width": 0.5
             },
             "pattern": {
              "fillmode": "overlay",
              "size": 10,
              "solidity": 0.2
             }
            },
            "type": "barpolar"
           }
          ],
          "carpet": [
           {
            "aaxis": {
             "endlinecolor": "#2a3f5f",
             "gridcolor": "white",
             "linecolor": "white",
             "minorgridcolor": "white",
             "startlinecolor": "#2a3f5f"
            },
            "baxis": {
             "endlinecolor": "#2a3f5f",
             "gridcolor": "white",
             "linecolor": "white",
             "minorgridcolor": "white",
             "startlinecolor": "#2a3f5f"
            },
            "type": "carpet"
           }
          ],
          "choropleth": [
           {
            "colorbar": {
             "outlinewidth": 0,
             "ticks": ""
            },
            "type": "choropleth"
           }
          ],
          "contour": [
           {
            "colorbar": {
             "outlinewidth": 0,
             "ticks": ""
            },
            "colorscale": [
             [
              0,
              "#0d0887"
             ],
             [
              0.1111111111111111,
              "#46039f"
             ],
             [
              0.2222222222222222,
              "#7201a8"
             ],
             [
              0.3333333333333333,
              "#9c179e"
             ],
             [
              0.4444444444444444,
              "#bd3786"
             ],
             [
              0.5555555555555556,
              "#d8576b"
             ],
             [
              0.6666666666666666,
              "#ed7953"
             ],
             [
              0.7777777777777778,
              "#fb9f3a"
             ],
             [
              0.8888888888888888,
              "#fdca26"
             ],
             [
              1,
              "#f0f921"
             ]
            ],
            "type": "contour"
           }
          ],
          "contourcarpet": [
           {
            "colorbar": {
             "outlinewidth": 0,
             "ticks": ""
            },
            "type": "contourcarpet"
           }
          ],
          "heatmap": [
           {
            "colorbar": {
             "outlinewidth": 0,
             "ticks": ""
            },
            "colorscale": [
             [
              0,
              "#0d0887"
             ],
             [
              0.1111111111111111,
              "#46039f"
             ],
             [
              0.2222222222222222,
              "#7201a8"
             ],
             [
              0.3333333333333333,
              "#9c179e"
             ],
             [
              0.4444444444444444,
              "#bd3786"
             ],
             [
              0.5555555555555556,
              "#d8576b"
             ],
             [
              0.6666666666666666,
              "#ed7953"
             ],
             [
              0.7777777777777778,
              "#fb9f3a"
             ],
             [
              0.8888888888888888,
              "#fdca26"
             ],
             [
              1,
              "#f0f921"
             ]
            ],
            "type": "heatmap"
           }
          ],
          "histogram": [
           {
            "marker": {
             "pattern": {
              "fillmode": "overlay",
              "size": 10,
              "solidity": 0.2
             }
            },
            "type": "histogram"
           }
          ],
          "histogram2d": [
           {
            "colorbar": {
             "outlinewidth": 0,
             "ticks": ""
            },
            "colorscale": [
             [
              0,
              "#0d0887"
             ],
             [
              0.1111111111111111,
              "#46039f"
             ],
             [
              0.2222222222222222,
              "#7201a8"
             ],
             [
              0.3333333333333333,
              "#9c179e"
             ],
             [
              0.4444444444444444,
              "#bd3786"
             ],
             [
              0.5555555555555556,
              "#d8576b"
             ],
             [
              0.6666666666666666,
              "#ed7953"
             ],
             [
              0.7777777777777778,
              "#fb9f3a"
             ],
             [
              0.8888888888888888,
              "#fdca26"
             ],
             [
              1,
              "#f0f921"
             ]
            ],
            "type": "histogram2d"
           }
          ],
          "histogram2dcontour": [
           {
            "colorbar": {
             "outlinewidth": 0,
             "ticks": ""
            },
            "colorscale": [
             [
              0,
              "#0d0887"
             ],
             [
              0.1111111111111111,
              "#46039f"
             ],
             [
              0.2222222222222222,
              "#7201a8"
             ],
             [
              0.3333333333333333,
              "#9c179e"
             ],
             [
              0.4444444444444444,
              "#bd3786"
             ],
             [
              0.5555555555555556,
              "#d8576b"
             ],
             [
              0.6666666666666666,
              "#ed7953"
             ],
             [
              0.7777777777777778,
              "#fb9f3a"
             ],
             [
              0.8888888888888888,
              "#fdca26"
             ],
             [
              1,
              "#f0f921"
             ]
            ],
            "type": "histogram2dcontour"
           }
          ],
          "mesh3d": [
           {
            "colorbar": {
             "outlinewidth": 0,
             "ticks": ""
            },
            "type": "mesh3d"
           }
          ],
          "parcoords": [
           {
            "line": {
             "colorbar": {
              "outlinewidth": 0,
              "ticks": ""
             }
            },
            "type": "parcoords"
           }
          ],
          "pie": [
           {
            "automargin": true,
            "type": "pie"
           }
          ],
          "scatter": [
           {
            "fillpattern": {
             "fillmode": "overlay",
             "size": 10,
             "solidity": 0.2
            },
            "type": "scatter"
           }
          ],
          "scatter3d": [
           {
            "line": {
             "colorbar": {
              "outlinewidth": 0,
              "ticks": ""
             }
            },
            "marker": {
             "colorbar": {
              "outlinewidth": 0,
              "ticks": ""
             }
            },
            "type": "scatter3d"
           }
          ],
          "scattercarpet": [
           {
            "marker": {
             "colorbar": {
              "outlinewidth": 0,
              "ticks": ""
             }
            },
            "type": "scattercarpet"
           }
          ],
          "scattergeo": [
           {
            "marker": {
             "colorbar": {
              "outlinewidth": 0,
              "ticks": ""
             }
            },
            "type": "scattergeo"
           }
          ],
          "scattergl": [
           {
            "marker": {
             "colorbar": {
              "outlinewidth": 0,
              "ticks": ""
             }
            },
            "type": "scattergl"
           }
          ],
          "scattermap": [
           {
            "marker": {
             "colorbar": {
              "outlinewidth": 0,
              "ticks": ""
             }
            },
            "type": "scattermap"
           }
          ],
          "scattermapbox": [
           {
            "marker": {
             "colorbar": {
              "outlinewidth": 0,
              "ticks": ""
             }
            },
            "type": "scattermapbox"
           }
          ],
          "scatterpolar": [
           {
            "marker": {
             "colorbar": {
              "outlinewidth": 0,
              "ticks": ""
             }
            },
            "type": "scatterpolar"
           }
          ],
          "scatterpolargl": [
           {
            "marker": {
             "colorbar": {
              "outlinewidth": 0,
              "ticks": ""
             }
            },
            "type": "scatterpolargl"
           }
          ],
          "scatterternary": [
           {
            "marker": {
             "colorbar": {
              "outlinewidth": 0,
              "ticks": ""
             }
            },
            "type": "scatterternary"
           }
          ],
          "surface": [
           {
            "colorbar": {
             "outlinewidth": 0,
             "ticks": ""
            },
            "colorscale": [
             [
              0,
              "#0d0887"
             ],
             [
              0.1111111111111111,
              "#46039f"
             ],
             [
              0.2222222222222222,
              "#7201a8"
             ],
             [
              0.3333333333333333,
              "#9c179e"
             ],
             [
              0.4444444444444444,
              "#bd3786"
             ],
             [
              0.5555555555555556,
              "#d8576b"
             ],
             [
              0.6666666666666666,
              "#ed7953"
             ],
             [
              0.7777777777777778,
              "#fb9f3a"
             ],
             [
              0.8888888888888888,
              "#fdca26"
             ],
             [
              1,
              "#f0f921"
             ]
            ],
            "type": "surface"
           }
          ],
          "table": [
           {
            "cells": {
             "fill": {
              "color": "#EBF0F8"
             },
             "line": {
              "color": "white"
             }
            },
            "header": {
             "fill": {
              "color": "#C8D4E3"
             },
             "line": {
              "color": "white"
             }
            },
            "type": "table"
           }
          ]
         },
         "layout": {
          "annotationdefaults": {
           "arrowcolor": "#2a3f5f",
           "arrowhead": 0,
           "arrowwidth": 1
          },
          "autotypenumbers": "strict",
          "coloraxis": {
           "colorbar": {
            "outlinewidth": 0,
            "ticks": ""
           }
          },
          "colorscale": {
           "diverging": [
            [
             0,
             "#8e0152"
            ],
            [
             0.1,
             "#c51b7d"
            ],
            [
             0.2,
             "#de77ae"
            ],
            [
             0.3,
             "#f1b6da"
            ],
            [
             0.4,
             "#fde0ef"
            ],
            [
             0.5,
             "#f7f7f7"
            ],
            [
             0.6,
             "#e6f5d0"
            ],
            [
             0.7,
             "#b8e186"
            ],
            [
             0.8,
             "#7fbc41"
            ],
            [
             0.9,
             "#4d9221"
            ],
            [
             1,
             "#276419"
            ]
           ],
           "sequential": [
            [
             0,
             "#0d0887"
            ],
            [
             0.1111111111111111,
             "#46039f"
            ],
            [
             0.2222222222222222,
             "#7201a8"
            ],
            [
             0.3333333333333333,
             "#9c179e"
            ],
            [
             0.4444444444444444,
             "#bd3786"
            ],
            [
             0.5555555555555556,
             "#d8576b"
            ],
            [
             0.6666666666666666,
             "#ed7953"
            ],
            [
             0.7777777777777778,
             "#fb9f3a"
            ],
            [
             0.8888888888888888,
             "#fdca26"
            ],
            [
             1,
             "#f0f921"
            ]
           ],
           "sequentialminus": [
            [
             0,
             "#0d0887"
            ],
            [
             0.1111111111111111,
             "#46039f"
            ],
            [
             0.2222222222222222,
             "#7201a8"
            ],
            [
             0.3333333333333333,
             "#9c179e"
            ],
            [
             0.4444444444444444,
             "#bd3786"
            ],
            [
             0.5555555555555556,
             "#d8576b"
            ],
            [
             0.6666666666666666,
             "#ed7953"
            ],
            [
             0.7777777777777778,
             "#fb9f3a"
            ],
            [
             0.8888888888888888,
             "#fdca26"
            ],
            [
             1,
             "#f0f921"
            ]
           ]
          },
          "colorway": [
           "#636efa",
           "#EF553B",
           "#00cc96",
           "#ab63fa",
           "#FFA15A",
           "#19d3f3",
           "#FF6692",
           "#B6E880",
           "#FF97FF",
           "#FECB52"
          ],
          "font": {
           "color": "#2a3f5f"
          },
          "geo": {
           "bgcolor": "white",
           "lakecolor": "white",
           "landcolor": "#E5ECF6",
           "showlakes": true,
           "showland": true,
           "subunitcolor": "white"
          },
          "hoverlabel": {
           "align": "left"
          },
          "hovermode": "closest",
          "mapbox": {
           "style": "light"
          },
          "paper_bgcolor": "white",
          "plot_bgcolor": "#E5ECF6",
          "polar": {
           "angularaxis": {
            "gridcolor": "white",
            "linecolor": "white",
            "ticks": ""
           },
           "bgcolor": "#E5ECF6",
           "radialaxis": {
            "gridcolor": "white",
            "linecolor": "white",
            "ticks": ""
           }
          },
          "scene": {
           "xaxis": {
            "backgroundcolor": "#E5ECF6",
            "gridcolor": "white",
            "gridwidth": 2,
            "linecolor": "white",
            "showbackground": true,
            "ticks": "",
            "zerolinecolor": "white"
           },
           "yaxis": {
            "backgroundcolor": "#E5ECF6",
            "gridcolor": "white",
            "gridwidth": 2,
            "linecolor": "white",
            "showbackground": true,
            "ticks": "",
            "zerolinecolor": "white"
           },
           "zaxis": {
            "backgroundcolor": "#E5ECF6",
            "gridcolor": "white",
            "gridwidth": 2,
            "linecolor": "white",
            "showbackground": true,
            "ticks": "",
            "zerolinecolor": "white"
           }
          },
          "shapedefaults": {
           "line": {
            "color": "#2a3f5f"
           }
          },
          "ternary": {
           "aaxis": {
            "gridcolor": "white",
            "linecolor": "white",
            "ticks": ""
           },
           "baxis": {
            "gridcolor": "white",
            "linecolor": "white",
            "ticks": ""
           },
           "bgcolor": "#E5ECF6",
           "caxis": {
            "gridcolor": "white",
            "linecolor": "white",
            "ticks": ""
           }
          },
          "title": {
           "x": 0.05
          },
          "xaxis": {
           "automargin": true,
           "gridcolor": "white",
           "linecolor": "white",
           "ticks": "",
           "title": {
            "standoff": 15
           },
           "zerolinecolor": "white",
           "zerolinewidth": 2
          },
          "yaxis": {
           "automargin": true,
           "gridcolor": "white",
           "linecolor": "white",
           "ticks": "",
           "title": {
            "standoff": 15
           },
           "zerolinecolor": "white",
           "zerolinewidth": 2
          }
         }
        },
        "width": 225,
        "xaxis": {
         "anchor": "y",
         "domain": [
          0,
          1
         ],
         "showticklabels": false
        },
        "yaxis": {
         "anchor": "x",
         "domain": [
          0,
          1
         ],
         "showticklabels": false
        }
       }
      }
     },
     "metadata": {},
     "output_type": "display_data"
    }
   ],
   "source": [
    "display_soln_array_as_img(8)"
   ]
  },
  {
   "cell_type": "code",
   "execution_count": 25,
   "metadata": {},
   "outputs": [
    {
     "data": {
      "application/vnd.plotly.v1+json": {
       "config": {
        "displayModeBar": false,
        "plotlyServerURL": "https://plot.ly"
       },
       "data": [
        {
         "hovertemplate": "x: %{x}<br>y: %{y}<br>color: [%{z[0]}, %{z[1]}, %{z[2]}]<extra></extra>",
         "name": "0",
         "source": "data:image/png;base64,iVBORw0KGgoAAAANSUhEUgAAAOEAAACWCAIAAACn9nhUAAAP4klEQVR4Xu3dd1gU1xoG8NmlIygWVFQUxKhRRCMiIia22BBI9GIULNdCUdAQW2hRVEQhmsTuBSyxYDeKRkSFC0YUKWuLgij2Gg12etn7cJfnzGT37IgwM3sGv99f3+y8+GjyMjt1VyKXxVD124WeLCvrgQueF1jW1gNSlnUAkAA6CkgHHQWkg44C0kFHAemgo4B00FFAOugoIB10FJAOOgpIBx0FpIOOAtJBRwHpoKOAdNBRQDroKCAddBSQDjoKSAcdBaTTZlnHocT0nPX7klMv3SwpLW/fxtRtsG3Q1BFa0nr7G+K6bvbRy39QFCWPkbHEROR4bHrC7ozsrLtvXhQ0NjW2cWjv/O++X7h0Z/kRrkj4fuZukM9PyVnX1a29/ltYp3Yt1a3lhuDP3BWWFjfwc1TMAnSU12fuLvxxw6v/CpaAQQO9Y/ciGjU1YsnUEY/b0XeFJcafz2QJUBTVefSCEY7W8Wv8WTKigwoqdgMa+799VcgSoCiqqKBkULPZjk7d1hz7liVWF3xtRwuKSoz6/aOg0936Ozl2M9DTvZh7f1HUkcLiUrSqd1fL9O3BzDCXhN2ONvEf+LLwDVoU73bUVuKl9Iq7/2Dr3pYmzYye3n+RdPDCuYSrzLVtrEzj8pYp/Qgn+OqoxJb+F4b7jQqe6qQUePbibYshc9BiVMhE79FfKGW4IWBHW84d8tebF8xXRNrRfkYziwpK0GJy/qqGTRqoxk7syQx2j0aLwz3sw2M9VWN1xMtRi9v3G9G8MWiCakEpimrexJj56+ETvkM1Iy4Gvg5KBRWphN0ZzILK5DHYglIUNWyc3YnHK9Fiwq700uIybLIueOnowaTq32wjQ73pbv3VxSiKuh8fiWZms8Xl0atnEi/b4jJ670XUQjzobUdmeRQ2gzQzazRjyVdo0a1rKDZWF9x31C8iFs3XDy7FZhDzFk0M9HQUM2q2uLhHB7eZPwItSiQSbEwsCt4Uodm8Q3Op1vsb4rnAGc2Pbj/HZuri/X+DD7VhfwqaWzc3wWaYDqyYgebjZ/+xG064A7JEiZftnswT6JXRPQcVrj+HDYvF2qDf0Dx/jTs2o0pLm/siIRyfe5LL5Wj+rFNbbEaJk2M3NPuE72C++5NM4mWr9Mpx/7XDrfsqvSg6cZtT0ew4whqbUdXBunXupQeK+eaVh5/YtFGXrAWOO7rxwGk0z5kwBJth8eAvUR5zNDMyef5LEktARPZcWZSdefda5p3szLssMSUVFZVo5nybynFHNx8+g+bRg2p60kdHW6usvIIlQLL04O29LbuyBMSlXccW7Tq2GDHeniWjKu/PR2hu36UVNlNrHFf+wvX7aDbU18VmVH3RsyOa7zz6G5sh0JbJofIYWX0qKJk47mjt9OhojuYzF29iM6SRx8imOLqyBD4e64IPoZnzjSgpHe1g3hzNf+bR7xpAFLYuj0fztnTur2kT0VGzZo3QfPeJaN7rAUVRQ83mobmNlamhkR42VhdEdLShkT6an714i80AAi313p7/9DVa5OmeEiI6qq9bfamJoqi3BcXYDCDN/g0ph2Lo0zi/5b7nmmKtEdFRbS0tNFcyrgIAYsVtSY3woy96h0RNbNexBTZZdxyfH62d4lL6Zhl9XSL+SoDF1uXxzGN5r4Uuo735ua/y/4goRElpOZqbmRhjM4AQIR4xCbsz0KJf+KipwZh7LzlEREef5tP73eYtG2MzgARjuobezn6MFpdsnzpyogM2ySEiOvr4+Ss0d7Yww2aAxjkY+DJvYd52Ptja3hKb5BYRHb184yGa7a2F+GeDD1JSVNbX0Jf5SuKznxubCrRXxvFxfZOG+IcK2GVcu4PmPt3aYzNAU3IvPVAqaFZltGAF5b6jk5zpvZN7T/KxGVV5D56xrAUadHJvpsdnS9CisYmhTB4j8LMGHHfUd8xANG89chabAWKxa1Vi0Dj6sU9re8uUl6uxSV5x3NFP2tJ3h/y88xQ2o4T5oP0Epz7YDBDe3nX//Wn2XrQ4xnfAtvPc3y9SE9wfMzUw0Csoqnry9W1hja5qTl+2E83RP0zCZoDAZKdv/DhrN1oMXD9+jO8AbFIAHG9Hq/Zg1s9G87It9F1b6uw4loZm9Iwo0KCy0nLvAfRnPM1aPlqDBeWlo327W6E5ZP2hikr6SRdV/abST9id2xqIzQCBOTbwQ7ONg9XkQPrJbI3gvqMURaX9GoRmbTsf5sOiTP4r9py9nKeY9XV1HGzocgNNOR6bXlFOb1aWbJ+KjQmJ+/1RxTlOu64WmdeqHyyU9vJeF+Dh9w19yF9UUtZuZMDzl/StokVpG5h/AtCUHyZsYi5+/UmIaobdst3ew8bZsQQ+FC8drTotvz3EwjkQnSKdGblrZuQudeHXf6xRtwoI6UEeiSeqeXmvV7j7e8R3Hl+yBKqexZZKyzKiGjYwYMkAwawNPMiyVlN47ChFUb/MHSuXxUwcibk1xlBfN3VLQHlmlHYNPlEICCMjSe0nbmsQX58/ShABP39UI/j4/FGiwDYMkA46CkgHHQWkg44C0kFHAemgo4B00FFAOugoIB10FJAOOgpIBx0FpIOOAtJBRwHpoKOAdNBRQDroKCAddBSQDjoKSCeRxdTz70io949S1PuHYWA7CkgHHQWkg44C0kFHAemgo4B00FFAOugoIB10FJAOOgpIBx0FpIOOAtJBRwHpoKOAdNBRQDroKCAddBSQDjoKSAcdBaSDjgLS8fU9d0ylZcXbT6xIvnj47tPrDQ0b23To6+o4xdFaw9+UyreUjQdifZcr5hi5TF0MvBe/HU25FDd3/dfMV4pLCxOz9idm7acoqo2p1aGluVKpluoPil1leQUqqHh52UpY1mLNi07uZMvxF4nz+F7/5ZzmSgVV8vD5LTsf7agji1gyIjXDAPPVfuJSUlTAslZIfG1H7by1KuX0V0w3NGw8bWSIVWvr0vKS7DuZvyZElleUKVZFH12cc0+2atZR1T9EpGL9IirLK1gConD2yFaWtULipaPOgRaooFKJND2qTCqhN9j9u7vO+Drs+avHw+e3Vrxy5srvp7L2Den1jdKfI0YFL96kbKjakxG7s3Fb0DwvOhmbUWXesQfL2trhvqPZd7Oe5N9TzBKJJDMav0UxNWl1fmNJnxl6isXAqLH1o6PfNR3IslZE7udeRDPnu5gfhPv90YnhdmhOXvUCm1HQ0db1dF6AFvckif5b7H8a5MOyVqQsutL/QzWC444y90G1tXSMDU2wMWTGV0vQvHLvd9iMWDy6eut6cpZidgn1VhcTBXkl/f9x4Dd+2IxgOO7opt/D0Dzf/cO2i3K5uD95alG36n2Vxdf2uy4S9wY18+ReNDs4TcRmBMPx/qi3S6i3S+iVW2nH02NHfe7Jkqxngtq7KoaO/W1bdWmvLiYWqUfoAyaJlOMN2YfiuKMKNlYONlaiP0FYcxcPp/x955Finp8SrS4mIjnpiSxrBabhX5Hc+/TBo32XIdgM+TaMmqsYVj45qS4jUtZ9h7OsFQYv29GaG7/UFs1rvj2GzRBuplE/xWDvMbxRy6bqYiI1YIwvmrPTTyXvW//gxuWCV/mtO1jbDRs3aOwsieSDr5d+KE12dNi8Vug4yanPBG0tHXVJYh1buqmkoEgxe8aGq4uJy7Xz9LuBRVe71/lPg12tSosLmZlbV9JuXUnbs8JfqqW9LC6vqVk75lpuaaajqw7M33FiJVrs3LZn2LQd2CTJyopKDi/YqJjXvUtVFxOd1MOb0TxvqBk2g1RWlAc6W3zae/CcjXztwgrXUVsv/JtC0ISNbv2nY1cRzq+Bo2IYHjBZr4GBupjoyBIx13JN21gN/MbPzPJTqZbWk9vZZw5vfpT3J1qbk5E0Z0iLn0/9pfqDdSdcR7HcB/uLtKDR7sGKHRVtXZ1/RcxiSYqO0olq++EenuGxzFe62A8Z7O5fdffMct+UA9XvJG9fPFs8rnvonsvMJCcEOq4vLSvGvr47aXUvb+mNB9z/w3j18uFfmXtOKOb1hefUxeqBxfuuKhWUaXzQhqBf09Diw5tX8i5xv88j0Hb0Yl7q2EEze3cebKBv9Oj57cSs/ek51bsvcrncfUkPi5adD4blqPtx0nxv7qQYPNYFSLUE+j0XTNjBnJyMpJyMJLuhY1tZdWVJUhTVvlsfpylB8Vurb+iOnPZ5jIzj64Wa/O6bY2k7Fm6ZhBabNmp5cuUTbLIuOP/umzDb8fcvXKcoytDEePXLFHUxLwl9Wo3fZ0UI+O4b5h37Yb9db9muEzZWO5rcBox0mJiy+iVazH/9dFvCj9gkOW6du6woKEVRLAX92Di6TkHztsXTsJla02RHKYoyNjSJnE4fRa45GICNkSPCcapimBn3s7rMR8jFayGa8y6fxWZqTcMdrXrsydaNuSi7cVo1Q4g5Laqv1jZtZ9bdtb+62EeoaSsLlrV1pPmOVl1w+4x+NG9X4ipsRuNSNx9++6z6lu3JW+vhc4LEEui4nt0XNi4pFw8rZlkuoTt5GburTzbV4n575vGTpb118Plt2BjAImI72qJxGzS/LXyFzYCPFsfb0YrK8qzclIzsxPPZp2IX1PSEy7viN2hu2aQtNgOEwTyLVPMznU/v5aJZV98Qm6k1jjva26c29y6dvhSH5i97jcFmNG5OYvVFvxoS7vwob4revTYwasQSQOI30/d8OXvRz1FyguP3ekM9IzSnZ5/CZlTFn9+JZh9XOBzRJEtrezRHB43DZlSlHaNvWxsxORCbqTWOO7rMezeaZ66q0S3c1+5mMheZLQfC8/vpEJqvnkvAZpSkMj4twsS0FTZTFxx39HMbZzRXyisT0ndhY0yTwnujeVvweWwGCKZRMzPmQ3bLJtGbVayy0uJtS+gLS5HHqj/+g0Mcd5SiqB0h9HYxZNP4K7fo+2KUlJaXMG8qtWptbW35nv8iQACrkv5G851rGcwKKnn3Ot/Xgb5x1tVnkVSL4yMcXjraxaLXCPvxaHFKRF+3hV3QJ5ApyOXygP+McZihj14x1DPat4i+ZxZokGHDxm7+9I0TqXFbZjjov3pW/eCrglwu/8V36OxBzdArbTv3dPEOZWa4wn3rKYpa6rlTIpGgI6E7T3Lsp+uqC1edH21iHh95nyUABDZs0vzS4sIjUdXHr+WlJfNH0OewVXXo0S9g8xmWQF1wvx1VCJu2Y9dC+rlkFoumbIWCEsjFOzTi6B2WAOK/9jh/BeWxo1UftmbeQxYjX+Mfb6hvrLpWV0d/qedOWYzcpe9k1bWABE1bWcTI5AGbzxg1wjyTraOrPz1yf4xMzvcz+Jq8x1kYnN/jTBwC7nHmFY/bUQA4AR0FpIOOAtJBRwHpoKOAdNBRQDroKCAddBSQDjoKSAcdBaSDjgLSQUcB6aCjgHTQUUA66CggHXQUkA46CkgHHQWk+x8gi5R3f/RaZgAAAABJRU5ErkJggg==",
         "type": "image",
         "xaxis": "x",
         "yaxis": "y"
        }
       ],
       "layout": {
        "coloraxis": {
         "showscale": false
        },
        "height": 150,
        "margin": {
         "b": 0,
         "l": 0,
         "r": 0,
         "t": 0
        },
        "template": {
         "data": {
          "bar": [
           {
            "error_x": {
             "color": "#2a3f5f"
            },
            "error_y": {
             "color": "#2a3f5f"
            },
            "marker": {
             "line": {
              "color": "#E5ECF6",
              "width": 0.5
             },
             "pattern": {
              "fillmode": "overlay",
              "size": 10,
              "solidity": 0.2
             }
            },
            "type": "bar"
           }
          ],
          "barpolar": [
           {
            "marker": {
             "line": {
              "color": "#E5ECF6",
              "width": 0.5
             },
             "pattern": {
              "fillmode": "overlay",
              "size": 10,
              "solidity": 0.2
             }
            },
            "type": "barpolar"
           }
          ],
          "carpet": [
           {
            "aaxis": {
             "endlinecolor": "#2a3f5f",
             "gridcolor": "white",
             "linecolor": "white",
             "minorgridcolor": "white",
             "startlinecolor": "#2a3f5f"
            },
            "baxis": {
             "endlinecolor": "#2a3f5f",
             "gridcolor": "white",
             "linecolor": "white",
             "minorgridcolor": "white",
             "startlinecolor": "#2a3f5f"
            },
            "type": "carpet"
           }
          ],
          "choropleth": [
           {
            "colorbar": {
             "outlinewidth": 0,
             "ticks": ""
            },
            "type": "choropleth"
           }
          ],
          "contour": [
           {
            "colorbar": {
             "outlinewidth": 0,
             "ticks": ""
            },
            "colorscale": [
             [
              0,
              "#0d0887"
             ],
             [
              0.1111111111111111,
              "#46039f"
             ],
             [
              0.2222222222222222,
              "#7201a8"
             ],
             [
              0.3333333333333333,
              "#9c179e"
             ],
             [
              0.4444444444444444,
              "#bd3786"
             ],
             [
              0.5555555555555556,
              "#d8576b"
             ],
             [
              0.6666666666666666,
              "#ed7953"
             ],
             [
              0.7777777777777778,
              "#fb9f3a"
             ],
             [
              0.8888888888888888,
              "#fdca26"
             ],
             [
              1,
              "#f0f921"
             ]
            ],
            "type": "contour"
           }
          ],
          "contourcarpet": [
           {
            "colorbar": {
             "outlinewidth": 0,
             "ticks": ""
            },
            "type": "contourcarpet"
           }
          ],
          "heatmap": [
           {
            "colorbar": {
             "outlinewidth": 0,
             "ticks": ""
            },
            "colorscale": [
             [
              0,
              "#0d0887"
             ],
             [
              0.1111111111111111,
              "#46039f"
             ],
             [
              0.2222222222222222,
              "#7201a8"
             ],
             [
              0.3333333333333333,
              "#9c179e"
             ],
             [
              0.4444444444444444,
              "#bd3786"
             ],
             [
              0.5555555555555556,
              "#d8576b"
             ],
             [
              0.6666666666666666,
              "#ed7953"
             ],
             [
              0.7777777777777778,
              "#fb9f3a"
             ],
             [
              0.8888888888888888,
              "#fdca26"
             ],
             [
              1,
              "#f0f921"
             ]
            ],
            "type": "heatmap"
           }
          ],
          "histogram": [
           {
            "marker": {
             "pattern": {
              "fillmode": "overlay",
              "size": 10,
              "solidity": 0.2
             }
            },
            "type": "histogram"
           }
          ],
          "histogram2d": [
           {
            "colorbar": {
             "outlinewidth": 0,
             "ticks": ""
            },
            "colorscale": [
             [
              0,
              "#0d0887"
             ],
             [
              0.1111111111111111,
              "#46039f"
             ],
             [
              0.2222222222222222,
              "#7201a8"
             ],
             [
              0.3333333333333333,
              "#9c179e"
             ],
             [
              0.4444444444444444,
              "#bd3786"
             ],
             [
              0.5555555555555556,
              "#d8576b"
             ],
             [
              0.6666666666666666,
              "#ed7953"
             ],
             [
              0.7777777777777778,
              "#fb9f3a"
             ],
             [
              0.8888888888888888,
              "#fdca26"
             ],
             [
              1,
              "#f0f921"
             ]
            ],
            "type": "histogram2d"
           }
          ],
          "histogram2dcontour": [
           {
            "colorbar": {
             "outlinewidth": 0,
             "ticks": ""
            },
            "colorscale": [
             [
              0,
              "#0d0887"
             ],
             [
              0.1111111111111111,
              "#46039f"
             ],
             [
              0.2222222222222222,
              "#7201a8"
             ],
             [
              0.3333333333333333,
              "#9c179e"
             ],
             [
              0.4444444444444444,
              "#bd3786"
             ],
             [
              0.5555555555555556,
              "#d8576b"
             ],
             [
              0.6666666666666666,
              "#ed7953"
             ],
             [
              0.7777777777777778,
              "#fb9f3a"
             ],
             [
              0.8888888888888888,
              "#fdca26"
             ],
             [
              1,
              "#f0f921"
             ]
            ],
            "type": "histogram2dcontour"
           }
          ],
          "mesh3d": [
           {
            "colorbar": {
             "outlinewidth": 0,
             "ticks": ""
            },
            "type": "mesh3d"
           }
          ],
          "parcoords": [
           {
            "line": {
             "colorbar": {
              "outlinewidth": 0,
              "ticks": ""
             }
            },
            "type": "parcoords"
           }
          ],
          "pie": [
           {
            "automargin": true,
            "type": "pie"
           }
          ],
          "scatter": [
           {
            "fillpattern": {
             "fillmode": "overlay",
             "size": 10,
             "solidity": 0.2
            },
            "type": "scatter"
           }
          ],
          "scatter3d": [
           {
            "line": {
             "colorbar": {
              "outlinewidth": 0,
              "ticks": ""
             }
            },
            "marker": {
             "colorbar": {
              "outlinewidth": 0,
              "ticks": ""
             }
            },
            "type": "scatter3d"
           }
          ],
          "scattercarpet": [
           {
            "marker": {
             "colorbar": {
              "outlinewidth": 0,
              "ticks": ""
             }
            },
            "type": "scattercarpet"
           }
          ],
          "scattergeo": [
           {
            "marker": {
             "colorbar": {
              "outlinewidth": 0,
              "ticks": ""
             }
            },
            "type": "scattergeo"
           }
          ],
          "scattergl": [
           {
            "marker": {
             "colorbar": {
              "outlinewidth": 0,
              "ticks": ""
             }
            },
            "type": "scattergl"
           }
          ],
          "scattermap": [
           {
            "marker": {
             "colorbar": {
              "outlinewidth": 0,
              "ticks": ""
             }
            },
            "type": "scattermap"
           }
          ],
          "scattermapbox": [
           {
            "marker": {
             "colorbar": {
              "outlinewidth": 0,
              "ticks": ""
             }
            },
            "type": "scattermapbox"
           }
          ],
          "scatterpolar": [
           {
            "marker": {
             "colorbar": {
              "outlinewidth": 0,
              "ticks": ""
             }
            },
            "type": "scatterpolar"
           }
          ],
          "scatterpolargl": [
           {
            "marker": {
             "colorbar": {
              "outlinewidth": 0,
              "ticks": ""
             }
            },
            "type": "scatterpolargl"
           }
          ],
          "scatterternary": [
           {
            "marker": {
             "colorbar": {
              "outlinewidth": 0,
              "ticks": ""
             }
            },
            "type": "scatterternary"
           }
          ],
          "surface": [
           {
            "colorbar": {
             "outlinewidth": 0,
             "ticks": ""
            },
            "colorscale": [
             [
              0,
              "#0d0887"
             ],
             [
              0.1111111111111111,
              "#46039f"
             ],
             [
              0.2222222222222222,
              "#7201a8"
             ],
             [
              0.3333333333333333,
              "#9c179e"
             ],
             [
              0.4444444444444444,
              "#bd3786"
             ],
             [
              0.5555555555555556,
              "#d8576b"
             ],
             [
              0.6666666666666666,
              "#ed7953"
             ],
             [
              0.7777777777777778,
              "#fb9f3a"
             ],
             [
              0.8888888888888888,
              "#fdca26"
             ],
             [
              1,
              "#f0f921"
             ]
            ],
            "type": "surface"
           }
          ],
          "table": [
           {
            "cells": {
             "fill": {
              "color": "#EBF0F8"
             },
             "line": {
              "color": "white"
             }
            },
            "header": {
             "fill": {
              "color": "#C8D4E3"
             },
             "line": {
              "color": "white"
             }
            },
            "type": "table"
           }
          ]
         },
         "layout": {
          "annotationdefaults": {
           "arrowcolor": "#2a3f5f",
           "arrowhead": 0,
           "arrowwidth": 1
          },
          "autotypenumbers": "strict",
          "coloraxis": {
           "colorbar": {
            "outlinewidth": 0,
            "ticks": ""
           }
          },
          "colorscale": {
           "diverging": [
            [
             0,
             "#8e0152"
            ],
            [
             0.1,
             "#c51b7d"
            ],
            [
             0.2,
             "#de77ae"
            ],
            [
             0.3,
             "#f1b6da"
            ],
            [
             0.4,
             "#fde0ef"
            ],
            [
             0.5,
             "#f7f7f7"
            ],
            [
             0.6,
             "#e6f5d0"
            ],
            [
             0.7,
             "#b8e186"
            ],
            [
             0.8,
             "#7fbc41"
            ],
            [
             0.9,
             "#4d9221"
            ],
            [
             1,
             "#276419"
            ]
           ],
           "sequential": [
            [
             0,
             "#0d0887"
            ],
            [
             0.1111111111111111,
             "#46039f"
            ],
            [
             0.2222222222222222,
             "#7201a8"
            ],
            [
             0.3333333333333333,
             "#9c179e"
            ],
            [
             0.4444444444444444,
             "#bd3786"
            ],
            [
             0.5555555555555556,
             "#d8576b"
            ],
            [
             0.6666666666666666,
             "#ed7953"
            ],
            [
             0.7777777777777778,
             "#fb9f3a"
            ],
            [
             0.8888888888888888,
             "#fdca26"
            ],
            [
             1,
             "#f0f921"
            ]
           ],
           "sequentialminus": [
            [
             0,
             "#0d0887"
            ],
            [
             0.1111111111111111,
             "#46039f"
            ],
            [
             0.2222222222222222,
             "#7201a8"
            ],
            [
             0.3333333333333333,
             "#9c179e"
            ],
            [
             0.4444444444444444,
             "#bd3786"
            ],
            [
             0.5555555555555556,
             "#d8576b"
            ],
            [
             0.6666666666666666,
             "#ed7953"
            ],
            [
             0.7777777777777778,
             "#fb9f3a"
            ],
            [
             0.8888888888888888,
             "#fdca26"
            ],
            [
             1,
             "#f0f921"
            ]
           ]
          },
          "colorway": [
           "#636efa",
           "#EF553B",
           "#00cc96",
           "#ab63fa",
           "#FFA15A",
           "#19d3f3",
           "#FF6692",
           "#B6E880",
           "#FF97FF",
           "#FECB52"
          ],
          "font": {
           "color": "#2a3f5f"
          },
          "geo": {
           "bgcolor": "white",
           "lakecolor": "white",
           "landcolor": "#E5ECF6",
           "showlakes": true,
           "showland": true,
           "subunitcolor": "white"
          },
          "hoverlabel": {
           "align": "left"
          },
          "hovermode": "closest",
          "mapbox": {
           "style": "light"
          },
          "paper_bgcolor": "white",
          "plot_bgcolor": "#E5ECF6",
          "polar": {
           "angularaxis": {
            "gridcolor": "white",
            "linecolor": "white",
            "ticks": ""
           },
           "bgcolor": "#E5ECF6",
           "radialaxis": {
            "gridcolor": "white",
            "linecolor": "white",
            "ticks": ""
           }
          },
          "scene": {
           "xaxis": {
            "backgroundcolor": "#E5ECF6",
            "gridcolor": "white",
            "gridwidth": 2,
            "linecolor": "white",
            "showbackground": true,
            "ticks": "",
            "zerolinecolor": "white"
           },
           "yaxis": {
            "backgroundcolor": "#E5ECF6",
            "gridcolor": "white",
            "gridwidth": 2,
            "linecolor": "white",
            "showbackground": true,
            "ticks": "",
            "zerolinecolor": "white"
           },
           "zaxis": {
            "backgroundcolor": "#E5ECF6",
            "gridcolor": "white",
            "gridwidth": 2,
            "linecolor": "white",
            "showbackground": true,
            "ticks": "",
            "zerolinecolor": "white"
           }
          },
          "shapedefaults": {
           "line": {
            "color": "#2a3f5f"
           }
          },
          "ternary": {
           "aaxis": {
            "gridcolor": "white",
            "linecolor": "white",
            "ticks": ""
           },
           "baxis": {
            "gridcolor": "white",
            "linecolor": "white",
            "ticks": ""
           },
           "bgcolor": "#E5ECF6",
           "caxis": {
            "gridcolor": "white",
            "linecolor": "white",
            "ticks": ""
           }
          },
          "title": {
           "x": 0.05
          },
          "xaxis": {
           "automargin": true,
           "gridcolor": "white",
           "linecolor": "white",
           "ticks": "",
           "title": {
            "standoff": 15
           },
           "zerolinecolor": "white",
           "zerolinewidth": 2
          },
          "yaxis": {
           "automargin": true,
           "gridcolor": "white",
           "linecolor": "white",
           "ticks": "",
           "title": {
            "standoff": 15
           },
           "zerolinecolor": "white",
           "zerolinewidth": 2
          }
         }
        },
        "width": 225,
        "xaxis": {
         "anchor": "y",
         "domain": [
          0,
          1
         ],
         "showticklabels": false
        },
        "yaxis": {
         "anchor": "x",
         "domain": [
          0,
          1
         ],
         "showticklabels": false
        }
       }
      }
     },
     "metadata": {},
     "output_type": "display_data"
    }
   ],
   "source": [
    "# Your code here - define arr8\n",
    "arr8 = einops.reduce(arr, \"(b1 b2) c (h2 2) (w2 2) -> c (b1 h2) (b2 w2)\", \"max\" ,b1=2)\n",
    "\n",
    "display_array_as_img(arr8)"
   ]
  },
  {
   "cell_type": "code",
   "execution_count": 26,
   "metadata": {},
   "outputs": [
    {
     "data": {
      "application/vnd.plotly.v1+json": {
       "config": {
        "displayModeBar": false,
        "plotlyServerURL": "https://plot.ly"
       },
       "data": [
        {
         "hovertemplate": "x: %{x}<br>y: %{y}<br>color: [%{z[0]}, %{z[1]}, %{z[2]}]<extra></extra>",
         "name": "0",
         "source": "data:image/png;base64,iVBORw0KGgoAAAANSUhEUgAAAOEAAACWCAIAAACn9nhUAAABxklEQVR4Xu3UsQ2EQBAEwedDIiayIiY2Jcjg7Napyh23Ncf73L+9zbkYNzDXLNYN/BcbFGiUOo1Sp1HqNEqdRqnTKHUapU6j1GmUOo1Sp1HqNEqdRqnTKHUapU6j1GmUOo1Sp1HqNEqdRqnTKHUapU6j1GmUOo1Sp1HqNEqdRqnTKHUapU6j1GmUOo1Sp1HqNEqdRqnTKHUapU6j1GmUOo1Sp1HqNEqdRqnTKHUapU6j1GmUOo1Sp1HqNEqdRqnTKHUapU6j1GmUOo1Sp1HqNEqdRqnTKHUapU6j1GmUOo1Sp1HqNEqdRqnTKHUapU6j1GmUuuO538W8gblmse5gzsW4AT9KnUap0yh1GqVOo9RplDqNUqdR6jRKnUap0yh1GqVOo9RplDqNUqdR6jRKnUap0yh1GqVOo9RplDqNUqdR6jRKnUap0yh1GqVOo9RplDqNUqdR6jRKnUap0yh1GqVOo9RplDqNUqdR6jRKnUap0yh1GqVOo9RplDqNUqdR6jRKnUap0yh1GqVOo9RplDqNUqdR6jRKnUap0yh1GqVOo9RplDqNUqdR6jRKnUap0yh1GqVOo9RplDqNUqdR6jRKnUap+wBnDwv5z5sUogAAAABJRU5ErkJggg==",
         "type": "image",
         "xaxis": "x",
         "yaxis": "y"
        }
       ],
       "layout": {
        "coloraxis": {
         "showscale": false
        },
        "height": 150,
        "margin": {
         "b": 0,
         "l": 0,
         "r": 0,
         "t": 0
        },
        "template": {
         "data": {
          "bar": [
           {
            "error_x": {
             "color": "#2a3f5f"
            },
            "error_y": {
             "color": "#2a3f5f"
            },
            "marker": {
             "line": {
              "color": "#E5ECF6",
              "width": 0.5
             },
             "pattern": {
              "fillmode": "overlay",
              "size": 10,
              "solidity": 0.2
             }
            },
            "type": "bar"
           }
          ],
          "barpolar": [
           {
            "marker": {
             "line": {
              "color": "#E5ECF6",
              "width": 0.5
             },
             "pattern": {
              "fillmode": "overlay",
              "size": 10,
              "solidity": 0.2
             }
            },
            "type": "barpolar"
           }
          ],
          "carpet": [
           {
            "aaxis": {
             "endlinecolor": "#2a3f5f",
             "gridcolor": "white",
             "linecolor": "white",
             "minorgridcolor": "white",
             "startlinecolor": "#2a3f5f"
            },
            "baxis": {
             "endlinecolor": "#2a3f5f",
             "gridcolor": "white",
             "linecolor": "white",
             "minorgridcolor": "white",
             "startlinecolor": "#2a3f5f"
            },
            "type": "carpet"
           }
          ],
          "choropleth": [
           {
            "colorbar": {
             "outlinewidth": 0,
             "ticks": ""
            },
            "type": "choropleth"
           }
          ],
          "contour": [
           {
            "colorbar": {
             "outlinewidth": 0,
             "ticks": ""
            },
            "colorscale": [
             [
              0,
              "#0d0887"
             ],
             [
              0.1111111111111111,
              "#46039f"
             ],
             [
              0.2222222222222222,
              "#7201a8"
             ],
             [
              0.3333333333333333,
              "#9c179e"
             ],
             [
              0.4444444444444444,
              "#bd3786"
             ],
             [
              0.5555555555555556,
              "#d8576b"
             ],
             [
              0.6666666666666666,
              "#ed7953"
             ],
             [
              0.7777777777777778,
              "#fb9f3a"
             ],
             [
              0.8888888888888888,
              "#fdca26"
             ],
             [
              1,
              "#f0f921"
             ]
            ],
            "type": "contour"
           }
          ],
          "contourcarpet": [
           {
            "colorbar": {
             "outlinewidth": 0,
             "ticks": ""
            },
            "type": "contourcarpet"
           }
          ],
          "heatmap": [
           {
            "colorbar": {
             "outlinewidth": 0,
             "ticks": ""
            },
            "colorscale": [
             [
              0,
              "#0d0887"
             ],
             [
              0.1111111111111111,
              "#46039f"
             ],
             [
              0.2222222222222222,
              "#7201a8"
             ],
             [
              0.3333333333333333,
              "#9c179e"
             ],
             [
              0.4444444444444444,
              "#bd3786"
             ],
             [
              0.5555555555555556,
              "#d8576b"
             ],
             [
              0.6666666666666666,
              "#ed7953"
             ],
             [
              0.7777777777777778,
              "#fb9f3a"
             ],
             [
              0.8888888888888888,
              "#fdca26"
             ],
             [
              1,
              "#f0f921"
             ]
            ],
            "type": "heatmap"
           }
          ],
          "histogram": [
           {
            "marker": {
             "pattern": {
              "fillmode": "overlay",
              "size": 10,
              "solidity": 0.2
             }
            },
            "type": "histogram"
           }
          ],
          "histogram2d": [
           {
            "colorbar": {
             "outlinewidth": 0,
             "ticks": ""
            },
            "colorscale": [
             [
              0,
              "#0d0887"
             ],
             [
              0.1111111111111111,
              "#46039f"
             ],
             [
              0.2222222222222222,
              "#7201a8"
             ],
             [
              0.3333333333333333,
              "#9c179e"
             ],
             [
              0.4444444444444444,
              "#bd3786"
             ],
             [
              0.5555555555555556,
              "#d8576b"
             ],
             [
              0.6666666666666666,
              "#ed7953"
             ],
             [
              0.7777777777777778,
              "#fb9f3a"
             ],
             [
              0.8888888888888888,
              "#fdca26"
             ],
             [
              1,
              "#f0f921"
             ]
            ],
            "type": "histogram2d"
           }
          ],
          "histogram2dcontour": [
           {
            "colorbar": {
             "outlinewidth": 0,
             "ticks": ""
            },
            "colorscale": [
             [
              0,
              "#0d0887"
             ],
             [
              0.1111111111111111,
              "#46039f"
             ],
             [
              0.2222222222222222,
              "#7201a8"
             ],
             [
              0.3333333333333333,
              "#9c179e"
             ],
             [
              0.4444444444444444,
              "#bd3786"
             ],
             [
              0.5555555555555556,
              "#d8576b"
             ],
             [
              0.6666666666666666,
              "#ed7953"
             ],
             [
              0.7777777777777778,
              "#fb9f3a"
             ],
             [
              0.8888888888888888,
              "#fdca26"
             ],
             [
              1,
              "#f0f921"
             ]
            ],
            "type": "histogram2dcontour"
           }
          ],
          "mesh3d": [
           {
            "colorbar": {
             "outlinewidth": 0,
             "ticks": ""
            },
            "type": "mesh3d"
           }
          ],
          "parcoords": [
           {
            "line": {
             "colorbar": {
              "outlinewidth": 0,
              "ticks": ""
             }
            },
            "type": "parcoords"
           }
          ],
          "pie": [
           {
            "automargin": true,
            "type": "pie"
           }
          ],
          "scatter": [
           {
            "fillpattern": {
             "fillmode": "overlay",
             "size": 10,
             "solidity": 0.2
            },
            "type": "scatter"
           }
          ],
          "scatter3d": [
           {
            "line": {
             "colorbar": {
              "outlinewidth": 0,
              "ticks": ""
             }
            },
            "marker": {
             "colorbar": {
              "outlinewidth": 0,
              "ticks": ""
             }
            },
            "type": "scatter3d"
           }
          ],
          "scattercarpet": [
           {
            "marker": {
             "colorbar": {
              "outlinewidth": 0,
              "ticks": ""
             }
            },
            "type": "scattercarpet"
           }
          ],
          "scattergeo": [
           {
            "marker": {
             "colorbar": {
              "outlinewidth": 0,
              "ticks": ""
             }
            },
            "type": "scattergeo"
           }
          ],
          "scattergl": [
           {
            "marker": {
             "colorbar": {
              "outlinewidth": 0,
              "ticks": ""
             }
            },
            "type": "scattergl"
           }
          ],
          "scattermap": [
           {
            "marker": {
             "colorbar": {
              "outlinewidth": 0,
              "ticks": ""
             }
            },
            "type": "scattermap"
           }
          ],
          "scattermapbox": [
           {
            "marker": {
             "colorbar": {
              "outlinewidth": 0,
              "ticks": ""
             }
            },
            "type": "scattermapbox"
           }
          ],
          "scatterpolar": [
           {
            "marker": {
             "colorbar": {
              "outlinewidth": 0,
              "ticks": ""
             }
            },
            "type": "scatterpolar"
           }
          ],
          "scatterpolargl": [
           {
            "marker": {
             "colorbar": {
              "outlinewidth": 0,
              "ticks": ""
             }
            },
            "type": "scatterpolargl"
           }
          ],
          "scatterternary": [
           {
            "marker": {
             "colorbar": {
              "outlinewidth": 0,
              "ticks": ""
             }
            },
            "type": "scatterternary"
           }
          ],
          "surface": [
           {
            "colorbar": {
             "outlinewidth": 0,
             "ticks": ""
            },
            "colorscale": [
             [
              0,
              "#0d0887"
             ],
             [
              0.1111111111111111,
              "#46039f"
             ],
             [
              0.2222222222222222,
              "#7201a8"
             ],
             [
              0.3333333333333333,
              "#9c179e"
             ],
             [
              0.4444444444444444,
              "#bd3786"
             ],
             [
              0.5555555555555556,
              "#d8576b"
             ],
             [
              0.6666666666666666,
              "#ed7953"
             ],
             [
              0.7777777777777778,
              "#fb9f3a"
             ],
             [
              0.8888888888888888,
              "#fdca26"
             ],
             [
              1,
              "#f0f921"
             ]
            ],
            "type": "surface"
           }
          ],
          "table": [
           {
            "cells": {
             "fill": {
              "color": "#EBF0F8"
             },
             "line": {
              "color": "white"
             }
            },
            "header": {
             "fill": {
              "color": "#C8D4E3"
             },
             "line": {
              "color": "white"
             }
            },
            "type": "table"
           }
          ]
         },
         "layout": {
          "annotationdefaults": {
           "arrowcolor": "#2a3f5f",
           "arrowhead": 0,
           "arrowwidth": 1
          },
          "autotypenumbers": "strict",
          "coloraxis": {
           "colorbar": {
            "outlinewidth": 0,
            "ticks": ""
           }
          },
          "colorscale": {
           "diverging": [
            [
             0,
             "#8e0152"
            ],
            [
             0.1,
             "#c51b7d"
            ],
            [
             0.2,
             "#de77ae"
            ],
            [
             0.3,
             "#f1b6da"
            ],
            [
             0.4,
             "#fde0ef"
            ],
            [
             0.5,
             "#f7f7f7"
            ],
            [
             0.6,
             "#e6f5d0"
            ],
            [
             0.7,
             "#b8e186"
            ],
            [
             0.8,
             "#7fbc41"
            ],
            [
             0.9,
             "#4d9221"
            ],
            [
             1,
             "#276419"
            ]
           ],
           "sequential": [
            [
             0,
             "#0d0887"
            ],
            [
             0.1111111111111111,
             "#46039f"
            ],
            [
             0.2222222222222222,
             "#7201a8"
            ],
            [
             0.3333333333333333,
             "#9c179e"
            ],
            [
             0.4444444444444444,
             "#bd3786"
            ],
            [
             0.5555555555555556,
             "#d8576b"
            ],
            [
             0.6666666666666666,
             "#ed7953"
            ],
            [
             0.7777777777777778,
             "#fb9f3a"
            ],
            [
             0.8888888888888888,
             "#fdca26"
            ],
            [
             1,
             "#f0f921"
            ]
           ],
           "sequentialminus": [
            [
             0,
             "#0d0887"
            ],
            [
             0.1111111111111111,
             "#46039f"
            ],
            [
             0.2222222222222222,
             "#7201a8"
            ],
            [
             0.3333333333333333,
             "#9c179e"
            ],
            [
             0.4444444444444444,
             "#bd3786"
            ],
            [
             0.5555555555555556,
             "#d8576b"
            ],
            [
             0.6666666666666666,
             "#ed7953"
            ],
            [
             0.7777777777777778,
             "#fb9f3a"
            ],
            [
             0.8888888888888888,
             "#fdca26"
            ],
            [
             1,
             "#f0f921"
            ]
           ]
          },
          "colorway": [
           "#636efa",
           "#EF553B",
           "#00cc96",
           "#ab63fa",
           "#FFA15A",
           "#19d3f3",
           "#FF6692",
           "#B6E880",
           "#FF97FF",
           "#FECB52"
          ],
          "font": {
           "color": "#2a3f5f"
          },
          "geo": {
           "bgcolor": "white",
           "lakecolor": "white",
           "landcolor": "#E5ECF6",
           "showlakes": true,
           "showland": true,
           "subunitcolor": "white"
          },
          "hoverlabel": {
           "align": "left"
          },
          "hovermode": "closest",
          "mapbox": {
           "style": "light"
          },
          "paper_bgcolor": "white",
          "plot_bgcolor": "#E5ECF6",
          "polar": {
           "angularaxis": {
            "gridcolor": "white",
            "linecolor": "white",
            "ticks": ""
           },
           "bgcolor": "#E5ECF6",
           "radialaxis": {
            "gridcolor": "white",
            "linecolor": "white",
            "ticks": ""
           }
          },
          "scene": {
           "xaxis": {
            "backgroundcolor": "#E5ECF6",
            "gridcolor": "white",
            "gridwidth": 2,
            "linecolor": "white",
            "showbackground": true,
            "ticks": "",
            "zerolinecolor": "white"
           },
           "yaxis": {
            "backgroundcolor": "#E5ECF6",
            "gridcolor": "white",
            "gridwidth": 2,
            "linecolor": "white",
            "showbackground": true,
            "ticks": "",
            "zerolinecolor": "white"
           },
           "zaxis": {
            "backgroundcolor": "#E5ECF6",
            "gridcolor": "white",
            "gridwidth": 2,
            "linecolor": "white",
            "showbackground": true,
            "ticks": "",
            "zerolinecolor": "white"
           }
          },
          "shapedefaults": {
           "line": {
            "color": "#2a3f5f"
           }
          },
          "ternary": {
           "aaxis": {
            "gridcolor": "white",
            "linecolor": "white",
            "ticks": ""
           },
           "baxis": {
            "gridcolor": "white",
            "linecolor": "white",
            "ticks": ""
           },
           "bgcolor": "#E5ECF6",
           "caxis": {
            "gridcolor": "white",
            "linecolor": "white",
            "ticks": ""
           }
          },
          "title": {
           "x": 0.05
          },
          "xaxis": {
           "automargin": true,
           "gridcolor": "white",
           "linecolor": "white",
           "ticks": "",
           "title": {
            "standoff": 15
           },
           "zerolinecolor": "white",
           "zerolinewidth": 2
          },
          "yaxis": {
           "automargin": true,
           "gridcolor": "white",
           "linecolor": "white",
           "ticks": "",
           "title": {
            "standoff": 15
           },
           "zerolinecolor": "white",
           "zerolinewidth": 2
          }
         }
        },
        "width": 225,
        "xaxis": {
         "anchor": "y",
         "domain": [
          0,
          1
         ],
         "showticklabels": false
        },
        "yaxis": {
         "anchor": "x",
         "domain": [
          0,
          1
         ],
         "showticklabels": false
        }
       }
      }
     },
     "metadata": {},
     "output_type": "display_data"
    }
   ],
   "source": [
    "# Why is it not working?\n",
    "# Answer : Black is color 0,0,0 : so it is erased when there is a non black near-by\n",
    "arr8 = einops.reduce(arr, \"(b1 b2) c (2 h2) (2 w2) -> c (b1 h2) (b2 w2)\", \"max\" ,b1=2)\n",
    "\n",
    "display_array_as_img(arr8)"
   ]
  },
  {
   "cell_type": "code",
   "execution_count": 27,
   "metadata": {},
   "outputs": [
    {
     "data": {
      "application/vnd.plotly.v1+json": {
       "config": {
        "displayModeBar": false,
        "plotlyServerURL": "https://plot.ly"
       },
       "data": [
        {
         "hovertemplate": "x: %{x}<br>y: %{y}<br>color: [%{z[0]}, %{z[1]}, %{z[2]}]<extra></extra>",
         "name": "0",
         "source": "data:image/png;base64,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",
         "type": "image",
         "xaxis": "x",
         "yaxis": "y"
        }
       ],
       "layout": {
        "coloraxis": {
         "showscale": false
        },
        "height": 150,
        "margin": {
         "b": 0,
         "l": 0,
         "r": 0,
         "t": 0
        },
        "template": {
         "data": {
          "bar": [
           {
            "error_x": {
             "color": "#2a3f5f"
            },
            "error_y": {
             "color": "#2a3f5f"
            },
            "marker": {
             "line": {
              "color": "#E5ECF6",
              "width": 0.5
             },
             "pattern": {
              "fillmode": "overlay",
              "size": 10,
              "solidity": 0.2
             }
            },
            "type": "bar"
           }
          ],
          "barpolar": [
           {
            "marker": {
             "line": {
              "color": "#E5ECF6",
              "width": 0.5
             },
             "pattern": {
              "fillmode": "overlay",
              "size": 10,
              "solidity": 0.2
             }
            },
            "type": "barpolar"
           }
          ],
          "carpet": [
           {
            "aaxis": {
             "endlinecolor": "#2a3f5f",
             "gridcolor": "white",
             "linecolor": "white",
             "minorgridcolor": "white",
             "startlinecolor": "#2a3f5f"
            },
            "baxis": {
             "endlinecolor": "#2a3f5f",
             "gridcolor": "white",
             "linecolor": "white",
             "minorgridcolor": "white",
             "startlinecolor": "#2a3f5f"
            },
            "type": "carpet"
           }
          ],
          "choropleth": [
           {
            "colorbar": {
             "outlinewidth": 0,
             "ticks": ""
            },
            "type": "choropleth"
           }
          ],
          "contour": [
           {
            "colorbar": {
             "outlinewidth": 0,
             "ticks": ""
            },
            "colorscale": [
             [
              0,
              "#0d0887"
             ],
             [
              0.1111111111111111,
              "#46039f"
             ],
             [
              0.2222222222222222,
              "#7201a8"
             ],
             [
              0.3333333333333333,
              "#9c179e"
             ],
             [
              0.4444444444444444,
              "#bd3786"
             ],
             [
              0.5555555555555556,
              "#d8576b"
             ],
             [
              0.6666666666666666,
              "#ed7953"
             ],
             [
              0.7777777777777778,
              "#fb9f3a"
             ],
             [
              0.8888888888888888,
              "#fdca26"
             ],
             [
              1,
              "#f0f921"
             ]
            ],
            "type": "contour"
           }
          ],
          "contourcarpet": [
           {
            "colorbar": {
             "outlinewidth": 0,
             "ticks": ""
            },
            "type": "contourcarpet"
           }
          ],
          "heatmap": [
           {
            "colorbar": {
             "outlinewidth": 0,
             "ticks": ""
            },
            "colorscale": [
             [
              0,
              "#0d0887"
             ],
             [
              0.1111111111111111,
              "#46039f"
             ],
             [
              0.2222222222222222,
              "#7201a8"
             ],
             [
              0.3333333333333333,
              "#9c179e"
             ],
             [
              0.4444444444444444,
              "#bd3786"
             ],
             [
              0.5555555555555556,
              "#d8576b"
             ],
             [
              0.6666666666666666,
              "#ed7953"
             ],
             [
              0.7777777777777778,
              "#fb9f3a"
             ],
             [
              0.8888888888888888,
              "#fdca26"
             ],
             [
              1,
              "#f0f921"
             ]
            ],
            "type": "heatmap"
           }
          ],
          "histogram": [
           {
            "marker": {
             "pattern": {
              "fillmode": "overlay",
              "size": 10,
              "solidity": 0.2
             }
            },
            "type": "histogram"
           }
          ],
          "histogram2d": [
           {
            "colorbar": {
             "outlinewidth": 0,
             "ticks": ""
            },
            "colorscale": [
             [
              0,
              "#0d0887"
             ],
             [
              0.1111111111111111,
              "#46039f"
             ],
             [
              0.2222222222222222,
              "#7201a8"
             ],
             [
              0.3333333333333333,
              "#9c179e"
             ],
             [
              0.4444444444444444,
              "#bd3786"
             ],
             [
              0.5555555555555556,
              "#d8576b"
             ],
             [
              0.6666666666666666,
              "#ed7953"
             ],
             [
              0.7777777777777778,
              "#fb9f3a"
             ],
             [
              0.8888888888888888,
              "#fdca26"
             ],
             [
              1,
              "#f0f921"
             ]
            ],
            "type": "histogram2d"
           }
          ],
          "histogram2dcontour": [
           {
            "colorbar": {
             "outlinewidth": 0,
             "ticks": ""
            },
            "colorscale": [
             [
              0,
              "#0d0887"
             ],
             [
              0.1111111111111111,
              "#46039f"
             ],
             [
              0.2222222222222222,
              "#7201a8"
             ],
             [
              0.3333333333333333,
              "#9c179e"
             ],
             [
              0.4444444444444444,
              "#bd3786"
             ],
             [
              0.5555555555555556,
              "#d8576b"
             ],
             [
              0.6666666666666666,
              "#ed7953"
             ],
             [
              0.7777777777777778,
              "#fb9f3a"
             ],
             [
              0.8888888888888888,
              "#fdca26"
             ],
             [
              1,
              "#f0f921"
             ]
            ],
            "type": "histogram2dcontour"
           }
          ],
          "mesh3d": [
           {
            "colorbar": {
             "outlinewidth": 0,
             "ticks": ""
            },
            "type": "mesh3d"
           }
          ],
          "parcoords": [
           {
            "line": {
             "colorbar": {
              "outlinewidth": 0,
              "ticks": ""
             }
            },
            "type": "parcoords"
           }
          ],
          "pie": [
           {
            "automargin": true,
            "type": "pie"
           }
          ],
          "scatter": [
           {
            "fillpattern": {
             "fillmode": "overlay",
             "size": 10,
             "solidity": 0.2
            },
            "type": "scatter"
           }
          ],
          "scatter3d": [
           {
            "line": {
             "colorbar": {
              "outlinewidth": 0,
              "ticks": ""
             }
            },
            "marker": {
             "colorbar": {
              "outlinewidth": 0,
              "ticks": ""
             }
            },
            "type": "scatter3d"
           }
          ],
          "scattercarpet": [
           {
            "marker": {
             "colorbar": {
              "outlinewidth": 0,
              "ticks": ""
             }
            },
            "type": "scattercarpet"
           }
          ],
          "scattergeo": [
           {
            "marker": {
             "colorbar": {
              "outlinewidth": 0,
              "ticks": ""
             }
            },
            "type": "scattergeo"
           }
          ],
          "scattergl": [
           {
            "marker": {
             "colorbar": {
              "outlinewidth": 0,
              "ticks": ""
             }
            },
            "type": "scattergl"
           }
          ],
          "scattermap": [
           {
            "marker": {
             "colorbar": {
              "outlinewidth": 0,
              "ticks": ""
             }
            },
            "type": "scattermap"
           }
          ],
          "scattermapbox": [
           {
            "marker": {
             "colorbar": {
              "outlinewidth": 0,
              "ticks": ""
             }
            },
            "type": "scattermapbox"
           }
          ],
          "scatterpolar": [
           {
            "marker": {
             "colorbar": {
              "outlinewidth": 0,
              "ticks": ""
             }
            },
            "type": "scatterpolar"
           }
          ],
          "scatterpolargl": [
           {
            "marker": {
             "colorbar": {
              "outlinewidth": 0,
              "ticks": ""
             }
            },
            "type": "scatterpolargl"
           }
          ],
          "scatterternary": [
           {
            "marker": {
             "colorbar": {
              "outlinewidth": 0,
              "ticks": ""
             }
            },
            "type": "scatterternary"
           }
          ],
          "surface": [
           {
            "colorbar": {
             "outlinewidth": 0,
             "ticks": ""
            },
            "colorscale": [
             [
              0,
              "#0d0887"
             ],
             [
              0.1111111111111111,
              "#46039f"
             ],
             [
              0.2222222222222222,
              "#7201a8"
             ],
             [
              0.3333333333333333,
              "#9c179e"
             ],
             [
              0.4444444444444444,
              "#bd3786"
             ],
             [
              0.5555555555555556,
              "#d8576b"
             ],
             [
              0.6666666666666666,
              "#ed7953"
             ],
             [
              0.7777777777777778,
              "#fb9f3a"
             ],
             [
              0.8888888888888888,
              "#fdca26"
             ],
             [
              1,
              "#f0f921"
             ]
            ],
            "type": "surface"
           }
          ],
          "table": [
           {
            "cells": {
             "fill": {
              "color": "#EBF0F8"
             },
             "line": {
              "color": "white"
             }
            },
            "header": {
             "fill": {
              "color": "#C8D4E3"
             },
             "line": {
              "color": "white"
             }
            },
            "type": "table"
           }
          ]
         },
         "layout": {
          "annotationdefaults": {
           "arrowcolor": "#2a3f5f",
           "arrowhead": 0,
           "arrowwidth": 1
          },
          "autotypenumbers": "strict",
          "coloraxis": {
           "colorbar": {
            "outlinewidth": 0,
            "ticks": ""
           }
          },
          "colorscale": {
           "diverging": [
            [
             0,
             "#8e0152"
            ],
            [
             0.1,
             "#c51b7d"
            ],
            [
             0.2,
             "#de77ae"
            ],
            [
             0.3,
             "#f1b6da"
            ],
            [
             0.4,
             "#fde0ef"
            ],
            [
             0.5,
             "#f7f7f7"
            ],
            [
             0.6,
             "#e6f5d0"
            ],
            [
             0.7,
             "#b8e186"
            ],
            [
             0.8,
             "#7fbc41"
            ],
            [
             0.9,
             "#4d9221"
            ],
            [
             1,
             "#276419"
            ]
           ],
           "sequential": [
            [
             0,
             "#0d0887"
            ],
            [
             0.1111111111111111,
             "#46039f"
            ],
            [
             0.2222222222222222,
             "#7201a8"
            ],
            [
             0.3333333333333333,
             "#9c179e"
            ],
            [
             0.4444444444444444,
             "#bd3786"
            ],
            [
             0.5555555555555556,
             "#d8576b"
            ],
            [
             0.6666666666666666,
             "#ed7953"
            ],
            [
             0.7777777777777778,
             "#fb9f3a"
            ],
            [
             0.8888888888888888,
             "#fdca26"
            ],
            [
             1,
             "#f0f921"
            ]
           ],
           "sequentialminus": [
            [
             0,
             "#0d0887"
            ],
            [
             0.1111111111111111,
             "#46039f"
            ],
            [
             0.2222222222222222,
             "#7201a8"
            ],
            [
             0.3333333333333333,
             "#9c179e"
            ],
            [
             0.4444444444444444,
             "#bd3786"
            ],
            [
             0.5555555555555556,
             "#d8576b"
            ],
            [
             0.6666666666666666,
             "#ed7953"
            ],
            [
             0.7777777777777778,
             "#fb9f3a"
            ],
            [
             0.8888888888888888,
             "#fdca26"
            ],
            [
             1,
             "#f0f921"
            ]
           ]
          },
          "colorway": [
           "#636efa",
           "#EF553B",
           "#00cc96",
           "#ab63fa",
           "#FFA15A",
           "#19d3f3",
           "#FF6692",
           "#B6E880",
           "#FF97FF",
           "#FECB52"
          ],
          "font": {
           "color": "#2a3f5f"
          },
          "geo": {
           "bgcolor": "white",
           "lakecolor": "white",
           "landcolor": "#E5ECF6",
           "showlakes": true,
           "showland": true,
           "subunitcolor": "white"
          },
          "hoverlabel": {
           "align": "left"
          },
          "hovermode": "closest",
          "mapbox": {
           "style": "light"
          },
          "paper_bgcolor": "white",
          "plot_bgcolor": "#E5ECF6",
          "polar": {
           "angularaxis": {
            "gridcolor": "white",
            "linecolor": "white",
            "ticks": ""
           },
           "bgcolor": "#E5ECF6",
           "radialaxis": {
            "gridcolor": "white",
            "linecolor": "white",
            "ticks": ""
           }
          },
          "scene": {
           "xaxis": {
            "backgroundcolor": "#E5ECF6",
            "gridcolor": "white",
            "gridwidth": 2,
            "linecolor": "white",
            "showbackground": true,
            "ticks": "",
            "zerolinecolor": "white"
           },
           "yaxis": {
            "backgroundcolor": "#E5ECF6",
            "gridcolor": "white",
            "gridwidth": 2,
            "linecolor": "white",
            "showbackground": true,
            "ticks": "",
            "zerolinecolor": "white"
           },
           "zaxis": {
            "backgroundcolor": "#E5ECF6",
            "gridcolor": "white",
            "gridwidth": 2,
            "linecolor": "white",
            "showbackground": true,
            "ticks": "",
            "zerolinecolor": "white"
           }
          },
          "shapedefaults": {
           "line": {
            "color": "#2a3f5f"
           }
          },
          "ternary": {
           "aaxis": {
            "gridcolor": "white",
            "linecolor": "white",
            "ticks": ""
           },
           "baxis": {
            "gridcolor": "white",
            "linecolor": "white",
            "ticks": ""
           },
           "bgcolor": "#E5ECF6",
           "caxis": {
            "gridcolor": "white",
            "linecolor": "white",
            "ticks": ""
           }
          },
          "title": {
           "x": 0.05
          },
          "xaxis": {
           "automargin": true,
           "gridcolor": "white",
           "linecolor": "white",
           "ticks": "",
           "title": {
            "standoff": 15
           },
           "zerolinecolor": "white",
           "zerolinewidth": 2
          },
          "yaxis": {
           "automargin": true,
           "gridcolor": "white",
           "linecolor": "white",
           "ticks": "",
           "title": {
            "standoff": 15
           },
           "zerolinecolor": "white",
           "zerolinewidth": 2
          }
         }
        },
        "width": 225,
        "xaxis": {
         "anchor": "y",
         "domain": [
          0,
          1
         ],
         "showticklabels": false
        },
        "yaxis": {
         "anchor": "x",
         "domain": [
          0,
          1
         ],
         "showticklabels": false
        }
       }
      }
     },
     "metadata": {},
     "output_type": "display_data"
    }
   ],
   "source": [
    "# Answer : Black is color 0,0,0 : so it is erased when there is a non black near-by. When we put the mean, we see better where it is involved\n",
    "arr8 = einops.reduce(arr, \"(b1 b2) c (2 h2) (2 w2) -> c (b1 h2) (b2 w2)\", \"min\" ,b1=2)\n",
    "\n",
    "display_array_as_img(arr8)"
   ]
  },
  {
   "cell_type": "markdown",
   "metadata": {},
   "source": [
    "<details><summary>Solution</summary>\n",
    "\n",
    "```python\n",
    "arr8 = einops.reduce(arr, \"(b1 b2) c (h h2) (w w2) -> c (b1 h) (b2 w)\", \"max\", h2=2, w2=2, b1=2)\n",
    "```\n",
    "</details>"
   ]
  },
  {
   "cell_type": "markdown",
   "metadata": {},
   "source": [
    "### Broadcasting\n",
    "\n",
    "Before we go through the next exercises, we'll need to address one important topic in tensor operations - **broadcasting**.\n",
    "\n",
    "Both NumPy and PyTorch have the same rules for broadcasting. When two tensors are involved in an elementwise operation, NumPy/PyTorch tries to broadcast them (i.e. copying them along dimensions) so that they both have the same shape. The rules of broadcasting are as follows:\n",
    "\n",
    "1. You can prepend dummy dimensions (of size 1) to the start of a tensor until both have the same number of dimensions\n",
    "2. After this point, if some dimension has size 1 in one of the tensors, it can be repeated until it matches the size of the corresponding dimension in the other tensor\n",
    "\n",
    "To give a simple example - suppose we have a 2D batch of data, of shape `data.shape = (N, k)` (i.e. we have `N` separate datapoints, each being a vector of length `k`). Suppose we want to add a vector `vec` of length `k` to each datapoint. This is a valid operation, because when we try and add these two objects together:\n",
    "\n",
    "1. `vec` gets prepended with a dummy dimension so it has shape `(1, k)` and both are 2D\n",
    "2. `vec` gets repeated along the first dimension so it has shape `(N, k)`, matching the shape of `data`\n",
    "\n",
    "Then, our output has shape `(N, k)`, and elements `output[i, j] = data[i, j] + vec[j]`.\n",
    "\n",
    "Broadcasting can be a very easy place to make mistakes, because it's easy to lose track of the exact shape of your tensors involved. As a warm-up exercise, below are some examples of broadcasting. Can you figure out which are valid, and which will raise errors?\n",
    "\n",
    "\n",
    "```python\n",
    "x = t.ones((3, 1, 5))\n",
    "y = t.ones((1, 4, 5))\n",
    "\n",
    "z = x + y\n",
    "```\n",
    "\n",
    "<details>\n",
    "<summary>Answer</summary>\n",
    "\n",
    "This is valid, because the 0th dimension of `y` and the 1st dimension of `x` can both be copied so that `x` and `y` have the same shape: `(3, 4, 5)`. The resulting array `z` will also have shape `(3, 4, 5)`.\n",
    "\n",
    "This example illustrates an important point - it's not always the case that one of the tensors is strictly smaller and the other is strictly bigger. Sometimes, both tensors will get expanded. \n",
    "\n",
    "</details>\n",
    "\n",
    "```python\n",
    "x = t.ones((8, 2, 6))\n",
    "y = t.ones((8, 2))\n",
    "\n",
    "z = x + y\n",
    "```\n",
    "\n",
    "<details>\n",
    "<summary>Answer</summary>\n",
    "\n",
    "This is not valid. We first need to expand `y` by appending a dimension to the front, and the last two dimensions of `x` are `(2, 6)`, which won't broadcast with `y`'s `(8, 2)`.\n",
    "</details>\n",
    "\n",
    "```python\n",
    "x = t.ones((8, 2, 6))\n",
    "y = t.ones((2, 6))\n",
    "\n",
    "z = x + y\n",
    "```\n",
    "\n",
    "<details>\n",
    "<summary>Answer</summary>\n",
    "\n",
    "This is valid. Once PyTorch expands `y` by appending a single dimension to the front, it can then be broadcast with `x`.\n",
    "</details>\n",
    "\n",
    "```python\n",
    "x = t.ones((10, 20, 30))\n",
    "y = t.ones((20, 1))\n",
    "\n",
    "z = x + y\n",
    "```\n",
    "\n",
    "<details>\n",
    "<summary>Answer</summary>\n",
    "\n",
    "This is valid. Once PyTorch expands `y` by appending a single dimension to the front, it can then be broadcast with `x` (this will involve copying along the first and last dimensions).\n",
    "</details>\n",
    "\n",
    "```python\n",
    "x = t.ones((4, 1))\n",
    "y = t.ones((4,))\n",
    "\n",
    "z = x + y\n",
    "```\n",
    "\n",
    "<details>\n",
    "<summary>Answer</summary>\n",
    "\n",
    "This is valid. Numpy will expand the second one to `(1, 4)` then broadcast them both to `(4, 4)`.\n",
    "\n",
    "Although this won't raise an error, it's very possible that this isn't what the person adding these two arrays intended. A common source of mistakes is when you add 2 tensors thinking they're the same shape, but one actually has a dummy dimension you forgot about. Sadly this is something you'll just have to be vigilant for (e.g. adding assert statements where necessary, or making sure you aren't combining too many different tensor operations in a single line), because PyTorch doesn't have built-in ways of statically checking your tensor shapes.\n",
    "\n",
    "</details>"
   ]
  },
  {
   "cell_type": "markdown",
   "metadata": {},
   "source": [
    "Einops is a useful tool for reshaping tensors to enable broadcasting. If you just need to add or remove a dummy dimension, you don't need to use einops: `tensor.unsqueeze(dim)` will give you a new tensor with a dummy dimension of size 1 inserted at position `dim` in the new tensor, and `tensor.squeeze(dim)` will give you a tensor with the dimension at position `dim` removed (if it had size 1, otherwise nothing happens).\n",
    "\n",
    "```python\n",
    "x = t.ones((3, 1, 5))\n",
    "\n",
    "print(x.unsqueeze(3).shape)  # (3, 1, 5, 1) because we add a new dummy dimension at idx 3 (the end) in the new tensor\n",
    "\n",
    "print(x.squeeze(1).shape) # (3, 5) because we remove the dimension at idx 1 (it has size 1)\n",
    "\n",
    "print(x.squeeze(0).shape) # (3, 1, 5) because we don't remove the leading dimension (it has size 3)\n",
    "```"
   ]
  },
  {
   "cell_type": "markdown",
   "metadata": {},
   "source": [
    "### Exercises - einops operations & broadcasting\n",
    "\n",
    "> ```yaml\n",
    "> Difficulty: 🔴🔴⚪⚪⚪\n",
    "> Importance: 🔵🔵🔵⚪⚪\n",
    "> \n",
    "> You should spend up to ~45 minutes on these exercises collectively.\n",
    "> These are more representative of the kinds of einops operations you'll use in practice.\n",
    "> ```\n",
    "\n",
    "Next, we have a series of functions which you should implement using `einops`. In the dropdown below these exercises, you can find solutions to all of them.\n",
    "\n",
    "First, let's define some functions to help us test our solutions:"
   ]
  },
  {
   "cell_type": "code",
   "execution_count": 28,
   "metadata": {},
   "outputs": [],
   "source": [
    "def assert_all_equal(actual: Tensor, expected: Tensor) -> None:\n",
    "    assert actual.shape == expected.shape, f\"Shape mismatch, got: {actual.shape}\"\n",
    "    assert (actual == expected).all(), f\"Value mismatch, got: {actual}\"\n",
    "    print(\"Tests passed!\")\n",
    "\n",
    "\n",
    "def assert_all_close(actual: Tensor, expected: Tensor, atol=1e-3) -> None:\n",
    "    assert actual.shape == expected.shape, f\"Shape mismatch, got: {actual.shape}\"\n",
    "    t.testing.assert_close(actual, expected, atol=atol, rtol=0.0)\n",
    "    print(\"Tests passed!\")"
   ]
  },
  {
   "cell_type": "markdown",
   "metadata": {},
   "source": [
    "#### (A1) rearrange\n",
    "\n",
    "We'll start with a simple rearrange operation - you're asked to return a particular tensor using only `t.arange` and `einops.rearrange`. The `t.arange` function is similar to the numpy equivalent: `torch.arange(start, end)` will return a 1D tensor containing all the values from `start` to `end - 1` inclusive."
   ]
  },
  {
   "cell_type": "code",
   "execution_count": 29,
   "metadata": {},
   "outputs": [
    {
     "name": "stdout",
     "output_type": "stream",
     "text": [
      "Tests passed!\n"
     ]
    }
   ],
   "source": [
    "def rearrange_1() -> Tensor:\n",
    "    \"\"\"Return the following tensor using only t.arange and einops.rearrange:\n",
    "\n",
    "    [[3, 4],\n",
    "     [5, 6],\n",
    "     [7, 8]]\n",
    "    \"\"\"\n",
    "    ten = t.arange(3,9)\n",
    "\n",
    "    return einops.rearrange(ten, '(b1 b2) -> b1 b2', b2=2)\n",
    "\n",
    "expected = t.tensor([[3, 4], [5, 6], [7, 8]])\n",
    "assert_all_equal(rearrange_1(), expected)"
   ]
  },
  {
   "cell_type": "markdown",
   "metadata": {},
   "source": [
    "<details><summary>Solution</summary>\n",
    "\n",
    "```python\n",
    "def rearrange_1() -> Tensor:\n",
    "    \"\"\"Return the following tensor using only t.arange and einops.rearrange:\n",
    "\n",
    "    [[3, 4],\n",
    "     [5, 6],\n",
    "     [7, 8]]\n",
    "    \"\"\"\n",
    "    return einops.rearrange(t.arange(3, 9), \"(h w) -> h w\", h=3, w=2)\n",
    "```\n",
    "</details>"
   ]
  },
  {
   "cell_type": "markdown",
   "metadata": {},
   "source": [
    "#### (A2) rearrange\n",
    "\n",
    "This exercise has the same pattern as the previous one."
   ]
  },
  {
   "cell_type": "code",
   "execution_count": 30,
   "metadata": {},
   "outputs": [
    {
     "name": "stdout",
     "output_type": "stream",
     "text": [
      "Tests passed!\n"
     ]
    }
   ],
   "source": [
    "def rearrange_2() -> Tensor:\n",
    "    \"\"\"Return the following tensor using only t.arange and einops.rearrange:\n",
    "\n",
    "    [[1, 2, 3],\n",
    "     [4, 5, 6]]\n",
    "    \"\"\"\n",
    "    return einops.rearrange(t.arange(1,7), '(b1 b2) -> b1 b2', b1=2, b2=3)\n",
    "\n",
    "\n",
    "assert_all_equal(rearrange_2(), t.tensor([[1, 2, 3], [4, 5, 6]]))"
   ]
  },
  {
   "cell_type": "markdown",
   "metadata": {},
   "source": [
    "<details><summary>Solution</summary>\n",
    "\n",
    "```python\n",
    "def rearrange_2() -> Tensor:\n",
    "    \"\"\"Return the following tensor using only t.arange and einops.rearrange:\n",
    "\n",
    "    [[1, 2, 3],\n",
    "     [4, 5, 6]]\n",
    "    \"\"\"\n",
    "    return einops.rearrange(t.arange(1, 7), \"(h w) -> h w\", h=2, w=3)\n",
    "```\n",
    "</details>"
   ]
  },
  {
   "cell_type": "markdown",
   "metadata": {},
   "source": [
    "#### (B1) temperature average\n",
    "\n",
    "Here you're given a 1D tensor containing temperatures for each day. You should return a 1D tensor containing the average temperature for each week.\n",
    "\n",
    "This could be done in 2 separate operations (a reshape from 1D to 2D followed by taking the mean over one of the axes), however we encourage you to try and find a solution with `einops.reduce` in just a single line."
   ]
  },
  {
   "cell_type": "code",
   "execution_count": 31,
   "metadata": {},
   "outputs": [
    {
     "name": "stdout",
     "output_type": "stream",
     "text": [
      "Tests passed!\n"
     ]
    }
   ],
   "source": [
    "def temperatures_average(temps: Tensor) -> Tensor:\n",
    "    \"\"\"Return the average temperature for each week.\n",
    "\n",
    "    temps: a 1D temperature containing temperatures for each day.\n",
    "    Length will be a multiple of 7 and the first 7 days are for the first week, second 7 days for the second week, etc.\n",
    "\n",
    "    You can do this with a single call to reduce.\n",
    "    \"\"\"\n",
    "    assert len(temps) % 7 == 0\n",
    "    return einops.reduce(temps, '(week day) -> week', \"mean\", day=7)\n",
    "    raise NotImplementedError()\n",
    "\n",
    "\n",
    "temps = t.tensor([71, 72, 70, 75, 71, 72, 70, 75, 80, 85, 80, 78, 72, 83]).float()\n",
    "expected = [71.571, 79.0]\n",
    "assert_all_close(temperatures_average(temps), t.tensor(expected))"
   ]
  },
  {
   "cell_type": "markdown",
   "metadata": {},
   "source": [
    "<details><summary>Solution</summary>\n",
    "\n",
    "```python\n",
    "def temperatures_average(temps: Tensor) -> Tensor:\n",
    "    \"\"\"Return the average temperature for each week.\n",
    "\n",
    "    temps: a 1D temperature containing temperatures for each day.\n",
    "    Length will be a multiple of 7 and the first 7 days are for the first week, second 7 days for the second week, etc.\n",
    "\n",
    "    You can do this with a single call to reduce.\n",
    "    \"\"\"\n",
    "    assert len(temps) % 7 == 0\n",
    "    return einops.reduce(temps, \"(h 7) -> h\", \"mean\")\n",
    "```\n",
    "</details>"
   ]
  },
  {
   "cell_type": "markdown",
   "metadata": {},
   "source": [
    "#### (B2) temperature difference\n",
    "\n",
    "Here, we're asking you to subtract the average temperature from each week from the daily temperatures. You'll have to be careful of **broadcasting** here, since your temperatures tensor has shape `(14,)` while your average temperature computed above has shape `(2,)` - these are not broadcastable."
   ]
  },
  {
   "cell_type": "code",
   "execution_count": 32,
   "metadata": {},
   "outputs": [
    {
     "name": "stdout",
     "output_type": "stream",
     "text": [
      "Tests passed!\n"
     ]
    }
   ],
   "source": [
    "def temperatures_differences(temps: Tensor) -> Tensor:\n",
    "    \"\"\"For each day, subtract the average for the week the day belongs to.\n",
    "\n",
    "    temps: as above\n",
    "    \"\"\"\n",
    "    assert len(temps) % 7 == 0\n",
    "    weekly_average = temperatures_average(temps)\n",
    "    return temps - einops.repeat(weekly_average, 'w -> (w 7)')\n",
    "\n",
    "\n",
    "expected = [-0.571, 0.429, -1.571, 3.429, -0.571, 0.429, -1.571, -4.0, 1.0, 6.0, 1.0, -1.0, -7.0, 4.0]\n",
    "actual = temperatures_differences(temps)\n",
    "assert_all_close(actual, t.tensor(expected))"
   ]
  },
  {
   "cell_type": "markdown",
   "metadata": {},
   "source": [
    "<details>\n",
    "<summary>Hint - how to make the tensors broadcastable</summary>\n",
    "\n",
    "Your averages tensor from earlier was (hopefully) computed using `einops.reduce(temps, \"(h 7) -> h\", \"mean\")`, giving it shape `(2,)`. You have 2 options:\n",
    "\n",
    "- Repeat this averages tensor back to shape `(14,)` so you can subtract it from temps\n",
    "- Rehsape `temps` tensor to have shape `(7, 2)` which would make it broadcastable with `(2,)`, then flatten it back to `(14,)` after subtracting the average\n",
    "\n",
    "\n",
    "</details>\n",
    "\n",
    "\n",
    "<details><summary>Solution</summary>\n",
    "\n",
    "```python\n",
    "def temperatures_differences(temps: Tensor) -> Tensor:\n",
    "    \"\"\"For each day, subtract the average for the week the day belongs to.\n",
    "\n",
    "    temps: as above\n",
    "    \"\"\"\n",
    "    assert len(temps) % 7 == 0\n",
    "    avg = einops.reduce(temps, \"(w 7) -> w\", \"mean\")\n",
    "    return temps - einops.repeat(avg, \"w -> (w 7)\")\n",
    "```\n",
    "</details>"
   ]
  },
  {
   "cell_type": "markdown",
   "metadata": {},
   "source": [
    "#### (B3) temperature normalized\n",
    "\n",
    "Lastly, you need to subtract the average and divide by the standard deviation. Note that you can pass `t.std` into the `einops.reduce` function to return the std dev of the values you're reducing over."
   ]
  },
  {
   "cell_type": "code",
   "execution_count": 33,
   "metadata": {},
   "outputs": [
    {
     "name": "stdout",
     "output_type": "stream",
     "text": [
      "tensor([-0.3326,  0.2494, -0.9146,  1.9954, -0.3326,  0.2494, -0.9146, -0.8944,\n",
      "         0.2236,  1.3416,  0.2236, -0.2236, -1.5652,  0.8944])\n",
      "Tests passed!\n"
     ]
    }
   ],
   "source": [
    "def temperatures_normalized(temps: Tensor) -> Tensor:\n",
    "    \"\"\"For each day, subtract the weekly average and divide by the weekly standard deviation.\n",
    "\n",
    "    temps: as above\n",
    "\n",
    "    Pass t.std to reduce.\n",
    "    \"\"\"\n",
    "    \n",
    "    weekly_std = einops.reduce(temps, '(week day) -> week', t.std, day=7)\n",
    "    return temperatures_differences(temps) / einops.repeat(weekly_std, 'w -> (w 7)')\n",
    "\n",
    "\n",
    "\n",
    "\n",
    "expected = [-0.333, 0.249, -0.915, 1.995, -0.333, 0.249, -0.915, -0.894, 0.224, 1.342, 0.224, -0.224, -1.565, 0.894]\n",
    "actual = temperatures_normalized(temps)\n",
    "print(actual)\n",
    "assert_all_close(actual, t.tensor(expected))"
   ]
  },
  {
   "cell_type": "markdown",
   "metadata": {},
   "source": [
    "<details><summary>Solution</summary>\n",
    "\n",
    "```python\n",
    "def temperatures_normalized(temps: Tensor) -> Tensor:\n",
    "    \"\"\"For each day, subtract the weekly average and divide by the weekly standard deviation.\n",
    "\n",
    "    temps: as above\n",
    "\n",
    "    Pass t.std to reduce.\n",
    "    \"\"\"\n",
    "    avg = einops.reduce(temps, \"(w 7) -> w\", \"mean\")\n",
    "    std = einops.reduce(temps, \"(h 7) -> h\", t.std)\n",
    "    return (temps - einops.repeat(avg, \"w -> (w 7)\")) / einops.repeat(std, \"w -> (w 7)\")\n",
    "```\n",
    "</details>"
   ]
  },
  {
   "cell_type": "markdown",
   "metadata": {},
   "source": [
    "#### (C1) normalize a matrix\n",
    "\n",
    "Here, we're asking you to normalize the rows of a matrix so that each row has L2 norm (sum of squared values) equal to 1. Note - L2 norm and standard deviation are not the same thing; L2 norm leaves out the averaging over size of vector step. We recommend you try and use the torch function `t.norm` directly rather than einops for this task.\n",
    "\n",
    "Two useful things we should highlight here:\n",
    "\n",
    "- Most PyTorch functions like `t.norm(tensor, ...)` which operate on a single tensor are also tensor methods, i.e. they can be used as `tensor.norm(...)` with the same arguments.\n",
    "- Most PyTorch dimensionality-reducing functions have the `keepdim` argument, which is false by default but will cause your output tensor to keep dummy dimensions if set to true. For example, if `tensor` has shape `(3, 4)` then `tensor.sum(dim=1)` has shape `(3,)` but `tensor.sum(dim=1, keepdim=True)` has shape `(3, 1)`."
   ]
  },
  {
   "cell_type": "code",
   "execution_count": 34,
   "metadata": {},
   "outputs": [
    {
     "name": "stdout",
     "output_type": "stream",
     "text": [
      "Tests passed!\n"
     ]
    }
   ],
   "source": [
    "def normalize_rows(matrix: Tensor) -> Tensor:\n",
    "    \"\"\"Normalize each row of the given 2D matrix.\n",
    "\n",
    "    matrix: a 2D tensor of shape (m, n).\n",
    "\n",
    "    Returns: a tensor of the same shape where each row is divided by its l2 norm.\n",
    "    \"\"\"\n",
    "    # einops.reduce(matrix, 'r c -> r', t.linalg.vector_norm)\n",
    "    row_l2 = t.linalg.vector_norm(matrix, dim=1, keepdim=True)\n",
    "    return matrix / row_l2\n",
    "\n",
    "\n",
    "matrix = t.tensor([[1, 2, 3], [4, 5, 6], [7, 8, 9]]).float()\n",
    "expected = t.tensor([[0.267, 0.535, 0.802], [0.456, 0.570, 0.684], [0.503, 0.574, 0.646]])\n",
    "assert_all_close(normalize_rows(matrix), expected)"
   ]
  },
  {
   "cell_type": "code",
   "execution_count": 35,
   "metadata": {},
   "outputs": [
    {
     "data": {
      "text/plain": [
       "tensor([[ 3.7417],\n",
       "        [ 8.7750],\n",
       "        [13.9284]])"
      ]
     },
     "execution_count": 35,
     "metadata": {},
     "output_type": "execute_result"
    }
   ],
   "source": [
    "t.linalg.vector_norm(matrix, dim=1, keepdim=True)"
   ]
  },
  {
   "cell_type": "code",
   "execution_count": 36,
   "metadata": {},
   "outputs": [
    {
     "name": "stdout",
     "output_type": "stream",
     "text": [
      "Tests passed!\n"
     ]
    }
   ],
   "source": [
    "def normalize_rows(matrix: Tensor) -> Tensor:\n",
    "    \"\"\"Normalize each row of the given 2D matrix.\n",
    "\n",
    "    matrix: a 2D tensor of shape (m, n).\n",
    "\n",
    "    Returns: a tensor of the same shape where each row is divided by its l2 norm.\n",
    "    \"\"\"\n",
    "    # einops.reduce(matrix, 'r c -> r', t.linalg.vector_norm)\n",
    "    row_l2 = t.linalg.vector_norm(matrix, dim=1)\n",
    "    return t.transpose((t.transpose(matrix,0,1) / row_l2),0,1)\n",
    "\n",
    "\n",
    "matrix = t.tensor([[1, 2, 3], [4, 5, 6], [7, 8, 9]]).float()\n",
    "expected = t.tensor([[0.267, 0.535, 0.802], [0.456, 0.570, 0.684], [0.503, 0.574, 0.646]])\n",
    "assert_all_close(normalize_rows(matrix), expected)"
   ]
  },
  {
   "cell_type": "markdown",
   "metadata": {},
   "source": [
    "<details><summary>Solution</summary>\n",
    "\n",
    "```python\n",
    "def normalize_rows(matrix: Tensor) -> Tensor:\n",
    "    \"\"\"Normalize each row of the given 2D matrix.\n",
    "\n",
    "    matrix: a 2D tensor of shape (m, n).\n",
    "\n",
    "    Returns: a tensor of the same shape where each row is divided by its l2 norm.\n",
    "    \"\"\"\n",
    "    row_norms = matrix.norm(dim=1, keepdim=True)  # keepdim=True\n",
    "    return matrix / row_norms\n",
    "```\n",
    "</details>"
   ]
  },
  {
   "cell_type": "markdown",
   "metadata": {},
   "source": [
    "#### (C2) pairwise cosine similarity\n",
    "\n",
    "Now, you should compute a matrix of shape `(m, m)` where `out[i, j]` is the cosine similarity between the `i`-th and `j`-th rows of `matrix`. \n",
    "\n",
    "The cosine similarity between two vectors is given by summing the elementwise products of the normalized vectors. We haven't covered `einsum` yet, but you should be able to get this working using normal elementwise multiplication and summing (or even do this in one step - can you see how?)."
   ]
  },
  {
   "cell_type": "code",
   "execution_count": 37,
   "metadata": {},
   "outputs": [
    {
     "name": "stdout",
     "output_type": "stream",
     "text": [
      "tensor([[0.2673, 0.5345, 0.8018],\n",
      "        [0.4558, 0.5698, 0.6838],\n",
      "        [0.5026, 0.5744, 0.6462]])\n",
      "tensor([[0.2673, 0.4558, 0.5026],\n",
      "        [0.5345, 0.5698, 0.5744],\n",
      "        [0.8018, 0.6838, 0.6462]])\n",
      "Tests passed!\n"
     ]
    }
   ],
   "source": [
    "def cos_sim_matrix(matrix: Tensor) -> Tensor:\n",
    "    \"\"\"Return the cosine similarity matrix for each pair of rows of the given matrix.\n",
    "\n",
    "    matrix: shape (m, n)\n",
    "    \"\"\"\n",
    "    normalized_matrix = normalize_rows(matrix)\n",
    "    print(normalized_matrix)\n",
    "    print(t.transpose(normalized_matrix,0,1))\n",
    "    return (normalized_matrix @ t.transpose(normalized_matrix,0,1))\n",
    "\n",
    "\n",
    "matrix = t.tensor([[1, 2, 3], [4, 5, 6], [7, 8, 9]]).float()\n",
    "expected = t.tensor([[1.0, 0.975, 0.959], [0.975, 1.0, 0.998], [0.959, 0.998, 1.0]])\n",
    "assert_all_close(cos_sim_matrix(matrix), expected)"
   ]
  },
  {
   "cell_type": "code",
   "execution_count": 38,
   "metadata": {},
   "outputs": [
    {
     "name": "stdout",
     "output_type": "stream",
     "text": [
      "Tests passed!\n"
     ]
    }
   ],
   "source": [
    "def cos_sim_matrix(matrix: Tensor) -> Tensor:\n",
    "    \"\"\"Return the cosine similarity matrix for each pair of rows of the given matrix.\n",
    "\n",
    "    matrix: shape (m, n)\n",
    "    \"\"\"\n",
    "    normalized_matrix = normalize_rows(matrix)\n",
    "    return t.einsum('ik,jk->ij', normalized_matrix, normalized_matrix)\n",
    "\n",
    "\n",
    "matrix = t.tensor([[1, 2, 3], [4, 5, 6], [7, 8, 9]]).float()\n",
    "expected = t.tensor([[1.0, 0.975, 0.959], [0.975, 1.0, 0.998], [0.959, 0.998, 1.0]])\n",
    "assert_all_close(cos_sim_matrix(matrix), expected)"
   ]
  },
  {
   "cell_type": "markdown",
   "metadata": {},
   "source": [
    "<details>\n",
    "<summary>Solution</summary>\n",
    "\n",
    "```python\n",
    "def cos_sim_matrix(matrix: Tensor) -> Tensor:\n",
    "    \"\"\"Return the cosine similarity matrix for each pair of rows of the given matrix.\n",
    "\n",
    "    matrix: shape (m, n)\n",
    "    \"\"\"\n",
    "    matrix_normalized = normalize_rows(matrix)\n",
    "    return matrix_normalized @ matrix_normalized.T\n",
    "```\n",
    "\n",
    "The reason this solution works is that `matrix_normalized @ matrix_normalized.T` multiplies along the columns of `matrix_normalized` and the rows of `matrix_normalized.T` then sums the output - in other words, it computes the dot products!\n",
    "\n",
    "For a more verbose solution using explicit broadcasting, you could also do this:\n",
    "\n",
    "```python\n",
    "left_matrix = matrix_normalized.unsqueeze(-1)  # shape (m, n, 1)\n",
    "right_matrix = matrix_normalized.T.unsqueeze(0)  # shape (1, n, m)\n",
    "products = left_matrix * right_matrix  # shape (m, n, m)\n",
    "return products.sum(dim=1)  # shape (m, m)\n",
    "```\n",
    "\n",
    "</details>"
   ]
  },
  {
   "cell_type": "markdown",
   "metadata": {},
   "source": [
    "#### (D) sample distribution\n",
    "\n",
    "Here we're having you do something a bit more practical and less artificial. You're given a probability distribution (i.e. a tensor of probabilities that sum to 1) and asked to sample from it.\n",
    "\n",
    "Hint - you can use the torch functions `t.rand` and `t.cumsum` to do this without any explicit loops."
   ]
  },
  {
   "cell_type": "code",
   "execution_count": 43,
   "metadata": {},
   "outputs": [
    {
     "name": "stdout",
     "output_type": "stream",
     "text": [
      "tensor([0.0500, 0.1000, 0.1000, 0.2000, 0.1500, 0.4000])\n",
      "Tests passed!\n"
     ]
    }
   ],
   "source": [
    "def sample_distribution(probs: Tensor, n: int) -> Tensor:\n",
    "    \"\"\"Return n random samples from probs, where probs is a normalized probability distribution.\n",
    "\n",
    "    probs: shape (k,) where probs[i] is the probability of event i occurring.\n",
    "    n: number of random samples\n",
    "\n",
    "    Return: shape (n,) where out[i] is an integer indicating which event was sampled.\n",
    "\n",
    "    Use t.rand and t.cumsum to do this without any explicit loops.\n",
    "    \"\"\"\n",
    "    rands = t.rand(n).reshape((n,1))\n",
    "    # print(rands)\n",
    "    # print(t.cumsum(probs, 0))\n",
    "    matrix = t.cumsum(probs, 0) - rands\n",
    "    # print(matrix)\n",
    "    masked_matrix = matrix.masked_fill(matrix <= 0, float('inf'))\n",
    "    # print(masked_matrix)\n",
    "    min_above_zero = t.argmin(masked_matrix, dim=1)\n",
    "    # print(min_above_zero)\n",
    "    return min_above_zero\n",
    "\n",
    "\n",
    "n = 500_000_000\n",
    "probs = t.tensor([0.05, 0.1, 0.1, 0.2, 0.15, 0.4])\n",
    "freqs = t.bincount(sample_distribution(probs, n)) / n\n",
    "print(freqs)\n",
    "assert_all_close(freqs, probs)"
   ]
  },
  {
   "cell_type": "code",
   "execution_count": 42,
   "metadata": {},
   "outputs": [
    {
     "name": "stdout",
     "output_type": "stream",
     "text": [
      "tensor([0.0500, 0.1000, 0.1000, 0.2000, 0.1500, 0.4000])\n",
      "Tests passed!\n"
     ]
    }
   ],
   "source": [
    "def sample_distribution(probs: Tensor, n: int) -> Tensor:\n",
    "    \"\"\"Return n random samples from probs, where probs is a normalized probability distribution.\n",
    "\n",
    "    probs: shape (k,) where probs[i] is the probability of event i occurring.\n",
    "    n: number of random samples\n",
    "\n",
    "    Return: shape (n,) where out[i] is an integer indicating which event was sampled.\n",
    "\n",
    "    Use t.rand and t.cumsum to do this without any explicit loops.\n",
    "    \"\"\"\n",
    "    rands = t.rand(n).reshape((n,1))\n",
    "    # print(rands)\n",
    "    # print(t.cumsum(probs, 0))\n",
    "    matrix = rands > t.cumsum(probs, 0)\n",
    "    # print(matrix)\n",
    "    return matrix.sum(1)\n",
    "\n",
    "\n",
    "n = 500_000_000\n",
    "probs = t.tensor([0.05, 0.1, 0.1, 0.2, 0.15, 0.4])\n",
    "freqs = t.bincount(sample_distribution(probs, n)) / n\n",
    "print(freqs)\n",
    "assert_all_close(freqs, probs)"
   ]
  },
  {
   "cell_type": "markdown",
   "metadata": {},
   "source": [
    "<details>\n",
    "<summary>Help - I'm not sure how to use <code>t.rand</code> and <code>t.cumsum</code> in this way.</summary>\n",
    "\n",
    "Suppose our probabilities were `probs = [0.2, 0.3, 0.5]`. Then the cumsum is `probs_cumsum = [0.2, 0.5, 1.0]`. If we generate a random value `v` between 0 and 1, then sum the boolean tensor `v > probs_cumsum`, it will be 0 exactly `0.2` of the time, 1 exactly `0.3` of the time, and 2 exactly `0.5` of the time - exactly what we want.\n",
    "\n",
    "</details>\n",
    "\n",
    "\n",
    "<details><summary>Solution</summary>\n",
    "\n",
    "```python\n",
    "def sample_distribution(probs: Tensor, n: int) -> Tensor:\n",
    "    \"\"\"Return n random samples from probs, where probs is a normalized probability distribution.\n",
    "\n",
    "    probs: shape (k,) where probs[i] is the probability of event i occurring.\n",
    "    n: number of random samples\n",
    "\n",
    "    Return: shape (n,) where out[i] is an integer indicating which event was sampled.\n",
    "\n",
    "    Use t.rand and t.cumsum to do this without any explicit loops.\n",
    "    \"\"\"\n",
    "    assert abs(probs.sum() - 1.0) < 0.001\n",
    "    assert (probs >= 0).all()\n",
    "    return (t.rand(n, 1) > t.cumsum(probs, dim=0)).sum(dim=-1)\n",
    "```\n",
    "</details>"
   ]
  },
  {
   "cell_type": "markdown",
   "metadata": {},
   "source": [
    "#### (E) classifier accuracy\n",
    "\n",
    "Here, we're asking you to compute the accuracy of a classifier. `scores` is a tensor of shape `(batch, n_classes)` where `scores[b, i]` is the score the classifier gave to class `i` for input `b`, and `true_classes` is a tensor of shape `(batch,)` where `true_classes[b]` is the true class for input `b`. We want you to return the fraction of times the maximum score is equal to the true class.\n",
    "\n",
    "You can use the torch function `t.argmax`, it works as follows: `tensor.argmax(dim)` will return a tensor of the index containing the maximum value along the dimension `dim` (i.e. the shape of this output will be the same as the shape of `tensor` except for the dimension `dim`)."
   ]
  },
  {
   "cell_type": "code",
   "execution_count": 51,
   "metadata": {},
   "outputs": [
    {
     "name": "stdout",
     "output_type": "stream",
     "text": [
      "tensor([0, 1, 1])\n",
      "tensor(2)\n",
      "Tests passed!\n"
     ]
    }
   ],
   "source": [
    "def classifier_accuracy(scores: Tensor, true_classes: Tensor) -> Tensor:\n",
    "    \"\"\"Return the fraction of inputs for which the maximum score corresponds to the true class for that input.\n",
    "\n",
    "    scores: shape (batch, n_classes). A higher score[b, i] means that the classifier thinks class i is more likely.\n",
    "    true_classes: shape (batch, ). true_classes[b] is an integer from [0...n_classes).\n",
    "\n",
    "    Use t.argmax.\n",
    "    \"\"\"\n",
    "    guessed = t.argmax(scores, dim=1)\n",
    "    print(guessed)\n",
    "    print((guessed == true_classes).sum())\n",
    "    return (guessed == true_classes).sum() / scores.shape[0]\n",
    "    raise NotImplementedError()\n",
    "\n",
    "\n",
    "scores = t.tensor([[0.75, 0.5, 0.25], [0.1, 0.5, 0.4], [0.1, 0.7, 0.2]])\n",
    "true_classes = t.tensor([0, 1, 0])\n",
    "expected = 2.0 / 3.0\n",
    "assert classifier_accuracy(scores, true_classes) == expected\n",
    "print(\"Tests passed!\")"
   ]
  },
  {
   "cell_type": "markdown",
   "metadata": {},
   "source": [
    "<details><summary>Solution</summary>\n",
    "\n",
    "```python\n",
    "def classifier_accuracy(scores: Tensor, true_classes: Tensor) -> Tensor:\n",
    "    \"\"\"Return the fraction of inputs for which the maximum score corresponds to the true class for that input.\n",
    "\n",
    "    scores: shape (batch, n_classes). A higher score[b, i] means that the classifier thinks class i is more likely.\n",
    "    true_classes: shape (batch, ). true_classes[b] is an integer from [0...n_classes).\n",
    "\n",
    "    Use t.argmax.\n",
    "    \"\"\"\n",
    "    assert true_classes.max() < scores.shape[1]\n",
    "    return (scores.argmax(dim=1) == true_classes).float().mean()\n",
    "```\n",
    "</details>"
   ]
  },
  {
   "cell_type": "markdown",
   "metadata": {},
   "source": [
    "#### (F1) total price indexing\n",
    "\n",
    "The next few exercises involve indexing, often using the `torch.gather` function. You can read about it in the docs [here](https://pytorch.org/docs/stable/generated/torch.gather.html).\n",
    "\n",
    "If you find gather confusing, an alternative is the `eindex` library, which was designed to provide indexing features motivated by how `einops` works. You can read more about that [here](https://www.perfectlynormal.co.uk/blog-eindex), and as a suggested bonus you can try implementing / rewriting the next few functions using `eindex`."
   ]
  },
  {
   "cell_type": "code",
   "execution_count": 57,
   "metadata": {},
   "outputs": [
    {
     "name": "stdout",
     "output_type": "stream",
     "text": [
      "Tests passed!\n"
     ]
    }
   ],
   "source": [
    "def total_price_indexing(prices: Tensor, items: Tensor) -> float:\n",
    "    \"\"\"Given prices for each kind of item and a tensor of items purchased, return the total price.\n",
    "\n",
    "    prices: shape (k, ). prices[i] is the price of the ith item.\n",
    "    items: shape (n, ). A 1D tensor where each value is an item index from [0..k).\n",
    "\n",
    "    Use integer array indexing. The below document describes this for NumPy but it's the same in PyTorch:\n",
    "\n",
    "    https://numpy.org/doc/stable/user/basics.indexing.html#integer-array-indexing\n",
    "    \"\"\"\n",
    "    return prices[items].sum()\n",
    "\n",
    "\n",
    "prices = t.tensor([0.5, 1, 1.5, 2, 2.5])\n",
    "items = t.tensor([0, 0, 1, 1, 4, 3, 2])\n",
    "assert total_price_indexing(prices, items) == 9.0\n",
    "print(\"Tests passed!\")"
   ]
  },
  {
   "cell_type": "markdown",
   "metadata": {},
   "source": [
    "<details><summary>Solution</summary>\n",
    "\n",
    "```python\n",
    "def total_price_indexing(prices: Tensor, items: Tensor) -> float:\n",
    "    \"\"\"Given prices for each kind of item and a tensor of items purchased, return the total price.\n",
    "\n",
    "    prices: shape (k, ). prices[i] is the price of the ith item.\n",
    "    items: shape (n, ). A 1D tensor where each value is an item index from [0..k).\n",
    "\n",
    "    Use integer array indexing. The below document describes this for NumPy but it's the same in PyTorch:\n",
    "\n",
    "    https://numpy.org/doc/stable/user/basics.indexing.html#integer-array-indexing\n",
    "    \"\"\"\n",
    "    assert items.max() < prices.shape[0]\n",
    "    return prices[items].sum().item()\n",
    "```\n",
    "</details>"
   ]
  },
  {
   "cell_type": "markdown",
   "metadata": {},
   "source": [
    "#### (F2) gather 2D"
   ]
  },
  {
   "cell_type": "code",
   "execution_count": 55,
   "metadata": {},
   "outputs": [
    {
     "name": "stdout",
     "output_type": "stream",
     "text": [
      "Tests passed!\n",
      "Tests passed!\n"
     ]
    }
   ],
   "source": [
    "def gather_2d(matrix: Tensor, indexes: Tensor) -> Tensor:\n",
    "    \"\"\"Perform a gather operation along the second dimension.\n",
    "\n",
    "    matrix: shape (m, n)\n",
    "    indexes: shape (m, k)\n",
    "\n",
    "    Return: shape (m, k). out[i][j] = matrix[i][indexes[i][j]]\n",
    "\n",
    "    For this problem, the test already passes and it's your job to write at least three asserts relating the arguments and the output. This is a tricky function and worth spending some time to wrap your head around its behavior.\n",
    "\n",
    "    See: https://pytorch.org/docs/stable/generated/torch.gather.html?highlight=gather#torch.gather\n",
    "    \"\"\"\n",
    "    # YOUR CODE HERE - add assert statement(s) here for `indices` and `matrix`\n",
    "    assert(t.all(t.isin(indexes, t.arange(0,matrix.shape[1]))))\n",
    "    assert matrix.shape[0] <= indexes.shape[0]\n",
    "    out = matrix.gather(1, indexes)\n",
    "    # YOUR CODE HERE - add assert statement(s) here for `out`\n",
    "\n",
    "    return out\n",
    "\n",
    "\n",
    "matrix = t.arange(15).view(3, 5)\n",
    "indexes = t.tensor([[4], [3], [2]])\n",
    "expected = t.tensor([[4], [8], [12]])\n",
    "assert_all_equal(gather_2d(matrix, indexes), expected)\n",
    "\n",
    "indexes2 = t.tensor([[2, 4], [1, 3], [0, 2]])\n",
    "expected2 = t.tensor([[2, 4], [6, 8], [10, 12]])\n",
    "assert_all_equal(gather_2d(matrix, indexes2), expected2)"
   ]
  },
  {
   "cell_type": "markdown",
   "metadata": {},
   "source": [
    "<details><summary>Solution</summary>\n",
    "\n",
    "```python\n",
    "def gather_2d(matrix: Tensor, indexes: Tensor) -> Tensor:\n",
    "    \"\"\"Perform a gather operation along the second dimension.\n",
    "\n",
    "    matrix: shape (m, n)\n",
    "    indexes: shape (m, k)\n",
    "\n",
    "    Return: shape (m, k). out[i][j] = matrix[i][indexes[i][j]]\n",
    "\n",
    "    For this problem, the test already passes and it's your job to write at least three asserts relating the arguments and the output. This is a tricky function and worth spending some time to wrap your head around its behavior.\n",
    "\n",
    "    See: https://pytorch.org/docs/stable/generated/torch.gather.html?highlight=gather#torch.gather\n",
    "    \"\"\"\n",
    "    assert matrix.ndim == indexes.ndim\n",
    "    assert indexes.shape[0] <= matrix.shape[0]\n",
    "\n",
    "    out = matrix.gather(1, indexes)\n",
    "    assert out.shape == indexes.shape\n",
    "\n",
    "    return out\n",
    "```\n",
    "</details>"
   ]
  },
  {
   "cell_type": "markdown",
   "metadata": {},
   "source": [
    "#### (F3) total price gather"
   ]
  },
  {
   "cell_type": "code",
   "execution_count": 56,
   "metadata": {},
   "outputs": [
    {
     "name": "stdout",
     "output_type": "stream",
     "text": [
      "Tests passed!\n"
     ]
    }
   ],
   "source": [
    "def total_price_gather(prices: Tensor, items: Tensor) -> float:\n",
    "    \"\"\"Compute the same as total_price_indexing, but use torch.gather.\"\"\"\n",
    "    assert items.max() < prices.shape[0]\n",
    "    item_prices = t.gather(prices, 0, items)\n",
    "    return item_prices.sum()\n",
    "\n",
    "\n",
    "prices = t.tensor([0.5, 1, 1.5, 2, 2.5])\n",
    "items = t.tensor([0, 0, 1, 1, 4, 3, 2])\n",
    "assert total_price_gather(prices, items) == 9.0\n",
    "print(\"Tests passed!\")"
   ]
  },
  {
   "cell_type": "markdown",
   "metadata": {},
   "source": [
    "<details><summary>Solution</summary>\n",
    "\n",
    "```python\n",
    "def total_price_gather(prices: Tensor, items: Tensor) -> float:\n",
    "    \"\"\"Compute the same as total_price_indexing, but use torch.gather.\"\"\"\n",
    "    assert items.max() < prices.shape[0]\n",
    "    return prices.gather(0, items).sum().item()\n",
    "```\n",
    "</details>"
   ]
  },
  {
   "cell_type": "markdown",
   "metadata": {},
   "source": [
    "#### (G) indexing"
   ]
  },
  {
   "cell_type": "code",
   "execution_count": 82,
   "metadata": {},
   "outputs": [
    {
     "name": "stdout",
     "output_type": "stream",
     "text": [
      "(tensor([0, 0, 1]), tensor([1, 4, 4]))\n",
      "Tests passed!\n",
      "(tensor([0, 0, 0, 1, 1]), tensor([0, 1, 2, 0, 2]), tensor([0, 1, 2, 3, 0]))\n",
      "Tests passed!\n"
     ]
    }
   ],
   "source": [
    "def integer_array_indexing(matrix: Tensor, coords: Tensor) -> Tensor:\n",
    "    \"\"\"Return the values at each coordinate using integer array indexing.\n",
    "\n",
    "    For details on integer array indexing, see:\n",
    "    https://numpy.org/doc/stable/user/basics.indexing.html#integer-array-indexing\n",
    "\n",
    "    matrix: shape (d_0, d_1, ..., d_n)\n",
    "    coords: shape (batch, n)\n",
    "\n",
    "    Return: (batch, )\n",
    "    \"\"\"\n",
    "    # print(coords)\n",
    "    # print(matrix)\n",
    "    # print(matrix[np.array([0,1]), np.array([0,2])])\n",
    "    # print(coords[:,0], coords[:,1])\n",
    "    print(coords.transpose(0,1).unbind())\n",
    "\n",
    "    return matrix[coords.transpose(0,1).unbind()]\n",
    "\n",
    "\n",
    "\n",
    "mat_2d = t.arange(15).view(3, 5)\n",
    "coords_2d = t.tensor([[0, 1], [0, 4], [1, 4]])\n",
    "actual = integer_array_indexing(mat_2d, coords_2d)\n",
    "assert_all_equal(actual, t.tensor([1, 4, 9]))\n",
    "\n",
    "mat_3d = t.arange(2 * 3 * 4).view((2, 3, 4))\n",
    "coords_3d = t.tensor([[0, 0, 0], [0, 1, 1], [0, 2, 2], [1, 0, 3], [1, 2, 0]])\n",
    "actual = integer_array_indexing(mat_3d, coords_3d)\n",
    "assert_all_equal(actual, t.tensor([0, 5, 10, 15, 20]))"
   ]
  },
  {
   "cell_type": "code",
   "execution_count": 85,
   "metadata": {},
   "outputs": [
    {
     "name": "stdout",
     "output_type": "stream",
     "text": [
      "(tensor([0, 0, 1]), tensor([1, 4, 4]))\n",
      "tensor([[0, 0, 1],\n",
      "        [1, 4, 4]])\n",
      "tensor([[0, 0, 1],\n",
      "        [1, 4, 4]])\n",
      "(tensor([0, 0, 1]), tensor([1, 4, 4]))\n",
      "Tests passed!\n",
      "(tensor([0, 0, 0, 1, 1]), tensor([0, 1, 2, 0, 2]), tensor([0, 1, 2, 3, 0]))\n",
      "tensor([[0, 0, 0, 1, 1],\n",
      "        [0, 1, 2, 0, 2],\n",
      "        [0, 1, 2, 3, 0]])\n",
      "tensor([[0, 0, 0, 1, 1],\n",
      "        [0, 1, 2, 0, 2],\n",
      "        [0, 1, 2, 3, 0]])\n",
      "(tensor([0, 0, 0, 1, 1]), tensor([0, 1, 2, 0, 2]), tensor([0, 1, 2, 3, 0]))\n",
      "Tests passed!\n"
     ]
    }
   ],
   "source": [
    "def integer_array_indexing(matrix: Tensor, coords: Tensor) -> Tensor:\n",
    "    \"\"\"Return the values at each coordinate using integer array indexing.\n",
    "\n",
    "    For details on integer array indexing, see:\n",
    "    https://numpy.org/doc/stable/user/basics.indexing.html#integer-array-indexing\n",
    "\n",
    "    matrix: shape (d_0, d_1, ..., d_n)\n",
    "    coords: shape (batch, n)\n",
    "\n",
    "    Return: (batch, )\n",
    "    \"\"\"\n",
    "    # print(coords)\n",
    "    # print(matrix)\n",
    "    # print(matrix[np.array([0,1]), np.array([0,2])])\n",
    "    # print(coords[:,0], coords[:,1])\n",
    "    print(coords.transpose(0,1).unbind())\n",
    "    print(coords.T)\n",
    "    print(coords.transpose(0,1))\n",
    "    print(tuple(coords.transpose(0,1)))\n",
    "\n",
    "    return matrix[tuple(coords.T)]\n",
    "\n",
    "\n",
    "\n",
    "\n",
    "mat_2d = t.arange(15).view(3, 5)\n",
    "coords_2d = t.tensor([[0, 1], [0, 4], [1, 4]])\n",
    "actual = integer_array_indexing(mat_2d, coords_2d)\n",
    "assert_all_equal(actual, t.tensor([1, 4, 9]))\n",
    "\n",
    "mat_3d = t.arange(2 * 3 * 4).view((2, 3, 4))\n",
    "coords_3d = t.tensor([[0, 0, 0], [0, 1, 1], [0, 2, 2], [1, 0, 3], [1, 2, 0]])\n",
    "actual = integer_array_indexing(mat_3d, coords_3d)\n",
    "assert_all_equal(actual, t.tensor([0, 5, 10, 15, 20]))"
   ]
  },
  {
   "cell_type": "markdown",
   "metadata": {},
   "source": [
    "<details><summary>Solution</summary>\n",
    "\n",
    "```python\n",
    "def integer_array_indexing(matrix: Tensor, coords: Tensor) -> Tensor:\n",
    "    \"\"\"Return the values at each coordinate using integer array indexing.\n",
    "\n",
    "    For details on integer array indexing, see:\n",
    "    https://numpy.org/doc/stable/user/basics.indexing.html#integer-array-indexing\n",
    "\n",
    "    matrix: shape (d_0, d_1, ..., d_n)\n",
    "    coords: shape (batch, n)\n",
    "\n",
    "    Return: (batch, )\n",
    "    \"\"\"\n",
    "    return matrix[tuple(coords.T)]\n",
    "```\n",
    "</details>"
   ]
  },
  {
   "cell_type": "markdown",
   "metadata": {},
   "source": [
    "#### (H1) batched logsumexp"
   ]
  },
  {
   "cell_type": "code",
   "execution_count": 99,
   "metadata": {},
   "outputs": [
    {
     "name": "stdout",
     "output_type": "stream",
     "text": [
      "Tests passed!\n",
      "Tests passed!\n"
     ]
    }
   ],
   "source": [
    "def batched_logsumexp(matrix: Tensor) -> Tensor:\n",
    "    \"\"\"For each row of the matrix, compute log(sum(exp(row))) in a numerically stable way.\n",
    "\n",
    "    matrix: shape (batch, n)\n",
    "\n",
    "    Return: (batch, ). For each i, out[i] = log(sum(exp(matrix[i]))).\n",
    "\n",
    "    Do this without using PyTorch's logsumexp function.\n",
    "\n",
    "    A couple useful blogs about this function:\n",
    "    - https://leimao.github.io/blog/LogSumExp/\n",
    "    - https://gregorygundersen.com/blog/2020/02/09/log-sum-exp/\n",
    "    \"\"\"\n",
    "    # Obtenir le max de chaque ligne\n",
    "    # Calculer exp (xi-a) dans la matrice\n",
    "    # Faire la somme par ligne\n",
    "    # Prendre le log et ajouter le a\n",
    "    maxs = einops.reduce(matrix, 'r c -> r 1', 'max')\n",
    "    # print(maxs, maxs.shape)\n",
    "    # print(matrix, matrix.shape)\n",
    "    exps = t.exp(matrix - maxs)\n",
    "    # print(exps)\n",
    "    exps_sum = einops.reduce(exps, 'r c -> r 1', 'sum')\n",
    "    # print(exps_sum, exps_sum.shape)\n",
    "    return einops.rearrange(t.log(exps_sum) + maxs, 'r 1 -> r')\n",
    "\n",
    "\n",
    "matrix = t.tensor([[-1000, -1000, -1000, -1000], [1000, 1000, 1000, 1000]])\n",
    "expected = t.tensor([-1000 + math.log(4), 1000 + math.log(4)])\n",
    "actual = batched_logsumexp(matrix)\n",
    "assert_all_close(actual, expected)\n",
    "\n",
    "matrix2 = t.randn((10, 20))\n",
    "expected2 = t.logsumexp(matrix2, dim=-1)\n",
    "actual2 = batched_logsumexp(matrix2)\n",
    "assert_all_close(actual2, expected2)"
   ]
  },
  {
   "cell_type": "markdown",
   "metadata": {},
   "source": [
    "<details><summary>Solution</summary>\n",
    "\n",
    "```python\n",
    "def batched_logsumexp(matrix: Tensor) -> Tensor:\n",
    "    \"\"\"For each row of the matrix, compute log(sum(exp(row))) in a numerically stable way.\n",
    "\n",
    "    matrix: shape (batch, n)\n",
    "\n",
    "    Return: (batch, ). For each i, out[i] = log(sum(exp(matrix[i]))).\n",
    "\n",
    "    Do this without using PyTorch's logsumexp function.\n",
    "\n",
    "    A couple useful blogs about this function:\n",
    "    - https://leimao.github.io/blog/LogSumExp/\n",
    "    - https://gregorygundersen.com/blog/2020/02/09/log-sum-exp/\n",
    "    \"\"\"\n",
    "    C = matrix.max(dim=-1).values\n",
    "    exps = t.exp(matrix - einops.rearrange(C, \"n -> n 1\"))\n",
    "    return C + t.log(t.sum(exps, dim=-1))\n",
    "```\n",
    "</details>"
   ]
  },
  {
   "cell_type": "markdown",
   "metadata": {},
   "source": [
    "#### (H2) batched softmax"
   ]
  },
  {
   "cell_type": "code",
   "execution_count": null,
   "metadata": {},
   "outputs": [
    {
     "name": "stdout",
     "output_type": "stream",
     "text": [
      "Tests passed!\n",
      "Tests passed!\n",
      "Tests passed!\n",
      "Tests passed!\n",
      "Tests passed!\n",
      "Tests passed!\n",
      "Tests passed!\n"
     ]
    }
   ],
   "source": [
    "def batched_softmax(matrix: Tensor) -> Tensor:\n",
    "    \"\"\"For each row of the matrix, compute softmax(row).\n",
    "\n",
    "    Do this without using PyTorch's softmax function.\n",
    "    Instead, use the definition of softmax: https://en.wikipedia.org/wiki/Softmax_function\n",
    "\n",
    "    matrix: shape (batch, n)\n",
    "\n",
    "    Return: (batch, n). For each i, out[i] should sum to 1.\n",
    "    \"\"\"\n",
    "    # Probablement le même problème si les valeurs sont trop élevées pour l'exponentielle, pas géré ici\n",
    "    # print(\"Matrix\", matrix, matrix.shape)\n",
    "    sum_exp = matrix.exp().sum(dim=1, keepdim=True)\n",
    "    # print(sum_exp, sum_exp.shape)\n",
    "    return matrix.exp() / sum_exp\n",
    "\n",
    "\n",
    "matrix = t.arange(1, 6).view((1, 5)).float().log()\n",
    "expected = t.arange(1, 6).view((1, 5)) / 15.0\n",
    "actual = batched_softmax(matrix)\n",
    "assert_all_close(actual, expected)\n",
    "for i in [0.12, 3.4, -5, 6.7]:\n",
    "    assert_all_close(actual, batched_softmax(matrix + i))  # check it's translation-invariant\n",
    "\n",
    "matrix2 = t.rand((10, 20))\n",
    "actual2 = batched_softmax(matrix2)\n",
    "assert actual2.min() >= 0.0\n",
    "assert actual2.max() <= 1.0\n",
    "assert_all_equal(actual2.argsort(), matrix2.argsort())\n",
    "assert_all_close(actual2.sum(dim=-1), t.ones(matrix2.shape[:-1]))"
   ]
  },
  {
   "cell_type": "markdown",
   "metadata": {},
   "source": [
    "<details><summary>Solution</summary>\n",
    "\n",
    "```python\n",
    "def batched_softmax(matrix: Tensor) -> Tensor:\n",
    "    \"\"\"For each row of the matrix, compute softmax(row).\n",
    "\n",
    "    Do this without using PyTorch's softmax function.\n",
    "    Instead, use the definition of softmax: https://en.wikipedia.org/wiki/Softmax_function\n",
    "\n",
    "    matrix: shape (batch, n)\n",
    "\n",
    "    Return: (batch, n). For each i, out[i] should sum to 1.\n",
    "    \"\"\"\n",
    "    exp = matrix.exp()\n",
    "    return exp / exp.sum(dim=-1, keepdim=True)\n",
    "```\n",
    "</details>"
   ]
  },
  {
   "cell_type": "markdown",
   "metadata": {},
   "source": [
    "#### (H3) batched logsoftmax"
   ]
  },
  {
   "cell_type": "code",
   "execution_count": 122,
   "metadata": {},
   "outputs": [
    {
     "name": "stdout",
     "output_type": "stream",
     "text": [
      "Tests passed!\n"
     ]
    }
   ],
   "source": [
    "def batched_logsoftmax(matrix: Tensor) -> Tensor:\n",
    "    \"\"\"Compute log(softmax(row)) for each row of the matrix.\n",
    "\n",
    "    matrix: shape (batch, n)\n",
    "\n",
    "    Return: (batch, n).\n",
    "\n",
    "    Do this without using PyTorch's logsoftmax function.\n",
    "    For each row, subtract the maximum first to avoid overflow if the row contains large values.\n",
    "    \"\"\"\n",
    "    maxs = einops.reduce(matrix, 'r c -> r 1', 'max')\n",
    "    # print(maxs, maxs.shape)\n",
    "    # print(matrix, matrix.shape)\n",
    "    exps = t.exp(matrix - maxs)\n",
    "    # print(exps, exps.shape)\n",
    "    sum_exp = exps.sum(dim=1, keepdim=True)\n",
    "    # print(sum_exp, sum_exp.shape)\n",
    "    return (exps / sum_exp).log()\n",
    "    \n",
    "\n",
    "matrix = t.arange(1, 7).view((2, 3)).float()\n",
    "start = 1000\n",
    "matrix2 = t.arange(start + 1, start + 7).view((2, 3)).float()\n",
    "actual = batched_logsoftmax(matrix2)\n",
    "expected = t.tensor([[-2.4076, -1.4076, -0.4076],\n",
    "                     [-2.4076, -1.4076, -0.4076]])\n",
    "assert_all_close(actual, expected)"
   ]
  },
  {
   "cell_type": "markdown",
   "metadata": {},
   "source": [
    "<details><summary>Solution</summary>\n",
    "\n",
    "```python\n",
    "def batched_logsoftmax(matrix: Tensor) -> Tensor:\n",
    "    \"\"\"Compute log(softmax(row)) for each row of the matrix.\n",
    "\n",
    "    matrix: shape (batch, n)\n",
    "\n",
    "    Return: (batch, n).\n",
    "\n",
    "    Do this without using PyTorch's logsoftmax function.\n",
    "    For each row, subtract the maximum first to avoid overflow if the row contains large values.\n",
    "    \"\"\"\n",
    "    C = matrix.max(dim=1, keepdim=True).values\n",
    "    return matrix - C - (matrix - C).exp().sum(dim=1, keepdim=True).log()\n",
    "```\n",
    "</details>"
   ]
  },
  {
   "cell_type": "markdown",
   "metadata": {},
   "source": [
    "#### (H4) batched cross entropy loss"
   ]
  },
  {
   "cell_type": "code",
   "execution_count": 130,
   "metadata": {},
   "outputs": [
    {
     "name": "stdout",
     "output_type": "stream",
     "text": [
      "tensor([[-0.0000],\n",
      "        [1.0986],\n",
      "        [   inf]]) torch.Size([3, 1])\n",
      "Tests passed!\n"
     ]
    }
   ],
   "source": [
    "def batched_cross_entropy_loss(logits: Tensor, true_labels: Tensor) -> Tensor:\n",
    "    \"\"\"Compute the cross entropy loss for each example in the batch.\n",
    "\n",
    "    logits: shape (batch, classes). logits[i][j] is the unnormalized prediction for example i and class j.\n",
    "    true_labels: shape (batch, ). true_labels[i] is an integer index representing the true class for example i.\n",
    "\n",
    "    Return: shape (batch, ). out[i] is the loss for example i.\n",
    "\n",
    "    Hint: convert the logits to log-probabilities using your batched_logsoftmax from above.\n",
    "    Then the loss for an example is just the negative of the log-probability that the model assigned to the true class. Use torch.gather to perform the indexing.\n",
    "    \"\"\"\n",
    "    assert logits.shape[0] == true_labels.shape[0]\n",
    "    assert true_labels.max() < logits.shape[1]\n",
    "    # print(batched_logsoftmax(logits))\n",
    "    answer = -batched_logsoftmax(logits).gather(dim=1, index=einops.rearrange(true_labels, 'r -> r 1'))\n",
    "    print(answer, answer.shape)\n",
    "    return answer[:,0]\n",
    "\n",
    "\n",
    "logits = t.tensor([[float(\"-inf\"), float(\"-inf\"), 0], [1 / 3, 1 / 3, 1 / 3], [float(\"-inf\"), 0, 0]])\n",
    "true_labels = t.tensor([2, 0, 0])\n",
    "expected = t.tensor([0.0, math.log(3), float(\"inf\")])\n",
    "actual = batched_cross_entropy_loss(logits, true_labels)\n",
    "assert_all_close(actual, expected)"
   ]
  },
  {
   "cell_type": "markdown",
   "metadata": {},
   "source": [
    "<details><summary>Solution</summary>\n",
    "\n",
    "```python\n",
    "def batched_cross_entropy_loss(logits: Tensor, true_labels: Tensor) -> Tensor:\n",
    "    \"\"\"Compute the cross entropy loss for each example in the batch.\n",
    "\n",
    "    logits: shape (batch, classes). logits[i][j] is the unnormalized prediction for example i and class j.\n",
    "    true_labels: shape (batch, ). true_labels[i] is an integer index representing the true class for example i.\n",
    "\n",
    "    Return: shape (batch, ). out[i] is the loss for example i.\n",
    "\n",
    "    Hint: convert the logits to log-probabilities using your batched_logsoftmax from above.\n",
    "    Then the loss for an example is just the negative of the log-probability that the model assigned to the true class. Use torch.gather to perform the indexing.\n",
    "    \"\"\"\n",
    "    assert logits.shape[0] == true_labels.shape[0]\n",
    "    assert true_labels.max() < logits.shape[1]\n",
    "    logprobs = batched_logsoftmax(logits)\n",
    "    indices = einops.rearrange(true_labels, \"n -> n 1\")\n",
    "    pred_at_index = logprobs.gather(1, indices)\n",
    "    return -einops.rearrange(pred_at_index, \"n 1 -> n\")\n",
    "```\n",
    "</details>"
   ]
  },
  {
   "cell_type": "markdown",
   "metadata": {},
   "source": [
    "#### (I1) collect rows"
   ]
  },
  {
   "cell_type": "code",
   "execution_count": null,
   "metadata": {},
   "outputs": [
    {
     "name": "stdout",
     "output_type": "stream",
     "text": [
      "tensor([[ 0,  1,  2],\n",
      "        [ 3,  4,  5],\n",
      "        [ 6,  7,  8],\n",
      "        [ 9, 10, 11],\n",
      "        [12, 13, 14]]) torch.Size([5, 3])\n",
      "tensor([[0, 0, 0],\n",
      "        [2, 2, 2],\n",
      "        [1, 1, 1],\n",
      "        [0, 0, 0]]) torch.Size([4, 3])\n",
      "tensor([[0, 1, 2],\n",
      "        [6, 7, 8],\n",
      "        [3, 4, 5],\n",
      "        [0, 1, 2]]) torch.Size([4, 3])\n",
      "Tests passed!\n"
     ]
    }
   ],
   "source": [
    "def collect_rows(matrix: Tensor, row_indexes: Tensor) -> Tensor:\n",
    "    \"\"\"Return a 2D matrix whose rows are taken from the input matrix in order according to row_indexes.\n",
    "\n",
    "    matrix: shape (m, n)\n",
    "    row_indexes: shape (k,). Each value is an integer in [0..m).\n",
    "\n",
    "    Return: shape (k, n). out[i] is matrix[row_indexes[i]].\n",
    "    \"\"\"\n",
    "    # print(matrix, matrix.shape)\n",
    "    new_row_indexes = einops.repeat(row_indexes, 'r -> r n', n=matrix.shape[1])\n",
    "    # print(new_row_indexes, new_row_indexes.shape)\n",
    "    result = matrix.gather(0, new_row_indexes)\n",
    "    # print(result, result.shape)\n",
    "    return result\n",
    "\n",
    "\n",
    "matrix = t.arange(15).view((5, 3))\n",
    "row_indexes = t.tensor([0, 2, 1, 0])\n",
    "actual = collect_rows(matrix, row_indexes)\n",
    "expected = t.tensor([[0, 1, 2], [6, 7, 8], [3, 4, 5], [0, 1, 2]])\n",
    "assert_all_equal(actual, expected)"
   ]
  },
  {
   "cell_type": "markdown",
   "metadata": {},
   "source": [
    "<details><summary>Solution</summary>\n",
    "\n",
    "```python\n",
    "def collect_rows(matrix: Tensor, row_indexes: Tensor) -> Tensor:\n",
    "    \"\"\"Return a 2D matrix whose rows are taken from the input matrix in order according to row_indexes.\n",
    "\n",
    "    matrix: shape (m, n)\n",
    "    row_indexes: shape (k,). Each value is an integer in [0..m).\n",
    "\n",
    "    Return: shape (k, n). out[i] is matrix[row_indexes[i]].\n",
    "    \"\"\"\n",
    "    assert row_indexes.max() < matrix.shape[0]\n",
    "    return matrix[row_indexes]\n",
    "```\n",
    "</details>"
   ]
  },
  {
   "cell_type": "markdown",
   "metadata": {},
   "source": [
    "#### (I2) collect columns"
   ]
  },
  {
   "cell_type": "code",
   "execution_count": 139,
   "metadata": {},
   "outputs": [
    {
     "name": "stdout",
     "output_type": "stream",
     "text": [
      "tensor([[ 0,  3,  6,  9, 12],\n",
      "        [ 1,  4,  7, 10, 13],\n",
      "        [ 2,  5,  8, 11, 14]]) torch.Size([3, 5])\n",
      "tensor([[0, 0, 0, 0, 0],\n",
      "        [2, 2, 2, 2, 2],\n",
      "        [1, 1, 1, 1, 1],\n",
      "        [0, 0, 0, 0, 0]]) torch.Size([4, 5])\n",
      "tensor([[ 0,  3,  6,  9, 12],\n",
      "        [ 2,  5,  8, 11, 14],\n",
      "        [ 1,  4,  7, 10, 13],\n",
      "        [ 0,  3,  6,  9, 12]]) torch.Size([4, 5])\n",
      "Tests passed!\n"
     ]
    }
   ],
   "source": [
    "def collect_columns(matrix: Tensor, column_indexes: Tensor) -> Tensor:\n",
    "    \"\"\"Return a 2D matrix whose columns are taken from the input matrix in order according to column_indexes.\n",
    "\n",
    "    matrix: shape (m, n)\n",
    "    column_indexes: shape (k,). Each value is an integer in [0..n).\n",
    "\n",
    "    Return: shape (m, k). out[:, i] is matrix[:, column_indexes[i]].\n",
    "    \"\"\"\n",
    "    assert column_indexes.max() < matrix.shape[1]\n",
    "    \n",
    "    return collect_rows(matrix.T, column_indexes).T\n",
    "\n",
    "\n",
    "matrix = t.arange(15).view((5, 3))\n",
    "column_indexes = t.tensor([0, 2, 1, 0])\n",
    "actual = collect_columns(matrix, column_indexes)\n",
    "expected = t.tensor([[0, 2, 1, 0], [3, 5, 4, 3], [6, 8, 7, 6], [9, 11, 10, 9], [12, 14, 13, 12]])\n",
    "assert_all_equal(actual, expected)"
   ]
  },
  {
   "cell_type": "markdown",
   "metadata": {},
   "source": [
    "<details><summary>Solution</summary>\n",
    "\n",
    "```python\n",
    "def collect_columns(matrix: Tensor, column_indexes: Tensor) -> Tensor:\n",
    "    \"\"\"Return a 2D matrix whose columns are taken from the input matrix in order according to column_indexes.\n",
    "\n",
    "    matrix: shape (m, n)\n",
    "    column_indexes: shape (k,). Each value is an integer in [0..n).\n",
    "\n",
    "    Return: shape (m, k). out[:, i] is matrix[:, column_indexes[i]].\n",
    "    \"\"\"\n",
    "    assert column_indexes.max() < matrix.shape[1]\n",
    "    return matrix[:, column_indexes]\n",
    "```\n",
    "</details>"
   ]
  },
  {
   "cell_type": "markdown",
   "metadata": {},
   "source": [
    "## Einsum\n",
    "\n",
    "Einsum is a very useful function for performing linear operations, which you'll probably be using a lot during this programme.\n",
    "\n",
    "> Note - we'll be using the `einops.einsum` version of the function, which works differently to the more conventional `torch.einsum`:\n",
    "> \n",
    "> * `einops.einsum` has the arrays as the first arguments, and uses spaces to separate dimensions in the string.\n",
    "> * `torch.einsum` has the string as its first argument, and doesn't use spaces to separate dimensions (each dim is represented by a single character).\n",
    "> \n",
    "> For instance, `torch.einsum(\"ij,i->j\", A, b)` is equivalent to `einops.einsum(A, b, \"i j, i -> j\")`. (Note, einops doesn't care whether there are spaces either side of `,` and `->`, so you don't need to match this syntax exactly.)\n",
    "\n",
    "Although there are many different kinds of operations you can perform, they are all derived from three key rules:\n",
    "\n",
    "1. Repeating letters in different inputs means those values will be multiplied, and those products will be in the output. \n",
    "    * For example, `M = einops.einsum(A, B, \"i j, i j -> i j\")` just corresponds to the elementwise product `M = A * B` (because $M_{ij} = A_{ij} B_{ij}$).\n",
    "2. Omitting a letter means that the axis will be summed over.\n",
    "    * For example, if `x` is a 2D array with shape `(I, J)`, then `einops.einsum(x, \"i j -> i\")` will be a 1D array of length `I` containing the row sums of `x` (we're summing along the `j`-index, i.e. across rows).\n",
    "3. We can return the unsummed axes in any order.\n",
    "    * For example, `einops.einsum(x, \"i j k -> k j i\")` does the same thing as `einops.rearrange(x, \"i j k -> k j i\")`.\n",
    "\n",
    "*Note - the einops creators supposedly have plans to support shape rearrangement, e.g. with operations like `einops.einsum(x, y, \"i j, j k l -> i (k l)\")` (i.e. combining the features of rearrange and einsum), so we can all look forward to that day!*"
   ]
  },
  {
   "cell_type": "markdown",
   "metadata": {},
   "source": [
    "### Exercises - einsum\n",
    "\n",
    "> ```yaml\n",
    "> Difficulty: 🔴🔴⚪⚪⚪\n",
    "> Importance: 🔵🔵🔵🔵⚪\n",
    "> \n",
    "> You should spend up to 15-20 minutes on these exercises collectively.\n",
    "> If you think you get the general idea, then you can skip to the next section.\n",
    "> ```\n",
    "\n",
    "In the following exercises, you'll write simple functions using `einsum` which replicate the functionality of standard NumPy functions: trace, matrix multiplication, inner and outer products. We've also included some test functions which you should run.\n",
    "\n",
    "Note - this version of einsum will require that you include `->`, even if you're summing to a scalar (i.e. the right hand side of your string expression is empty)."
   ]
  },
  {
   "cell_type": "code",
   "execution_count": 149,
   "metadata": {},
   "outputs": [
    {
     "name": "stdout",
     "output_type": "stream",
     "text": [
      "All tests in `test_einsum_trace` passed!\n",
      "All tests in `test_einsum_mv` passed!\n",
      "All tests in `test_einsum_mm` passed!\n",
      "All tests in `test_einsum_inner` passed!\n",
      "All tests in `test_einsum_outer` passed!\n"
     ]
    }
   ],
   "source": [
    "def einsum_trace(mat: np.ndarray):\n",
    "    \"\"\"\n",
    "    Returns the same as `np.trace`.\n",
    "    \"\"\"\n",
    "    # print(mat, np.eye(mat.shape[0]))\n",
    "    return einops.einsum(mat, np.eye(mat.shape[0]),  \"i j, i j-> \")\n",
    "\n",
    "\n",
    "def einsum_mv(mat: np.ndarray, vec: np.ndarray):\n",
    "    \"\"\"\n",
    "    Returns the same as `np.matmul`, when `mat` is a 2D array and `vec` is 1D.\n",
    "    \"\"\"\n",
    "    return einops.einsum(mat, vec,  \"i j, j -> i\")\n",
    "\n",
    "\n",
    "def einsum_mm(mat1: np.ndarray, mat2: np.ndarray):\n",
    "    \"\"\"\n",
    "    Returns the same as `np.matmul`, when `mat1` and `mat2` are both 2D arrays.\n",
    "    \"\"\"\n",
    "    return einops.einsum(mat1, mat2,  \"i j, j k-> i k\")\n",
    "\n",
    "\n",
    "def einsum_inner(vec1: np.ndarray, vec2: np.ndarray):\n",
    "    \"\"\"\n",
    "    Returns the same as `np.inner`.\n",
    "    \"\"\"\n",
    "    return einops.einsum(vec1, vec2,  \"i , i ->\")\n",
    "\n",
    "\n",
    "def einsum_outer(vec1: np.ndarray, vec2: np.ndarray):\n",
    "    \"\"\"\n",
    "    Returns the same as `np.outer`.\n",
    "    \"\"\"\n",
    "    return einops.einsum(vec1, vec2,  \"i , j -> i j\")\n",
    "\n",
    "\n",
    "tests.test_einsum_trace(einsum_trace)\n",
    "tests.test_einsum_mv(einsum_mv)\n",
    "tests.test_einsum_mm(einsum_mm)\n",
    "tests.test_einsum_inner(einsum_inner)\n",
    "tests.test_einsum_outer(einsum_outer)"
   ]
  }
 ],
 "metadata": {
  "kernelspec": {
   "display_name": ".venv (3.13.7)",
   "language": "python",
   "name": "python3"
  },
  "language_info": {
   "codemirror_mode": {
    "name": "ipython",
    "version": 3
   },
   "file_extension": ".py",
   "mimetype": "text/x-python",
   "name": "python",
   "nbconvert_exporter": "python",
   "pygments_lexer": "ipython3",
   "version": "3.13.7"
  }
 },
 "nbformat": 4,
 "nbformat_minor": 2
}
